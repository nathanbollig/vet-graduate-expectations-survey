{
  "nbformat": 4,
  "nbformat_minor": 0,
  "metadata": {
    "colab": {
      "name": "WVMA_generalist_specialist_nontechnical.ipynb",
      "provenance": [],
      "authorship_tag": "ABX9TyP+2ZNHNaesYFUFFtndVxbu",
      "include_colab_link": true
    },
    "kernelspec": {
      "name": "python3",
      "display_name": "Python 3"
    },
    "language_info": {
      "name": "python"
    }
  },
  "cells": [
    {
      "cell_type": "markdown",
      "metadata": {
        "id": "view-in-github",
        "colab_type": "text"
      },
      "source": [
        "<a href=\"https://colab.research.google.com/github/nathanbollig/vet-graduate-expectations-survey/blob/main/WVMA_generalist_specialist_nontechnical.ipynb\" target=\"_parent\"><img src=\"https://colab.research.google.com/assets/colab-badge.svg\" alt=\"Open In Colab\"/></a>"
      ]
    },
    {
      "cell_type": "markdown",
      "metadata": {
        "id": "_xA2L7zDBZ6z"
      },
      "source": [
        "# Veterinary graduate expectations survey\n",
        "\n",
        "Evaluating the differences in graduate expectations between specialists and generalists within the WVMA. This notebook focuses on the nontechnical questions, which are:\n",
        " -   Communication practices (Q13)\n",
        " -   Professional and business practices (Q14)\n",
        " -   Ethics and professional practices (Q16)\n",
        "\n",
        "Start by uploading the data into the working directory. One file is required:\n",
        "\n",
        " * `WVMA.xlsx`: WVMA graduate expectations survey results"
      ]
    },
    {
      "cell_type": "code",
      "metadata": {
        "id": "2h3-qlKqoFUd",
        "colab": {
          "base_uri": "https://localhost:8080/"
        },
        "outputId": "3b751bb2-8c86-4858-d74d-8b8da786d48c"
      },
      "source": [
        "! pip install xlsxwriter"
      ],
      "execution_count": 1,
      "outputs": [
        {
          "output_type": "stream",
          "text": [
            "Requirement already satisfied: xlsxwriter in /usr/local/lib/python3.7/dist-packages (1.4.4)\n"
          ],
          "name": "stdout"
        }
      ]
    },
    {
      "cell_type": "code",
      "metadata": {
        "id": "ssV1VbT8A41w"
      },
      "source": [
        "import pandas as pd\n",
        "import numpy as np\n",
        "from scipy.stats import kruskal"
      ],
      "execution_count": 2,
      "outputs": []
    },
    {
      "cell_type": "markdown",
      "metadata": {
        "id": "zJ4umVHfFpGY"
      },
      "source": [
        "## Read in WVMA data"
      ]
    },
    {
      "cell_type": "code",
      "metadata": {
        "id": "ynulEF-JE_L5"
      },
      "source": [
        "# Use top row as header and skip second header row\n",
        "wvma = pd.read_excel('WVMA.xlsx', header=0, skiprows=lambda x: x in [1])  \n",
        "\n",
        "# Read in questions from second header row and associate with column names\n",
        "question_wvma = {}\n",
        "\n",
        "top_rows_wvma = pd.read_excel('WVMA.xlsx', nrows=2) \n",
        "\n",
        "for col in list(top_rows_wvma.columns):\n",
        "    question_wvma[col] = top_rows_wvma.iloc[0][col]"
      ],
      "execution_count": 3,
      "outputs": []
    },
    {
      "cell_type": "code",
      "metadata": {
        "id": "it_mQuqavdMD"
      },
      "source": [
        "def encode_expectation(response_string):\n",
        "    if isinstance(response_string, int) == True:\n",
        "        return response_string\n",
        "    \n",
        "    # Encode nan values as -1\n",
        "    if isinstance(response_string, str) == False:\n",
        "        if np.isnan(response_string) == True:\n",
        "            return -1\n",
        "    \n",
        "    # Encode string\n",
        "    s = response_string.lower()\n",
        "    if s.find('no expectation') > -1:\n",
        "        return 0\n",
        "    elif s.find('with assistance') > -1:\n",
        "        return 1\n",
        "    elif s.find('indirect supervision') > -1:\n",
        "        return 3\n",
        "    elif s.find('direct supervision') > -1:\n",
        "        return 2\n",
        "    elif s.find('independently') > -1:\n",
        "        return 4\n",
        "    else:\n",
        "        print(response_string)\n",
        "        raise ValueError('Expected performance response was not formatted as expected.')"
      ],
      "execution_count": 4,
      "outputs": []
    },
    {
      "cell_type": "markdown",
      "metadata": {
        "id": "tzv-hEDJ00Jt"
      },
      "source": [
        "Generalists and specialists are defined by the answer to Q49. We will assume that an empty answer corresponds to a generalist, and a non-empty answer is a specialist."
      ]
    },
    {
      "cell_type": "code",
      "metadata": {
        "colab": {
          "base_uri": "https://localhost:8080/"
        },
        "id": "27cdRK_x0WC9",
        "outputId": "967a5f62-77fa-4c9b-d148-5f8902ca1f2d"
      },
      "source": [
        "from collections import Counter\n",
        "Counter(wvma.Q49)"
      ],
      "execution_count": 5,
      "outputs": [
        {
          "output_type": "execute_result",
          "data": {
            "text/plain": [
              "Counter({'American Board of Veterinary Practitioners': 3,\n",
              "         'American College of Theriogenologists': 2,\n",
              "         'American College of Veterinary Anesthesia and Analgesia': 1,\n",
              "         'American College of Veterinary Anesthesia and Analgesia,American College of Veterinary Dermatology,American College of Veterinary Emergency & Critical Care,American College of Veterinary Internal Medicine,American College of Veterinary Ophthalmologists,American College of Veterinary Surgeons,American Veterinary Dental College': 1,\n",
              "         'American College of Veterinary Internal Medicine': 2,\n",
              "         'American College of Veterinary Nutrition': 1,\n",
              "         'American College of Veterinary Pathologists': 1,\n",
              "         'American College of Veterinary Surgeons': 1,\n",
              "         'American Veterinary Dental College': 1,\n",
              "         'Other non-AVMA recognized specialty credentials': 9,\n",
              "         nan: 153})"
            ]
          },
          "metadata": {
            "tags": []
          },
          "execution_count": 5
        }
      ]
    },
    {
      "cell_type": "code",
      "metadata": {
        "id": "9EzQYE4u1BpA"
      },
      "source": [
        "# Form generalist and specialist datasets\n",
        "generalist = wvma[wvma['Q49'].isnull()].copy()\n",
        "specialist = wvma[wvma['Q49'].notnull()].copy()"
      ],
      "execution_count": 6,
      "outputs": []
    },
    {
      "cell_type": "code",
      "metadata": {
        "colab": {
          "base_uri": "https://localhost:8080/"
        },
        "id": "aOqQwO-y1kKA",
        "outputId": "0b7e0ce1-1f2c-4ff2-ada5-562fb02b2e08"
      },
      "source": [
        "len(generalist)"
      ],
      "execution_count": 7,
      "outputs": [
        {
          "output_type": "execute_result",
          "data": {
            "text/plain": [
              "153"
            ]
          },
          "metadata": {
            "tags": []
          },
          "execution_count": 7
        }
      ]
    },
    {
      "cell_type": "code",
      "metadata": {
        "colab": {
          "base_uri": "https://localhost:8080/"
        },
        "id": "TEovgv4K1n4T",
        "outputId": "7a4ecd51-9376-44ac-c51a-54e6a0a8c9ce"
      },
      "source": [
        "len(specialist)"
      ],
      "execution_count": 8,
      "outputs": [
        {
          "output_type": "execute_result",
          "data": {
            "text/plain": [
              "22"
            ]
          },
          "metadata": {
            "tags": []
          },
          "execution_count": 8
        }
      ]
    },
    {
      "cell_type": "code",
      "metadata": {
        "id": "hzS9MMxxp3UZ"
      },
      "source": [
        "# Filter dataframe to only companion animal respondants (may have responded to other species too)\n",
        "ca_specialist = specialist[specialist['Q1'].str.contains('Companion Animal (canine and/or feline)', na=False, regex=False)].copy()"
      ],
      "execution_count": 9,
      "outputs": []
    },
    {
      "cell_type": "code",
      "metadata": {
        "id": "mR1K7domxU40"
      },
      "source": [
        "# Filter dataframe to only companion animal respondants (may have responded to other species too)\n",
        "ca_generalist = generalist[generalist['Q1'].str.contains('Companion Animal (canine and/or feline)', na=False, regex=False)].copy()"
      ],
      "execution_count": 10,
      "outputs": []
    },
    {
      "cell_type": "markdown",
      "metadata": {
        "id": "8pDaOnzhxw__"
      },
      "source": [
        "## Question analysis code"
      ]
    },
    {
      "cell_type": "code",
      "metadata": {
        "id": "Vep2A7Oexy71"
      },
      "source": [
        "def analyze_question(question_number, filtered_specialist_df, filtered_generalist_df, n_subquestions, alpha=0.05, verbose=True):\n",
        "    \"\"\"\n",
        "    Perform an analysis of a given question on a species-filtered dataframe.\n",
        "    \n",
        "    Inputs:\n",
        "        question_number: main question number to analyze\n",
        "        filtered_specialist_df: specialist dataframe filtered to respondants with the desired species area\n",
        "        filtered_generalist_df: generalist dataframe filtered to respondants with the desired species area\n",
        "        n_subquestions: number of subquestions in the main question\n",
        "        alpha: power level for the statistical test\n",
        "\n",
        "    Prints a summary of results.\n",
        "\n",
        "    Outputs:\n",
        "        table: summary table\n",
        "        (pooled_stat, pooled_p, pooled_diff_mean): tuple of statistics describing output of Kruskal test on data pooled across subquestions\n",
        "        specialist_data: list of pooled specialist data\n",
        "        generalist_data: list of pooled generalist data\n",
        "        sig_count: number of subquestions with significant difference detected (between specialist and generalist responses), according to Kruskal test applied at subquestion level\n",
        "\n",
        "    \"\"\"\n",
        "\n",
        "    specialist_counts = np.zeros((n_subquestions, 6), dtype=int) # Row for each question, column for empty (-1), 0, 1, 2, 3, and 4 responses\n",
        "    generalist_counts = np.zeros((n_subquestions, 6), dtype=int) # Row for each question, column for empty (-1), 0, 1, 2, 3, and 4 responses\n",
        "    rows = []\n",
        "    specialist_pooled = []\n",
        "    generalist_pooled = []\n",
        "    sig_count = 0\n",
        "\n",
        "    for i in range(1, n_subquestions+1):\n",
        "        qkey = \"Q\" + str(question_number) + \"_\" + str(i)\n",
        "        qstring = question_wvma[qkey].split('-')[2]\n",
        "\n",
        "        # Encoding\n",
        "        filtered_specialist_df[qkey] = filtered_specialist_df[qkey].apply(lambda x: encode_expectation(x))\n",
        "        filtered_generalist_df[qkey] = filtered_generalist_df[qkey].apply(lambda x: encode_expectation(x))\n",
        "\n",
        "        # specialist tally\n",
        "        counts = filtered_specialist_df[qkey].value_counts(dropna=False)\n",
        "        for key in counts.keys():\n",
        "            specialist_counts[i-1][key+1] += counts[key] # question index is 1-based; keys range from -1 to 4\n",
        "        counts = specialist_counts[i-1][1:] # counts of 0, 1, 2, 3, and 4\n",
        "        specialist_num_responses = np.sum(counts)\n",
        "        specialist_mean = (0*counts[0] + 1*counts[1] + 2*counts[2] + 3*counts[3] + 4*counts[4]) / specialist_num_responses\n",
        "\n",
        "        # generalist tally\n",
        "        counts = filtered_generalist_df[qkey].value_counts(dropna=False)\n",
        "        for key in counts.keys():\n",
        "            generalist_counts[i-1][key+1] += counts[key]\n",
        "        counts = generalist_counts[i-1][1:] # counts of 0, 1, 2, 3, and 4\n",
        "        generalist_num_responses = np.sum(counts)\n",
        "        generalist_mean = (0*counts[0] + 1*counts[1] + 2*counts[2] + 3*counts[3] + 4*counts[4]) / generalist_num_responses\n",
        "        \n",
        "        # Get data\n",
        "        specialist_data = list(filtered_specialist_df[qkey])\n",
        "        generalist_data = list(filtered_generalist_df[qkey])\n",
        "\n",
        "        # Remove empty values from data\n",
        "        specialist_data = [x for x in specialist_data if x != -1]\n",
        "        generalist_data = [x for x in generalist_data if x != -1]\n",
        "\n",
        "        assert(specialist_num_responses == len(specialist_data))\n",
        "        assert(generalist_num_responses == len(generalist_data))\n",
        "\n",
        "        # compare samples\n",
        "        if len(specialist_data) >= 5 and len(generalist_data) >= 5:\n",
        "            stat, p = kruskal(specialist_data, generalist_data)\n",
        "        else:\n",
        "            stat = 0\n",
        "            p = 1\n",
        "\n",
        "        # Determine significance\n",
        "        if p > alpha:\n",
        "            sig = \"\"\n",
        "        else:\n",
        "            sig = \"*\"\n",
        "            sig_count += 1\n",
        "\n",
        "        # Cache for pooled data\n",
        "        specialist_pooled.extend(specialist_data)\n",
        "        generalist_pooled.extend(generalist_data)\n",
        "\n",
        "        # Cache for table of results\n",
        "        row = [qstring] + list(specialist_counts[i-1]) + [specialist_mean, specialist_num_responses] + list(generalist_counts[i-1]) + [generalist_mean, generalist_num_responses, specialist_mean-generalist_mean, stat, p, sig]\n",
        "        rows.append(row)\n",
        "\n",
        "    # Assemble table of results\n",
        "    table = pd.DataFrame(rows, columns=[\"Subquestion\", \"specialist: empty\", \"specialist: 0\", \"specialist: 1\", \"specialist: 2\", \"specialist: 3\", \"specialist: 4\", \"specialist: avg\", \"specialist: num responses\", \"generalist: empty\", \"generalist: 0\", \"generalist: 1\", \"generalist: 2\", \"generalist: 3\", \"generalist: 4\", \"generalist: avg\", \"generalist: num responses\", \"Diff Mean (specialist-generalist)\", \"stat\", \"pval\", \"sig\"])\n",
        "\n",
        "    # Apply Kruskal test to pooled data\n",
        "    pooled_stat, pooled_p = kruskal(specialist_pooled, generalist_pooled)\n",
        "    pooled_diff_mean = np.mean(specialist_pooled) - np.mean(generalist_pooled)\n",
        "\n",
        "    # Print\n",
        "    if verbose == True:\n",
        "        print('Pooled Q%s: stat=%.3f, p=%.2e, diff_mean (specialist-generalist)=%.3f, sig_subq=%s/%s' % (question_number, pooled_stat, pooled_p, pooled_diff_mean, sig_count, n_subquestions))\n",
        "\n",
        "    return table, (pooled_stat, pooled_p, pooled_diff_mean), specialist_pooled, generalist_pooled, sig_count"
      ],
      "execution_count": 11,
      "outputs": []
    },
    {
      "cell_type": "code",
      "metadata": {
        "colab": {
          "base_uri": "https://localhost:8080/"
        },
        "id": "ciR7xBK4x0Ce",
        "outputId": "b4c4452e-edf6-4cc9-e260-96f2eff23a05"
      },
      "source": [
        "table, subq_pooled_result, specialist_data, generalist_data, sig_count = analyze_question(13, ca_specialist, ca_generalist, n_subquestions=11)"
      ],
      "execution_count": 12,
      "outputs": [
        {
          "output_type": "stream",
          "text": [
            "Pooled Q13: stat=17.492, p=2.89e-05, diff_mean (specialist-generalist)=-0.454, sig_subq=2/11\n"
          ],
          "name": "stdout"
        }
      ]
    },
    {
      "cell_type": "code",
      "metadata": {
        "colab": {
          "base_uri": "https://localhost:8080/",
          "height": 1000
        },
        "id": "JPikhTTZ2mRF",
        "outputId": "c3693df7-30d4-4683-f76c-0ca8f687d53a"
      },
      "source": [
        "table"
      ],
      "execution_count": 13,
      "outputs": [
        {
          "output_type": "execute_result",
          "data": {
            "text/html": [
              "<div>\n",
              "<style scoped>\n",
              "    .dataframe tbody tr th:only-of-type {\n",
              "        vertical-align: middle;\n",
              "    }\n",
              "\n",
              "    .dataframe tbody tr th {\n",
              "        vertical-align: top;\n",
              "    }\n",
              "\n",
              "    .dataframe thead th {\n",
              "        text-align: right;\n",
              "    }\n",
              "</style>\n",
              "<table border=\"1\" class=\"dataframe\">\n",
              "  <thead>\n",
              "    <tr style=\"text-align: right;\">\n",
              "      <th></th>\n",
              "      <th>Subquestion</th>\n",
              "      <th>specialist: empty</th>\n",
              "      <th>specialist: 0</th>\n",
              "      <th>specialist: 1</th>\n",
              "      <th>specialist: 2</th>\n",
              "      <th>specialist: 3</th>\n",
              "      <th>specialist: 4</th>\n",
              "      <th>specialist: avg</th>\n",
              "      <th>specialist: num responses</th>\n",
              "      <th>generalist: empty</th>\n",
              "      <th>generalist: 0</th>\n",
              "      <th>generalist: 1</th>\n",
              "      <th>generalist: 2</th>\n",
              "      <th>generalist: 3</th>\n",
              "      <th>generalist: 4</th>\n",
              "      <th>generalist: avg</th>\n",
              "      <th>generalist: num responses</th>\n",
              "      <th>Diff Mean (specialist-generalist)</th>\n",
              "      <th>stat</th>\n",
              "      <th>pval</th>\n",
              "      <th>sig</th>\n",
              "    </tr>\n",
              "  </thead>\n",
              "  <tbody>\n",
              "    <tr>\n",
              "      <th>0</th>\n",
              "      <td>Documents medical records to fulfill professi...</td>\n",
              "      <td>5</td>\n",
              "      <td>0</td>\n",
              "      <td>1</td>\n",
              "      <td>0</td>\n",
              "      <td>4</td>\n",
              "      <td>5</td>\n",
              "      <td>3.300000</td>\n",
              "      <td>10</td>\n",
              "      <td>28</td>\n",
              "      <td>0</td>\n",
              "      <td>2</td>\n",
              "      <td>1</td>\n",
              "      <td>10</td>\n",
              "      <td>59</td>\n",
              "      <td>3.750000</td>\n",
              "      <td>72</td>\n",
              "      <td>-0.450000</td>\n",
              "      <td>5.066485</td>\n",
              "      <td>0.024393</td>\n",
              "      <td>*</td>\n",
              "    </tr>\n",
              "    <tr>\n",
              "      <th>1</th>\n",
              "      <td>Discuss recommended vaccination or preventive...</td>\n",
              "      <td>5</td>\n",
              "      <td>2</td>\n",
              "      <td>1</td>\n",
              "      <td>1</td>\n",
              "      <td>1</td>\n",
              "      <td>5</td>\n",
              "      <td>2.600000</td>\n",
              "      <td>10</td>\n",
              "      <td>28</td>\n",
              "      <td>0</td>\n",
              "      <td>1</td>\n",
              "      <td>2</td>\n",
              "      <td>11</td>\n",
              "      <td>58</td>\n",
              "      <td>3.750000</td>\n",
              "      <td>72</td>\n",
              "      <td>-1.150000</td>\n",
              "      <td>6.635718</td>\n",
              "      <td>0.009995</td>\n",
              "      <td>*</td>\n",
              "    </tr>\n",
              "    <tr>\n",
              "      <th>2</th>\n",
              "      <td>Discuss recommended treatment plan and option...</td>\n",
              "      <td>5</td>\n",
              "      <td>1</td>\n",
              "      <td>0</td>\n",
              "      <td>1</td>\n",
              "      <td>3</td>\n",
              "      <td>5</td>\n",
              "      <td>3.100000</td>\n",
              "      <td>10</td>\n",
              "      <td>28</td>\n",
              "      <td>0</td>\n",
              "      <td>0</td>\n",
              "      <td>2</td>\n",
              "      <td>18</td>\n",
              "      <td>52</td>\n",
              "      <td>3.694444</td>\n",
              "      <td>72</td>\n",
              "      <td>-0.594444</td>\n",
              "      <td>2.858647</td>\n",
              "      <td>0.090884</td>\n",
              "      <td></td>\n",
              "    </tr>\n",
              "    <tr>\n",
              "      <th>3</th>\n",
              "      <td>Discuss risks of recommended treatments and p...</td>\n",
              "      <td>5</td>\n",
              "      <td>1</td>\n",
              "      <td>0</td>\n",
              "      <td>1</td>\n",
              "      <td>4</td>\n",
              "      <td>4</td>\n",
              "      <td>3.000000</td>\n",
              "      <td>10</td>\n",
              "      <td>28</td>\n",
              "      <td>0</td>\n",
              "      <td>2</td>\n",
              "      <td>1</td>\n",
              "      <td>25</td>\n",
              "      <td>44</td>\n",
              "      <td>3.541667</td>\n",
              "      <td>72</td>\n",
              "      <td>-0.541667</td>\n",
              "      <td>2.424794</td>\n",
              "      <td>0.119429</td>\n",
              "      <td></td>\n",
              "    </tr>\n",
              "    <tr>\n",
              "      <th>4</th>\n",
              "      <td>Acknowledge client’s knowledge level and appr...</td>\n",
              "      <td>6</td>\n",
              "      <td>0</td>\n",
              "      <td>0</td>\n",
              "      <td>1</td>\n",
              "      <td>4</td>\n",
              "      <td>4</td>\n",
              "      <td>3.333333</td>\n",
              "      <td>9</td>\n",
              "      <td>28</td>\n",
              "      <td>0</td>\n",
              "      <td>2</td>\n",
              "      <td>3</td>\n",
              "      <td>17</td>\n",
              "      <td>50</td>\n",
              "      <td>3.597222</td>\n",
              "      <td>72</td>\n",
              "      <td>-0.263889</td>\n",
              "      <td>2.027923</td>\n",
              "      <td>0.154432</td>\n",
              "      <td></td>\n",
              "    </tr>\n",
              "    <tr>\n",
              "      <th>5</th>\n",
              "      <td>Discuss quality of life issues with owners</td>\n",
              "      <td>5</td>\n",
              "      <td>1</td>\n",
              "      <td>0</td>\n",
              "      <td>0</td>\n",
              "      <td>4</td>\n",
              "      <td>5</td>\n",
              "      <td>3.200000</td>\n",
              "      <td>10</td>\n",
              "      <td>28</td>\n",
              "      <td>0</td>\n",
              "      <td>3</td>\n",
              "      <td>2</td>\n",
              "      <td>18</td>\n",
              "      <td>49</td>\n",
              "      <td>3.569444</td>\n",
              "      <td>72</td>\n",
              "      <td>-0.369444</td>\n",
              "      <td>1.277447</td>\n",
              "      <td>0.258374</td>\n",
              "      <td></td>\n",
              "    </tr>\n",
              "    <tr>\n",
              "      <th>6</th>\n",
              "      <td>Engages clients in difficult conversations su...</td>\n",
              "      <td>5</td>\n",
              "      <td>1</td>\n",
              "      <td>2</td>\n",
              "      <td>0</td>\n",
              "      <td>5</td>\n",
              "      <td>2</td>\n",
              "      <td>2.500000</td>\n",
              "      <td>10</td>\n",
              "      <td>28</td>\n",
              "      <td>1</td>\n",
              "      <td>6</td>\n",
              "      <td>3</td>\n",
              "      <td>28</td>\n",
              "      <td>34</td>\n",
              "      <td>3.222222</td>\n",
              "      <td>72</td>\n",
              "      <td>-0.722222</td>\n",
              "      <td>3.490140</td>\n",
              "      <td>0.061735</td>\n",
              "      <td></td>\n",
              "    </tr>\n",
              "    <tr>\n",
              "      <th>7</th>\n",
              "      <td>Engage with clients and co</td>\n",
              "      <td>5</td>\n",
              "      <td>0</td>\n",
              "      <td>0</td>\n",
              "      <td>0</td>\n",
              "      <td>0</td>\n",
              "      <td>10</td>\n",
              "      <td>4.000000</td>\n",
              "      <td>10</td>\n",
              "      <td>29</td>\n",
              "      <td>0</td>\n",
              "      <td>2</td>\n",
              "      <td>1</td>\n",
              "      <td>12</td>\n",
              "      <td>56</td>\n",
              "      <td>3.718310</td>\n",
              "      <td>71</td>\n",
              "      <td>0.281690</td>\n",
              "      <td>2.543501</td>\n",
              "      <td>0.110749</td>\n",
              "      <td></td>\n",
              "    </tr>\n",
              "    <tr>\n",
              "      <th>8</th>\n",
              "      <td>Engage co</td>\n",
              "      <td>5</td>\n",
              "      <td>1</td>\n",
              "      <td>2</td>\n",
              "      <td>1</td>\n",
              "      <td>3</td>\n",
              "      <td>3</td>\n",
              "      <td>2.500000</td>\n",
              "      <td>10</td>\n",
              "      <td>28</td>\n",
              "      <td>7</td>\n",
              "      <td>5</td>\n",
              "      <td>12</td>\n",
              "      <td>22</td>\n",
              "      <td>26</td>\n",
              "      <td>2.763889</td>\n",
              "      <td>72</td>\n",
              "      <td>-0.263889</td>\n",
              "      <td>0.306259</td>\n",
              "      <td>0.579985</td>\n",
              "      <td></td>\n",
              "    </tr>\n",
              "    <tr>\n",
              "      <th>9</th>\n",
              "      <td>Elicit client goals, expectations, perspectiv...</td>\n",
              "      <td>5</td>\n",
              "      <td>1</td>\n",
              "      <td>0</td>\n",
              "      <td>1</td>\n",
              "      <td>4</td>\n",
              "      <td>4</td>\n",
              "      <td>3.000000</td>\n",
              "      <td>10</td>\n",
              "      <td>28</td>\n",
              "      <td>1</td>\n",
              "      <td>2</td>\n",
              "      <td>3</td>\n",
              "      <td>24</td>\n",
              "      <td>42</td>\n",
              "      <td>3.444444</td>\n",
              "      <td>72</td>\n",
              "      <td>-0.444444</td>\n",
              "      <td>1.599256</td>\n",
              "      <td>0.206009</td>\n",
              "      <td></td>\n",
              "    </tr>\n",
              "    <tr>\n",
              "      <th>10</th>\n",
              "      <td>Build and maintain client relationships</td>\n",
              "      <td>5</td>\n",
              "      <td>0</td>\n",
              "      <td>1</td>\n",
              "      <td>1</td>\n",
              "      <td>2</td>\n",
              "      <td>6</td>\n",
              "      <td>3.300000</td>\n",
              "      <td>10</td>\n",
              "      <td>28</td>\n",
              "      <td>0</td>\n",
              "      <td>1</td>\n",
              "      <td>1</td>\n",
              "      <td>13</td>\n",
              "      <td>57</td>\n",
              "      <td>3.750000</td>\n",
              "      <td>72</td>\n",
              "      <td>-0.450000</td>\n",
              "      <td>2.378008</td>\n",
              "      <td>0.123054</td>\n",
              "      <td></td>\n",
              "    </tr>\n",
              "  </tbody>\n",
              "</table>\n",
              "</div>"
            ],
            "text/plain": [
              "                                          Subquestion  ...  sig\n",
              "0    Documents medical records to fulfill professi...  ...    *\n",
              "1    Discuss recommended vaccination or preventive...  ...    *\n",
              "2    Discuss recommended treatment plan and option...  ...     \n",
              "3    Discuss risks of recommended treatments and p...  ...     \n",
              "4    Acknowledge client’s knowledge level and appr...  ...     \n",
              "5          Discuss quality of life issues with owners  ...     \n",
              "6    Engages clients in difficult conversations su...  ...     \n",
              "7                          Engage with clients and co  ...     \n",
              "8                                           Engage co  ...     \n",
              "9    Elicit client goals, expectations, perspectiv...  ...     \n",
              "10            Build and maintain client relationships  ...     \n",
              "\n",
              "[11 rows x 21 columns]"
            ]
          },
          "metadata": {
            "tags": []
          },
          "execution_count": 13
        }
      ]
    },
    {
      "cell_type": "markdown",
      "metadata": {
        "id": "VWA9ITRgx2eB"
      },
      "source": [
        "## Group analysis code"
      ]
    },
    {
      "cell_type": "code",
      "metadata": {
        "id": "TV8dbNjhQkpS"
      },
      "source": [
        "# cache data across all groups\n",
        "group_data = []\n",
        "group_columns = [\"Group\", \"Pooled stat\", \"Pooled p\", \"Pooled diff_mean (specialist-generalist)\", \"Num questions\", \"Fraction of sig questions\", \"Pooled num specialist reponses\", \"Pooled num generalist responses\"]"
      ],
      "execution_count": 14,
      "outputs": []
    },
    {
      "cell_type": "code",
      "metadata": {
        "id": "oHHUSx04mA1C"
      },
      "source": [
        "# cache tables\n",
        "output_tables = []\n",
        "output_tables_sheet_names = []\n",
        "\n",
        "# cache subquestion table data\n",
        "output_subq_data = []"
      ],
      "execution_count": 15,
      "outputs": []
    },
    {
      "cell_type": "code",
      "metadata": {
        "id": "2PRI-LFAE9WW"
      },
      "source": [
        "# Input info about question group\n",
        "\n",
        "question_list = [13,14,15]\n",
        "n_subq_list = [11,6,8]\n",
        "question_strings = ['Communication practices',\n",
        "                    'Professional and business practices',\n",
        "                    'Ethics and professional practices']\n",
        "\n",
        "assert(len(question_list) == len(n_subq_list))\n",
        "assert(len(n_subq_list) == len(question_strings))"
      ],
      "execution_count": 16,
      "outputs": []
    },
    {
      "cell_type": "code",
      "metadata": {
        "id": "No1h2UNOF0XC"
      },
      "source": [
        "# Code to analyze all questions within the group\n",
        "\n",
        "def analyze_group(question_list, n_subq_list, question_strings, filtered_specialist_df, filtered_generalist_df, alpha=0.05):\n",
        "    specialist_pooled = [] # now pooling over entire group\n",
        "    generalist_pooled = []\n",
        "    rows = []\n",
        "    sig_count = 0\n",
        "    subq_tables = []\n",
        "    subq_tables_names = []\n",
        "\n",
        "    for i in range(len(question_list)):\n",
        "        question_number = question_list[i]\n",
        "        n_subquestions = n_subq_list[i]\n",
        "        question_string = question_strings[i]\n",
        "\n",
        "        # Run analysis\n",
        "        table, subq_pooled_result, specialist_data, generalist_data, sig_subq = analyze_question(question_number, filtered_specialist_df, filtered_generalist_df, n_subquestions, verbose=False)\n",
        "        pooled_stat, pooled_p, pooled_diff_mean = subq_pooled_result\n",
        "        specialist_num_responses = len(specialist_data)\n",
        "        generalist_num_responses = len(generalist_data)\n",
        "\n",
        "        # Cache procedure tables\n",
        "        subq_tables.append(table)\n",
        "        subq_tables_names.append('Q'+str(question_number))\n",
        "\n",
        "        # Pool\n",
        "        specialist_pooled.extend(specialist_data)\n",
        "        generalist_pooled.extend(generalist_data)\n",
        "\n",
        "        # Determine significance\n",
        "        if pooled_p > alpha:\n",
        "            sig = \"\"\n",
        "        else:\n",
        "            sig = \"*\"\n",
        "            sig_count += 1\n",
        "\n",
        "        # Cache data for group summary\n",
        "        row = ['Q'+str(question_number), question_string, pooled_stat, pooled_p, sig, pooled_diff_mean, n_subquestions, \"%i/%i\" % (sig_subq,n_subquestions), specialist_num_responses, generalist_num_responses]\n",
        "        rows.append(row)\n",
        "\n",
        "    # Assemble table of results\n",
        "    group_table = pd.DataFrame(rows, columns=[\"Question number\", \"Category\", \"Pooled stat\", \"Pooled p\", \"Sig\", \"Pooled Diff Mean (specialist-generalist)\", \"Num subquestions\", \"Fraction of sig subquestions\", \"Pooled num specialist responses\", \"Pooled num generalist responses\"])                     \n",
        "\n",
        "    # Apply Kruskal test to pooled data\n",
        "    pooled_stat, pooled_p = kruskal(specialist_pooled, generalist_pooled)\n",
        "    pooled_diff_mean = np.mean(specialist_pooled) - np.mean(generalist_pooled)\n",
        "\n",
        "    # Print\n",
        "    print('Group result (all questions): stat=%.3f, p=%.2e, diff_mean (specialist-generalist)=%.3f, sig_subq=%s/%s' % (pooled_stat, pooled_p, pooled_diff_mean, sig_count, len(question_list)))\n",
        "\n",
        "    return group_table, (pooled_stat, pooled_p, pooled_diff_mean), sig_count, len(question_list), len(specialist_pooled), len(generalist_pooled), (subq_tables, subq_tables_names)"
      ],
      "execution_count": 17,
      "outputs": []
    },
    {
      "cell_type": "code",
      "metadata": {
        "colab": {
          "base_uri": "https://localhost:8080/",
          "height": 214
        },
        "id": "f0MxDBYnLTY4",
        "outputId": "49576762-3b53-43f7-df20-ffbec589ed56"
      },
      "source": [
        "group_table, pooled_q_stats, sig_count, n_questions, specialist_responses, generalist_responses, subq_data  = analyze_group(question_list, n_subq_list, question_strings, ca_specialist, ca_generalist)\n",
        "pooled_stat, pooled_p, pooled_diff_mean = pooled_q_stats\n",
        "group_data.append([\"Companion Animal\", pooled_stat, pooled_p, pooled_diff_mean, n_questions, \"%i/%i\" % (sig_count,n_questions), specialist_responses, generalist_responses])\n",
        "output_tables.append(group_table)\n",
        "output_tables_sheet_names.append(\"Companion Animal\")\n",
        "output_subq_data.append(subq_data)\n",
        "group_table"
      ],
      "execution_count": 18,
      "outputs": [
        {
          "output_type": "stream",
          "text": [
            "Group result (all questions): stat=24.292, p=8.28e-07, diff_mean (specialist-generalist)=-0.405, sig_subq=3/3\n"
          ],
          "name": "stdout"
        },
        {
          "output_type": "execute_result",
          "data": {
            "text/html": [
              "<div>\n",
              "<style scoped>\n",
              "    .dataframe tbody tr th:only-of-type {\n",
              "        vertical-align: middle;\n",
              "    }\n",
              "\n",
              "    .dataframe tbody tr th {\n",
              "        vertical-align: top;\n",
              "    }\n",
              "\n",
              "    .dataframe thead th {\n",
              "        text-align: right;\n",
              "    }\n",
              "</style>\n",
              "<table border=\"1\" class=\"dataframe\">\n",
              "  <thead>\n",
              "    <tr style=\"text-align: right;\">\n",
              "      <th></th>\n",
              "      <th>Question number</th>\n",
              "      <th>Category</th>\n",
              "      <th>Pooled stat</th>\n",
              "      <th>Pooled p</th>\n",
              "      <th>Sig</th>\n",
              "      <th>Pooled Diff Mean (specialist-generalist)</th>\n",
              "      <th>Num subquestions</th>\n",
              "      <th>Fraction of sig subquestions</th>\n",
              "      <th>Pooled num specialist responses</th>\n",
              "      <th>Pooled num generalist responses</th>\n",
              "    </tr>\n",
              "  </thead>\n",
              "  <tbody>\n",
              "    <tr>\n",
              "      <th>0</th>\n",
              "      <td>Q13</td>\n",
              "      <td>Communication practices</td>\n",
              "      <td>17.491567</td>\n",
              "      <td>0.000029</td>\n",
              "      <td>*</td>\n",
              "      <td>-0.453786</td>\n",
              "      <td>11</td>\n",
              "      <td>2/11</td>\n",
              "      <td>109</td>\n",
              "      <td>791</td>\n",
              "    </tr>\n",
              "    <tr>\n",
              "      <th>1</th>\n",
              "      <td>Q14</td>\n",
              "      <td>Professional and business practices</td>\n",
              "      <td>7.945675</td>\n",
              "      <td>0.004820</td>\n",
              "      <td>*</td>\n",
              "      <td>-0.542508</td>\n",
              "      <td>6</td>\n",
              "      <td>0/6</td>\n",
              "      <td>60</td>\n",
              "      <td>436</td>\n",
              "    </tr>\n",
              "    <tr>\n",
              "      <th>2</th>\n",
              "      <td>Q15</td>\n",
              "      <td>Ethics and professional practices</td>\n",
              "      <td>4.217986</td>\n",
              "      <td>0.039998</td>\n",
              "      <td>*</td>\n",
              "      <td>-0.237153</td>\n",
              "      <td>8</td>\n",
              "      <td>0/8</td>\n",
              "      <td>80</td>\n",
              "      <td>576</td>\n",
              "    </tr>\n",
              "  </tbody>\n",
              "</table>\n",
              "</div>"
            ],
            "text/plain": [
              "  Question number  ... Pooled num generalist responses\n",
              "0             Q13  ...                             791\n",
              "1             Q14  ...                             436\n",
              "2             Q15  ...                             576\n",
              "\n",
              "[3 rows x 10 columns]"
            ]
          },
          "metadata": {
            "tags": []
          },
          "execution_count": 18
        }
      ]
    },
    {
      "cell_type": "code",
      "metadata": {
        "id": "DCdfiCDJAqvY"
      },
      "source": [
        "# Filter dataframes to only companion animal respondants (may have responded to other species too)\n",
        "ss_specialist = specialist[specialist['Q1'].str.contains('Special Species', na=False, regex=False)].copy()\n",
        "ss_generalist = generalist[generalist['Q1'].str.contains('Special Species', na=False, regex=False)].copy()"
      ],
      "execution_count": 19,
      "outputs": []
    },
    {
      "cell_type": "code",
      "metadata": {
        "id": "274MDssxK4mQ"
      },
      "source": [
        "# Input info about question group\n",
        "\n",
        "question_list = [13,14,15]\n",
        "n_subq_list = [11,6,8]\n",
        "question_strings = ['Communication practices',\n",
        "                    'Professional and business practices',\n",
        "                    'Ethics and professional practices']\n",
        "\n",
        "assert(len(question_list) == len(n_subq_list))\n",
        "assert(len(n_subq_list) == len(question_strings))"
      ],
      "execution_count": 20,
      "outputs": []
    },
    {
      "cell_type": "code",
      "metadata": {
        "colab": {
          "base_uri": "https://localhost:8080/",
          "height": 214
        },
        "id": "68Wni7ZWK6CF",
        "outputId": "5ea067a3-be4a-4fcf-a9c5-5b34fda69838"
      },
      "source": [
        "group_table, pooled_q_stats, sig_count, n_questions, specialist_responses, generalist_responses, subq_data  = analyze_group(question_list, n_subq_list, question_strings, ss_specialist, ss_generalist)\n",
        "pooled_stat, pooled_p, pooled_diff_mean = pooled_q_stats\n",
        "group_data.append([\"Special Species\", pooled_stat, pooled_p, pooled_diff_mean, n_questions, \"%i/%i\" % (sig_count,n_questions), specialist_responses, generalist_responses])\n",
        "output_tables.append(group_table)\n",
        "output_tables_sheet_names.append(\"Special Species\")\n",
        "output_subq_data.append(subq_data)\n",
        "group_table"
      ],
      "execution_count": 21,
      "outputs": [
        {
          "output_type": "stream",
          "text": [
            "Group result (all questions): stat=21.350, p=3.83e-06, diff_mean (specialist-generalist)=-1.480, sig_subq=2/3\n"
          ],
          "name": "stdout"
        },
        {
          "output_type": "execute_result",
          "data": {
            "text/html": [
              "<div>\n",
              "<style scoped>\n",
              "    .dataframe tbody tr th:only-of-type {\n",
              "        vertical-align: middle;\n",
              "    }\n",
              "\n",
              "    .dataframe tbody tr th {\n",
              "        vertical-align: top;\n",
              "    }\n",
              "\n",
              "    .dataframe thead th {\n",
              "        text-align: right;\n",
              "    }\n",
              "</style>\n",
              "<table border=\"1\" class=\"dataframe\">\n",
              "  <thead>\n",
              "    <tr style=\"text-align: right;\">\n",
              "      <th></th>\n",
              "      <th>Question number</th>\n",
              "      <th>Category</th>\n",
              "      <th>Pooled stat</th>\n",
              "      <th>Pooled p</th>\n",
              "      <th>Sig</th>\n",
              "      <th>Pooled Diff Mean (specialist-generalist)</th>\n",
              "      <th>Num subquestions</th>\n",
              "      <th>Fraction of sig subquestions</th>\n",
              "      <th>Pooled num specialist responses</th>\n",
              "      <th>Pooled num generalist responses</th>\n",
              "    </tr>\n",
              "  </thead>\n",
              "  <tbody>\n",
              "    <tr>\n",
              "      <th>0</th>\n",
              "      <td>Q13</td>\n",
              "      <td>Communication practices</td>\n",
              "      <td>21.823513</td>\n",
              "      <td>0.000003</td>\n",
              "      <td>*</td>\n",
              "      <td>-2.146853</td>\n",
              "      <td>11</td>\n",
              "      <td>0/11</td>\n",
              "      <td>11</td>\n",
              "      <td>143</td>\n",
              "    </tr>\n",
              "    <tr>\n",
              "      <th>1</th>\n",
              "      <td>Q14</td>\n",
              "      <td>Professional and business practices</td>\n",
              "      <td>9.284847</td>\n",
              "      <td>0.002311</td>\n",
              "      <td>*</td>\n",
              "      <td>-1.844156</td>\n",
              "      <td>6</td>\n",
              "      <td>0/6</td>\n",
              "      <td>6</td>\n",
              "      <td>77</td>\n",
              "    </tr>\n",
              "    <tr>\n",
              "      <th>2</th>\n",
              "      <td>Q15</td>\n",
              "      <td>Ethics and professional practices</td>\n",
              "      <td>1.300410</td>\n",
              "      <td>0.254138</td>\n",
              "      <td></td>\n",
              "      <td>-0.278846</td>\n",
              "      <td>8</td>\n",
              "      <td>0/8</td>\n",
              "      <td>8</td>\n",
              "      <td>104</td>\n",
              "    </tr>\n",
              "  </tbody>\n",
              "</table>\n",
              "</div>"
            ],
            "text/plain": [
              "  Question number  ... Pooled num generalist responses\n",
              "0             Q13  ...                             143\n",
              "1             Q14  ...                              77\n",
              "2             Q15  ...                             104\n",
              "\n",
              "[3 rows x 10 columns]"
            ]
          },
          "metadata": {
            "tags": []
          },
          "execution_count": 21
        }
      ]
    },
    {
      "cell_type": "code",
      "metadata": {
        "id": "l_iFQe9tMNHj"
      },
      "source": [
        "# Filter dataframes to only companion animal respondants (may have responded to other species too)\n",
        "fa_specialist = specialist[specialist['Q1'].str.contains('Food Animal', na=False, regex=False)].copy()\n",
        "fa_generalist = generalist[generalist['Q1'].str.contains('Food Animal', na=False, regex=False)].copy()"
      ],
      "execution_count": 22,
      "outputs": []
    },
    {
      "cell_type": "code",
      "metadata": {
        "id": "h84S1L2UMONF"
      },
      "source": [
        "# Input info about question group\n",
        "\n",
        "question_list = [13,14,15]\n",
        "n_subq_list = [11,6,8]\n",
        "question_strings = ['Communication practices',\n",
        "                    'Professional and business practices',\n",
        "                    'Ethics and professional practices']\n",
        "\n",
        "\n",
        "assert(len(question_list) == len(n_subq_list))\n",
        "assert(len(n_subq_list) == len(question_strings))"
      ],
      "execution_count": 23,
      "outputs": []
    },
    {
      "cell_type": "code",
      "metadata": {
        "colab": {
          "base_uri": "https://localhost:8080/",
          "height": 214
        },
        "id": "LE1yuS5OMPGh",
        "outputId": "277c01c2-dfb9-40c9-aa35-0201b5ff1b1a"
      },
      "source": [
        "group_table, pooled_q_stats, sig_count, n_questions, specialist_responses, generalist_responses, subq_data  = analyze_group(question_list, n_subq_list, question_strings, fa_specialist, fa_generalist)\n",
        "pooled_stat, pooled_p, pooled_diff_mean = pooled_q_stats\n",
        "group_data.append([\"Food Animal\", pooled_stat, pooled_p, pooled_diff_mean, n_questions, \"%i/%i\" % (sig_count,n_questions), specialist_responses, generalist_responses])\n",
        "output_tables.append(group_table)\n",
        "output_tables_sheet_names.append(\"Food Animal\")\n",
        "output_subq_data.append(subq_data)\n",
        "group_table"
      ],
      "execution_count": 24,
      "outputs": [
        {
          "output_type": "stream",
          "text": [
            "Group result (all questions): stat=1.412, p=2.35e-01, diff_mean (specialist-generalist)=-0.321, sig_subq=0/3\n"
          ],
          "name": "stdout"
        },
        {
          "output_type": "execute_result",
          "data": {
            "text/html": [
              "<div>\n",
              "<style scoped>\n",
              "    .dataframe tbody tr th:only-of-type {\n",
              "        vertical-align: middle;\n",
              "    }\n",
              "\n",
              "    .dataframe tbody tr th {\n",
              "        vertical-align: top;\n",
              "    }\n",
              "\n",
              "    .dataframe thead th {\n",
              "        text-align: right;\n",
              "    }\n",
              "</style>\n",
              "<table border=\"1\" class=\"dataframe\">\n",
              "  <thead>\n",
              "    <tr style=\"text-align: right;\">\n",
              "      <th></th>\n",
              "      <th>Question number</th>\n",
              "      <th>Category</th>\n",
              "      <th>Pooled stat</th>\n",
              "      <th>Pooled p</th>\n",
              "      <th>Sig</th>\n",
              "      <th>Pooled Diff Mean (specialist-generalist)</th>\n",
              "      <th>Num subquestions</th>\n",
              "      <th>Fraction of sig subquestions</th>\n",
              "      <th>Pooled num specialist responses</th>\n",
              "      <th>Pooled num generalist responses</th>\n",
              "    </tr>\n",
              "  </thead>\n",
              "  <tbody>\n",
              "    <tr>\n",
              "      <th>0</th>\n",
              "      <td>Q13</td>\n",
              "      <td>Communication practices</td>\n",
              "      <td>0.061488</td>\n",
              "      <td>0.804160</td>\n",
              "      <td></td>\n",
              "      <td>-0.326057</td>\n",
              "      <td>11</td>\n",
              "      <td>0/11</td>\n",
              "      <td>44</td>\n",
              "      <td>329</td>\n",
              "    </tr>\n",
              "    <tr>\n",
              "      <th>1</th>\n",
              "      <td>Q14</td>\n",
              "      <td>Professional and business practices</td>\n",
              "      <td>0.732074</td>\n",
              "      <td>0.392212</td>\n",
              "      <td></td>\n",
              "      <td>-0.336111</td>\n",
              "      <td>6</td>\n",
              "      <td>0/6</td>\n",
              "      <td>24</td>\n",
              "      <td>180</td>\n",
              "    </tr>\n",
              "    <tr>\n",
              "      <th>2</th>\n",
              "      <td>Q15</td>\n",
              "      <td>Ethics and professional practices</td>\n",
              "      <td>1.014992</td>\n",
              "      <td>0.313710</td>\n",
              "      <td></td>\n",
              "      <td>-0.302083</td>\n",
              "      <td>8</td>\n",
              "      <td>0/8</td>\n",
              "      <td>32</td>\n",
              "      <td>240</td>\n",
              "    </tr>\n",
              "  </tbody>\n",
              "</table>\n",
              "</div>"
            ],
            "text/plain": [
              "  Question number  ... Pooled num generalist responses\n",
              "0             Q13  ...                             329\n",
              "1             Q14  ...                             180\n",
              "2             Q15  ...                             240\n",
              "\n",
              "[3 rows x 10 columns]"
            ]
          },
          "metadata": {
            "tags": []
          },
          "execution_count": 24
        }
      ]
    },
    {
      "cell_type": "code",
      "metadata": {
        "id": "tv2QyiS3PAY-"
      },
      "source": [
        "# Filter dataframes to only companion animal respondants (may have responded to other species too)\n",
        "eq_specialist = specialist[specialist['Q1'].str.contains('Equine', na=False, regex=False)].copy()\n",
        "eq_generalist = generalist[generalist['Q1'].str.contains('Equine', na=False, regex=False)].copy()"
      ],
      "execution_count": 25,
      "outputs": []
    },
    {
      "cell_type": "code",
      "metadata": {
        "id": "GbO-i-4wPEUZ"
      },
      "source": [
        "# Input info about question group\n",
        "\n",
        "question_list = [13,14,15]\n",
        "n_subq_list = [11,6,8]\n",
        "question_strings = ['Communication practices',\n",
        "                    'Professional and business practices',\n",
        "                    'Ethics and professional practices']\n",
        "\n",
        "\n",
        "assert(len(question_list) == len(n_subq_list))\n",
        "assert(len(n_subq_list) == len(question_strings))"
      ],
      "execution_count": 26,
      "outputs": []
    },
    {
      "cell_type": "code",
      "metadata": {
        "colab": {
          "base_uri": "https://localhost:8080/",
          "height": 214
        },
        "id": "PfeuG-2TPHzx",
        "outputId": "704b0d37-23bb-4d1d-db89-906151b73a1d"
      },
      "source": [
        "group_table, pooled_q_stats, sig_count, n_questions, specialist_responses, generalist_responses, subq_data  = analyze_group(question_list, n_subq_list, question_strings, eq_specialist, eq_generalist)\n",
        "pooled_stat, pooled_p, pooled_diff_mean = pooled_q_stats\n",
        "group_data.append([\"Equine\", pooled_stat, pooled_p, pooled_diff_mean, n_questions, \"%i/%i\" % (sig_count,n_questions), specialist_responses, generalist_responses])\n",
        "output_tables.append(group_table)\n",
        "output_tables_sheet_names.append(\"Equine\")\n",
        "output_subq_data.append(subq_data)\n",
        "group_table"
      ],
      "execution_count": 27,
      "outputs": [
        {
          "output_type": "stream",
          "text": [
            "Group result (all questions): stat=13.455, p=2.44e-04, diff_mean (specialist-generalist)=-0.744, sig_subq=2/3\n"
          ],
          "name": "stdout"
        },
        {
          "output_type": "execute_result",
          "data": {
            "text/html": [
              "<div>\n",
              "<style scoped>\n",
              "    .dataframe tbody tr th:only-of-type {\n",
              "        vertical-align: middle;\n",
              "    }\n",
              "\n",
              "    .dataframe tbody tr th {\n",
              "        vertical-align: top;\n",
              "    }\n",
              "\n",
              "    .dataframe thead th {\n",
              "        text-align: right;\n",
              "    }\n",
              "</style>\n",
              "<table border=\"1\" class=\"dataframe\">\n",
              "  <thead>\n",
              "    <tr style=\"text-align: right;\">\n",
              "      <th></th>\n",
              "      <th>Question number</th>\n",
              "      <th>Category</th>\n",
              "      <th>Pooled stat</th>\n",
              "      <th>Pooled p</th>\n",
              "      <th>Sig</th>\n",
              "      <th>Pooled Diff Mean (specialist-generalist)</th>\n",
              "      <th>Num subquestions</th>\n",
              "      <th>Fraction of sig subquestions</th>\n",
              "      <th>Pooled num specialist responses</th>\n",
              "      <th>Pooled num generalist responses</th>\n",
              "    </tr>\n",
              "  </thead>\n",
              "  <tbody>\n",
              "    <tr>\n",
              "      <th>0</th>\n",
              "      <td>Q13</td>\n",
              "      <td>Communication practices</td>\n",
              "      <td>10.265039</td>\n",
              "      <td>0.001356</td>\n",
              "      <td>*</td>\n",
              "      <td>-0.781818</td>\n",
              "      <td>11</td>\n",
              "      <td>0/11</td>\n",
              "      <td>33</td>\n",
              "      <td>220</td>\n",
              "    </tr>\n",
              "    <tr>\n",
              "      <th>1</th>\n",
              "      <td>Q14</td>\n",
              "      <td>Professional and business practices</td>\n",
              "      <td>4.246328</td>\n",
              "      <td>0.039335</td>\n",
              "      <td>*</td>\n",
              "      <td>-1.047222</td>\n",
              "      <td>6</td>\n",
              "      <td>0/6</td>\n",
              "      <td>18</td>\n",
              "      <td>120</td>\n",
              "    </tr>\n",
              "    <tr>\n",
              "      <th>2</th>\n",
              "      <td>Q15</td>\n",
              "      <td>Ethics and professional practices</td>\n",
              "      <td>2.271741</td>\n",
              "      <td>0.131752</td>\n",
              "      <td></td>\n",
              "      <td>-0.464583</td>\n",
              "      <td>8</td>\n",
              "      <td>0/8</td>\n",
              "      <td>24</td>\n",
              "      <td>160</td>\n",
              "    </tr>\n",
              "  </tbody>\n",
              "</table>\n",
              "</div>"
            ],
            "text/plain": [
              "  Question number  ... Pooled num generalist responses\n",
              "0             Q13  ...                             220\n",
              "1             Q14  ...                             120\n",
              "2             Q15  ...                             160\n",
              "\n",
              "[3 rows x 10 columns]"
            ]
          },
          "metadata": {
            "tags": []
          },
          "execution_count": 27
        }
      ]
    },
    {
      "cell_type": "markdown",
      "metadata": {
        "id": "O3-z6MgoQDDL"
      },
      "source": [
        "## Group Summary"
      ]
    },
    {
      "cell_type": "code",
      "metadata": {
        "id": "nO6eeGPCSBf5"
      },
      "source": [
        "group_summary_table = pd.DataFrame(group_data, columns=group_columns)"
      ],
      "execution_count": 28,
      "outputs": []
    },
    {
      "cell_type": "code",
      "metadata": {
        "id": "HVrnPD6hWi0o"
      },
      "source": [
        "ALPHA = 0.05\n",
        "\n",
        "pvals = list(group_summary_table['Pooled p'])\n",
        "\n",
        "sigs = []\n",
        "for p in pvals:\n",
        "  if p > ALPHA:\n",
        "      sig = \"\"\n",
        "  else:\n",
        "      sig = \"*\"\n",
        "  sigs.append(sig)\n",
        "\n",
        "group_summary_table.insert(loc=3, column='Sig', value=sigs)"
      ],
      "execution_count": 29,
      "outputs": []
    },
    {
      "cell_type": "code",
      "metadata": {
        "id": "6vty9bGImuy4"
      },
      "source": [
        "# Add group summary to the beginning of output tables\n",
        "output_tables.insert(0, group_summary_table)\n",
        "output_tables_sheet_names.insert(0, \"Group summary\")"
      ],
      "execution_count": 30,
      "outputs": []
    },
    {
      "cell_type": "code",
      "metadata": {
        "colab": {
          "base_uri": "https://localhost:8080/",
          "height": 210
        },
        "id": "oWWtZ8D5SMZN",
        "outputId": "184bc513-f26d-4ad2-d22a-5cc7ef48f77d"
      },
      "source": [
        "group_summary_table"
      ],
      "execution_count": 31,
      "outputs": [
        {
          "output_type": "execute_result",
          "data": {
            "text/html": [
              "<div>\n",
              "<style scoped>\n",
              "    .dataframe tbody tr th:only-of-type {\n",
              "        vertical-align: middle;\n",
              "    }\n",
              "\n",
              "    .dataframe tbody tr th {\n",
              "        vertical-align: top;\n",
              "    }\n",
              "\n",
              "    .dataframe thead th {\n",
              "        text-align: right;\n",
              "    }\n",
              "</style>\n",
              "<table border=\"1\" class=\"dataframe\">\n",
              "  <thead>\n",
              "    <tr style=\"text-align: right;\">\n",
              "      <th></th>\n",
              "      <th>Group</th>\n",
              "      <th>Pooled stat</th>\n",
              "      <th>Pooled p</th>\n",
              "      <th>Sig</th>\n",
              "      <th>Pooled diff_mean (specialist-generalist)</th>\n",
              "      <th>Num questions</th>\n",
              "      <th>Fraction of sig questions</th>\n",
              "      <th>Pooled num specialist reponses</th>\n",
              "      <th>Pooled num generalist responses</th>\n",
              "    </tr>\n",
              "  </thead>\n",
              "  <tbody>\n",
              "    <tr>\n",
              "      <th>0</th>\n",
              "      <td>Companion Animal</td>\n",
              "      <td>24.291944</td>\n",
              "      <td>8.278459e-07</td>\n",
              "      <td>*</td>\n",
              "      <td>-0.404834</td>\n",
              "      <td>3</td>\n",
              "      <td>3/3</td>\n",
              "      <td>249</td>\n",
              "      <td>1803</td>\n",
              "    </tr>\n",
              "    <tr>\n",
              "      <th>1</th>\n",
              "      <td>Special Species</td>\n",
              "      <td>21.350275</td>\n",
              "      <td>3.825658e-06</td>\n",
              "      <td>*</td>\n",
              "      <td>-1.480000</td>\n",
              "      <td>3</td>\n",
              "      <td>2/3</td>\n",
              "      <td>25</td>\n",
              "      <td>324</td>\n",
              "    </tr>\n",
              "    <tr>\n",
              "      <th>2</th>\n",
              "      <td>Food Animal</td>\n",
              "      <td>1.412319</td>\n",
              "      <td>2.346718e-01</td>\n",
              "      <td></td>\n",
              "      <td>-0.320561</td>\n",
              "      <td>3</td>\n",
              "      <td>0/3</td>\n",
              "      <td>100</td>\n",
              "      <td>749</td>\n",
              "    </tr>\n",
              "    <tr>\n",
              "      <th>3</th>\n",
              "      <td>Equine</td>\n",
              "      <td>13.454947</td>\n",
              "      <td>2.443610e-04</td>\n",
              "      <td>*</td>\n",
              "      <td>-0.744000</td>\n",
              "      <td>3</td>\n",
              "      <td>2/3</td>\n",
              "      <td>75</td>\n",
              "      <td>500</td>\n",
              "    </tr>\n",
              "  </tbody>\n",
              "</table>\n",
              "</div>"
            ],
            "text/plain": [
              "              Group  ...  Pooled num generalist responses\n",
              "0  Companion Animal  ...                             1803\n",
              "1   Special Species  ...                              324\n",
              "2       Food Animal  ...                              749\n",
              "3            Equine  ...                              500\n",
              "\n",
              "[4 rows x 9 columns]"
            ]
          },
          "metadata": {
            "tags": []
          },
          "execution_count": 31
        }
      ]
    },
    {
      "cell_type": "markdown",
      "metadata": {
        "id": "diMo-zLnlEBb"
      },
      "source": [
        "# Generate tables"
      ]
    },
    {
      "cell_type": "markdown",
      "metadata": {
        "id": "ILmLfYGQlIko"
      },
      "source": [
        "We will generate the following tables using pooled data from these experiments:\n",
        "\n",
        "1.   `summary_sg_nontechnical.xlsx`: Group summary table and a table for procedure sets (questions) within each group.\n",
        "2.   `companion_animal_sg_nontechnical.xlsx`: Tables for all procedures within the companion animal group.\n",
        "3.   `special_species_sg_nontechnical.xlsx`: Tables for all procedures within the special species group.\n",
        "4.   `food_animal_sg_nontechnical.xlsx`: Tables for all procedures within the food animal group.\n",
        "5.   `equine_sg_nontechnical.xlsx`:Tables for all procedures within the equine group.\n",
        "6. `summary_s_nontechnical_allspecies.xlsx`: Summary table for responses to procedures (subquestions) pooled across species areas.\n"
      ]
    },
    {
      "cell_type": "markdown",
      "metadata": {
        "id": "qSmJ61cUnNFf"
      },
      "source": [
        "## Summary"
      ]
    },
    {
      "cell_type": "code",
      "metadata": {
        "id": "wSPZ3y-HnRtd"
      },
      "source": [
        "writer = pd.ExcelWriter('summary_sg_nontechnical.xlsx', engine='xlsxwriter')\n",
        "\n",
        "for i,table in enumerate(output_tables):\n",
        "    sheet_name = output_tables_sheet_names[i]\n",
        "    table.to_excel(writer, sheet_name=sheet_name, index=False)\n",
        "\n",
        "    # Auto-adjust columns widths\n",
        "    for column in table:\n",
        "        column_width = max(table[column].astype(str).map(len).max(), len(column))\n",
        "        col_idx = table.columns.get_loc(column)\n",
        "        writer.sheets[sheet_name].set_column(col_idx, col_idx, column_width)\n",
        "\n",
        "writer.save()"
      ],
      "execution_count": 32,
      "outputs": []
    },
    {
      "cell_type": "markdown",
      "metadata": {
        "id": "IaBUKi17qVGa"
      },
      "source": [
        "## All Species Summary"
      ]
    },
    {
      "cell_type": "code",
      "metadata": {
        "colab": {
          "base_uri": "https://localhost:8080/"
        },
        "id": "EMoaSp9TqYuG",
        "outputId": "9b4f0b41-95ce-4aeb-e1cb-56f4dfb7ca6e"
      },
      "source": [
        "group_table, pooled_q_stats, sig_count, n_questions, svm_responses, wvma_responses, subq_data  = analyze_group(question_list, n_subq_list, question_strings, specialist, generalist)"
      ],
      "execution_count": 33,
      "outputs": [
        {
          "output_type": "stream",
          "text": [
            "Group result (all questions): stat=8.354, p=3.85e-03, diff_mean (specialist-generalist)=-0.224, sig_subq=1/3\n"
          ],
          "name": "stdout"
        }
      ]
    },
    {
      "cell_type": "code",
      "metadata": {
        "id": "0LI-dgD4raru"
      },
      "source": [
        "subq_tables, subq_tables_names = subq_data\n",
        "\n",
        "# Loop through tables\n",
        "writer = pd.ExcelWriter('summary_sg_nontechnical_allspecies.xlsx', engine='xlsxwriter')\n",
        "\n",
        "for i,table in enumerate(subq_tables):\n",
        "    sheet_name = subq_tables_names[i]\n",
        "    table.to_excel(writer, sheet_name=sheet_name, index=False)\n",
        "\n",
        "    # Auto-adjust columns widths\n",
        "    for column in table:\n",
        "        column_width = max(table[column].astype(str).map(len).max(), len(column))\n",
        "        col_idx = table.columns.get_loc(column)\n",
        "        writer.sheets[sheet_name].set_column(col_idx, col_idx, column_width)\n",
        "\n",
        "writer.save()"
      ],
      "execution_count": 34,
      "outputs": []
    },
    {
      "cell_type": "markdown",
      "metadata": {
        "id": "UnxgmXT2sBdy"
      },
      "source": [
        "## All procedures"
      ]
    },
    {
      "cell_type": "code",
      "metadata": {
        "id": "4phlYJz8sGjg"
      },
      "source": [
        "for i, file in enumerate(['companion_animal_sg_nontechnical.xlsx', 'special_species_sg_nontechnical.xlsx', 'food_animal_sg_nontechnical.xlsx', 'equine_sg_nontechnical.xlsx']):\n",
        "    subq_data = output_subq_data[i]\n",
        "    subq_tables, subq_tables_names = subq_data\n",
        "\n",
        "    # Loop through tables\n",
        "    writer = pd.ExcelWriter(file, engine='xlsxwriter')\n",
        "\n",
        "    for i,table in enumerate(subq_tables):\n",
        "        sheet_name = subq_tables_names[i]\n",
        "        table.to_excel(writer, sheet_name=sheet_name, index=False)\n",
        "\n",
        "        # Auto-adjust columns widths\n",
        "        for column in table:\n",
        "            column_width = max(table[column].astype(str).map(len).max(), len(column))\n",
        "            col_idx = table.columns.get_loc(column)\n",
        "            writer.sheets[sheet_name].set_column(col_idx, col_idx, column_width)\n",
        "\n",
        "    writer.save()"
      ],
      "execution_count": 35,
      "outputs": []
    }
  ]
}
