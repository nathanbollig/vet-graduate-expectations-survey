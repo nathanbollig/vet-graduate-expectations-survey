{
  "nbformat": 4,
  "nbformat_minor": 0,
  "metadata": {
    "colab": {
      "name": "SVM_WVMA_specialists_nontechnical.ipynb",
      "provenance": [],
      "authorship_tag": "ABX9TyNeiVg4rqakBtvSSc1l2tVe",
      "include_colab_link": true
    },
    "kernelspec": {
      "name": "python3",
      "display_name": "Python 3"
    },
    "language_info": {
      "name": "python"
    }
  },
  "cells": [
    {
      "cell_type": "markdown",
      "metadata": {
        "id": "view-in-github",
        "colab_type": "text"
      },
      "source": [
        "<a href=\"https://colab.research.google.com/github/nathanbollig/vet-graduate-expectations-survey/blob/main/SVM_WVMA_specialists_nontechnical.ipynb\" target=\"_parent\"><img src=\"https://colab.research.google.com/assets/colab-badge.svg\" alt=\"Open In Colab\"/></a>"
      ]
    },
    {
      "cell_type": "markdown",
      "metadata": {
        "id": "_xA2L7zDBZ6z"
      },
      "source": [
        "# Veterinary graduate expectations survey\n",
        "\n",
        "Evaluating the differences in graduate expectations between SVM specialists and WVMA specialists. Start by uploading the data into the working directory. This notebook focuses on the nontechnical questions, which are:\n",
        " -   Communication practices (Q13)\n",
        " -   Professional and business practices (Q14)\n",
        " -   Ethics and professional practices (Q16)\n",
        " \n",
        "Two files are required:\n",
        "\n",
        "1.   `SVM.xlsx`: SVM graduate expectations survey results\n",
        "2.   `WVMA.xlsx`: WVMA graduate expectations survey results"
      ]
    },
    {
      "cell_type": "code",
      "metadata": {
        "id": "2h3-qlKqoFUd",
        "colab": {
          "base_uri": "https://localhost:8080/"
        },
        "outputId": "8f2ce28a-2c3e-4723-c1f1-6e70051dbd79"
      },
      "source": [
        "! pip install xlsxwriter"
      ],
      "execution_count": 1,
      "outputs": [
        {
          "output_type": "stream",
          "text": [
            "Requirement already satisfied: xlsxwriter in /usr/local/lib/python3.7/dist-packages (1.4.4)\n"
          ],
          "name": "stdout"
        }
      ]
    },
    {
      "cell_type": "code",
      "metadata": {
        "id": "ssV1VbT8A41w"
      },
      "source": [
        "import pandas as pd\n",
        "import numpy as np\n",
        "from scipy.stats import kruskal"
      ],
      "execution_count": 2,
      "outputs": []
    },
    {
      "cell_type": "markdown",
      "metadata": {
        "id": "3BXww0G-FnLK"
      },
      "source": [
        "## Read in SVM data"
      ]
    },
    {
      "cell_type": "code",
      "metadata": {
        "id": "qlzso2T4CO7h"
      },
      "source": [
        "# Use top row as header and skip second header row\n",
        "svm = pd.read_excel('SVM.xlsx', header=0, skiprows=lambda x: x in [1])  "
      ],
      "execution_count": 3,
      "outputs": []
    },
    {
      "cell_type": "code",
      "metadata": {
        "id": "f4N9VyEUCiqt"
      },
      "source": [
        "#svm.head(3)"
      ],
      "execution_count": 4,
      "outputs": []
    },
    {
      "cell_type": "code",
      "metadata": {
        "id": "dpmaI1vIDMbd"
      },
      "source": [
        "# Read in questions from second header row and associate with column names\n",
        "question_svm = {}\n",
        "\n",
        "top_rows = pd.read_excel('SVM.xlsx', nrows=2) \n",
        "\n",
        "for col in list(top_rows.columns):\n",
        "    question_svm[col] = top_rows.iloc[0][col]"
      ],
      "execution_count": 5,
      "outputs": []
    },
    {
      "cell_type": "markdown",
      "metadata": {
        "id": "zJ4umVHfFpGY"
      },
      "source": [
        "## Read in WVMA data"
      ]
    },
    {
      "cell_type": "code",
      "metadata": {
        "id": "ynulEF-JE_L5"
      },
      "source": [
        "# Use top row as header and skip second header row\n",
        "wvma = pd.read_excel('WVMA.xlsx', header=0, skiprows=lambda x: x in [1])  \n",
        "\n",
        "# Read in questions from second header row and associate with column names\n",
        "question_wvma = {}\n",
        "\n",
        "top_rows_wvma = pd.read_excel('WVMA.xlsx', nrows=2) \n",
        "\n",
        "for col in list(top_rows_wvma.columns):\n",
        "    question_wvma[col] = top_rows_wvma.iloc[0][col]"
      ],
      "execution_count": 6,
      "outputs": []
    },
    {
      "cell_type": "code",
      "metadata": {
        "id": "it_mQuqavdMD"
      },
      "source": [
        "def encode_expectation(response_string):\n",
        "    if isinstance(response_string, int) == True:\n",
        "        return response_string\n",
        "    \n",
        "    # Encode nan values as -1\n",
        "    if isinstance(response_string, str) == False:\n",
        "        if np.isnan(response_string) == True:\n",
        "            return -1\n",
        "    \n",
        "    # Encode string\n",
        "    s = response_string.lower()\n",
        "    if s.find('no expectation') > -1:\n",
        "        return 0\n",
        "    elif s.find('with assistance') > -1:\n",
        "        return 1\n",
        "    elif s.find('indirect supervision') > -1:\n",
        "        return 3\n",
        "    elif s.find('direct supervision') > -1:\n",
        "        return 2\n",
        "    elif s.find('independently') > -1:\n",
        "        return 4\n",
        "    else:\n",
        "        print(response_string)\n",
        "        raise ValueError('Expected performance response was not formatted as expected.')"
      ],
      "execution_count": 7,
      "outputs": []
    },
    {
      "cell_type": "markdown",
      "metadata": {
        "id": "tzv-hEDJ00Jt"
      },
      "source": [
        "Generalists and specialists are defined by the answer to `wvma.Q49` which is equivalent to `svm.Q59`. We will assume that an empty answer corresponds to a generalist, and a non-empty answer is a specialist."
      ]
    },
    {
      "cell_type": "code",
      "metadata": {
        "colab": {
          "base_uri": "https://localhost:8080/"
        },
        "id": "27cdRK_x0WC9",
        "outputId": "9421f971-4a6c-4c78-aea7-d61347d3bcd9"
      },
      "source": [
        "from collections import Counter\n",
        "Counter(wvma.Q49)"
      ],
      "execution_count": 8,
      "outputs": [
        {
          "output_type": "execute_result",
          "data": {
            "text/plain": [
              "Counter({'American Board of Veterinary Practitioners': 3,\n",
              "         'American College of Theriogenologists': 2,\n",
              "         'American College of Veterinary Anesthesia and Analgesia': 1,\n",
              "         'American College of Veterinary Anesthesia and Analgesia,American College of Veterinary Dermatology,American College of Veterinary Emergency & Critical Care,American College of Veterinary Internal Medicine,American College of Veterinary Ophthalmologists,American College of Veterinary Surgeons,American Veterinary Dental College': 1,\n",
              "         'American College of Veterinary Internal Medicine': 2,\n",
              "         'American College of Veterinary Nutrition': 1,\n",
              "         'American College of Veterinary Pathologists': 1,\n",
              "         'American College of Veterinary Surgeons': 1,\n",
              "         'American Veterinary Dental College': 1,\n",
              "         'Other non-AVMA recognized specialty credentials': 9,\n",
              "         nan: 153})"
            ]
          },
          "metadata": {
            "tags": []
          },
          "execution_count": 8
        }
      ]
    },
    {
      "cell_type": "code",
      "metadata": {
        "colab": {
          "base_uri": "https://localhost:8080/"
        },
        "id": "JvBWIfOJ8zuH",
        "outputId": "31fd4b4f-8f85-46c5-ef6c-9481d4fa8823"
      },
      "source": [
        "Counter(svm.Q59)"
      ],
      "execution_count": 9,
      "outputs": [
        {
          "output_type": "execute_result",
          "data": {
            "text/plain": [
              "Counter({'American Board of Veterinary Practitioners': 2,\n",
              "         'American College of Veterinary Anesthesia and Analgesia': 2,\n",
              "         'American College of Veterinary Clinical Pharmacology,American College of Veterinary Internal Medicine': 1,\n",
              "         'American College of Veterinary Dermatology': 1,\n",
              "         'American College of Veterinary Emergency & Critical Care': 2,\n",
              "         'American College of Veterinary Internal Medicine': 7,\n",
              "         'American College of Veterinary Internal Medicine,American College of Veterinary Radiology': 1,\n",
              "         'American College of Veterinary Nutrition': 1,\n",
              "         'American College of Veterinary Ophthalmologists': 2,\n",
              "         'American College of Veterinary Pathologists': 4,\n",
              "         'American College of Veterinary Preventive Medicine,American College of Veterinary Radiology': 1,\n",
              "         'American College of Veterinary Radiology': 3,\n",
              "         'American College of Veterinary Surgeons': 5,\n",
              "         'American College of Zoological Medicine': 3,\n",
              "         'American Veterinary Dental College': 2,\n",
              "         'Other non-AVMA recognized specialty credentials': 1,\n",
              "         nan: 22})"
            ]
          },
          "metadata": {
            "tags": []
          },
          "execution_count": 9
        }
      ]
    },
    {
      "cell_type": "code",
      "metadata": {
        "id": "9EzQYE4u1BpA"
      },
      "source": [
        "# Only include specialists\n",
        "wvma = wvma[wvma['Q49'].notnull()].copy()\n",
        "svm = svm[svm['Q59'].notnull()].copy()"
      ],
      "execution_count": 10,
      "outputs": []
    },
    {
      "cell_type": "code",
      "metadata": {
        "colab": {
          "base_uri": "https://localhost:8080/"
        },
        "id": "aOqQwO-y1kKA",
        "outputId": "8a73ca75-af7c-48ac-bc28-ec8f7ceeb427"
      },
      "source": [
        "len(svm)"
      ],
      "execution_count": 11,
      "outputs": [
        {
          "output_type": "execute_result",
          "data": {
            "text/plain": [
              "38"
            ]
          },
          "metadata": {
            "tags": []
          },
          "execution_count": 11
        }
      ]
    },
    {
      "cell_type": "code",
      "metadata": {
        "colab": {
          "base_uri": "https://localhost:8080/"
        },
        "id": "TEovgv4K1n4T",
        "outputId": "95eb75d2-39fd-4b99-d33b-2b0f5f6c68cc"
      },
      "source": [
        "len(wvma)"
      ],
      "execution_count": 12,
      "outputs": [
        {
          "output_type": "execute_result",
          "data": {
            "text/plain": [
              "22"
            ]
          },
          "metadata": {
            "tags": []
          },
          "execution_count": 12
        }
      ]
    },
    {
      "cell_type": "code",
      "metadata": {
        "id": "hzS9MMxxp3UZ"
      },
      "source": [
        "# Filter dataframe to only companion animal respondants (may have responded to other species too)\n",
        "ca_svm = svm[svm['Q1'].str.contains('Companion Animal (canine and/or feline)', na=False, regex=False)].copy()"
      ],
      "execution_count": 13,
      "outputs": []
    },
    {
      "cell_type": "code",
      "metadata": {
        "id": "mR1K7domxU40"
      },
      "source": [
        "# Filter dataframe to only companion animal respondants (may have responded to other species too)\n",
        "ca_wvma = wvma[wvma['Q1'].str.contains('Companion Animal (canine and/or feline)', na=False, regex=False)].copy()"
      ],
      "execution_count": 14,
      "outputs": []
    },
    {
      "cell_type": "markdown",
      "metadata": {
        "id": "8pDaOnzhxw__"
      },
      "source": [
        "## Question analysis code"
      ]
    },
    {
      "cell_type": "code",
      "metadata": {
        "id": "Vep2A7Oexy71"
      },
      "source": [
        "def analyze_question(question_number, filtered_svm_df, filtered_wvma_df, n_subquestions, alpha=0.05, verbose=True):\n",
        "    \"\"\"\n",
        "    Perform an analysis of a given question on a species-filtered dataframe.\n",
        "    \n",
        "    Inputs:\n",
        "        question_number: main question number to analyze\n",
        "        filtered_svm_df: svm dataframe filtered to respondants with the desired species area\n",
        "        filtered_wvma_df: wvma dataframe filtered to respondants with the desired species area\n",
        "        n_subquestions: number of subquestions in the main question\n",
        "        alpha: power level for the statistical test\n",
        "\n",
        "    Prints a summary of results.\n",
        "\n",
        "    Outputs:\n",
        "        table: summary table\n",
        "        (pooled_stat, pooled_p, pooled_diff_mean): tuple of statistics describing output of Kruskal test on data pooled across subquestions\n",
        "        svm_data: list of pooled svm data\n",
        "        wvma_data: list of pooled wvma data\n",
        "        sig_count: number of subquestions with significant difference detected (between svm and wvma responses), according to Kruskal test applied at subquestion level\n",
        "\n",
        "    \"\"\"\n",
        "\n",
        "    svm_counts = np.zeros((n_subquestions, 6), dtype=int) # Row for each question, column for empty (-1), 0, 1, 2, 3, and 4 responses\n",
        "    wvma_counts = np.zeros((n_subquestions, 6), dtype=int) # Row for each question, column for empty (-1), 0, 1, 2, 3, and 4 responses\n",
        "    rows = []\n",
        "    svm_pooled = []\n",
        "    wvma_pooled = []\n",
        "    sig_count = 0\n",
        "\n",
        "    for i in range(1, n_subquestions+1):\n",
        "        qkey = \"Q\" + str(question_number) + \"_\" + str(i)\n",
        "        qstring = question_wvma[qkey].split('-')[2]\n",
        "\n",
        "        # Encoding\n",
        "        filtered_svm_df[qkey] = filtered_svm_df[qkey].apply(lambda x: encode_expectation(x))\n",
        "        filtered_wvma_df[qkey] = filtered_wvma_df[qkey].apply(lambda x: encode_expectation(x))\n",
        "\n",
        "        # svm tally\n",
        "        counts = filtered_svm_df[qkey].value_counts(dropna=False)\n",
        "        for key in counts.keys():\n",
        "            svm_counts[i-1][key+1] += counts[key] # question index is 1-based; keys range from -1 to 4\n",
        "        counts = svm_counts[i-1][1:] # counts of 0, 1, 2, 3, and 4\n",
        "        svm_num_responses = np.sum(counts)\n",
        "        svm_mean = (0*counts[0] + 1*counts[1] + 2*counts[2] + 3*counts[3] + 4*counts[4]) / svm_num_responses\n",
        "\n",
        "        # wvma tally\n",
        "        counts = filtered_wvma_df[qkey].value_counts(dropna=False)\n",
        "        for key in counts.keys():\n",
        "            wvma_counts[i-1][key+1] += counts[key]\n",
        "        counts = wvma_counts[i-1][1:] # counts of 0, 1, 2, 3, and 4\n",
        "        wvma_num_responses = np.sum(counts)\n",
        "        wvma_mean = (0*counts[0] + 1*counts[1] + 2*counts[2] + 3*counts[3] + 4*counts[4]) / wvma_num_responses\n",
        "        \n",
        "        # Get data\n",
        "        svm_data = list(filtered_svm_df[qkey])\n",
        "        wvma_data = list(filtered_wvma_df[qkey])\n",
        "\n",
        "        # Remove empty values from data\n",
        "        svm_data = [x for x in svm_data if x != -1]\n",
        "        wvma_data = [x for x in wvma_data if x != -1]\n",
        "\n",
        "        assert(svm_num_responses == len(svm_data))\n",
        "        assert(wvma_num_responses == len(wvma_data))\n",
        "\n",
        "        # compare samples\n",
        "        if len(svm_data) >= 5 and len(wvma_data) >= 5:\n",
        "            stat, p = kruskal(svm_data, wvma_data)\n",
        "        else:\n",
        "            stat = 0\n",
        "            p = 1\n",
        "\n",
        "        # Determine significance\n",
        "        if p > alpha:\n",
        "            sig = \"\"\n",
        "        else:\n",
        "            sig = \"*\"\n",
        "            sig_count += 1\n",
        "\n",
        "        # Cache for pooled data\n",
        "        svm_pooled.extend(svm_data)\n",
        "        wvma_pooled.extend(wvma_data)\n",
        "\n",
        "        # Cache for table of results\n",
        "        row = [qstring] + list(svm_counts[i-1]) + [svm_mean, svm_num_responses] + list(wvma_counts[i-1]) + [wvma_mean, wvma_num_responses, svm_mean-wvma_mean, stat, p, sig]\n",
        "        rows.append(row)\n",
        "\n",
        "    # Assemble table of results\n",
        "    table = pd.DataFrame(rows, columns=[\"Subquestion\", \"svm: empty\", \"svm: 0\", \"svm: 1\", \"svm: 2\", \"svm: 3\", \"svm: 4\", \"svm: avg\", \"svm: num responses\", \"wvma: empty\", \"wvma: 0\", \"wvma: 1\", \"wvma: 2\", \"wvma: 3\", \"wvma: 4\", \"wvma: avg\", \"wvma: num responses\", \"Diff Mean (svm-wvma)\", \"stat\", \"pval\", \"sig\"])\n",
        "\n",
        "    # Apply Kruskal test to pooled data\n",
        "    pooled_stat, pooled_p = kruskal(svm_pooled, wvma_pooled)\n",
        "    pooled_diff_mean = np.mean(svm_pooled) - np.mean(wvma_pooled)\n",
        "\n",
        "    # Print\n",
        "    if verbose == True:\n",
        "        print('Pooled Q%s: stat=%.3f, p=%.2e, diff_mean (svm-wvma)=%.3f, sig_subq=%s/%s' % (question_number, pooled_stat, pooled_p, pooled_diff_mean, sig_count, n_subquestions))\n",
        "\n",
        "    return table, (pooled_stat, pooled_p, pooled_diff_mean), svm_pooled, wvma_pooled, sig_count"
      ],
      "execution_count": 15,
      "outputs": []
    },
    {
      "cell_type": "code",
      "metadata": {
        "colab": {
          "base_uri": "https://localhost:8080/"
        },
        "id": "ciR7xBK4x0Ce",
        "outputId": "642fb002-4e12-4618-d332-b45cb1bffaff"
      },
      "source": [
        "table, subq_pooled_result, svm_data, wvma_data, sig_count = analyze_question(13, ca_svm, ca_wvma, n_subquestions=11)"
      ],
      "execution_count": 16,
      "outputs": [
        {
          "output_type": "stream",
          "text": [
            "Pooled Q13: stat=81.260, p=1.98e-19, diff_mean (svm-wvma)=0.808, sig_subq=10/11\n"
          ],
          "name": "stdout"
        }
      ]
    },
    {
      "cell_type": "code",
      "metadata": {
        "colab": {
          "base_uri": "https://localhost:8080/",
          "height": 742
        },
        "id": "JPikhTTZ2mRF",
        "outputId": "a830fb1b-5da0-4aa8-8546-1a97aaab18ef"
      },
      "source": [
        "table"
      ],
      "execution_count": 17,
      "outputs": [
        {
          "output_type": "execute_result",
          "data": {
            "text/html": [
              "<div>\n",
              "<style scoped>\n",
              "    .dataframe tbody tr th:only-of-type {\n",
              "        vertical-align: middle;\n",
              "    }\n",
              "\n",
              "    .dataframe tbody tr th {\n",
              "        vertical-align: top;\n",
              "    }\n",
              "\n",
              "    .dataframe thead th {\n",
              "        text-align: right;\n",
              "    }\n",
              "</style>\n",
              "<table border=\"1\" class=\"dataframe\">\n",
              "  <thead>\n",
              "    <tr style=\"text-align: right;\">\n",
              "      <th></th>\n",
              "      <th>Subquestion</th>\n",
              "      <th>svm: empty</th>\n",
              "      <th>svm: 0</th>\n",
              "      <th>svm: 1</th>\n",
              "      <th>svm: 2</th>\n",
              "      <th>svm: 3</th>\n",
              "      <th>svm: 4</th>\n",
              "      <th>svm: avg</th>\n",
              "      <th>svm: num responses</th>\n",
              "      <th>wvma: empty</th>\n",
              "      <th>wvma: 0</th>\n",
              "      <th>wvma: 1</th>\n",
              "      <th>wvma: 2</th>\n",
              "      <th>wvma: 3</th>\n",
              "      <th>wvma: 4</th>\n",
              "      <th>wvma: avg</th>\n",
              "      <th>wvma: num responses</th>\n",
              "      <th>Diff Mean (svm-wvma)</th>\n",
              "      <th>stat</th>\n",
              "      <th>pval</th>\n",
              "      <th>sig</th>\n",
              "    </tr>\n",
              "  </thead>\n",
              "  <tbody>\n",
              "    <tr>\n",
              "      <th>0</th>\n",
              "      <td>Documents medical records to fulfill professi...</td>\n",
              "      <td>6</td>\n",
              "      <td>0</td>\n",
              "      <td>0</td>\n",
              "      <td>0</td>\n",
              "      <td>1</td>\n",
              "      <td>26</td>\n",
              "      <td>3.962963</td>\n",
              "      <td>27</td>\n",
              "      <td>5</td>\n",
              "      <td>0</td>\n",
              "      <td>1</td>\n",
              "      <td>0</td>\n",
              "      <td>4</td>\n",
              "      <td>5</td>\n",
              "      <td>3.300000</td>\n",
              "      <td>10</td>\n",
              "      <td>0.662963</td>\n",
              "      <td>11.331250</td>\n",
              "      <td>0.000762</td>\n",
              "      <td>*</td>\n",
              "    </tr>\n",
              "    <tr>\n",
              "      <th>1</th>\n",
              "      <td>Discuss recommended vaccination or preventive...</td>\n",
              "      <td>6</td>\n",
              "      <td>0</td>\n",
              "      <td>0</td>\n",
              "      <td>0</td>\n",
              "      <td>1</td>\n",
              "      <td>26</td>\n",
              "      <td>3.962963</td>\n",
              "      <td>27</td>\n",
              "      <td>5</td>\n",
              "      <td>2</td>\n",
              "      <td>1</td>\n",
              "      <td>1</td>\n",
              "      <td>1</td>\n",
              "      <td>5</td>\n",
              "      <td>2.600000</td>\n",
              "      <td>10</td>\n",
              "      <td>1.362963</td>\n",
              "      <td>11.815717</td>\n",
              "      <td>0.000587</td>\n",
              "      <td>*</td>\n",
              "    </tr>\n",
              "    <tr>\n",
              "      <th>2</th>\n",
              "      <td>Discuss recommended treatment plan and option...</td>\n",
              "      <td>6</td>\n",
              "      <td>0</td>\n",
              "      <td>0</td>\n",
              "      <td>0</td>\n",
              "      <td>2</td>\n",
              "      <td>25</td>\n",
              "      <td>3.925926</td>\n",
              "      <td>27</td>\n",
              "      <td>5</td>\n",
              "      <td>1</td>\n",
              "      <td>0</td>\n",
              "      <td>1</td>\n",
              "      <td>3</td>\n",
              "      <td>5</td>\n",
              "      <td>3.100000</td>\n",
              "      <td>10</td>\n",
              "      <td>0.825926</td>\n",
              "      <td>8.908561</td>\n",
              "      <td>0.002838</td>\n",
              "      <td>*</td>\n",
              "    </tr>\n",
              "    <tr>\n",
              "      <th>3</th>\n",
              "      <td>Discuss risks of recommended treatments and p...</td>\n",
              "      <td>7</td>\n",
              "      <td>0</td>\n",
              "      <td>0</td>\n",
              "      <td>0</td>\n",
              "      <td>3</td>\n",
              "      <td>23</td>\n",
              "      <td>3.884615</td>\n",
              "      <td>26</td>\n",
              "      <td>5</td>\n",
              "      <td>1</td>\n",
              "      <td>0</td>\n",
              "      <td>1</td>\n",
              "      <td>4</td>\n",
              "      <td>4</td>\n",
              "      <td>3.000000</td>\n",
              "      <td>10</td>\n",
              "      <td>0.884615</td>\n",
              "      <td>9.513225</td>\n",
              "      <td>0.002040</td>\n",
              "      <td>*</td>\n",
              "    </tr>\n",
              "    <tr>\n",
              "      <th>4</th>\n",
              "      <td>Acknowledge client’s knowledge level and appr...</td>\n",
              "      <td>6</td>\n",
              "      <td>0</td>\n",
              "      <td>0</td>\n",
              "      <td>0</td>\n",
              "      <td>1</td>\n",
              "      <td>26</td>\n",
              "      <td>3.962963</td>\n",
              "      <td>27</td>\n",
              "      <td>6</td>\n",
              "      <td>0</td>\n",
              "      <td>0</td>\n",
              "      <td>1</td>\n",
              "      <td>4</td>\n",
              "      <td>4</td>\n",
              "      <td>3.333333</td>\n",
              "      <td>9</td>\n",
              "      <td>0.629630</td>\n",
              "      <td>12.846675</td>\n",
              "      <td>0.000338</td>\n",
              "      <td>*</td>\n",
              "    </tr>\n",
              "    <tr>\n",
              "      <th>5</th>\n",
              "      <td>Discuss quality of life issues with owners</td>\n",
              "      <td>6</td>\n",
              "      <td>0</td>\n",
              "      <td>0</td>\n",
              "      <td>0</td>\n",
              "      <td>2</td>\n",
              "      <td>25</td>\n",
              "      <td>3.925926</td>\n",
              "      <td>27</td>\n",
              "      <td>5</td>\n",
              "      <td>1</td>\n",
              "      <td>0</td>\n",
              "      <td>0</td>\n",
              "      <td>4</td>\n",
              "      <td>5</td>\n",
              "      <td>3.200000</td>\n",
              "      <td>10</td>\n",
              "      <td>0.725926</td>\n",
              "      <td>8.644700</td>\n",
              "      <td>0.003280</td>\n",
              "      <td>*</td>\n",
              "    </tr>\n",
              "    <tr>\n",
              "      <th>6</th>\n",
              "      <td>Engages clients in difficult conversations su...</td>\n",
              "      <td>6</td>\n",
              "      <td>0</td>\n",
              "      <td>0</td>\n",
              "      <td>1</td>\n",
              "      <td>7</td>\n",
              "      <td>19</td>\n",
              "      <td>3.666667</td>\n",
              "      <td>27</td>\n",
              "      <td>5</td>\n",
              "      <td>1</td>\n",
              "      <td>2</td>\n",
              "      <td>0</td>\n",
              "      <td>5</td>\n",
              "      <td>2</td>\n",
              "      <td>2.500000</td>\n",
              "      <td>10</td>\n",
              "      <td>1.166667</td>\n",
              "      <td>8.966813</td>\n",
              "      <td>0.002749</td>\n",
              "      <td>*</td>\n",
              "    </tr>\n",
              "    <tr>\n",
              "      <th>7</th>\n",
              "      <td>Engage with clients and co</td>\n",
              "      <td>6</td>\n",
              "      <td>0</td>\n",
              "      <td>0</td>\n",
              "      <td>0</td>\n",
              "      <td>1</td>\n",
              "      <td>26</td>\n",
              "      <td>3.962963</td>\n",
              "      <td>27</td>\n",
              "      <td>5</td>\n",
              "      <td>0</td>\n",
              "      <td>0</td>\n",
              "      <td>0</td>\n",
              "      <td>0</td>\n",
              "      <td>10</td>\n",
              "      <td>4.000000</td>\n",
              "      <td>10</td>\n",
              "      <td>-0.037037</td>\n",
              "      <td>0.370370</td>\n",
              "      <td>0.542802</td>\n",
              "      <td></td>\n",
              "    </tr>\n",
              "    <tr>\n",
              "      <th>8</th>\n",
              "      <td>Engage co</td>\n",
              "      <td>7</td>\n",
              "      <td>0</td>\n",
              "      <td>0</td>\n",
              "      <td>1</td>\n",
              "      <td>9</td>\n",
              "      <td>16</td>\n",
              "      <td>3.576923</td>\n",
              "      <td>26</td>\n",
              "      <td>5</td>\n",
              "      <td>1</td>\n",
              "      <td>2</td>\n",
              "      <td>1</td>\n",
              "      <td>3</td>\n",
              "      <td>3</td>\n",
              "      <td>2.500000</td>\n",
              "      <td>10</td>\n",
              "      <td>1.076923</td>\n",
              "      <td>5.319918</td>\n",
              "      <td>0.021083</td>\n",
              "      <td>*</td>\n",
              "    </tr>\n",
              "    <tr>\n",
              "      <th>9</th>\n",
              "      <td>Elicit client goals, expectations, perspectiv...</td>\n",
              "      <td>6</td>\n",
              "      <td>0</td>\n",
              "      <td>0</td>\n",
              "      <td>0</td>\n",
              "      <td>2</td>\n",
              "      <td>25</td>\n",
              "      <td>3.925926</td>\n",
              "      <td>27</td>\n",
              "      <td>5</td>\n",
              "      <td>1</td>\n",
              "      <td>0</td>\n",
              "      <td>1</td>\n",
              "      <td>4</td>\n",
              "      <td>4</td>\n",
              "      <td>3.000000</td>\n",
              "      <td>10</td>\n",
              "      <td>0.925926</td>\n",
              "      <td>12.112294</td>\n",
              "      <td>0.000501</td>\n",
              "      <td>*</td>\n",
              "    </tr>\n",
              "    <tr>\n",
              "      <th>10</th>\n",
              "      <td>Build and maintain client relationships</td>\n",
              "      <td>6</td>\n",
              "      <td>0</td>\n",
              "      <td>0</td>\n",
              "      <td>0</td>\n",
              "      <td>2</td>\n",
              "      <td>25</td>\n",
              "      <td>3.925926</td>\n",
              "      <td>27</td>\n",
              "      <td>5</td>\n",
              "      <td>0</td>\n",
              "      <td>1</td>\n",
              "      <td>1</td>\n",
              "      <td>2</td>\n",
              "      <td>6</td>\n",
              "      <td>3.300000</td>\n",
              "      <td>10</td>\n",
              "      <td>0.625926</td>\n",
              "      <td>6.023620</td>\n",
              "      <td>0.014116</td>\n",
              "      <td>*</td>\n",
              "    </tr>\n",
              "  </tbody>\n",
              "</table>\n",
              "</div>"
            ],
            "text/plain": [
              "                                          Subquestion  svm: empty  ...      pval  sig\n",
              "0    Documents medical records to fulfill professi...           6  ...  0.000762    *\n",
              "1    Discuss recommended vaccination or preventive...           6  ...  0.000587    *\n",
              "2    Discuss recommended treatment plan and option...           6  ...  0.002838    *\n",
              "3    Discuss risks of recommended treatments and p...           7  ...  0.002040    *\n",
              "4    Acknowledge client’s knowledge level and appr...           6  ...  0.000338    *\n",
              "5          Discuss quality of life issues with owners           6  ...  0.003280    *\n",
              "6    Engages clients in difficult conversations su...           6  ...  0.002749    *\n",
              "7                          Engage with clients and co           6  ...  0.542802     \n",
              "8                                           Engage co           7  ...  0.021083    *\n",
              "9    Elicit client goals, expectations, perspectiv...           6  ...  0.000501    *\n",
              "10            Build and maintain client relationships           6  ...  0.014116    *\n",
              "\n",
              "[11 rows x 21 columns]"
            ]
          },
          "metadata": {
            "tags": []
          },
          "execution_count": 17
        }
      ]
    },
    {
      "cell_type": "markdown",
      "metadata": {
        "id": "VWA9ITRgx2eB"
      },
      "source": [
        "## Group analysis code"
      ]
    },
    {
      "cell_type": "code",
      "metadata": {
        "id": "TV8dbNjhQkpS"
      },
      "source": [
        "# cache data across all groups\n",
        "group_data = []\n",
        "group_columns = [\"Group\", \"Pooled stat\", \"Pooled p\", \"Pooled diff_mean (svm-wvma)\", \"Num questions\", \"Fraction of sig questions\", \"Pooled num svm reponses\", \"Pooled num wvma responses\"]"
      ],
      "execution_count": 18,
      "outputs": []
    },
    {
      "cell_type": "code",
      "metadata": {
        "id": "oHHUSx04mA1C"
      },
      "source": [
        "# cache tables\n",
        "output_tables = []\n",
        "output_tables_sheet_names = []\n",
        "\n",
        "# cache subquestion table data\n",
        "output_subq_data = []"
      ],
      "execution_count": 19,
      "outputs": []
    },
    {
      "cell_type": "code",
      "metadata": {
        "id": "2PRI-LFAE9WW"
      },
      "source": [
        "# Input info about question group\n",
        "\n",
        "question_list = [13,14,15]\n",
        "n_subq_list = [11,6,8]\n",
        "question_strings = ['Communication practices',\n",
        "                    'Professional and business practices',\n",
        "                    'Ethics and professional practices']\n",
        "\n",
        "assert(len(question_list) == len(n_subq_list))\n",
        "assert(len(n_subq_list) == len(question_strings))"
      ],
      "execution_count": 20,
      "outputs": []
    },
    {
      "cell_type": "code",
      "metadata": {
        "id": "No1h2UNOF0XC"
      },
      "source": [
        "# Code to analyze all questions within the group\n",
        "\n",
        "def analyze_group(question_list, n_subq_list, question_strings, filtered_svm_df, filtered_wvma_df, alpha=0.05):\n",
        "    svm_pooled = [] # now pooling over entire group\n",
        "    wvma_pooled = []\n",
        "    rows = []\n",
        "    sig_count = 0\n",
        "    subq_tables = []\n",
        "    subq_tables_names = []\n",
        "\n",
        "    for i in range(len(question_list)):\n",
        "        question_number = question_list[i]\n",
        "        n_subquestions = n_subq_list[i]\n",
        "        question_string = question_strings[i]\n",
        "\n",
        "        # Run analysis\n",
        "        table, subq_pooled_result, svm_data, wvma_data, sig_subq = analyze_question(question_number, filtered_svm_df, filtered_wvma_df, n_subquestions, verbose=False)\n",
        "        pooled_stat, pooled_p, pooled_diff_mean = subq_pooled_result\n",
        "        svm_num_responses = len(svm_data)\n",
        "        wvma_num_responses = len(wvma_data)\n",
        "\n",
        "        # Cache procedure tables\n",
        "        subq_tables.append(table)\n",
        "        subq_tables_names.append('Q'+str(question_number))\n",
        "\n",
        "        # Pool\n",
        "        svm_pooled.extend(svm_data)\n",
        "        wvma_pooled.extend(wvma_data)\n",
        "\n",
        "        # Determine significance\n",
        "        if pooled_p > alpha:\n",
        "            sig = \"\"\n",
        "        else:\n",
        "            sig = \"*\"\n",
        "            sig_count += 1\n",
        "\n",
        "        # Cache data for group summary\n",
        "        row = ['Q'+str(question_number), question_string, pooled_stat, pooled_p, sig, pooled_diff_mean, n_subquestions, \"%i/%i\" % (sig_subq,n_subquestions), svm_num_responses, wvma_num_responses]\n",
        "        rows.append(row)\n",
        "\n",
        "    # Assemble table of results\n",
        "    group_table = pd.DataFrame(rows, columns=[\"Question number\", \"Category\", \"Pooled stat\", \"Pooled p\", \"Sig\", \"Pooled Diff Mean (svm-wvma)\", \"Num subquestions\", \"Fraction of sig subquestions\", \"Pooled num svm responses\", \"Pooled num wvma responses\"])                     \n",
        "\n",
        "    # Apply Kruskal test to pooled data\n",
        "    pooled_stat, pooled_p = kruskal(svm_pooled, wvma_pooled)\n",
        "    pooled_diff_mean = np.mean(svm_pooled) - np.mean(wvma_pooled)\n",
        "\n",
        "    # Print\n",
        "    print('Group result (all questions): stat=%.3f, p=%.2e, diff_mean (svm-wvma)=%.3f, sig_subq=%s/%s' % (pooled_stat, pooled_p, pooled_diff_mean, sig_count, len(question_list)))\n",
        "\n",
        "    return group_table, (pooled_stat, pooled_p, pooled_diff_mean), sig_count, len(question_list), len(svm_pooled), len(wvma_pooled), (subq_tables, subq_tables_names)"
      ],
      "execution_count": 21,
      "outputs": []
    },
    {
      "cell_type": "code",
      "metadata": {
        "colab": {
          "base_uri": "https://localhost:8080/",
          "height": 214
        },
        "id": "f0MxDBYnLTY4",
        "outputId": "0beb0880-e80d-4df6-9651-fa4b4aa59b51"
      },
      "source": [
        "group_table, pooled_q_stats, sig_count, n_questions, svm_responses, wvma_responses, subq_data  = analyze_group(question_list, n_subq_list, question_strings, ca_svm, ca_wvma)\n",
        "pooled_stat, pooled_p, pooled_diff_mean = pooled_q_stats\n",
        "group_data.append([\"Companion Animal\", pooled_stat, pooled_p, pooled_diff_mean, n_questions, \"%i/%i\" % (sig_count,n_questions), svm_responses, wvma_responses])\n",
        "output_tables.append(group_table)\n",
        "output_tables_sheet_names.append(\"Companion Animal\")\n",
        "output_subq_data.append(subq_data)\n",
        "group_table"
      ],
      "execution_count": 22,
      "outputs": [
        {
          "output_type": "stream",
          "text": [
            "Group result (all questions): stat=99.923, p=1.58e-23, diff_mean (svm-wvma)=0.767, sig_subq=3/3\n"
          ],
          "name": "stdout"
        },
        {
          "output_type": "execute_result",
          "data": {
            "text/html": [
              "<div>\n",
              "<style scoped>\n",
              "    .dataframe tbody tr th:only-of-type {\n",
              "        vertical-align: middle;\n",
              "    }\n",
              "\n",
              "    .dataframe tbody tr th {\n",
              "        vertical-align: top;\n",
              "    }\n",
              "\n",
              "    .dataframe thead th {\n",
              "        text-align: right;\n",
              "    }\n",
              "</style>\n",
              "<table border=\"1\" class=\"dataframe\">\n",
              "  <thead>\n",
              "    <tr style=\"text-align: right;\">\n",
              "      <th></th>\n",
              "      <th>Question number</th>\n",
              "      <th>Category</th>\n",
              "      <th>Pooled stat</th>\n",
              "      <th>Pooled p</th>\n",
              "      <th>Sig</th>\n",
              "      <th>Pooled Diff Mean (svm-wvma)</th>\n",
              "      <th>Num subquestions</th>\n",
              "      <th>Fraction of sig subquestions</th>\n",
              "      <th>Pooled num svm responses</th>\n",
              "      <th>Pooled num wvma responses</th>\n",
              "    </tr>\n",
              "  </thead>\n",
              "  <tbody>\n",
              "    <tr>\n",
              "      <th>0</th>\n",
              "      <td>Q13</td>\n",
              "      <td>Communication practices</td>\n",
              "      <td>81.260169</td>\n",
              "      <td>1.978748e-19</td>\n",
              "      <td>*</td>\n",
              "      <td>0.807961</td>\n",
              "      <td>11</td>\n",
              "      <td>10/11</td>\n",
              "      <td>295</td>\n",
              "      <td>109</td>\n",
              "    </tr>\n",
              "    <tr>\n",
              "      <th>1</th>\n",
              "      <td>Q14</td>\n",
              "      <td>Professional and business practices</td>\n",
              "      <td>30.493567</td>\n",
              "      <td>3.349754e-08</td>\n",
              "      <td>*</td>\n",
              "      <td>1.144444</td>\n",
              "      <td>6</td>\n",
              "      <td>4/6</td>\n",
              "      <td>162</td>\n",
              "      <td>60</td>\n",
              "    </tr>\n",
              "    <tr>\n",
              "      <th>2</th>\n",
              "      <td>Q15</td>\n",
              "      <td>Ethics and professional practices</td>\n",
              "      <td>11.860173</td>\n",
              "      <td>5.734721e-04</td>\n",
              "      <td>*</td>\n",
              "      <td>0.426389</td>\n",
              "      <td>8</td>\n",
              "      <td>2/8</td>\n",
              "      <td>216</td>\n",
              "      <td>80</td>\n",
              "    </tr>\n",
              "  </tbody>\n",
              "</table>\n",
              "</div>"
            ],
            "text/plain": [
              "  Question number  ... Pooled num wvma responses\n",
              "0             Q13  ...                       109\n",
              "1             Q14  ...                        60\n",
              "2             Q15  ...                        80\n",
              "\n",
              "[3 rows x 10 columns]"
            ]
          },
          "metadata": {
            "tags": []
          },
          "execution_count": 22
        }
      ]
    },
    {
      "cell_type": "code",
      "metadata": {
        "id": "DCdfiCDJAqvY"
      },
      "source": [
        "# Filter dataframes to only companion animal respondants (may have responded to other species too)\n",
        "ss_svm = svm[svm['Q1'].str.contains('Special Species', na=False, regex=False)].copy()\n",
        "ss_wvma = wvma[wvma['Q1'].str.contains('Special Species', na=False, regex=False)].copy()"
      ],
      "execution_count": 23,
      "outputs": []
    },
    {
      "cell_type": "code",
      "metadata": {
        "id": "274MDssxK4mQ"
      },
      "source": [
        "# Input info about question group\n",
        "\n",
        "question_list = [13,14,15]\n",
        "n_subq_list = [11,6,8]\n",
        "question_strings = ['Communication practices',\n",
        "                    'Professional and business practices',\n",
        "                    'Ethics and professional practices']\n",
        "\n",
        "assert(len(question_list) == len(n_subq_list))\n",
        "assert(len(n_subq_list) == len(question_strings))"
      ],
      "execution_count": 24,
      "outputs": []
    },
    {
      "cell_type": "code",
      "metadata": {
        "colab": {
          "base_uri": "https://localhost:8080/",
          "height": 214
        },
        "id": "68Wni7ZWK6CF",
        "outputId": "57b92dbb-f572-45ef-e6f2-73fd1217025a"
      },
      "source": [
        "group_table, pooled_q_stats, sig_count, n_questions, svm_responses, wvma_responses, subq_data  = analyze_group(question_list, n_subq_list, question_strings, ss_svm, ss_wvma)\n",
        "pooled_stat, pooled_p, pooled_diff_mean = pooled_q_stats\n",
        "group_data.append([\"Special Species\", pooled_stat, pooled_p, pooled_diff_mean, n_questions, \"%i/%i\" % (sig_count,n_questions), svm_responses, wvma_responses])\n",
        "output_tables.append(group_table)\n",
        "output_tables_sheet_names.append(\"Special Species\")\n",
        "output_subq_data.append(subq_data)\n",
        "group_table"
      ],
      "execution_count": 25,
      "outputs": [
        {
          "output_type": "stream",
          "text": [
            "Group result (all questions): stat=76.399, p=2.32e-18, diff_mean (svm-wvma)=2.236, sig_subq=3/3\n"
          ],
          "name": "stdout"
        },
        {
          "output_type": "execute_result",
          "data": {
            "text/html": [
              "<div>\n",
              "<style scoped>\n",
              "    .dataframe tbody tr th:only-of-type {\n",
              "        vertical-align: middle;\n",
              "    }\n",
              "\n",
              "    .dataframe tbody tr th {\n",
              "        vertical-align: top;\n",
              "    }\n",
              "\n",
              "    .dataframe thead th {\n",
              "        text-align: right;\n",
              "    }\n",
              "</style>\n",
              "<table border=\"1\" class=\"dataframe\">\n",
              "  <thead>\n",
              "    <tr style=\"text-align: right;\">\n",
              "      <th></th>\n",
              "      <th>Question number</th>\n",
              "      <th>Category</th>\n",
              "      <th>Pooled stat</th>\n",
              "      <th>Pooled p</th>\n",
              "      <th>Sig</th>\n",
              "      <th>Pooled Diff Mean (svm-wvma)</th>\n",
              "      <th>Num subquestions</th>\n",
              "      <th>Fraction of sig subquestions</th>\n",
              "      <th>Pooled num svm responses</th>\n",
              "      <th>Pooled num wvma responses</th>\n",
              "    </tr>\n",
              "  </thead>\n",
              "  <tbody>\n",
              "    <tr>\n",
              "      <th>0</th>\n",
              "      <td>Q13</td>\n",
              "      <td>Communication practices</td>\n",
              "      <td>62.452974</td>\n",
              "      <td>2.728835e-15</td>\n",
              "      <td>*</td>\n",
              "      <td>2.666667</td>\n",
              "      <td>11</td>\n",
              "      <td>0/11</td>\n",
              "      <td>99</td>\n",
              "      <td>11</td>\n",
              "    </tr>\n",
              "    <tr>\n",
              "      <th>1</th>\n",
              "      <td>Q14</td>\n",
              "      <td>Professional and business practices</td>\n",
              "      <td>18.060708</td>\n",
              "      <td>2.139718e-05</td>\n",
              "      <td>*</td>\n",
              "      <td>3.388889</td>\n",
              "      <td>6</td>\n",
              "      <td>0/6</td>\n",
              "      <td>54</td>\n",
              "      <td>6</td>\n",
              "    </tr>\n",
              "    <tr>\n",
              "      <th>2</th>\n",
              "      <td>Q15</td>\n",
              "      <td>Ethics and professional practices</td>\n",
              "      <td>12.446267</td>\n",
              "      <td>4.188280e-04</td>\n",
              "      <td>*</td>\n",
              "      <td>0.777778</td>\n",
              "      <td>8</td>\n",
              "      <td>0/8</td>\n",
              "      <td>72</td>\n",
              "      <td>8</td>\n",
              "    </tr>\n",
              "  </tbody>\n",
              "</table>\n",
              "</div>"
            ],
            "text/plain": [
              "  Question number  ... Pooled num wvma responses\n",
              "0             Q13  ...                        11\n",
              "1             Q14  ...                         6\n",
              "2             Q15  ...                         8\n",
              "\n",
              "[3 rows x 10 columns]"
            ]
          },
          "metadata": {
            "tags": []
          },
          "execution_count": 25
        }
      ]
    },
    {
      "cell_type": "code",
      "metadata": {
        "id": "l_iFQe9tMNHj"
      },
      "source": [
        "# Filter dataframes to only companion animal respondants (may have responded to other species too)\n",
        "fa_svm = svm[svm['Q1'].str.contains('Food Animal', na=False, regex=False)].copy()\n",
        "fa_wvma = wvma[wvma['Q1'].str.contains('Food Animal', na=False, regex=False)].copy()"
      ],
      "execution_count": 26,
      "outputs": []
    },
    {
      "cell_type": "code",
      "metadata": {
        "id": "h84S1L2UMONF"
      },
      "source": [
        "# Input info about question group\n",
        "\n",
        "question_list = [13,14,15]\n",
        "n_subq_list = [11,6,8]\n",
        "question_strings = ['Communication practices',\n",
        "                    'Professional and business practices',\n",
        "                    'Ethics and professional practices']\n",
        "\n",
        "\n",
        "assert(len(question_list) == len(n_subq_list))\n",
        "assert(len(n_subq_list) == len(question_strings))"
      ],
      "execution_count": 27,
      "outputs": []
    },
    {
      "cell_type": "code",
      "metadata": {
        "colab": {
          "base_uri": "https://localhost:8080/",
          "height": 214
        },
        "id": "LE1yuS5OMPGh",
        "outputId": "9f2ff05c-aaae-4f84-bc51-3d363244bdc8"
      },
      "source": [
        "group_table, pooled_q_stats, sig_count, n_questions, svm_responses, wvma_responses, subq_data  = analyze_group(question_list, n_subq_list, question_strings, fa_svm, fa_wvma)\n",
        "pooled_stat, pooled_p, pooled_diff_mean = pooled_q_stats\n",
        "group_data.append([\"Food Animal\", pooled_stat, pooled_p, pooled_diff_mean, n_questions, \"%i/%i\" % (sig_count,n_questions), svm_responses, wvma_responses])\n",
        "output_tables.append(group_table)\n",
        "output_tables_sheet_names.append(\"Food Animal\")\n",
        "output_subq_data.append(subq_data)\n",
        "group_table"
      ],
      "execution_count": 28,
      "outputs": [
        {
          "output_type": "stream",
          "text": [
            "Group result (all questions): stat=19.610, p=9.50e-06, diff_mean (svm-wvma)=0.612, sig_subq=3/3\n"
          ],
          "name": "stdout"
        },
        {
          "output_type": "execute_result",
          "data": {
            "text/html": [
              "<div>\n",
              "<style scoped>\n",
              "    .dataframe tbody tr th:only-of-type {\n",
              "        vertical-align: middle;\n",
              "    }\n",
              "\n",
              "    .dataframe tbody tr th {\n",
              "        vertical-align: top;\n",
              "    }\n",
              "\n",
              "    .dataframe thead th {\n",
              "        text-align: right;\n",
              "    }\n",
              "</style>\n",
              "<table border=\"1\" class=\"dataframe\">\n",
              "  <thead>\n",
              "    <tr style=\"text-align: right;\">\n",
              "      <th></th>\n",
              "      <th>Question number</th>\n",
              "      <th>Category</th>\n",
              "      <th>Pooled stat</th>\n",
              "      <th>Pooled p</th>\n",
              "      <th>Sig</th>\n",
              "      <th>Pooled Diff Mean (svm-wvma)</th>\n",
              "      <th>Num subquestions</th>\n",
              "      <th>Fraction of sig subquestions</th>\n",
              "      <th>Pooled num svm responses</th>\n",
              "      <th>Pooled num wvma responses</th>\n",
              "    </tr>\n",
              "  </thead>\n",
              "  <tbody>\n",
              "    <tr>\n",
              "      <th>0</th>\n",
              "      <td>Q13</td>\n",
              "      <td>Communication practices</td>\n",
              "      <td>8.902786</td>\n",
              "      <td>0.002847</td>\n",
              "      <td>*</td>\n",
              "      <td>0.627273</td>\n",
              "      <td>11</td>\n",
              "      <td>0/11</td>\n",
              "      <td>110</td>\n",
              "      <td>44</td>\n",
              "    </tr>\n",
              "    <tr>\n",
              "      <th>1</th>\n",
              "      <td>Q14</td>\n",
              "      <td>Professional and business practices</td>\n",
              "      <td>6.210323</td>\n",
              "      <td>0.012701</td>\n",
              "      <td>*</td>\n",
              "      <td>0.808333</td>\n",
              "      <td>6</td>\n",
              "      <td>0/6</td>\n",
              "      <td>60</td>\n",
              "      <td>24</td>\n",
              "    </tr>\n",
              "    <tr>\n",
              "      <th>2</th>\n",
              "      <td>Q15</td>\n",
              "      <td>Ethics and professional practices</td>\n",
              "      <td>5.603690</td>\n",
              "      <td>0.017923</td>\n",
              "      <td>*</td>\n",
              "      <td>0.443750</td>\n",
              "      <td>8</td>\n",
              "      <td>0/8</td>\n",
              "      <td>80</td>\n",
              "      <td>32</td>\n",
              "    </tr>\n",
              "  </tbody>\n",
              "</table>\n",
              "</div>"
            ],
            "text/plain": [
              "  Question number  ... Pooled num wvma responses\n",
              "0             Q13  ...                        44\n",
              "1             Q14  ...                        24\n",
              "2             Q15  ...                        32\n",
              "\n",
              "[3 rows x 10 columns]"
            ]
          },
          "metadata": {
            "tags": []
          },
          "execution_count": 28
        }
      ]
    },
    {
      "cell_type": "code",
      "metadata": {
        "id": "tv2QyiS3PAY-"
      },
      "source": [
        "# Filter dataframes to only companion animal respondants (may have responded to other species too)\n",
        "eq_svm = svm[svm['Q1'].str.contains('Equine', na=False, regex=False)].copy()\n",
        "eq_wvma = wvma[wvma['Q1'].str.contains('Equine', na=False, regex=False)].copy()"
      ],
      "execution_count": 29,
      "outputs": []
    },
    {
      "cell_type": "code",
      "metadata": {
        "id": "GbO-i-4wPEUZ"
      },
      "source": [
        "# Input info about question group\n",
        "\n",
        "question_list = [13,14,15]\n",
        "n_subq_list = [11,6,8]\n",
        "question_strings = ['Communication practices',\n",
        "                    'Professional and business practices',\n",
        "                    'Ethics and professional practices']\n",
        "\n",
        "\n",
        "assert(len(question_list) == len(n_subq_list))\n",
        "assert(len(n_subq_list) == len(question_strings))"
      ],
      "execution_count": 30,
      "outputs": []
    },
    {
      "cell_type": "code",
      "metadata": {
        "colab": {
          "base_uri": "https://localhost:8080/",
          "height": 214
        },
        "id": "PfeuG-2TPHzx",
        "outputId": "4db82dc9-898f-488e-dad0-b0f81921af2a"
      },
      "source": [
        "group_table, pooled_q_stats, sig_count, n_questions, svm_responses, wvma_responses, subq_data  = analyze_group(question_list, n_subq_list, question_strings, eq_svm, eq_wvma)\n",
        "pooled_stat, pooled_p, pooled_diff_mean = pooled_q_stats\n",
        "group_data.append([\"Equine\", pooled_stat, pooled_p, pooled_diff_mean, n_questions, \"%i/%i\" % (sig_count,n_questions), svm_responses, wvma_responses])\n",
        "output_tables.append(group_table)\n",
        "output_tables_sheet_names.append(\"Equine\")\n",
        "output_subq_data.append(subq_data)\n",
        "group_table"
      ],
      "execution_count": 31,
      "outputs": [
        {
          "output_type": "stream",
          "text": [
            "Group result (all questions): stat=35.056, p=3.20e-09, diff_mean (svm-wvma)=0.960, sig_subq=3/3\n"
          ],
          "name": "stdout"
        },
        {
          "output_type": "execute_result",
          "data": {
            "text/html": [
              "<div>\n",
              "<style scoped>\n",
              "    .dataframe tbody tr th:only-of-type {\n",
              "        vertical-align: middle;\n",
              "    }\n",
              "\n",
              "    .dataframe tbody tr th {\n",
              "        vertical-align: top;\n",
              "    }\n",
              "\n",
              "    .dataframe thead th {\n",
              "        text-align: right;\n",
              "    }\n",
              "</style>\n",
              "<table border=\"1\" class=\"dataframe\">\n",
              "  <thead>\n",
              "    <tr style=\"text-align: right;\">\n",
              "      <th></th>\n",
              "      <th>Question number</th>\n",
              "      <th>Category</th>\n",
              "      <th>Pooled stat</th>\n",
              "      <th>Pooled p</th>\n",
              "      <th>Sig</th>\n",
              "      <th>Pooled Diff Mean (svm-wvma)</th>\n",
              "      <th>Num subquestions</th>\n",
              "      <th>Fraction of sig subquestions</th>\n",
              "      <th>Pooled num svm responses</th>\n",
              "      <th>Pooled num wvma responses</th>\n",
              "    </tr>\n",
              "  </thead>\n",
              "  <tbody>\n",
              "    <tr>\n",
              "      <th>0</th>\n",
              "      <td>Q13</td>\n",
              "      <td>Communication practices</td>\n",
              "      <td>20.618330</td>\n",
              "      <td>0.000006</td>\n",
              "      <td>*</td>\n",
              "      <td>0.965909</td>\n",
              "      <td>11</td>\n",
              "      <td>0/11</td>\n",
              "      <td>88</td>\n",
              "      <td>33</td>\n",
              "    </tr>\n",
              "    <tr>\n",
              "      <th>1</th>\n",
              "      <td>Q14</td>\n",
              "      <td>Professional and business practices</td>\n",
              "      <td>8.749698</td>\n",
              "      <td>0.003097</td>\n",
              "      <td>*</td>\n",
              "      <td>1.430556</td>\n",
              "      <td>6</td>\n",
              "      <td>0/6</td>\n",
              "      <td>48</td>\n",
              "      <td>18</td>\n",
              "    </tr>\n",
              "    <tr>\n",
              "      <th>2</th>\n",
              "      <td>Q15</td>\n",
              "      <td>Ethics and professional practices</td>\n",
              "      <td>9.249225</td>\n",
              "      <td>0.002356</td>\n",
              "      <td>*</td>\n",
              "      <td>0.598958</td>\n",
              "      <td>8</td>\n",
              "      <td>0/8</td>\n",
              "      <td>64</td>\n",
              "      <td>24</td>\n",
              "    </tr>\n",
              "  </tbody>\n",
              "</table>\n",
              "</div>"
            ],
            "text/plain": [
              "  Question number  ... Pooled num wvma responses\n",
              "0             Q13  ...                        33\n",
              "1             Q14  ...                        18\n",
              "2             Q15  ...                        24\n",
              "\n",
              "[3 rows x 10 columns]"
            ]
          },
          "metadata": {
            "tags": []
          },
          "execution_count": 31
        }
      ]
    },
    {
      "cell_type": "markdown",
      "metadata": {
        "id": "O3-z6MgoQDDL"
      },
      "source": [
        "## Group Summary"
      ]
    },
    {
      "cell_type": "code",
      "metadata": {
        "id": "nO6eeGPCSBf5"
      },
      "source": [
        "group_summary_table = pd.DataFrame(group_data, columns=group_columns)"
      ],
      "execution_count": 32,
      "outputs": []
    },
    {
      "cell_type": "code",
      "metadata": {
        "id": "HVrnPD6hWi0o"
      },
      "source": [
        "ALPHA = 0.05\n",
        "\n",
        "pvals = list(group_summary_table['Pooled p'])\n",
        "\n",
        "sigs = []\n",
        "for p in pvals:\n",
        "  if p > ALPHA:\n",
        "      sig = \"\"\n",
        "  else:\n",
        "      sig = \"*\"\n",
        "  sigs.append(sig)\n",
        "\n",
        "group_summary_table.insert(loc=3, column='Sig', value=sigs)"
      ],
      "execution_count": 33,
      "outputs": []
    },
    {
      "cell_type": "code",
      "metadata": {
        "id": "6vty9bGImuy4"
      },
      "source": [
        "# Add group summary to the beginning of output tables\n",
        "output_tables.insert(0, group_summary_table)\n",
        "output_tables_sheet_names.insert(0, \"Group summary\")"
      ],
      "execution_count": 34,
      "outputs": []
    },
    {
      "cell_type": "code",
      "metadata": {
        "colab": {
          "base_uri": "https://localhost:8080/",
          "height": 175
        },
        "id": "oWWtZ8D5SMZN",
        "outputId": "1e820181-b5fd-4c99-bfb8-8d6649c9b7ab"
      },
      "source": [
        "group_summary_table"
      ],
      "execution_count": 35,
      "outputs": [
        {
          "output_type": "execute_result",
          "data": {
            "text/html": [
              "<div>\n",
              "<style scoped>\n",
              "    .dataframe tbody tr th:only-of-type {\n",
              "        vertical-align: middle;\n",
              "    }\n",
              "\n",
              "    .dataframe tbody tr th {\n",
              "        vertical-align: top;\n",
              "    }\n",
              "\n",
              "    .dataframe thead th {\n",
              "        text-align: right;\n",
              "    }\n",
              "</style>\n",
              "<table border=\"1\" class=\"dataframe\">\n",
              "  <thead>\n",
              "    <tr style=\"text-align: right;\">\n",
              "      <th></th>\n",
              "      <th>Group</th>\n",
              "      <th>Pooled stat</th>\n",
              "      <th>Pooled p</th>\n",
              "      <th>Sig</th>\n",
              "      <th>Pooled diff_mean (svm-wvma)</th>\n",
              "      <th>Num questions</th>\n",
              "      <th>Fraction of sig questions</th>\n",
              "      <th>Pooled num svm reponses</th>\n",
              "      <th>Pooled num wvma responses</th>\n",
              "    </tr>\n",
              "  </thead>\n",
              "  <tbody>\n",
              "    <tr>\n",
              "      <th>0</th>\n",
              "      <td>Companion Animal</td>\n",
              "      <td>99.923031</td>\n",
              "      <td>1.584361e-23</td>\n",
              "      <td>*</td>\n",
              "      <td>0.766722</td>\n",
              "      <td>3</td>\n",
              "      <td>3/3</td>\n",
              "      <td>673</td>\n",
              "      <td>249</td>\n",
              "    </tr>\n",
              "    <tr>\n",
              "      <th>1</th>\n",
              "      <td>Special Species</td>\n",
              "      <td>76.398699</td>\n",
              "      <td>2.318040e-18</td>\n",
              "      <td>*</td>\n",
              "      <td>2.235556</td>\n",
              "      <td>3</td>\n",
              "      <td>3/3</td>\n",
              "      <td>225</td>\n",
              "      <td>25</td>\n",
              "    </tr>\n",
              "    <tr>\n",
              "      <th>2</th>\n",
              "      <td>Food Animal</td>\n",
              "      <td>19.610397</td>\n",
              "      <td>9.495108e-06</td>\n",
              "      <td>*</td>\n",
              "      <td>0.612000</td>\n",
              "      <td>3</td>\n",
              "      <td>3/3</td>\n",
              "      <td>250</td>\n",
              "      <td>100</td>\n",
              "    </tr>\n",
              "    <tr>\n",
              "      <th>3</th>\n",
              "      <td>Equine</td>\n",
              "      <td>35.056463</td>\n",
              "      <td>3.202821e-09</td>\n",
              "      <td>*</td>\n",
              "      <td>0.960000</td>\n",
              "      <td>3</td>\n",
              "      <td>3/3</td>\n",
              "      <td>200</td>\n",
              "      <td>75</td>\n",
              "    </tr>\n",
              "  </tbody>\n",
              "</table>\n",
              "</div>"
            ],
            "text/plain": [
              "              Group  ...  Pooled num wvma responses\n",
              "0  Companion Animal  ...                        249\n",
              "1   Special Species  ...                         25\n",
              "2       Food Animal  ...                        100\n",
              "3            Equine  ...                         75\n",
              "\n",
              "[4 rows x 9 columns]"
            ]
          },
          "metadata": {
            "tags": []
          },
          "execution_count": 35
        }
      ]
    },
    {
      "cell_type": "markdown",
      "metadata": {
        "id": "diMo-zLnlEBb"
      },
      "source": [
        "# Generate tables"
      ]
    },
    {
      "cell_type": "markdown",
      "metadata": {
        "id": "ILmLfYGQlIko"
      },
      "source": [
        "We will generate the following tables using pooled data from these experiments:\n",
        "\n",
        "1.   `summary_s_nontechnical.xlsx`: Group summary table and a table for procedure sets (questions) within each group.\n",
        "2.   `companion_animal_s_nontechnical.xlsx`: Tables for all procedures within the companion animal group.\n",
        "3.   `special_species_s_nontechnical.xlsx`: Tables for all procedures within the special species group.\n",
        "4.   `food_animal_s_nontechnical.xlsx`: Tables for all procedures within the food animal group.\n",
        "5.   `equine_s_nontechnical.xlsx`:Tables for all procedures within the equine group.\n",
        "6. `summary_s_nontechnical_allspecies.xlsx`: Summary table for responses to procedures (subquestions) pooled across species areas.\n",
        "\n"
      ]
    },
    {
      "cell_type": "markdown",
      "metadata": {
        "id": "qSmJ61cUnNFf"
      },
      "source": [
        "## Summary"
      ]
    },
    {
      "cell_type": "code",
      "metadata": {
        "id": "wSPZ3y-HnRtd"
      },
      "source": [
        "writer = pd.ExcelWriter('summary_s_nontechnical.xlsx', engine='xlsxwriter')\n",
        "\n",
        "for i,table in enumerate(output_tables):\n",
        "    sheet_name = output_tables_sheet_names[i]\n",
        "    table.to_excel(writer, sheet_name=sheet_name, index=False)\n",
        "\n",
        "    # Auto-adjust columns widths\n",
        "    for column in table:\n",
        "        column_width = max(table[column].astype(str).map(len).max(), len(column))\n",
        "        col_idx = table.columns.get_loc(column)\n",
        "        writer.sheets[sheet_name].set_column(col_idx, col_idx, column_width)\n",
        "\n",
        "writer.save()"
      ],
      "execution_count": 36,
      "outputs": []
    },
    {
      "cell_type": "markdown",
      "metadata": {
        "id": "IaBUKi17qVGa"
      },
      "source": [
        "## All Species Summary"
      ]
    },
    {
      "cell_type": "code",
      "metadata": {
        "colab": {
          "base_uri": "https://localhost:8080/"
        },
        "id": "EMoaSp9TqYuG",
        "outputId": "ba6d2b9a-c2d9-4593-8435-03641536f7a7"
      },
      "source": [
        "group_table, pooled_q_stats, sig_count, n_questions, svm_responses, wvma_responses, subq_data  = analyze_group(question_list, n_subq_list, question_strings, svm, wvma)"
      ],
      "execution_count": 37,
      "outputs": [
        {
          "output_type": "stream",
          "text": [
            "Group result (all questions): stat=84.579, p=3.69e-20, diff_mean (svm-wvma)=0.568, sig_subq=3/3\n"
          ],
          "name": "stdout"
        }
      ]
    },
    {
      "cell_type": "code",
      "metadata": {
        "id": "0LI-dgD4raru"
      },
      "source": [
        "subq_tables, subq_tables_names = subq_data\n",
        "\n",
        "# Loop through tables\n",
        "writer = pd.ExcelWriter('summary_s_nontechnical_allspecies.xlsx', engine='xlsxwriter')\n",
        "\n",
        "for i,table in enumerate(subq_tables):\n",
        "    sheet_name = subq_tables_names[i]\n",
        "    table.to_excel(writer, sheet_name=sheet_name, index=False)\n",
        "\n",
        "    # Auto-adjust columns widths\n",
        "    for column in table:\n",
        "        column_width = max(table[column].astype(str).map(len).max(), len(column))\n",
        "        col_idx = table.columns.get_loc(column)\n",
        "        writer.sheets[sheet_name].set_column(col_idx, col_idx, column_width)\n",
        "\n",
        "writer.save()"
      ],
      "execution_count": 38,
      "outputs": []
    },
    {
      "cell_type": "markdown",
      "metadata": {
        "id": "UnxgmXT2sBdy"
      },
      "source": [
        "## All procedures"
      ]
    },
    {
      "cell_type": "code",
      "metadata": {
        "id": "4phlYJz8sGjg"
      },
      "source": [
        "for i, file in enumerate(['companion_animal_s_nontechnical.xlsx', 'special_species_s_nontechnical.xlsx', 'food_animal_s_nontechnical.xlsx', 'equine_s_nontechnical.xlsx']):\n",
        "    subq_data = output_subq_data[i]\n",
        "    subq_tables, subq_tables_names = subq_data\n",
        "\n",
        "    # Loop through tables\n",
        "    writer = pd.ExcelWriter(file, engine='xlsxwriter')\n",
        "\n",
        "    for i,table in enumerate(subq_tables):\n",
        "        sheet_name = subq_tables_names[i]\n",
        "        table.to_excel(writer, sheet_name=sheet_name, index=False)\n",
        "\n",
        "        # Auto-adjust columns widths\n",
        "        for column in table:\n",
        "            column_width = max(table[column].astype(str).map(len).max(), len(column))\n",
        "            col_idx = table.columns.get_loc(column)\n",
        "            writer.sheets[sheet_name].set_column(col_idx, col_idx, column_width)\n",
        "\n",
        "    writer.save()"
      ],
      "execution_count": 39,
      "outputs": []
    }
  ]
}
