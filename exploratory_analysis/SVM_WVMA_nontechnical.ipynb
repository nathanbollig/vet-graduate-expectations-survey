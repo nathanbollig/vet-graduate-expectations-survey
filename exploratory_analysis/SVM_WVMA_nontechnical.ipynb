{
  "nbformat": 4,
  "nbformat_minor": 0,
  "metadata": {
    "colab": {
      "name": "SVM_WVMA_nontechnical.ipynb",
      "provenance": [],
      "collapsed_sections": [
        "JBgWEEZT8D7s"
      ],
      "authorship_tag": "ABX9TyN9SYbvrmK4uFxiZOFqbnYf",
      "include_colab_link": true
    },
    "kernelspec": {
      "name": "python3",
      "display_name": "Python 3"
    },
    "language_info": {
      "name": "python"
    }
  },
  "cells": [
    {
      "cell_type": "markdown",
      "metadata": {
        "id": "view-in-github",
        "colab_type": "text"
      },
      "source": [
        "<a href=\"https://colab.research.google.com/github/nathanbollig/vet-graduate-expectations-survey/blob/main/SVM_WVMA_nontechnical.ipynb\" target=\"_parent\"><img src=\"https://colab.research.google.com/assets/colab-badge.svg\" alt=\"Open In Colab\"/></a>"
      ]
    },
    {
      "cell_type": "markdown",
      "metadata": {
        "id": "_xA2L7zDBZ6z"
      },
      "source": [
        "# Veterinary graduate expectations survey\n",
        "\n",
        "The main comparison is SVM vs. WVMA, derived from `explore.ipynb`. This notebook focuses on the nontechnical questions, which are:\n",
        " -   Communication practices (Q13)\n",
        " -   Professional and business practices (Q14)\n",
        " -   Ethics and professional practices (Q16)\n",
        "\n",
        "Start by uploading the data into the working directory. Two files are required:\n",
        "\n",
        "1.   `SVM.xlsx`: SVM graduate expectations survey results\n",
        "2.   `WVMA.xlsx`: WVMA graduate expectations survey results"
      ]
    },
    {
      "cell_type": "code",
      "metadata": {
        "id": "2h3-qlKqoFUd",
        "colab": {
          "base_uri": "https://localhost:8080/"
        },
        "outputId": "eabdbdaa-3c60-44f2-b4ed-cf147e3cc55b"
      },
      "source": [
        "! pip install xlsxwriter"
      ],
      "execution_count": 1,
      "outputs": [
        {
          "output_type": "stream",
          "text": [
            "Requirement already satisfied: xlsxwriter in /usr/local/lib/python3.7/dist-packages (1.4.4)\n"
          ],
          "name": "stdout"
        }
      ]
    },
    {
      "cell_type": "code",
      "metadata": {
        "id": "ssV1VbT8A41w"
      },
      "source": [
        "import pandas as pd\n",
        "import numpy as np\n",
        "from scipy.stats import kruskal"
      ],
      "execution_count": 2,
      "outputs": []
    },
    {
      "cell_type": "markdown",
      "metadata": {
        "id": "3BXww0G-FnLK"
      },
      "source": [
        "## Read in SVM data"
      ]
    },
    {
      "cell_type": "code",
      "metadata": {
        "id": "qlzso2T4CO7h"
      },
      "source": [
        "# Use top row as header and skip second header row\n",
        "svm = pd.read_excel('SVM.xlsx', header=0, skiprows=lambda x: x in [1])  "
      ],
      "execution_count": 3,
      "outputs": []
    },
    {
      "cell_type": "code",
      "metadata": {
        "id": "f4N9VyEUCiqt"
      },
      "source": [
        "#svm.head(3)"
      ],
      "execution_count": 4,
      "outputs": []
    },
    {
      "cell_type": "code",
      "metadata": {
        "id": "dpmaI1vIDMbd"
      },
      "source": [
        "# Read in questions from second header row and associate with column names\n",
        "question_svm = {}\n",
        "\n",
        "top_rows = pd.read_excel('SVM.xlsx', nrows=2) \n",
        "\n",
        "for col in list(top_rows.columns):\n",
        "    question_svm[col] = top_rows.iloc[0][col]"
      ],
      "execution_count": 5,
      "outputs": []
    },
    {
      "cell_type": "markdown",
      "metadata": {
        "id": "zJ4umVHfFpGY"
      },
      "source": [
        "## Read in WVMA data"
      ]
    },
    {
      "cell_type": "code",
      "metadata": {
        "id": "ynulEF-JE_L5"
      },
      "source": [
        "# Use top row as header and skip second header row\n",
        "wvma = pd.read_excel('WVMA.xlsx', header=0, skiprows=lambda x: x in [1])  \n",
        "\n",
        "# Read in questions from second header row and associate with column names\n",
        "question_wvma = {}\n",
        "\n",
        "top_rows_wvma = pd.read_excel('WVMA.xlsx', nrows=2) \n",
        "\n",
        "for col in list(top_rows_wvma.columns):\n",
        "    question_wvma[col] = top_rows_wvma.iloc[0][col]"
      ],
      "execution_count": 6,
      "outputs": []
    },
    {
      "cell_type": "markdown",
      "metadata": {
        "id": "tl1cUFFcW__C"
      },
      "source": [
        "## Descriptive Analysis"
      ]
    },
    {
      "cell_type": "markdown",
      "metadata": {
        "id": "TsZMPL4GN5SA"
      },
      "source": [
        "### Note about organization"
      ]
    },
    {
      "cell_type": "markdown",
      "metadata": {
        "id": "twcIZqWMNLxU"
      },
      "source": [
        "There are several levels of organization in our interpretation of this data.\n",
        "\n",
        " * `Group`: One of the 4 species groups (companion animal, special species, food animal, or equine)\n",
        "     * `Question`: A group of procedures in a category such as \"Medical Procedures\" or \"Surgical Procedures\"\n",
        "          * `Sub-question`: A particular procedure\n",
        "\n",
        "We can perform analysis at the sub-question level, or pool upwards to the question or group level. I will do all of this below.\n",
        "\n",
        "\n",
        "\n"
      ]
    },
    {
      "cell_type": "markdown",
      "metadata": {
        "id": "tH9r-73NpJRu"
      },
      "source": [
        "### Ordinal encoding\n",
        "\n",
        "Below is code to convert responses to ordinal representations and compare the distributions between SVM and WVMA."
      ]
    },
    {
      "cell_type": "markdown",
      "metadata": {
        "id": "79O0ABQyu9UE"
      },
      "source": [
        "Let's encode the expectation response in the following way:\n",
        "\n",
        " * 0: No Expectation to Perform Procedure\n",
        "\n",
        " * 1: Perform with Assistance (assist with portions of procedure)\n",
        " \n",
        " * 2: Perform with Direct Supervision (present in room during procedure)\n",
        "\n",
        " * 3: Perform with Indirect Supervision (available in building or by phone if needed)\n",
        "\n",
        " * 4: Perform Independently"
      ]
    },
    {
      "cell_type": "code",
      "metadata": {
        "id": "it_mQuqavdMD"
      },
      "source": [
        "def encode_expectation(response_string):\n",
        "    if isinstance(response_string, int) == True:\n",
        "        return response_string\n",
        "    \n",
        "    # Encode nan values as -1\n",
        "    if isinstance(response_string, str) == False:\n",
        "        if np.isnan(response_string) == True:\n",
        "            return -1\n",
        "    \n",
        "    # Encode string\n",
        "    s = response_string.lower()\n",
        "    if s.find('no expectation') > -1:\n",
        "        return 0\n",
        "    elif s.find('with assistance') > -1:\n",
        "        return 1\n",
        "    elif s.find('indirect supervision') > -1:\n",
        "        return 3\n",
        "    elif s.find('direct supervision') > -1:\n",
        "        return 2\n",
        "    elif s.find('independently') > -1:\n",
        "        return 4\n",
        "    else:\n",
        "        print(response_string)\n",
        "        raise ValueError('Expected performance response was not formatted as expected.')"
      ],
      "execution_count": 7,
      "outputs": []
    },
    {
      "cell_type": "markdown",
      "metadata": {
        "id": "udPYeYwWBbqR"
      },
      "source": [
        "## Reusable code for question analysis"
      ]
    },
    {
      "cell_type": "code",
      "metadata": {
        "id": "-3_bRSKkA5vO"
      },
      "source": [
        "def analyze_question(question_number, filtered_svm_df, filtered_wvma_df, n_subquestions, alpha=0.05, verbose=True):\n",
        "    \"\"\"\n",
        "    Perform an analysis of a given question on a species-filtered dataframe.\n",
        "    \n",
        "    Inputs:\n",
        "        question_number: main question number to analyze\n",
        "        filtered_svm_df: SVM dataframe filtered to respondants with the desired species area\n",
        "        filtered_wvma_df: WVMA dataframe filtered to respondants with the desired species area\n",
        "        n_subquestions: number of subquestions in the main question\n",
        "        alpha: power level for the statistical test\n",
        "\n",
        "    Prints a summary of results.\n",
        "\n",
        "    Outputs:\n",
        "        table: summary table\n",
        "        (pooled_stat, pooled_p, pooled_diff_mean): tuple of statistics describing output of Kruskal test on data pooled across subquestions\n",
        "        svm_data: list of pooled SVM data\n",
        "        wvma_data: list of pooled WVMA data\n",
        "        sig_count: number of subquestions with significant difference detected (between SVM and WVMA responses), according to Kruskal test applied at subquestion level\n",
        "\n",
        "    \"\"\"\n",
        "\n",
        "    svm_counts = np.zeros((n_subquestions, 6), dtype=int) # Row for each question, column for empty (-1), 0, 1, 2, 3, and 4 responses\n",
        "    wvma_counts = np.zeros((n_subquestions, 6), dtype=int) # Row for each question, column for empty (-1), 0, 1, 2, 3, and 4 responses\n",
        "    rows = []\n",
        "    svm_pooled = []\n",
        "    wvma_pooled = []\n",
        "    sig_count = 0\n",
        "\n",
        "    for i in range(1, n_subquestions+1):\n",
        "        qkey = \"Q\" + str(question_number) + \"_\" + str(i)\n",
        "        qstring = question_svm[qkey].split('-')[2] # could refer to questions_svm or questions_wvma\n",
        "\n",
        "        # Encoding\n",
        "        filtered_svm_df[qkey] = filtered_svm_df[qkey].apply(lambda x: encode_expectation(x))\n",
        "        filtered_wvma_df[qkey] = filtered_wvma_df[qkey].apply(lambda x: encode_expectation(x))\n",
        "\n",
        "        # SVM tally\n",
        "        counts = filtered_svm_df[qkey].value_counts(dropna=False)\n",
        "        for key in counts.keys():\n",
        "            svm_counts[i-1][key+1] += counts[key] # question index is 1-based; keys range from -1 to 4\n",
        "        counts = svm_counts[i-1][1:] # counts of 0, 1, 2, 3, and 4\n",
        "        svm_num_responses = np.sum(counts)\n",
        "        svm_mean = (0*counts[0] + 1*counts[1] + 2*counts[2] + 3*counts[3] + 4*counts[4]) / svm_num_responses\n",
        "\n",
        "        # WVMA tally\n",
        "        counts = filtered_wvma_df[qkey].value_counts(dropna=False)\n",
        "        for key in counts.keys():\n",
        "            wvma_counts[i-1][key+1] += counts[key]\n",
        "        counts = wvma_counts[i-1][1:] # counts of 0, 1, 2, 3, and 4\n",
        "        wvma_num_responses = np.sum(counts)\n",
        "        wvma_mean = (0*counts[0] + 1*counts[1] + 2*counts[2] + 3*counts[3] + 4*counts[4]) / wvma_num_responses\n",
        "        \n",
        "        # Get data\n",
        "        svm_data = list(filtered_svm_df[qkey])\n",
        "        wvma_data = list(filtered_wvma_df[qkey])\n",
        "\n",
        "        # Remove empty values from data\n",
        "        svm_data = [x for x in svm_data if x != -1]\n",
        "        wvma_data = [x for x in wvma_data if x != -1]\n",
        "\n",
        "        assert(svm_num_responses == len(svm_data))\n",
        "        assert(wvma_num_responses == len(wvma_data))\n",
        "\n",
        "        # compare samples\n",
        "        stat, p = kruskal(svm_data, wvma_data)\n",
        "\n",
        "        # Determine significance\n",
        "        if p > alpha:\n",
        "            sig = \"\"\n",
        "        else:\n",
        "            sig = \"*\"\n",
        "            sig_count += 1\n",
        "\n",
        "        # Cache for pooled data\n",
        "        svm_pooled.extend(svm_data)\n",
        "        wvma_pooled.extend(wvma_data)\n",
        "\n",
        "        # Cache for table of results\n",
        "        row = [qstring] + list(svm_counts[i-1]) + [svm_mean, svm_num_responses] + list(wvma_counts[i-1]) + [wvma_mean, wvma_num_responses, svm_mean-wvma_mean, stat, p, sig]\n",
        "        rows.append(row)\n",
        "\n",
        "    # Assemble table of results\n",
        "    table = pd.DataFrame(rows, columns=[\"Subquestion\", \"SVM: empty\", \"SVM: 0\", \"SVM: 1\", \"SVM: 2\", \"SVM: 3\", \"SVM: 4\", \"SVM: avg\", \"SVM: num responses\", \"WVMA: empty\", \"WVMA: 0\", \"WVMA: 1\", \"WVMA: 2\", \"WVMA: 3\", \"WVMA: 4\", \"WVMA: avg\", \"WVMA: num responses\", \"Diff Mean (svm-wvma)\", \"stat\", \"pval\", \"sig\"])\n",
        "\n",
        "    # Apply Kruskal test to pooled data\n",
        "    pooled_stat, pooled_p = kruskal(svm_pooled, wvma_pooled)\n",
        "    pooled_diff_mean = np.mean(svm_pooled) - np.mean(wvma_pooled)\n",
        "\n",
        "    # Print\n",
        "    if verbose == True:\n",
        "        print('Pooled Q%s: stat=%.3f, p=%.2e, diff_mean (svm-wvma)=%.3f, sig_subq=%s/%s' % (question_number, pooled_stat, pooled_p, pooled_diff_mean, sig_count, n_subquestions))\n",
        "\n",
        "    return table, (pooled_stat, pooled_p, pooled_diff_mean), svm_pooled, wvma_pooled, sig_count\n"
      ],
      "execution_count": 8,
      "outputs": []
    },
    {
      "cell_type": "code",
      "metadata": {
        "id": "hzS9MMxxp3UZ"
      },
      "source": [
        "# Filter dataframe to only companion animal respondants (may have responded to other species too)\n",
        "ca_svm = svm[svm['Q1'].str.contains('Companion Animal (canine and/or feline)', na=False, regex=False)].copy()"
      ],
      "execution_count": 9,
      "outputs": []
    },
    {
      "cell_type": "code",
      "metadata": {
        "id": "mR1K7domxU40"
      },
      "source": [
        "# Filter dataframe to only companion animal respondants (may have responded to other species too)\n",
        "ca_wvma = wvma[wvma['Q1'].str.contains('Companion Animal (canine and/or feline)', na=False, regex=False)].copy()"
      ],
      "execution_count": 10,
      "outputs": []
    },
    {
      "cell_type": "markdown",
      "metadata": {
        "id": "_CSRQC7yObkJ"
      },
      "source": [
        "The above code prints a question-level summary and returns a table of details for particular sub-questions."
      ]
    },
    {
      "cell_type": "code",
      "metadata": {
        "colab": {
          "base_uri": "https://localhost:8080/"
        },
        "id": "hbYbj3k_BEib",
        "outputId": "824d911a-56bb-4571-dd6f-701cec89d9ff"
      },
      "source": [
        "table, subq_pooled_result, svm_data, wvma_data, sig_count = analyze_question(13, ca_svm, ca_wvma, n_subquestions=11)"
      ],
      "execution_count": 11,
      "outputs": [
        {
          "output_type": "stream",
          "text": [
            "Pooled Q13: stat=93.242, p=4.63e-22, diff_mean (svm-wvma)=0.426, sig_subq=10/11\n"
          ],
          "name": "stdout"
        }
      ]
    },
    {
      "cell_type": "code",
      "metadata": {
        "colab": {
          "base_uri": "https://localhost:8080/",
          "height": 742
        },
        "id": "_g1VzVv-TpJW",
        "outputId": "02105770-0f05-4541-c2f7-dbe6836f65a7"
      },
      "source": [
        "table"
      ],
      "execution_count": 12,
      "outputs": [
        {
          "output_type": "execute_result",
          "data": {
            "text/html": [
              "<div>\n",
              "<style scoped>\n",
              "    .dataframe tbody tr th:only-of-type {\n",
              "        vertical-align: middle;\n",
              "    }\n",
              "\n",
              "    .dataframe tbody tr th {\n",
              "        vertical-align: top;\n",
              "    }\n",
              "\n",
              "    .dataframe thead th {\n",
              "        text-align: right;\n",
              "    }\n",
              "</style>\n",
              "<table border=\"1\" class=\"dataframe\">\n",
              "  <thead>\n",
              "    <tr style=\"text-align: right;\">\n",
              "      <th></th>\n",
              "      <th>Subquestion</th>\n",
              "      <th>SVM: empty</th>\n",
              "      <th>SVM: 0</th>\n",
              "      <th>SVM: 1</th>\n",
              "      <th>SVM: 2</th>\n",
              "      <th>SVM: 3</th>\n",
              "      <th>SVM: 4</th>\n",
              "      <th>SVM: avg</th>\n",
              "      <th>SVM: num responses</th>\n",
              "      <th>WVMA: empty</th>\n",
              "      <th>WVMA: 0</th>\n",
              "      <th>WVMA: 1</th>\n",
              "      <th>WVMA: 2</th>\n",
              "      <th>WVMA: 3</th>\n",
              "      <th>WVMA: 4</th>\n",
              "      <th>WVMA: avg</th>\n",
              "      <th>WVMA: num responses</th>\n",
              "      <th>Diff Mean (svm-wvma)</th>\n",
              "      <th>stat</th>\n",
              "      <th>pval</th>\n",
              "      <th>sig</th>\n",
              "    </tr>\n",
              "  </thead>\n",
              "  <tbody>\n",
              "    <tr>\n",
              "      <th>0</th>\n",
              "      <td>Documents medical records to fulfill professi...</td>\n",
              "      <td>11</td>\n",
              "      <td>0</td>\n",
              "      <td>0</td>\n",
              "      <td>0</td>\n",
              "      <td>1</td>\n",
              "      <td>34</td>\n",
              "      <td>3.971429</td>\n",
              "      <td>35</td>\n",
              "      <td>33</td>\n",
              "      <td>0</td>\n",
              "      <td>3</td>\n",
              "      <td>1</td>\n",
              "      <td>14</td>\n",
              "      <td>64</td>\n",
              "      <td>3.695122</td>\n",
              "      <td>82</td>\n",
              "      <td>0.276307</td>\n",
              "      <td>6.579367</td>\n",
              "      <td>0.010317</td>\n",
              "      <td>*</td>\n",
              "    </tr>\n",
              "    <tr>\n",
              "      <th>1</th>\n",
              "      <td>Discuss recommended vaccination or preventive...</td>\n",
              "      <td>11</td>\n",
              "      <td>0</td>\n",
              "      <td>0</td>\n",
              "      <td>0</td>\n",
              "      <td>1</td>\n",
              "      <td>34</td>\n",
              "      <td>3.971429</td>\n",
              "      <td>35</td>\n",
              "      <td>33</td>\n",
              "      <td>2</td>\n",
              "      <td>2</td>\n",
              "      <td>3</td>\n",
              "      <td>12</td>\n",
              "      <td>63</td>\n",
              "      <td>3.609756</td>\n",
              "      <td>82</td>\n",
              "      <td>0.361672</td>\n",
              "      <td>7.191512</td>\n",
              "      <td>0.007325</td>\n",
              "      <td>*</td>\n",
              "    </tr>\n",
              "    <tr>\n",
              "      <th>2</th>\n",
              "      <td>Discuss recommended treatment plan and option...</td>\n",
              "      <td>11</td>\n",
              "      <td>0</td>\n",
              "      <td>0</td>\n",
              "      <td>0</td>\n",
              "      <td>2</td>\n",
              "      <td>33</td>\n",
              "      <td>3.942857</td>\n",
              "      <td>35</td>\n",
              "      <td>33</td>\n",
              "      <td>1</td>\n",
              "      <td>0</td>\n",
              "      <td>3</td>\n",
              "      <td>21</td>\n",
              "      <td>57</td>\n",
              "      <td>3.621951</td>\n",
              "      <td>82</td>\n",
              "      <td>0.320906</td>\n",
              "      <td>8.523766</td>\n",
              "      <td>0.003505</td>\n",
              "      <td>*</td>\n",
              "    </tr>\n",
              "    <tr>\n",
              "      <th>3</th>\n",
              "      <td>Discuss risks of recommended treatments and p...</td>\n",
              "      <td>12</td>\n",
              "      <td>0</td>\n",
              "      <td>0</td>\n",
              "      <td>0</td>\n",
              "      <td>3</td>\n",
              "      <td>31</td>\n",
              "      <td>3.911765</td>\n",
              "      <td>34</td>\n",
              "      <td>33</td>\n",
              "      <td>1</td>\n",
              "      <td>2</td>\n",
              "      <td>2</td>\n",
              "      <td>29</td>\n",
              "      <td>48</td>\n",
              "      <td>3.475610</td>\n",
              "      <td>82</td>\n",
              "      <td>0.436155</td>\n",
              "      <td>11.865805</td>\n",
              "      <td>0.000572</td>\n",
              "      <td>*</td>\n",
              "    </tr>\n",
              "    <tr>\n",
              "      <th>4</th>\n",
              "      <td>Acknowledge client’s knowledge level and appr...</td>\n",
              "      <td>11</td>\n",
              "      <td>0</td>\n",
              "      <td>0</td>\n",
              "      <td>0</td>\n",
              "      <td>2</td>\n",
              "      <td>33</td>\n",
              "      <td>3.942857</td>\n",
              "      <td>35</td>\n",
              "      <td>34</td>\n",
              "      <td>0</td>\n",
              "      <td>2</td>\n",
              "      <td>4</td>\n",
              "      <td>21</td>\n",
              "      <td>54</td>\n",
              "      <td>3.567901</td>\n",
              "      <td>81</td>\n",
              "      <td>0.374956</td>\n",
              "      <td>10.022894</td>\n",
              "      <td>0.001546</td>\n",
              "      <td>*</td>\n",
              "    </tr>\n",
              "    <tr>\n",
              "      <th>5</th>\n",
              "      <td>Discuss quality of life issues with owners</td>\n",
              "      <td>11</td>\n",
              "      <td>0</td>\n",
              "      <td>0</td>\n",
              "      <td>0</td>\n",
              "      <td>2</td>\n",
              "      <td>33</td>\n",
              "      <td>3.942857</td>\n",
              "      <td>35</td>\n",
              "      <td>33</td>\n",
              "      <td>1</td>\n",
              "      <td>3</td>\n",
              "      <td>2</td>\n",
              "      <td>22</td>\n",
              "      <td>54</td>\n",
              "      <td>3.524390</td>\n",
              "      <td>82</td>\n",
              "      <td>0.418467</td>\n",
              "      <td>10.466737</td>\n",
              "      <td>0.001215</td>\n",
              "      <td>*</td>\n",
              "    </tr>\n",
              "    <tr>\n",
              "      <th>6</th>\n",
              "      <td>Engages clients in difficult conversations su...</td>\n",
              "      <td>11</td>\n",
              "      <td>0</td>\n",
              "      <td>0</td>\n",
              "      <td>1</td>\n",
              "      <td>7</td>\n",
              "      <td>27</td>\n",
              "      <td>3.742857</td>\n",
              "      <td>35</td>\n",
              "      <td>33</td>\n",
              "      <td>2</td>\n",
              "      <td>8</td>\n",
              "      <td>3</td>\n",
              "      <td>33</td>\n",
              "      <td>36</td>\n",
              "      <td>3.134146</td>\n",
              "      <td>82</td>\n",
              "      <td>0.608711</td>\n",
              "      <td>11.513637</td>\n",
              "      <td>0.000691</td>\n",
              "      <td>*</td>\n",
              "    </tr>\n",
              "    <tr>\n",
              "      <th>7</th>\n",
              "      <td>Engage with clients and co</td>\n",
              "      <td>11</td>\n",
              "      <td>0</td>\n",
              "      <td>0</td>\n",
              "      <td>0</td>\n",
              "      <td>1</td>\n",
              "      <td>34</td>\n",
              "      <td>3.971429</td>\n",
              "      <td>35</td>\n",
              "      <td>34</td>\n",
              "      <td>0</td>\n",
              "      <td>2</td>\n",
              "      <td>1</td>\n",
              "      <td>12</td>\n",
              "      <td>66</td>\n",
              "      <td>3.753086</td>\n",
              "      <td>81</td>\n",
              "      <td>0.218342</td>\n",
              "      <td>5.048568</td>\n",
              "      <td>0.024646</td>\n",
              "      <td>*</td>\n",
              "    </tr>\n",
              "    <tr>\n",
              "      <th>8</th>\n",
              "      <td>Engage co</td>\n",
              "      <td>12</td>\n",
              "      <td>0</td>\n",
              "      <td>0</td>\n",
              "      <td>1</td>\n",
              "      <td>11</td>\n",
              "      <td>22</td>\n",
              "      <td>3.617647</td>\n",
              "      <td>34</td>\n",
              "      <td>33</td>\n",
              "      <td>8</td>\n",
              "      <td>7</td>\n",
              "      <td>13</td>\n",
              "      <td>25</td>\n",
              "      <td>29</td>\n",
              "      <td>2.731707</td>\n",
              "      <td>82</td>\n",
              "      <td>0.885940</td>\n",
              "      <td>12.973783</td>\n",
              "      <td>0.000316</td>\n",
              "      <td>*</td>\n",
              "    </tr>\n",
              "    <tr>\n",
              "      <th>9</th>\n",
              "      <td>Elicit client goals, expectations, perspectiv...</td>\n",
              "      <td>11</td>\n",
              "      <td>0</td>\n",
              "      <td>0</td>\n",
              "      <td>0</td>\n",
              "      <td>2</td>\n",
              "      <td>33</td>\n",
              "      <td>3.942857</td>\n",
              "      <td>35</td>\n",
              "      <td>33</td>\n",
              "      <td>2</td>\n",
              "      <td>2</td>\n",
              "      <td>4</td>\n",
              "      <td>28</td>\n",
              "      <td>46</td>\n",
              "      <td>3.390244</td>\n",
              "      <td>82</td>\n",
              "      <td>0.552613</td>\n",
              "      <td>16.220666</td>\n",
              "      <td>0.000056</td>\n",
              "      <td>*</td>\n",
              "    </tr>\n",
              "    <tr>\n",
              "      <th>10</th>\n",
              "      <td>Build and maintain client relationships</td>\n",
              "      <td>11</td>\n",
              "      <td>0</td>\n",
              "      <td>0</td>\n",
              "      <td>0</td>\n",
              "      <td>3</td>\n",
              "      <td>32</td>\n",
              "      <td>3.914286</td>\n",
              "      <td>35</td>\n",
              "      <td>33</td>\n",
              "      <td>0</td>\n",
              "      <td>2</td>\n",
              "      <td>2</td>\n",
              "      <td>15</td>\n",
              "      <td>63</td>\n",
              "      <td>3.695122</td>\n",
              "      <td>82</td>\n",
              "      <td>0.219164</td>\n",
              "      <td>3.569044</td>\n",
              "      <td>0.058866</td>\n",
              "      <td></td>\n",
              "    </tr>\n",
              "  </tbody>\n",
              "</table>\n",
              "</div>"
            ],
            "text/plain": [
              "                                          Subquestion  SVM: empty  ...      pval  sig\n",
              "0    Documents medical records to fulfill professi...          11  ...  0.010317    *\n",
              "1    Discuss recommended vaccination or preventive...          11  ...  0.007325    *\n",
              "2    Discuss recommended treatment plan and option...          11  ...  0.003505    *\n",
              "3    Discuss risks of recommended treatments and p...          12  ...  0.000572    *\n",
              "4    Acknowledge client’s knowledge level and appr...          11  ...  0.001546    *\n",
              "5          Discuss quality of life issues with owners          11  ...  0.001215    *\n",
              "6    Engages clients in difficult conversations su...          11  ...  0.000691    *\n",
              "7                          Engage with clients and co          11  ...  0.024646    *\n",
              "8                                           Engage co          12  ...  0.000316    *\n",
              "9    Elicit client goals, expectations, perspectiv...          11  ...  0.000056    *\n",
              "10            Build and maintain client relationships          11  ...  0.058866     \n",
              "\n",
              "[11 rows x 21 columns]"
            ]
          },
          "metadata": {
            "tags": []
          },
          "execution_count": 12
        }
      ]
    },
    {
      "cell_type": "markdown",
      "metadata": {
        "id": "4CQnMEHdBQiB"
      },
      "source": [
        "## Companion Animal Group"
      ]
    },
    {
      "cell_type": "markdown",
      "metadata": {
        "id": "5zrwCKqRBTq0"
      },
      "source": [
        "Recall that the companion animal group contains a set of questions. Now let's use the modularized question analysis code to perform a similar analysis across all questions in the companion animal group."
      ]
    },
    {
      "cell_type": "code",
      "metadata": {
        "id": "TV8dbNjhQkpS"
      },
      "source": [
        "# cache data across all groups\n",
        "group_data = []\n",
        "group_columns = [\"Group\", \"Pooled stat\", \"Pooled p\", \"Pooled diff_mean (svm-wvma)\", \"Num questions\", \"Fraction of sig questions\", \"Pooled num SVM reponses\", \"Pooled num WVMA responses\"]"
      ],
      "execution_count": 13,
      "outputs": []
    },
    {
      "cell_type": "code",
      "metadata": {
        "id": "oHHUSx04mA1C"
      },
      "source": [
        "# cache tables\n",
        "output_tables = []\n",
        "output_tables_sheet_names = []\n",
        "\n",
        "# cache subquestion table data\n",
        "output_subq_data = []"
      ],
      "execution_count": 14,
      "outputs": []
    },
    {
      "cell_type": "code",
      "metadata": {
        "id": "2PRI-LFAE9WW"
      },
      "source": [
        "# Input info about question group\n",
        "\n",
        "question_list = [13,14,15]\n",
        "n_subq_list = [11,6,8]\n",
        "question_strings = ['Communication practices',\n",
        "                    'Professional and business practices',\n",
        "                    'Ethics and professional practices']\n",
        "\n",
        "assert(len(question_list) == len(n_subq_list))\n",
        "assert(len(n_subq_list) == len(question_strings))"
      ],
      "execution_count": 15,
      "outputs": []
    },
    {
      "cell_type": "code",
      "metadata": {
        "id": "No1h2UNOF0XC"
      },
      "source": [
        "# Code to analyze all questions within the group\n",
        "\n",
        "def analyze_group(question_list, n_subq_list, question_strings, filtered_svm_df, filtered_wvma_df, alpha=0.05):\n",
        "    svm_pooled = [] # now pooling over entire group\n",
        "    wvma_pooled = []\n",
        "    rows = []\n",
        "    sig_count = 0\n",
        "    subq_tables = []\n",
        "    subq_tables_names = []\n",
        "\n",
        "    for i in range(len(question_list)):\n",
        "        question_number = question_list[i]\n",
        "        n_subquestions = n_subq_list[i]\n",
        "        question_string = question_strings[i]\n",
        "\n",
        "        # Run analysis\n",
        "        table, subq_pooled_result, svm_data, wvma_data, sig_subq = analyze_question(question_number, filtered_svm_df, filtered_wvma_df, n_subquestions, verbose=False)\n",
        "        pooled_stat, pooled_p, pooled_diff_mean = subq_pooled_result\n",
        "        svm_num_responses = len(svm_data)\n",
        "        wvma_num_responses = len(wvma_data)\n",
        "\n",
        "        # Cache procedure tables\n",
        "        subq_tables.append(table)\n",
        "        subq_tables_names.append('Q'+str(question_number))\n",
        "\n",
        "        # Pool\n",
        "        svm_pooled.extend(svm_data)\n",
        "        wvma_pooled.extend(wvma_data)\n",
        "\n",
        "        # Determine significance\n",
        "        if pooled_p > alpha:\n",
        "            sig = \"\"\n",
        "        else:\n",
        "            sig = \"*\"\n",
        "            sig_count += 1\n",
        "\n",
        "        # Cache data for group summary\n",
        "        row = ['Q'+str(question_number), question_string, pooled_stat, pooled_p, sig, pooled_diff_mean, n_subquestions, \"%i/%i\" % (sig_subq,n_subquestions), svm_num_responses, wvma_num_responses]\n",
        "        rows.append(row)\n",
        "\n",
        "    # Assemble table of results\n",
        "    group_table = pd.DataFrame(rows, columns=[\"Question number\", \"Category\", \"Pooled stat\", \"Pooled p\", \"Sig\", \"Pooled Diff Mean (svm-wvma)\", \"Num subquestions\", \"Fraction of sig subquestions\", \"Pooled num SVM responses\", \"Pooled num WVMA responses\"])                     \n",
        "\n",
        "    # Apply Kruskal test to pooled data\n",
        "    pooled_stat, pooled_p = kruskal(svm_pooled, wvma_pooled)\n",
        "    pooled_diff_mean = np.mean(svm_pooled) - np.mean(wvma_pooled)\n",
        "\n",
        "    # Print\n",
        "    print('Group result (all questions): stat=%.3f, p=%.2e, diff_mean (svm-wvma)=%.3f, sig_subq=%s/%s' % (pooled_stat, pooled_p, pooled_diff_mean, sig_count, len(question_list)))\n",
        "\n",
        "    return group_table, (pooled_stat, pooled_p, pooled_diff_mean), sig_count, len(question_list), len(svm_pooled), len(wvma_pooled), (subq_tables, subq_tables_names)"
      ],
      "execution_count": 16,
      "outputs": []
    },
    {
      "cell_type": "code",
      "metadata": {
        "colab": {
          "base_uri": "https://localhost:8080/",
          "height": 214
        },
        "id": "f0MxDBYnLTY4",
        "outputId": "f23f3438-c333-4950-d73f-dac34a560ce2"
      },
      "source": [
        "group_table, pooled_q_stats, sig_count, n_questions, svm_responses, wvma_responses, subq_data  = analyze_group(question_list, n_subq_list, question_strings, ca_svm, ca_wvma)\n",
        "pooled_stat, pooled_p, pooled_diff_mean = pooled_q_stats\n",
        "group_data.append([\"Companion Animal\", pooled_stat, pooled_p, pooled_diff_mean, n_questions, \"%i/%i\" % (sig_count,n_questions), svm_responses, wvma_responses])\n",
        "output_tables.append(group_table)\n",
        "output_tables_sheet_names.append(\"Companion Animal\")\n",
        "output_subq_data.append(subq_data)\n",
        "group_table"
      ],
      "execution_count": 17,
      "outputs": [
        {
          "output_type": "stream",
          "text": [
            "Group result (all questions): stat=116.286, p=4.12e-27, diff_mean (svm-wvma)=0.423, sig_subq=3/3\n"
          ],
          "name": "stdout"
        },
        {
          "output_type": "execute_result",
          "data": {
            "text/html": [
              "<div>\n",
              "<style scoped>\n",
              "    .dataframe tbody tr th:only-of-type {\n",
              "        vertical-align: middle;\n",
              "    }\n",
              "\n",
              "    .dataframe tbody tr th {\n",
              "        vertical-align: top;\n",
              "    }\n",
              "\n",
              "    .dataframe thead th {\n",
              "        text-align: right;\n",
              "    }\n",
              "</style>\n",
              "<table border=\"1\" class=\"dataframe\">\n",
              "  <thead>\n",
              "    <tr style=\"text-align: right;\">\n",
              "      <th></th>\n",
              "      <th>Question number</th>\n",
              "      <th>Category</th>\n",
              "      <th>Pooled stat</th>\n",
              "      <th>Pooled p</th>\n",
              "      <th>Sig</th>\n",
              "      <th>Pooled Diff Mean (svm-wvma)</th>\n",
              "      <th>Num subquestions</th>\n",
              "      <th>Fraction of sig subquestions</th>\n",
              "      <th>Pooled num SVM responses</th>\n",
              "      <th>Pooled num WVMA responses</th>\n",
              "    </tr>\n",
              "  </thead>\n",
              "  <tbody>\n",
              "    <tr>\n",
              "      <th>0</th>\n",
              "      <td>Q13</td>\n",
              "      <td>Communication practices</td>\n",
              "      <td>93.241942</td>\n",
              "      <td>4.627699e-22</td>\n",
              "      <td>*</td>\n",
              "      <td>0.425950</td>\n",
              "      <td>11</td>\n",
              "      <td>10/11</td>\n",
              "      <td>383</td>\n",
              "      <td>900</td>\n",
              "    </tr>\n",
              "    <tr>\n",
              "      <th>1</th>\n",
              "      <td>Q14</td>\n",
              "      <td>Professional and business practices</td>\n",
              "      <td>42.826791</td>\n",
              "      <td>5.980745e-11</td>\n",
              "      <td>*</td>\n",
              "      <td>0.680261</td>\n",
              "      <td>6</td>\n",
              "      <td>3/6</td>\n",
              "      <td>210</td>\n",
              "      <td>496</td>\n",
              "    </tr>\n",
              "    <tr>\n",
              "      <th>2</th>\n",
              "      <td>Q15</td>\n",
              "      <td>Ethics and professional practices</td>\n",
              "      <td>8.707308</td>\n",
              "      <td>3.169369e-03</td>\n",
              "      <td>*</td>\n",
              "      <td>0.222125</td>\n",
              "      <td>8</td>\n",
              "      <td>2/8</td>\n",
              "      <td>280</td>\n",
              "      <td>656</td>\n",
              "    </tr>\n",
              "  </tbody>\n",
              "</table>\n",
              "</div>"
            ],
            "text/plain": [
              "  Question number  ... Pooled num WVMA responses\n",
              "0             Q13  ...                       900\n",
              "1             Q14  ...                       496\n",
              "2             Q15  ...                       656\n",
              "\n",
              "[3 rows x 10 columns]"
            ]
          },
          "metadata": {
            "tags": []
          },
          "execution_count": 17
        }
      ]
    },
    {
      "cell_type": "markdown",
      "metadata": {
        "id": "xmr4Abh_AW6b"
      },
      "source": [
        "## Special Species Group"
      ]
    },
    {
      "cell_type": "code",
      "metadata": {
        "id": "DCdfiCDJAqvY"
      },
      "source": [
        "# Filter dataframes to only companion animal respondants (may have responded to other species too)\n",
        "ss_svm = svm[svm['Q1'].str.contains('Special Species', na=False, regex=False)].copy()\n",
        "ss_wvma = wvma[wvma['Q1'].str.contains('Special Species', na=False, regex=False)].copy()"
      ],
      "execution_count": 18,
      "outputs": []
    },
    {
      "cell_type": "code",
      "metadata": {
        "id": "274MDssxK4mQ"
      },
      "source": [
        "# Input info about question group\n",
        "\n",
        "question_list = [13,14,15]\n",
        "n_subq_list = [11,6,8]\n",
        "question_strings = ['Communication practices',\n",
        "                    'Professional and business practices',\n",
        "                    'Ethics and professional practices']\n",
        "\n",
        "assert(len(question_list) == len(n_subq_list))\n",
        "assert(len(n_subq_list) == len(question_strings))"
      ],
      "execution_count": 19,
      "outputs": []
    },
    {
      "cell_type": "code",
      "metadata": {
        "colab": {
          "base_uri": "https://localhost:8080/",
          "height": 214
        },
        "id": "68Wni7ZWK6CF",
        "outputId": "709d7001-4a1f-420f-bdc9-281d9f524a27"
      },
      "source": [
        "group_table, pooled_q_stats, sig_count, n_questions, svm_responses, wvma_responses, subq_data  = analyze_group(question_list, n_subq_list, question_strings, ss_svm, ss_wvma)\n",
        "pooled_stat, pooled_p, pooled_diff_mean = pooled_q_stats\n",
        "group_data.append([\"Special Species\", pooled_stat, pooled_p, pooled_diff_mean, n_questions, \"%i/%i\" % (sig_count,n_questions), svm_responses, wvma_responses])\n",
        "output_tables.append(group_table)\n",
        "output_tables_sheet_names.append(\"Special Species\")\n",
        "output_subq_data.append(subq_data)\n",
        "group_table"
      ],
      "execution_count": 20,
      "outputs": [
        {
          "output_type": "stream",
          "text": [
            "Group result (all questions): stat=88.072, p=6.31e-21, diff_mean (svm-wvma)=0.829, sig_subq=3/3\n"
          ],
          "name": "stdout"
        },
        {
          "output_type": "execute_result",
          "data": {
            "text/html": [
              "<div>\n",
              "<style scoped>\n",
              "    .dataframe tbody tr th:only-of-type {\n",
              "        vertical-align: middle;\n",
              "    }\n",
              "\n",
              "    .dataframe tbody tr th {\n",
              "        vertical-align: top;\n",
              "    }\n",
              "\n",
              "    .dataframe thead th {\n",
              "        text-align: right;\n",
              "    }\n",
              "</style>\n",
              "<table border=\"1\" class=\"dataframe\">\n",
              "  <thead>\n",
              "    <tr style=\"text-align: right;\">\n",
              "      <th></th>\n",
              "      <th>Question number</th>\n",
              "      <th>Category</th>\n",
              "      <th>Pooled stat</th>\n",
              "      <th>Pooled p</th>\n",
              "      <th>Sig</th>\n",
              "      <th>Pooled Diff Mean (svm-wvma)</th>\n",
              "      <th>Num subquestions</th>\n",
              "      <th>Fraction of sig subquestions</th>\n",
              "      <th>Pooled num SVM responses</th>\n",
              "      <th>Pooled num WVMA responses</th>\n",
              "    </tr>\n",
              "  </thead>\n",
              "  <tbody>\n",
              "    <tr>\n",
              "      <th>0</th>\n",
              "      <td>Q13</td>\n",
              "      <td>Communication practices</td>\n",
              "      <td>42.081740</td>\n",
              "      <td>8.753678e-11</td>\n",
              "      <td>*</td>\n",
              "      <td>0.665584</td>\n",
              "      <td>11</td>\n",
              "      <td>8/11</td>\n",
              "      <td>132</td>\n",
              "      <td>154</td>\n",
              "    </tr>\n",
              "    <tr>\n",
              "      <th>1</th>\n",
              "      <td>Q14</td>\n",
              "      <td>Professional and business practices</td>\n",
              "      <td>42.179853</td>\n",
              "      <td>8.325331e-11</td>\n",
              "      <td>*</td>\n",
              "      <td>1.622490</td>\n",
              "      <td>6</td>\n",
              "      <td>5/6</td>\n",
              "      <td>72</td>\n",
              "      <td>83</td>\n",
              "    </tr>\n",
              "    <tr>\n",
              "      <th>2</th>\n",
              "      <td>Q15</td>\n",
              "      <td>Ethics and professional practices</td>\n",
              "      <td>19.775269</td>\n",
              "      <td>8.710245e-06</td>\n",
              "      <td>*</td>\n",
              "      <td>0.470238</td>\n",
              "      <td>8</td>\n",
              "      <td>1/8</td>\n",
              "      <td>96</td>\n",
              "      <td>112</td>\n",
              "    </tr>\n",
              "  </tbody>\n",
              "</table>\n",
              "</div>"
            ],
            "text/plain": [
              "  Question number  ... Pooled num WVMA responses\n",
              "0             Q13  ...                       154\n",
              "1             Q14  ...                        83\n",
              "2             Q15  ...                       112\n",
              "\n",
              "[3 rows x 10 columns]"
            ]
          },
          "metadata": {
            "tags": []
          },
          "execution_count": 20
        }
      ]
    },
    {
      "cell_type": "markdown",
      "metadata": {
        "id": "OZmv6D7BAkoT"
      },
      "source": [
        "## Food Animal Group"
      ]
    },
    {
      "cell_type": "code",
      "metadata": {
        "id": "l_iFQe9tMNHj"
      },
      "source": [
        "# Filter dataframes to only companion animal respondants (may have responded to other species too)\n",
        "fa_svm = svm[svm['Q1'].str.contains('Food Animal', na=False, regex=False)].copy()\n",
        "fa_wvma = wvma[wvma['Q1'].str.contains('Food Animal', na=False, regex=False)].copy()"
      ],
      "execution_count": 21,
      "outputs": []
    },
    {
      "cell_type": "code",
      "metadata": {
        "id": "h84S1L2UMONF"
      },
      "source": [
        "# Input info about question group\n",
        "\n",
        "question_list = [13,14,15]\n",
        "n_subq_list = [11,6,8]\n",
        "question_strings = ['Communication practices',\n",
        "                    'Professional and business practices',\n",
        "                    'Ethics and professional practices']\n",
        "\n",
        "\n",
        "assert(len(question_list) == len(n_subq_list))\n",
        "assert(len(n_subq_list) == len(question_strings))"
      ],
      "execution_count": 22,
      "outputs": []
    },
    {
      "cell_type": "code",
      "metadata": {
        "colab": {
          "base_uri": "https://localhost:8080/",
          "height": 214
        },
        "id": "LE1yuS5OMPGh",
        "outputId": "3adf4f0a-4032-4b15-f535-9467cc21fe27"
      },
      "source": [
        "group_table, pooled_q_stats, sig_count, n_questions, svm_responses, wvma_responses, subq_data  = analyze_group(question_list, n_subq_list, question_strings, fa_svm, fa_wvma)\n",
        "pooled_stat, pooled_p, pooled_diff_mean = pooled_q_stats\n",
        "group_data.append([\"Food Animal\", pooled_stat, pooled_p, pooled_diff_mean, n_questions, \"%i/%i\" % (sig_count,n_questions), svm_responses, wvma_responses])\n",
        "output_tables.append(group_table)\n",
        "output_tables_sheet_names.append(\"Food Animal\")\n",
        "output_subq_data.append(subq_data)\n",
        "group_table"
      ],
      "execution_count": 23,
      "outputs": [
        {
          "output_type": "stream",
          "text": [
            "Group result (all questions): stat=38.415, p=5.72e-10, diff_mean (svm-wvma)=0.344, sig_subq=3/3\n"
          ],
          "name": "stdout"
        },
        {
          "output_type": "execute_result",
          "data": {
            "text/html": [
              "<div>\n",
              "<style scoped>\n",
              "    .dataframe tbody tr th:only-of-type {\n",
              "        vertical-align: middle;\n",
              "    }\n",
              "\n",
              "    .dataframe tbody tr th {\n",
              "        vertical-align: top;\n",
              "    }\n",
              "\n",
              "    .dataframe thead th {\n",
              "        text-align: right;\n",
              "    }\n",
              "</style>\n",
              "<table border=\"1\" class=\"dataframe\">\n",
              "  <thead>\n",
              "    <tr style=\"text-align: right;\">\n",
              "      <th></th>\n",
              "      <th>Question number</th>\n",
              "      <th>Category</th>\n",
              "      <th>Pooled stat</th>\n",
              "      <th>Pooled p</th>\n",
              "      <th>Sig</th>\n",
              "      <th>Pooled Diff Mean (svm-wvma)</th>\n",
              "      <th>Num subquestions</th>\n",
              "      <th>Fraction of sig subquestions</th>\n",
              "      <th>Pooled num SVM responses</th>\n",
              "      <th>Pooled num WVMA responses</th>\n",
              "    </tr>\n",
              "  </thead>\n",
              "  <tbody>\n",
              "    <tr>\n",
              "      <th>0</th>\n",
              "      <td>Q13</td>\n",
              "      <td>Communication practices</td>\n",
              "      <td>24.879436</td>\n",
              "      <td>6.102997e-07</td>\n",
              "      <td>*</td>\n",
              "      <td>0.356345</td>\n",
              "      <td>11</td>\n",
              "      <td>2/11</td>\n",
              "      <td>132</td>\n",
              "      <td>373</td>\n",
              "    </tr>\n",
              "    <tr>\n",
              "      <th>1</th>\n",
              "      <td>Q14</td>\n",
              "      <td>Professional and business practices</td>\n",
              "      <td>12.030221</td>\n",
              "      <td>5.234487e-04</td>\n",
              "      <td>*</td>\n",
              "      <td>0.536765</td>\n",
              "      <td>6</td>\n",
              "      <td>2/6</td>\n",
              "      <td>72</td>\n",
              "      <td>204</td>\n",
              "    </tr>\n",
              "    <tr>\n",
              "      <th>2</th>\n",
              "      <td>Q15</td>\n",
              "      <td>Ethics and professional practices</td>\n",
              "      <td>6.567898</td>\n",
              "      <td>1.038345e-02</td>\n",
              "      <td>*</td>\n",
              "      <td>0.181373</td>\n",
              "      <td>8</td>\n",
              "      <td>1/8</td>\n",
              "      <td>96</td>\n",
              "      <td>272</td>\n",
              "    </tr>\n",
              "  </tbody>\n",
              "</table>\n",
              "</div>"
            ],
            "text/plain": [
              "  Question number  ... Pooled num WVMA responses\n",
              "0             Q13  ...                       373\n",
              "1             Q14  ...                       204\n",
              "2             Q15  ...                       272\n",
              "\n",
              "[3 rows x 10 columns]"
            ]
          },
          "metadata": {
            "tags": []
          },
          "execution_count": 23
        }
      ]
    },
    {
      "cell_type": "markdown",
      "metadata": {
        "id": "CupWAW_OAmJA"
      },
      "source": [
        "## Equine Group"
      ]
    },
    {
      "cell_type": "code",
      "metadata": {
        "id": "tv2QyiS3PAY-"
      },
      "source": [
        "# Filter dataframes to only companion animal respondants (may have responded to other species too)\n",
        "eq_svm = svm[svm['Q1'].str.contains('Equine', na=False, regex=False)].copy()\n",
        "eq_wvma = wvma[wvma['Q1'].str.contains('Equine', na=False, regex=False)].copy()"
      ],
      "execution_count": 24,
      "outputs": []
    },
    {
      "cell_type": "code",
      "metadata": {
        "id": "GbO-i-4wPEUZ"
      },
      "source": [
        "# Input info about question group\n",
        "\n",
        "question_list = [13,14,15]\n",
        "n_subq_list = [11,6,8]\n",
        "question_strings = ['Communication practices',\n",
        "                    'Professional and business practices',\n",
        "                    'Ethics and professional practices']\n",
        "\n",
        "\n",
        "assert(len(question_list) == len(n_subq_list))\n",
        "assert(len(n_subq_list) == len(question_strings))"
      ],
      "execution_count": 25,
      "outputs": []
    },
    {
      "cell_type": "code",
      "metadata": {
        "colab": {
          "base_uri": "https://localhost:8080/",
          "height": 214
        },
        "id": "PfeuG-2TPHzx",
        "outputId": "32dc07b2-b6e8-4ccf-912b-fd180309bb0a"
      },
      "source": [
        "group_table, pooled_q_stats, sig_count, n_questions, svm_responses, wvma_responses, subq_data  = analyze_group(question_list, n_subq_list, question_strings, eq_svm, eq_wvma)\n",
        "pooled_stat, pooled_p, pooled_diff_mean = pooled_q_stats\n",
        "group_data.append([\"Equine\", pooled_stat, pooled_p, pooled_diff_mean, n_questions, \"%i/%i\" % (sig_count,n_questions), svm_responses, wvma_responses])\n",
        "output_tables.append(group_table)\n",
        "output_tables_sheet_names.append(\"Equine\")\n",
        "output_subq_data.append(subq_data)\n",
        "group_table"
      ],
      "execution_count": 26,
      "outputs": [
        {
          "output_type": "stream",
          "text": [
            "Group result (all questions): stat=34.403, p=4.48e-09, diff_mean (svm-wvma)=0.329, sig_subq=3/3\n"
          ],
          "name": "stdout"
        },
        {
          "output_type": "execute_result",
          "data": {
            "text/html": [
              "<div>\n",
              "<style scoped>\n",
              "    .dataframe tbody tr th:only-of-type {\n",
              "        vertical-align: middle;\n",
              "    }\n",
              "\n",
              "    .dataframe tbody tr th {\n",
              "        vertical-align: top;\n",
              "    }\n",
              "\n",
              "    .dataframe thead th {\n",
              "        text-align: right;\n",
              "    }\n",
              "</style>\n",
              "<table border=\"1\" class=\"dataframe\">\n",
              "  <thead>\n",
              "    <tr style=\"text-align: right;\">\n",
              "      <th></th>\n",
              "      <th>Question number</th>\n",
              "      <th>Category</th>\n",
              "      <th>Pooled stat</th>\n",
              "      <th>Pooled p</th>\n",
              "      <th>Sig</th>\n",
              "      <th>Pooled Diff Mean (svm-wvma)</th>\n",
              "      <th>Num subquestions</th>\n",
              "      <th>Fraction of sig subquestions</th>\n",
              "      <th>Pooled num SVM responses</th>\n",
              "      <th>Pooled num WVMA responses</th>\n",
              "    </tr>\n",
              "  </thead>\n",
              "  <tbody>\n",
              "    <tr>\n",
              "      <th>0</th>\n",
              "      <td>Q13</td>\n",
              "      <td>Communication practices</td>\n",
              "      <td>16.261885</td>\n",
              "      <td>0.000055</td>\n",
              "      <td>*</td>\n",
              "      <td>0.311067</td>\n",
              "      <td>11</td>\n",
              "      <td>1/11</td>\n",
              "      <td>110</td>\n",
              "      <td>253</td>\n",
              "    </tr>\n",
              "    <tr>\n",
              "      <th>1</th>\n",
              "      <td>Q14</td>\n",
              "      <td>Professional and business practices</td>\n",
              "      <td>10.391739</td>\n",
              "      <td>0.001266</td>\n",
              "      <td>*</td>\n",
              "      <td>0.544928</td>\n",
              "      <td>6</td>\n",
              "      <td>1/6</td>\n",
              "      <td>60</td>\n",
              "      <td>138</td>\n",
              "    </tr>\n",
              "    <tr>\n",
              "      <th>2</th>\n",
              "      <td>Q15</td>\n",
              "      <td>Ethics and professional practices</td>\n",
              "      <td>10.235301</td>\n",
              "      <td>0.001378</td>\n",
              "      <td>*</td>\n",
              "      <td>0.191848</td>\n",
              "      <td>8</td>\n",
              "      <td>1/8</td>\n",
              "      <td>80</td>\n",
              "      <td>184</td>\n",
              "    </tr>\n",
              "  </tbody>\n",
              "</table>\n",
              "</div>"
            ],
            "text/plain": [
              "  Question number  ... Pooled num WVMA responses\n",
              "0             Q13  ...                       253\n",
              "1             Q14  ...                       138\n",
              "2             Q15  ...                       184\n",
              "\n",
              "[3 rows x 10 columns]"
            ]
          },
          "metadata": {
            "tags": []
          },
          "execution_count": 26
        }
      ]
    },
    {
      "cell_type": "markdown",
      "metadata": {
        "id": "O3-z6MgoQDDL"
      },
      "source": [
        "## Group Summary"
      ]
    },
    {
      "cell_type": "code",
      "metadata": {
        "id": "nO6eeGPCSBf5"
      },
      "source": [
        "group_summary_table = pd.DataFrame(group_data, columns=group_columns)"
      ],
      "execution_count": 27,
      "outputs": []
    },
    {
      "cell_type": "code",
      "metadata": {
        "id": "HVrnPD6hWi0o"
      },
      "source": [
        "pvals = list(group_summary_table['Pooled p'])\n",
        "ALPHA = 0.05\n",
        "\n",
        "sigs = []\n",
        "for p in pvals:\n",
        "  if p > ALPHA:\n",
        "      sig = \"\"\n",
        "  else:\n",
        "      sig = \"*\"\n",
        "  sigs.append(sig)\n",
        "\n",
        "group_summary_table.insert(loc=3, column='Sig', value=sigs)"
      ],
      "execution_count": 28,
      "outputs": []
    },
    {
      "cell_type": "code",
      "metadata": {
        "id": "6vty9bGImuy4"
      },
      "source": [
        "# Add group summary to the beginning of output tables\n",
        "output_tables.insert(0, group_summary_table)\n",
        "output_tables_sheet_names.insert(0, \"Group summary\")"
      ],
      "execution_count": 29,
      "outputs": []
    },
    {
      "cell_type": "code",
      "metadata": {
        "colab": {
          "base_uri": "https://localhost:8080/",
          "height": 175
        },
        "id": "oWWtZ8D5SMZN",
        "outputId": "8349234d-8f31-48e4-91e3-9b528b4587a6"
      },
      "source": [
        "group_summary_table"
      ],
      "execution_count": 30,
      "outputs": [
        {
          "output_type": "execute_result",
          "data": {
            "text/html": [
              "<div>\n",
              "<style scoped>\n",
              "    .dataframe tbody tr th:only-of-type {\n",
              "        vertical-align: middle;\n",
              "    }\n",
              "\n",
              "    .dataframe tbody tr th {\n",
              "        vertical-align: top;\n",
              "    }\n",
              "\n",
              "    .dataframe thead th {\n",
              "        text-align: right;\n",
              "    }\n",
              "</style>\n",
              "<table border=\"1\" class=\"dataframe\">\n",
              "  <thead>\n",
              "    <tr style=\"text-align: right;\">\n",
              "      <th></th>\n",
              "      <th>Group</th>\n",
              "      <th>Pooled stat</th>\n",
              "      <th>Pooled p</th>\n",
              "      <th>Sig</th>\n",
              "      <th>Pooled diff_mean (svm-wvma)</th>\n",
              "      <th>Num questions</th>\n",
              "      <th>Fraction of sig questions</th>\n",
              "      <th>Pooled num SVM reponses</th>\n",
              "      <th>Pooled num WVMA responses</th>\n",
              "    </tr>\n",
              "  </thead>\n",
              "  <tbody>\n",
              "    <tr>\n",
              "      <th>0</th>\n",
              "      <td>Companion Animal</td>\n",
              "      <td>116.285604</td>\n",
              "      <td>4.115488e-27</td>\n",
              "      <td>*</td>\n",
              "      <td>0.422896</td>\n",
              "      <td>3</td>\n",
              "      <td>3/3</td>\n",
              "      <td>873</td>\n",
              "      <td>2052</td>\n",
              "    </tr>\n",
              "    <tr>\n",
              "      <th>1</th>\n",
              "      <td>Special Species</td>\n",
              "      <td>88.071722</td>\n",
              "      <td>6.312362e-21</td>\n",
              "      <td>*</td>\n",
              "      <td>0.829351</td>\n",
              "      <td>3</td>\n",
              "      <td>3/3</td>\n",
              "      <td>300</td>\n",
              "      <td>349</td>\n",
              "    </tr>\n",
              "    <tr>\n",
              "      <th>2</th>\n",
              "      <td>Food Animal</td>\n",
              "      <td>38.414693</td>\n",
              "      <td>5.720013e-10</td>\n",
              "      <td>*</td>\n",
              "      <td>0.343863</td>\n",
              "      <td>3</td>\n",
              "      <td>3/3</td>\n",
              "      <td>300</td>\n",
              "      <td>849</td>\n",
              "    </tr>\n",
              "    <tr>\n",
              "      <th>3</th>\n",
              "      <td>Equine</td>\n",
              "      <td>34.403083</td>\n",
              "      <td>4.480131e-09</td>\n",
              "      <td>*</td>\n",
              "      <td>0.329043</td>\n",
              "      <td>3</td>\n",
              "      <td>3/3</td>\n",
              "      <td>250</td>\n",
              "      <td>575</td>\n",
              "    </tr>\n",
              "  </tbody>\n",
              "</table>\n",
              "</div>"
            ],
            "text/plain": [
              "              Group  ...  Pooled num WVMA responses\n",
              "0  Companion Animal  ...                       2052\n",
              "1   Special Species  ...                        349\n",
              "2       Food Animal  ...                        849\n",
              "3            Equine  ...                        575\n",
              "\n",
              "[4 rows x 9 columns]"
            ]
          },
          "metadata": {
            "tags": []
          },
          "execution_count": 30
        }
      ]
    },
    {
      "cell_type": "markdown",
      "metadata": {
        "id": "XQ8D_UMwQGy5"
      },
      "source": [
        "Looking at pooled comparisons at the group level, there are significant differences between the SVM and WVMA expectations for all species groups.\n",
        "\n",
        "As we saw, there are significant differences at the individual question and subquestion levels within all groups as well."
      ]
    },
    {
      "cell_type": "markdown",
      "metadata": {
        "id": "diMo-zLnlEBb"
      },
      "source": [
        "# Generate tables"
      ]
    },
    {
      "cell_type": "markdown",
      "metadata": {
        "id": "ILmLfYGQlIko"
      },
      "source": [
        "We will generate the following tables using pooled data from these experiments:\n",
        "\n",
        "1.   `summary_nontechnical.xlsx`: Group summary table and a table for procedure sets (questions) within each group. This summary focuses on the differences between species areas.\n",
        "2.   `companion_animal_nontechnical.xlsx`: Tables for all procedures within the companion animal group.\n",
        "3.   `special_species_nontechnical.xlsx`: Tables for all procedures within the special species group.\n",
        "4.   `food_animal_nontechnical.xlsx`: Tables for all procedures within the food animal group.\n",
        "5.   `equine_nontechnical.xlsx`:Tables for all procedures within the equine group.\n",
        "6. `summary_nontechnical_allspecies.xlsx`: Summary table for responses to procedures (subquestions) pooled across species areas.\n",
        "\n"
      ]
    },
    {
      "cell_type": "markdown",
      "metadata": {
        "id": "qSmJ61cUnNFf"
      },
      "source": [
        "## Summary"
      ]
    },
    {
      "cell_type": "code",
      "metadata": {
        "id": "wSPZ3y-HnRtd"
      },
      "source": [
        "writer = pd.ExcelWriter('summary_nontechnical.xlsx', engine='xlsxwriter')\n",
        "\n",
        "for i,table in enumerate(output_tables):\n",
        "    sheet_name = output_tables_sheet_names[i]\n",
        "    table.to_excel(writer, sheet_name=sheet_name, index=False)\n",
        "\n",
        "    # Auto-adjust columns widths\n",
        "    for column in table:\n",
        "        column_width = max(table[column].astype(str).map(len).max(), len(column))\n",
        "        col_idx = table.columns.get_loc(column)\n",
        "        writer.sheets[sheet_name].set_column(col_idx, col_idx, column_width)\n",
        "\n",
        "writer.save()"
      ],
      "execution_count": 31,
      "outputs": []
    },
    {
      "cell_type": "markdown",
      "metadata": {
        "id": "IaBUKi17qVGa"
      },
      "source": [
        "## All Species Summary"
      ]
    },
    {
      "cell_type": "code",
      "metadata": {
        "colab": {
          "base_uri": "https://localhost:8080/"
        },
        "id": "EMoaSp9TqYuG",
        "outputId": "e64ddd4a-a70e-41ec-bb3c-a7e448eb881c"
      },
      "source": [
        "group_table, pooled_q_stats, sig_count, n_questions, svm_responses, wvma_responses, subq_data  = analyze_group(question_list, n_subq_list, question_strings, svm, wvma)"
      ],
      "execution_count": 32,
      "outputs": [
        {
          "output_type": "stream",
          "text": [
            "Group result (all questions): stat=138.341, p=6.14e-32, diff_mean (svm-wvma)=0.391, sig_subq=3/3\n"
          ],
          "name": "stdout"
        }
      ]
    },
    {
      "cell_type": "code",
      "metadata": {
        "id": "0LI-dgD4raru"
      },
      "source": [
        "subq_tables, subq_tables_names = subq_data\n",
        "\n",
        "# Loop through tables\n",
        "writer = pd.ExcelWriter('summary_nontechnical_allspecies.xlsx', engine='xlsxwriter')\n",
        "\n",
        "for i,table in enumerate(subq_tables):\n",
        "    sheet_name = subq_tables_names[i]\n",
        "    table.to_excel(writer, sheet_name=sheet_name, index=False)\n",
        "\n",
        "    # Auto-adjust columns widths\n",
        "    for column in table:\n",
        "        column_width = max(table[column].astype(str).map(len).max(), len(column))\n",
        "        col_idx = table.columns.get_loc(column)\n",
        "        writer.sheets[sheet_name].set_column(col_idx, col_idx, column_width)\n",
        "\n",
        "writer.save()"
      ],
      "execution_count": 33,
      "outputs": []
    },
    {
      "cell_type": "markdown",
      "metadata": {
        "id": "UnxgmXT2sBdy"
      },
      "source": [
        "## All procedures"
      ]
    },
    {
      "cell_type": "code",
      "metadata": {
        "id": "4phlYJz8sGjg"
      },
      "source": [
        "for i, file in enumerate(['companion_animal_nontechnical.xlsx', 'special_species_nontechnical.xlsx', 'food_animal_nontechnical.xlsx', 'equine_nontechnical.xlsx']):\n",
        "    subq_data = output_subq_data[i]\n",
        "    subq_tables, subq_tables_names = subq_data\n",
        "\n",
        "    # Loop through tables\n",
        "    writer = pd.ExcelWriter(file, engine='xlsxwriter')\n",
        "\n",
        "    for i,table in enumerate(subq_tables):\n",
        "        sheet_name = subq_tables_names[i]\n",
        "        table.to_excel(writer, sheet_name=sheet_name, index=False)\n",
        "\n",
        "        # Auto-adjust columns widths\n",
        "        for column in table:\n",
        "            column_width = max(table[column].astype(str).map(len).max(), len(column))\n",
        "            col_idx = table.columns.get_loc(column)\n",
        "            writer.sheets[sheet_name].set_column(col_idx, col_idx, column_width)\n",
        "\n",
        "    writer.save()"
      ],
      "execution_count": 34,
      "outputs": []
    }
  ]
}
