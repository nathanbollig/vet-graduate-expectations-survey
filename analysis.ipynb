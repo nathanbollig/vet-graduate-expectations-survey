{
  "nbformat": 4,
  "nbformat_minor": 0,
  "metadata": {
    "colab": {
      "name": "analysis.ipynb",
      "provenance": [],
      "collapsed_sections": [
        "JBgWEEZT8D7s"
      ],
      "mount_file_id": "https://github.com/nathanbollig/vet-graduate-expectations-survey/blob/main/analysis.ipynb",
      "authorship_tag": "ABX9TyOwVPKKccxYoCBzCy5rWGee",
      "include_colab_link": true
    },
    "kernelspec": {
      "name": "python3",
      "display_name": "Python 3"
    },
    "language_info": {
      "name": "python"
    }
  },
  "cells": [
    {
      "cell_type": "markdown",
      "metadata": {
        "id": "view-in-github",
        "colab_type": "text"
      },
      "source": [
        "<a href=\"https://colab.research.google.com/github/nathanbollig/vet-graduate-expectations-survey/blob/main/analysis.ipynb\" target=\"_parent\"><img src=\"https://colab.research.google.com/assets/colab-badge.svg\" alt=\"Open In Colab\"/></a>"
      ]
    },
    {
      "cell_type": "markdown",
      "metadata": {
        "id": "_xA2L7zDBZ6z"
      },
      "source": [
        "# Veterinary graduate expectations survey\n",
        "\n",
        "Start by uploading the data into the working directory. Two files are required:\n",
        "\n",
        "1.   `SVM.xlsx`: SVM graduate expectations survey results\n",
        "2.   `WVMA.xlsx`: WVMA graduate expectations survey results"
      ]
    },
    {
      "cell_type": "markdown",
      "metadata": {
        "id": "AbR-3ffREDwN"
      },
      "source": [
        "## Set up"
      ]
    },
    {
      "cell_type": "code",
      "metadata": {
        "id": "2h3-qlKqoFUd",
        "colab": {
          "base_uri": "https://localhost:8080/"
        },
        "outputId": "840c899a-d959-4927-ab3f-2556f2e199aa"
      },
      "source": [
        "! pip install xlsxwriter"
      ],
      "execution_count": 139,
      "outputs": [
        {
          "output_type": "stream",
          "name": "stdout",
          "text": [
            "Requirement already satisfied: xlsxwriter in /usr/local/lib/python3.7/dist-packages (3.0.1)\n"
          ]
        }
      ]
    },
    {
      "cell_type": "code",
      "metadata": {
        "id": "ssV1VbT8A41w"
      },
      "source": [
        "import pandas as pd\n",
        "import numpy as np\n",
        "from scipy.stats import kruskal\n",
        "#from scipy.stats import normaltest\n",
        "#from scipy.stats import ttest_ind\n",
        "from statsmodels.stats.multitest import fdrcorrection\n"
      ],
      "execution_count": 140,
      "outputs": []
    },
    {
      "cell_type": "markdown",
      "metadata": {
        "id": "3BXww0G-FnLK"
      },
      "source": [
        "### Read in SVM data"
      ]
    },
    {
      "cell_type": "code",
      "metadata": {
        "id": "qlzso2T4CO7h"
      },
      "source": [
        "# Use top row as header and skip second header row\n",
        "svm = pd.read_excel('SVM.xlsx', header=0, skiprows=lambda x: x in [1])  \n",
        "\n",
        "# Read in questions from second header row and associate with column names\n",
        "question_svm = {}\n",
        "\n",
        "top_rows = pd.read_excel('SVM.xlsx', nrows=2) \n",
        "\n",
        "for col in list(top_rows.columns):\n",
        "    question_svm[col] = top_rows.iloc[0][col]"
      ],
      "execution_count": 141,
      "outputs": []
    },
    {
      "cell_type": "markdown",
      "metadata": {
        "id": "zJ4umVHfFpGY"
      },
      "source": [
        "### Read in WVMA data"
      ]
    },
    {
      "cell_type": "code",
      "metadata": {
        "id": "ynulEF-JE_L5"
      },
      "source": [
        "# Use top row as header and skip second header row\n",
        "wvma = pd.read_excel('WVMA.xlsx', header=0, skiprows=lambda x: x in [1])  \n",
        "\n",
        "# Read in questions from second header row and associate with column names\n",
        "question_wvma = {}\n",
        "\n",
        "top_rows_wvma = pd.read_excel('WVMA.xlsx', nrows=2) \n",
        "\n",
        "for col in list(top_rows_wvma.columns):\n",
        "    question_wvma[col] = top_rows_wvma.iloc[0][col]"
      ],
      "execution_count": 142,
      "outputs": []
    },
    {
      "cell_type": "markdown",
      "metadata": {
        "id": "bQQOy_oEWVoV"
      },
      "source": [
        "### Set Analysis Parameters"
      ]
    },
    {
      "cell_type": "code",
      "metadata": {
        "id": "cJlDmDl4WYEv"
      },
      "source": [
        "ALPHA = 0.05\n",
        "force_completion_rate = 0    # a respondent needs to have completed strictly more than this percentage of all subquestions to be included in a group-level comparison"
      ],
      "execution_count": 143,
      "outputs": []
    },
    {
      "cell_type": "code",
      "metadata": {
        "id": "94C9nJyPYLAu"
      },
      "source": [
        "\"\"\"\n",
        "The `analysis_mode` variable specifies which two main populations are being compared in this analysis. Possible values are:\n",
        "    0 - SVM vs. WVMA\n",
        "    1 - SVM specialists vs. WVMA specialists\n",
        "    2 - WVMA specialists vs. WVMA generalists\n",
        "\"\"\"\n",
        "\n",
        "analysis_mode = 2"
      ],
      "execution_count": 144,
      "outputs": []
    },
    {
      "cell_type": "code",
      "metadata": {
        "id": "bbV3w3q6Zwci"
      },
      "source": [
        "\"\"\"\n",
        "Technical or non-technical.\n",
        "\n",
        "The nontechnical questions are Q13, Q14, and Q16 for all species categories.\n",
        "\"\"\"\n",
        "nontechnical = True"
      ],
      "execution_count": 145,
      "outputs": []
    },
    {
      "cell_type": "markdown",
      "metadata": {
        "id": "Cz8WlE8haHbU"
      },
      "source": [
        "Run the following to set up the notebook for this analysis."
      ]
    },
    {
      "cell_type": "code",
      "metadata": {
        "id": "jK0ju0_GZHyu"
      },
      "source": [
        "# Preparation for SVM vs. WVMA\n",
        "if analysis_mode == 0:\n",
        "    pop1 = svm.copy()\n",
        "    pop2 = wvma.copy()\n",
        "    pop1_str = \"SVM\"\n",
        "    pop2_str = \"WVMA\"\n",
        "    file_suffix = \"\"\n",
        "\n",
        "# Preparation for SVM specialists vs. WVMA specialists\n",
        "if analysis_mode == 1:\n",
        "    pop1 = svm[svm['Q59'].notnull()].copy()\n",
        "    pop2 = wvma[wvma['Q49'].notnull()].copy()\n",
        "    pop1_str = \"SVM\"\n",
        "    pop2_str = \"WVMA\"\n",
        "    file_suffix = \"_s\"\n",
        "\n",
        "# Preparation for WVMA specialists vs. WVMA generalists\n",
        "if analysis_mode == 2:\n",
        "    pop1 = wvma[wvma['Q49'].notnull()].copy()\n",
        "    pop2 = wvma[wvma['Q49'].isnull()].copy()\n",
        "    pop1_str = \"specialist\"\n",
        "    pop2_str = \"generalist\"\n",
        "    file_suffix = \"_sg\"\n",
        "\n",
        "# Adjust file suffix for nontechnical analysis\n",
        "if nontechnical == True:\n",
        "    file_suffix = file_suffix + \"_nontechnical\""
      ],
      "execution_count": 146,
      "outputs": []
    },
    {
      "cell_type": "markdown",
      "metadata": {
        "id": "13Xr5vZRpGhD"
      },
      "source": [
        "### Counts of species area"
      ]
    },
    {
      "cell_type": "markdown",
      "metadata": {
        "id": "5Y0wToTmXGAA"
      },
      "source": [
        "Let's look at the counts of species area (`Q1`) in each population. First, note that this question allowed multiple responses, which appear as a common-delimited list. The below code counts how many times each species appears, taking into account the possible of multiple responses."
      ]
    },
    {
      "cell_type": "code",
      "metadata": {
        "colab": {
          "base_uri": "https://localhost:8080/"
        },
        "id": "SeM9chi4ieBu",
        "outputId": "5d088f95-0c55-46df-ed1f-fc62664e9e2f"
      },
      "source": [
        "from collections import defaultdict\n",
        "\n",
        "pop1_counts = defaultdict(int) # start each count at zero by default\n",
        "\n",
        "for entry in list(pop1.Q1):\n",
        "    if isinstance(entry, str):\n",
        "        species_list = entry.split(',')\n",
        "        for species in species_list:\n",
        "            pop1_counts[species] += 1\n",
        "    elif np.isnan(entry) == True:\n",
        "        pop1_counts[\"empty\"] += 1\n",
        "\n",
        "print(\"*** %s Survey ***\" % (pop1_str,))\n",
        "for key, val in pop1_counts.items():\n",
        "    print(\"%s: %i\" % (key, val))"
      ],
      "execution_count": 147,
      "outputs": [
        {
          "output_type": "stream",
          "name": "stdout",
          "text": [
            "*** specialist Survey ***\n",
            "Food Animal (bovine): 6\n",
            "Companion Animal (canine and/or feline): 15\n",
            "Equine: 5\n",
            "Special Species (ex. exotic companion animals): 2\n",
            "empty: 1\n"
          ]
        }
      ]
    },
    {
      "cell_type": "code",
      "metadata": {
        "colab": {
          "base_uri": "https://localhost:8080/"
        },
        "id": "945gjw5Gntff",
        "outputId": "2406545a-045c-4b2f-99cd-9213cb3de021"
      },
      "source": [
        "pop2_counts = defaultdict(int) # start each count at zero by default\n",
        "\n",
        "for entry in list(pop2.Q1):\n",
        "    if isinstance(entry, str):\n",
        "        species_list = entry.split(',')\n",
        "        for species in species_list:\n",
        "            pop2_counts[species] += 1\n",
        "    elif np.isnan(entry) == True:\n",
        "        pop2_counts[\"empty\"] += 1\n",
        "\n",
        "print(\"*** %s Survey ***\" % (pop2_str,))\n",
        "for key, val in pop2_counts.items():\n",
        "    print(\"%s: %i\" % (key, val))"
      ],
      "execution_count": 148,
      "outputs": [
        {
          "output_type": "stream",
          "name": "stdout",
          "text": [
            "*** generalist Survey ***\n",
            "Companion Animal (canine and/or feline): 100\n",
            "Food Animal (bovine): 42\n",
            "Equine: 25\n",
            "Special Species (ex. exotic companion animals): 19\n",
            "empty: 28\n"
          ]
        }
      ]
    },
    {
      "cell_type": "markdown",
      "metadata": {
        "id": "TsZMPL4GN5SA"
      },
      "source": [
        "### Note about organization"
      ]
    },
    {
      "cell_type": "markdown",
      "metadata": {
        "id": "twcIZqWMNLxU"
      },
      "source": [
        "There are several levels of organization in our interpretation of this data.\n",
        "\n",
        " * `Group`: One of the 4 species groups (companion animal, special species, food animal, or equine)\n",
        "     * `Question`: A group of procedures in a category such as \"Medical Procedures\" or \"Surgical Procedures\"\n",
        "          * `Sub-question`: A particular procedure\n",
        "\n",
        "We can perform analysis at the sub-question level, or pool upwards to the question or group level. I will do all of this below.\n",
        "\n",
        "\n",
        "\n"
      ]
    },
    {
      "cell_type": "markdown",
      "metadata": {
        "id": "udPYeYwWBbqR"
      },
      "source": [
        "## Question analysis"
      ]
    },
    {
      "cell_type": "markdown",
      "metadata": {
        "id": "79O0ABQyu9UE"
      },
      "source": [
        "Let's encode the expectation response in the following way:\n",
        "\n",
        " * 0: No Expectation to Perform Procedure\n",
        "\n",
        " * 1: Perform with Assistance (assist with portions of procedure)\n",
        " \n",
        " * 2: Perform with Direct Supervision (present in room during procedure)\n",
        "\n",
        " * 3: Perform with Indirect Supervision (available in building or by phone if needed)\n",
        "\n",
        " * 4: Perform Independently"
      ]
    },
    {
      "cell_type": "code",
      "metadata": {
        "id": "it_mQuqavdMD"
      },
      "source": [
        "def encode_expectation(response_string):\n",
        "    if isinstance(response_string, int) == True:\n",
        "        return response_string\n",
        "    \n",
        "    # Encode nan values as -1\n",
        "    if isinstance(response_string, str) == False:\n",
        "        if np.isnan(response_string) == True:\n",
        "            return -1\n",
        "    \n",
        "    # Encode string\n",
        "    s = response_string.lower()\n",
        "    if s.find('no expectation') > -1:\n",
        "        return 0\n",
        "    elif s.find('with assistance') > -1:\n",
        "        return 1\n",
        "    elif s.find('indirect supervision') > -1:\n",
        "        return 3\n",
        "    elif s.find('direct supervision') > -1:\n",
        "        return 2\n",
        "    elif s.find('independently') > -1:\n",
        "        return 4\n",
        "    else:\n",
        "        print(response_string)\n",
        "        raise ValueError('Expected performance response was not formatted as expected.')"
      ],
      "execution_count": 149,
      "outputs": []
    },
    {
      "cell_type": "code",
      "metadata": {
        "id": "vVGtl2giphjY"
      },
      "source": [
        "\"\"\"\n",
        "Function for computing the composite average scores for all respondents. The \n",
        "average is over all subquestions in the indicated question.\n",
        "\n",
        "For a given respondent to be included in the output, their response rate for this group\n",
        "of subquestions must be above the value of `force_completion_rate`.\n",
        "\"\"\"\n",
        "def get_composite_scores(filtered_df, question_list, n_subq_list, force_completion_rate):\n",
        "    composite_scores = []\n",
        "    indices_used = []\n",
        "    for i in range(filtered_df.shape[0]):  # Loop over respondents\n",
        "        responses_in_group = []\n",
        "\n",
        "        # Loop over questions in the group\n",
        "        for q_index in range(len(question_list)): \n",
        "            question_number = question_list[q_index]\n",
        "            n_subquestions = n_subq_list[q_index]\n",
        "\n",
        "            for j in range(1, n_subquestions+1):  # Loop over subquestions in this question\n",
        "                qkey = \"Q\" + str(question_number) + \"_\" + str(j)\n",
        "                filtered_df[qkey] = filtered_df[qkey].apply(lambda x: encode_expectation(x))\n",
        "                response = filtered_df[qkey].iloc[[i]]\n",
        "                responses_in_group.append(response)\n",
        "        \n",
        "        responses_in_group = np.array(responses_in_group)\n",
        "\n",
        "        # verify inclusion of respondent in the group analysis\n",
        "        unique, counts = np.unique(responses_in_group, return_counts=True)\n",
        "        counter = dict(zip(unique, counts))\n",
        "        response_rate = 1 - counter.get(-1,0) / len(responses_in_group)\n",
        "        if (response_rate <= force_completion_rate):\n",
        "            continue\n",
        "        else:\n",
        "            indices_used.append(i)\n",
        "        \n",
        "        # remove -1 (empty) values and compute average score of responses\n",
        "        index = np.where(responses_in_group != -1)[0]\n",
        "        responses_in_group = responses_in_group[index]\n",
        "        \n",
        "        # add average of responses to list of composite scores\n",
        "        composite_response = np.mean(responses_in_group)\n",
        "        composite_scores.append(composite_response)\n",
        "\n",
        "    return composite_scores, indices_used"
      ],
      "execution_count": 150,
      "outputs": []
    },
    {
      "cell_type": "code",
      "metadata": {
        "id": "BhsBJD7iZY8M"
      },
      "source": [
        "def run_kruskal(pop1_data, pop2_data):\n",
        "    if len(pop1_data) >= 5 and len(pop2_data) >= 5:\n",
        "        stat, p = kruskal(pop1_data, pop2_data)\n",
        "    else:\n",
        "        stat = 0\n",
        "        p = 1\n",
        "    return stat, p"
      ],
      "execution_count": 151,
      "outputs": []
    },
    {
      "cell_type": "code",
      "metadata": {
        "id": "-3_bRSKkA5vO"
      },
      "source": [
        "def analyze_question(question_number, filtered_pop1_df, filtered_pop2_df, n_subquestions, alpha=0.05, verbose=True):\n",
        "    \"\"\"\n",
        "    Perform an analysis of a given question on a species-filtered dataframe.\n",
        "    \n",
        "    Inputs:\n",
        "        question_number: main question number to analyze\n",
        "        filtered_pop1_df: pop1 dataframe filtered to respondants with the desired species area\n",
        "        filtered_pop2_df: pop2 dataframe filtered to respondants with the desired species area\n",
        "        n_subquestions: number of subquestions in the main question\n",
        "        alpha: power level for the statistical test\n",
        "\n",
        "    Prints a summary of results.\n",
        "\n",
        "    Outputs:\n",
        "        table: summary table\n",
        "        (pooled_stat, pooled_p, pooled_diff_mean): tuple of statistics describing output of Kruskal test on the distributions of average responses over subquestions\n",
        "        pop1_data: list of composite pop1 data (average of subquestion reponses for all respondents meeting completion rate threshold)\n",
        "        pop2_data: list of composite pop2 data\n",
        "        sig_count: number of subquestions with significant difference detected (between pop1 and pop2 responses), according to Kruskal test applied at subquestion level\n",
        "\n",
        "    \"\"\"\n",
        "\n",
        "    pop1_counts = np.zeros((n_subquestions, 6), dtype=int) # Row for each question, column for empty (-1), 0, 1, 2, 3, and 4 responses\n",
        "    pop2_counts = np.zeros((n_subquestions, 6), dtype=int) # Row for each question, column for empty (-1), 0, 1, 2, 3, and 4 responses\n",
        "    rows = []\n",
        "\n",
        "    for i in range(1, n_subquestions+1):\n",
        "        qkey = \"Q\" + str(question_number) + \"_\" + str(i)\n",
        "        qstring = question_svm[qkey].split('-')[2] # could refer to questions_svm or questions_wvma\n",
        "\n",
        "        # Encoding\n",
        "        filtered_pop1_df[qkey] = filtered_pop1_df[qkey].apply(lambda x: encode_expectation(x))\n",
        "        filtered_pop2_df[qkey] = filtered_pop2_df[qkey].apply(lambda x: encode_expectation(x))\n",
        "\n",
        "        # pop1 tally\n",
        "        counts = filtered_pop1_df[qkey].value_counts(dropna=False)\n",
        "        for key in counts.keys():\n",
        "            pop1_counts[i-1][key+1] += counts[key] # question index is 1-based; keys range from -1 to 4\n",
        "        counts = pop1_counts[i-1][1:] # counts of 0, 1, 2, 3, and 4\n",
        "        pop1_num_responses = np.sum(counts)\n",
        "        pop1_mean = (0*counts[0] + 1*counts[1] + 2*counts[2] + 3*counts[3] + 4*counts[4]) / pop1_num_responses\n",
        "\n",
        "        # pop2 tally\n",
        "        counts = filtered_pop2_df[qkey].value_counts(dropna=False)\n",
        "        for key in counts.keys():\n",
        "            pop2_counts[i-1][key+1] += counts[key]\n",
        "        counts = pop2_counts[i-1][1:] # counts of 0, 1, 2, 3, and 4\n",
        "        pop2_num_responses = np.sum(counts)\n",
        "        pop2_mean = (0*counts[0] + 1*counts[1] + 2*counts[2] + 3*counts[3] + 4*counts[4]) / pop2_num_responses\n",
        "        \n",
        "        # Get data\n",
        "        pop1_data = list(filtered_pop1_df[qkey])\n",
        "        pop2_data = list(filtered_pop2_df[qkey])\n",
        "\n",
        "        # Remove empty values from data\n",
        "        pop1_data = [x for x in pop1_data if x != -1]\n",
        "        pop2_data = [x for x in pop2_data if x != -1]\n",
        "\n",
        "        assert(pop1_num_responses == len(pop1_data))\n",
        "        assert(pop2_num_responses == len(pop2_data))\n",
        "\n",
        "        # compare samples\n",
        "        stat,p = run_kruskal(pop1_data, pop2_data)\n",
        "\n",
        "        # Cache row for table of results\n",
        "        row = [qstring] + list(pop1_counts[i-1]) + [pop1_mean, pop1_num_responses] + list(pop2_counts[i-1]) + [pop2_mean, pop2_num_responses, pop1_mean-pop2_mean, stat, p]\n",
        "        rows.append(row)\n",
        "\n",
        "    # Assemble table of results\n",
        "    table = pd.DataFrame(rows, columns=[\"Subquestion\", pop1_str+\": empty\", pop1_str+\": 0\", pop1_str+\": 1\", \n",
        "                                        pop1_str+\": 2\", pop1_str+\": 3\", pop1_str+\": 4\", pop1_str+\": avg\", pop1_str+\": num responses\", \n",
        "                                        pop2_str+\": empty\", pop2_str+\": 0\", pop2_str+\": 1\", pop2_str+\": 2\", pop2_str+\": 3\", pop2_str+\": 4\", pop2_str+\": avg\", pop2_str+\": num responses\", \n",
        "                                        \"Diff Mean (\"+pop1_str+\"-\"+pop2_str+\")\", \"stat\", \"pval\"])\n",
        "\n",
        "    # Compute composite scores\n",
        "    pop1_composite_scores,_ = get_composite_scores(filtered_pop1_df, [question_number], [n_subquestions], force_completion_rate)\n",
        "    pop2_composite_scores,_ = get_composite_scores(filtered_pop2_df, [question_number], [n_subquestions], force_completion_rate)\n",
        "\n",
        "    #from scipy.stats import normaltest\n",
        "    #_,p = normaltest(pop1_composite_scores)\n",
        "\n",
        "    # Apply Kruskal test to composite data\n",
        "    pooled_stat, pooled_p = run_kruskal(pop1_composite_scores, pop2_composite_scores)\n",
        "    pooled_diff_mean = np.mean(pop1_composite_scores) - np.mean(pop2_composite_scores)\n",
        "\n",
        "    # Print\n",
        "    if verbose == True:\n",
        "        print('Q%s composite scores: stat=%.3f, p=%.2e, diff_mean (%s-%s)=%.3f' % (question_number, pooled_stat, pooled_p, pop1_str, pop2_str, pooled_diff_mean))\n",
        "\n",
        "    return table, (pooled_stat, pooled_p, pooled_diff_mean), pop1_composite_scores, pop2_composite_scores\n"
      ],
      "execution_count": 152,
      "outputs": []
    },
    {
      "cell_type": "markdown",
      "metadata": {
        "id": "RWT_CepwVO7O"
      },
      "source": [
        "## Group Analysis"
      ]
    },
    {
      "cell_type": "code",
      "metadata": {
        "id": "No1h2UNOF0XC"
      },
      "source": [
        "# Code to analyze all questions within the group\n",
        "\n",
        "def analyze_group(question_list, n_subq_list, question_strings, filtered_pop1_df, filtered_pop2_df, alpha=0.05):\n",
        "    pop1_pooled = [] # now pooling over entire group\n",
        "    pop2_pooled = []\n",
        "    rows = []\n",
        "    subq_tables = []\n",
        "    subq_tables_names = []\n",
        "\n",
        "    for i in range(len(question_list)):\n",
        "        question_number = question_list[i]\n",
        "        n_subquestions = n_subq_list[i]\n",
        "        question_string = question_strings[i]\n",
        "\n",
        "        # Run analysis\n",
        "        table, subq_pooled_result, pop1_data, pop2_data = analyze_question(question_number, filtered_pop1_df, filtered_pop2_df, n_subquestions, verbose=False, alpha=alpha)\n",
        "        pooled_stat, pooled_p, pooled_diff_mean = subq_pooled_result\n",
        "        pop1_num_responses = len(pop1_data)\n",
        "        pop2_num_responses = len(pop2_data)\n",
        "\n",
        "        # Cache procedure tables\n",
        "        subq_tables.append(table)\n",
        "        subq_tables_names.append('Q'+str(question_number))\n",
        "\n",
        "        # Cache data for group summary\n",
        "        row = ['Q'+str(question_number), question_string, n_subquestions, pop1_num_responses, pop2_num_responses, pooled_diff_mean, pooled_stat, pooled_p]\n",
        "        rows.append(row)\n",
        "\n",
        "    # Assemble table of results\n",
        "    group_table = pd.DataFrame(rows, columns=[\"Question number\", \"Category\", \"Num subquestions\", \"Num %s respondents\"%(pop1_str,), \"Num %s respondents\"%(pop2_str,), \"Diff Mean (%s-%s)\"%(pop1_str, pop2_str), \"Stat\", \"pval\"])                     \n",
        "\n",
        "    # Compute composite scores\n",
        "    pop1_composite_scores,_ = get_composite_scores(filtered_pop1_df, question_list, n_subq_list, force_completion_rate)\n",
        "    pop2_composite_scores,_ = get_composite_scores(filtered_pop2_df, question_list, n_subq_list, force_completion_rate)\n",
        "\n",
        "    # Apply Kruskal test to pooled data\n",
        "    pooled_stat, pooled_p = run_kruskal(pop1_composite_scores, pop2_composite_scores)\n",
        "    pooled_diff_mean = np.mean(pop1_composite_scores) - np.mean(pop2_composite_scores)\n",
        "\n",
        "    # Print\n",
        "    print('Group result (all questions): stat=%.3f, p=%.2e, diff_mean (%s-%s)=%.3f' % (pooled_stat, pooled_p, pop1_str, pop2_str, pooled_diff_mean))\n",
        "\n",
        "    return group_table, (pooled_stat, pooled_p, pooled_diff_mean), np.sum(n_subq_list), len(pop1_composite_scores), len(pop2_composite_scores), (subq_tables, subq_tables_names)"
      ],
      "execution_count": 153,
      "outputs": []
    },
    {
      "cell_type": "code",
      "metadata": {
        "id": "TV8dbNjhQkpS"
      },
      "source": [
        "# cache data across all groups\n",
        "group_data = []\n",
        "group_columns = [\"Group\", \"Num subquestions\", \"Num of %s respondents\"%(pop1_str,), \"Num of %s respondents\"%(pop2_str,), \"Diff_mean (%s-%s)\"%(pop1_str,pop2_str), \"stat\", \"pval\"]"
      ],
      "execution_count": 154,
      "outputs": []
    },
    {
      "cell_type": "code",
      "metadata": {
        "id": "oHHUSx04mA1C"
      },
      "source": [
        "# cache tables\n",
        "output_tables = []\n",
        "output_tables_sheet_names = []\n",
        "\n",
        "# cache subquestion table data\n",
        "output_subq_data = []"
      ],
      "execution_count": 155,
      "outputs": []
    },
    {
      "cell_type": "markdown",
      "metadata": {
        "id": "4CQnMEHdBQiB"
      },
      "source": [
        "### Companion Animal Group"
      ]
    },
    {
      "cell_type": "code",
      "metadata": {
        "id": "hzS9MMxxp3UZ"
      },
      "source": [
        "# Filter dataframe to only companion animal respondants (may have responded to other species too)\n",
        "ca_pop1 = pop1[pop1['Q1'].str.contains('Companion Animal (canine and/or feline)', na=False, regex=False)].copy()"
      ],
      "execution_count": 156,
      "outputs": []
    },
    {
      "cell_type": "code",
      "metadata": {
        "id": "mR1K7domxU40"
      },
      "source": [
        "# Filter dataframe to only companion animal respondants (may have responded to other species too)\n",
        "ca_pop2 = pop2[pop2['Q1'].str.contains('Companion Animal (canine and/or feline)', na=False, regex=False)].copy()"
      ],
      "execution_count": 157,
      "outputs": []
    },
    {
      "cell_type": "code",
      "metadata": {
        "id": "2PRI-LFAE9WW"
      },
      "source": [
        "# Input info about question group\n",
        "\n",
        "if nontechnical == False:\n",
        "    question_list = [16,17,7,8,9,10,11,12]\n",
        "    n_subq_list = [25,10,25,8,4,12,13,3]\n",
        "    question_strings = ['Medical Procedures',\n",
        "                        'Preventive Medicine/Population Health Procedures',\n",
        "                        'Surgical Procedures', \n",
        "                        'Anesthetic Procedures', \n",
        "                        'Reproductive Procedures',\n",
        "                        'Diagnostic Imaging Procedures',\n",
        "                        'Clinical Pathology Procedures',\n",
        "                        'Diagnostic Necropsy Procedures']\n",
        "else:\n",
        "    question_list = [13,14,15]\n",
        "    n_subq_list = [11,6,8]\n",
        "    question_strings = ['Communication practices',\n",
        "                        'Professional and business practices',\n",
        "                        'Ethics and professional practices']\n",
        "\n",
        "assert(len(question_list) == len(n_subq_list))\n",
        "assert(len(n_subq_list) == len(question_strings))"
      ],
      "execution_count": 158,
      "outputs": []
    },
    {
      "cell_type": "code",
      "metadata": {
        "colab": {
          "base_uri": "https://localhost:8080/",
          "height": 283
        },
        "id": "f0MxDBYnLTY4",
        "outputId": "a0c9d80e-0b06-4ed7-8512-9982c8042211"
      },
      "source": [
        "group_table, pooled_q_stats, n_subquestions, pop1_responses, pop2_responses, subq_data  = analyze_group(question_list, n_subq_list, question_strings, ca_pop1, ca_pop2, alpha=ALPHA)\n",
        "pooled_stat, pooled_p, pooled_diff_mean = pooled_q_stats\n",
        "group_data.append([\"Companion Animal\", n_subquestions, pop1_responses, pop2_responses, pooled_diff_mean, pooled_stat, pooled_p])\n",
        "output_tables.append(group_table)\n",
        "output_tables_sheet_names.append(\"Companion Animal\")\n",
        "output_subq_data.append(subq_data)\n",
        "group_table"
      ],
      "execution_count": 159,
      "outputs": [
        {
          "output_type": "stream",
          "name": "stdout",
          "text": [
            "Group result (all questions): stat=4.557, p=3.28e-02, diff_mean (specialist-generalist)=-0.406\n"
          ]
        },
        {
          "output_type": "execute_result",
          "data": {
            "text/html": [
              "<div>\n",
              "<style scoped>\n",
              "    .dataframe tbody tr th:only-of-type {\n",
              "        vertical-align: middle;\n",
              "    }\n",
              "\n",
              "    .dataframe tbody tr th {\n",
              "        vertical-align: top;\n",
              "    }\n",
              "\n",
              "    .dataframe thead th {\n",
              "        text-align: right;\n",
              "    }\n",
              "</style>\n",
              "<table border=\"1\" class=\"dataframe\">\n",
              "  <thead>\n",
              "    <tr style=\"text-align: right;\">\n",
              "      <th></th>\n",
              "      <th>Question number</th>\n",
              "      <th>Category</th>\n",
              "      <th>Num subquestions</th>\n",
              "      <th>Num specialist respondents</th>\n",
              "      <th>Num generalist respondents</th>\n",
              "      <th>Diff Mean (specialist-generalist)</th>\n",
              "      <th>Stat</th>\n",
              "      <th>pval</th>\n",
              "    </tr>\n",
              "  </thead>\n",
              "  <tbody>\n",
              "    <tr>\n",
              "      <th>0</th>\n",
              "      <td>Q13</td>\n",
              "      <td>Communication practices</td>\n",
              "      <td>11</td>\n",
              "      <td>10</td>\n",
              "      <td>72</td>\n",
              "      <td>-0.451944</td>\n",
              "      <td>3.625802</td>\n",
              "      <td>0.056890</td>\n",
              "    </tr>\n",
              "    <tr>\n",
              "      <th>1</th>\n",
              "      <td>Q14</td>\n",
              "      <td>Professional and business practices</td>\n",
              "      <td>6</td>\n",
              "      <td>10</td>\n",
              "      <td>73</td>\n",
              "      <td>-0.535616</td>\n",
              "      <td>2.004022</td>\n",
              "      <td>0.156882</td>\n",
              "    </tr>\n",
              "    <tr>\n",
              "      <th>2</th>\n",
              "      <td>Q15</td>\n",
              "      <td>Ethics and professional practices</td>\n",
              "      <td>8</td>\n",
              "      <td>10</td>\n",
              "      <td>72</td>\n",
              "      <td>-0.237153</td>\n",
              "      <td>2.674112</td>\n",
              "      <td>0.101992</td>\n",
              "    </tr>\n",
              "  </tbody>\n",
              "</table>\n",
              "</div>"
            ],
            "text/plain": [
              "  Question number                             Category  ...      Stat      pval\n",
              "0             Q13              Communication practices  ...  3.625802  0.056890\n",
              "1             Q14  Professional and business practices  ...  2.004022  0.156882\n",
              "2             Q15    Ethics and professional practices  ...  2.674112  0.101992\n",
              "\n",
              "[3 rows x 8 columns]"
            ]
          },
          "metadata": {},
          "execution_count": 159
        }
      ]
    },
    {
      "cell_type": "markdown",
      "metadata": {
        "id": "xmr4Abh_AW6b"
      },
      "source": [
        "### Special Species Group"
      ]
    },
    {
      "cell_type": "code",
      "metadata": {
        "id": "DCdfiCDJAqvY"
      },
      "source": [
        "# Filter dataframes to only companion animal respondants (may have responded to other species too)\n",
        "ss_pop1 = pop1[pop1['Q1'].str.contains('Special Species', na=False, regex=False)].copy()\n",
        "ss_pop2 = pop2[pop2['Q1'].str.contains('Special Species', na=False, regex=False)].copy()"
      ],
      "execution_count": 160,
      "outputs": []
    },
    {
      "cell_type": "code",
      "metadata": {
        "id": "274MDssxK4mQ"
      },
      "source": [
        "# Input info about question group\n",
        "\n",
        "if nontechnical == False:\n",
        "    question_list = [43, 44, 45, 46, 48, 49, 50]\n",
        "    n_subq_list = [20, 9, 11, 8, 6, 13, 3]\n",
        "    question_strings = ['Medical Procedures',\n",
        "                        'Preventive Medicine/Population Health Procedures',\n",
        "                        'Surgical Procedures', \n",
        "                        'Anesthetic Procedures', \n",
        "                        'Diagnostic Imaging Procedures',\n",
        "                        'Clinical Pathology Procedures',\n",
        "                        'Diagnostic Necropsy Procedures']\n",
        "else:\n",
        "    question_list = [13,14,15]\n",
        "    n_subq_list = [11,6,8]\n",
        "    question_strings = ['Communication practices',\n",
        "                        'Professional and business practices',\n",
        "                        'Ethics and professional practices']\n",
        "                        \n",
        "assert(len(question_list) == len(n_subq_list))\n",
        "assert(len(n_subq_list) == len(question_strings))"
      ],
      "execution_count": 161,
      "outputs": []
    },
    {
      "cell_type": "code",
      "metadata": {
        "colab": {
          "base_uri": "https://localhost:8080/",
          "height": 283
        },
        "id": "68Wni7ZWK6CF",
        "outputId": "62ac504e-e6d4-48c6-d477-0677251149d1"
      },
      "source": [
        "group_table, pooled_q_stats, n_subquestions, pop1_responses, pop2_responses, subq_data  = analyze_group(question_list, n_subq_list, question_strings, ss_pop1, ss_pop2, alpha=ALPHA)\n",
        "pooled_stat, pooled_p, pooled_diff_mean = pooled_q_stats\n",
        "group_data.append([\"Special Species\", n_subquestions, pop1_responses, pop2_responses, pooled_diff_mean, pooled_stat, pooled_p])\n",
        "output_tables.append(group_table)\n",
        "output_tables_sheet_names.append(\"Special Species\")\n",
        "output_subq_data.append(subq_data)\n",
        "group_table"
      ],
      "execution_count": 162,
      "outputs": [
        {
          "output_type": "stream",
          "name": "stdout",
          "text": [
            "Group result (all questions): stat=0.000, p=1.00e+00, diff_mean (specialist-generalist)=-1.480\n"
          ]
        },
        {
          "output_type": "execute_result",
          "data": {
            "text/html": [
              "<div>\n",
              "<style scoped>\n",
              "    .dataframe tbody tr th:only-of-type {\n",
              "        vertical-align: middle;\n",
              "    }\n",
              "\n",
              "    .dataframe tbody tr th {\n",
              "        vertical-align: top;\n",
              "    }\n",
              "\n",
              "    .dataframe thead th {\n",
              "        text-align: right;\n",
              "    }\n",
              "</style>\n",
              "<table border=\"1\" class=\"dataframe\">\n",
              "  <thead>\n",
              "    <tr style=\"text-align: right;\">\n",
              "      <th></th>\n",
              "      <th>Question number</th>\n",
              "      <th>Category</th>\n",
              "      <th>Num subquestions</th>\n",
              "      <th>Num specialist respondents</th>\n",
              "      <th>Num generalist respondents</th>\n",
              "      <th>Diff Mean (specialist-generalist)</th>\n",
              "      <th>Stat</th>\n",
              "      <th>pval</th>\n",
              "    </tr>\n",
              "  </thead>\n",
              "  <tbody>\n",
              "    <tr>\n",
              "      <th>0</th>\n",
              "      <td>Q13</td>\n",
              "      <td>Communication practices</td>\n",
              "      <td>11</td>\n",
              "      <td>1</td>\n",
              "      <td>13</td>\n",
              "      <td>-2.146853</td>\n",
              "      <td>0</td>\n",
              "      <td>1</td>\n",
              "    </tr>\n",
              "    <tr>\n",
              "      <th>1</th>\n",
              "      <td>Q14</td>\n",
              "      <td>Professional and business practices</td>\n",
              "      <td>6</td>\n",
              "      <td>1</td>\n",
              "      <td>13</td>\n",
              "      <td>-1.820513</td>\n",
              "      <td>0</td>\n",
              "      <td>1</td>\n",
              "    </tr>\n",
              "    <tr>\n",
              "      <th>2</th>\n",
              "      <td>Q15</td>\n",
              "      <td>Ethics and professional practices</td>\n",
              "      <td>8</td>\n",
              "      <td>1</td>\n",
              "      <td>13</td>\n",
              "      <td>-0.278846</td>\n",
              "      <td>0</td>\n",
              "      <td>1</td>\n",
              "    </tr>\n",
              "  </tbody>\n",
              "</table>\n",
              "</div>"
            ],
            "text/plain": [
              "  Question number                             Category  ...  Stat  pval\n",
              "0             Q13              Communication practices  ...     0     1\n",
              "1             Q14  Professional and business practices  ...     0     1\n",
              "2             Q15    Ethics and professional practices  ...     0     1\n",
              "\n",
              "[3 rows x 8 columns]"
            ]
          },
          "metadata": {},
          "execution_count": 162
        }
      ]
    },
    {
      "cell_type": "markdown",
      "metadata": {
        "id": "OZmv6D7BAkoT"
      },
      "source": [
        "### Food Animal Group"
      ]
    },
    {
      "cell_type": "code",
      "metadata": {
        "id": "l_iFQe9tMNHj"
      },
      "source": [
        "# Filter dataframes to only companion animal respondants (may have responded to other species too)\n",
        "fa_pop1 = pop1[pop1['Q1'].str.contains('Food Animal', na=False, regex=False)].copy()\n",
        "fa_pop2 = pop2[pop2['Q1'].str.contains('Food Animal', na=False, regex=False)].copy()"
      ],
      "execution_count": 163,
      "outputs": []
    },
    {
      "cell_type": "code",
      "metadata": {
        "id": "h84S1L2UMONF"
      },
      "source": [
        "# Input info about question group\n",
        "\n",
        "if nontechnical == False:\n",
        "    question_list = [20, 18, 25, 24, 21, 19, 23, 22, 27]\n",
        "    n_subq_list = [8, 27, 16, 10, 20, 11, 12, 3, 5]\n",
        "    question_strings = ['Handling and Husbandry Procedures',\n",
        "                        'Medical Procedures',\n",
        "                        'Surgical Procedures',\n",
        "                        'Anesthetic Procedures',\n",
        "                        'Preventive Medicine/Population Health Procedures',\n",
        "                        'Reproductive Procedures',\n",
        "                        'Clinical Pathology Procedures',\n",
        "                        'Diagnostic Necropsy Procedures',\n",
        "                        'Diagnostic Imaging Procedures']\n",
        "else:\n",
        "    question_list = [13,14,15]\n",
        "    n_subq_list = [11,6,8]\n",
        "    question_strings = ['Communication practices',\n",
        "                        'Professional and business practices',\n",
        "                        'Ethics and professional practices']\n",
        "\n",
        "assert(len(question_list) == len(n_subq_list))\n",
        "assert(len(n_subq_list) == len(question_strings))"
      ],
      "execution_count": 164,
      "outputs": []
    },
    {
      "cell_type": "code",
      "metadata": {
        "colab": {
          "base_uri": "https://localhost:8080/",
          "height": 283
        },
        "id": "LE1yuS5OMPGh",
        "outputId": "a3fc4927-a3e8-4c05-d305-71be1e34b5e9"
      },
      "source": [
        "group_table, pooled_q_stats, n_subquestions, pop1_responses, pop2_responses, subq_data  = analyze_group(question_list, n_subq_list, question_strings, fa_pop1, fa_pop2, alpha=ALPHA)\n",
        "pooled_stat, pooled_p, pooled_diff_mean = pooled_q_stats\n",
        "group_data.append([\"Food Animal\", n_subquestions, pop1_responses, pop2_responses, pooled_diff_mean, pooled_stat, pooled_p])\n",
        "output_tables.append(group_table)\n",
        "output_tables_sheet_names.append(\"Food Animal\")\n",
        "output_subq_data.append(subq_data)\n",
        "group_table"
      ],
      "execution_count": 165,
      "outputs": [
        {
          "output_type": "stream",
          "name": "stdout",
          "text": [
            "Group result (all questions): stat=0.000, p=1.00e+00, diff_mean (specialist-generalist)=-0.321\n"
          ]
        },
        {
          "output_type": "execute_result",
          "data": {
            "text/html": [
              "<div>\n",
              "<style scoped>\n",
              "    .dataframe tbody tr th:only-of-type {\n",
              "        vertical-align: middle;\n",
              "    }\n",
              "\n",
              "    .dataframe tbody tr th {\n",
              "        vertical-align: top;\n",
              "    }\n",
              "\n",
              "    .dataframe thead th {\n",
              "        text-align: right;\n",
              "    }\n",
              "</style>\n",
              "<table border=\"1\" class=\"dataframe\">\n",
              "  <thead>\n",
              "    <tr style=\"text-align: right;\">\n",
              "      <th></th>\n",
              "      <th>Question number</th>\n",
              "      <th>Category</th>\n",
              "      <th>Num subquestions</th>\n",
              "      <th>Num specialist respondents</th>\n",
              "      <th>Num generalist respondents</th>\n",
              "      <th>Diff Mean (specialist-generalist)</th>\n",
              "      <th>Stat</th>\n",
              "      <th>pval</th>\n",
              "    </tr>\n",
              "  </thead>\n",
              "  <tbody>\n",
              "    <tr>\n",
              "      <th>0</th>\n",
              "      <td>Q13</td>\n",
              "      <td>Communication practices</td>\n",
              "      <td>11</td>\n",
              "      <td>4</td>\n",
              "      <td>30</td>\n",
              "      <td>-0.327273</td>\n",
              "      <td>0</td>\n",
              "      <td>1</td>\n",
              "    </tr>\n",
              "    <tr>\n",
              "      <th>1</th>\n",
              "      <td>Q14</td>\n",
              "      <td>Professional and business practices</td>\n",
              "      <td>6</td>\n",
              "      <td>4</td>\n",
              "      <td>30</td>\n",
              "      <td>-0.336111</td>\n",
              "      <td>0</td>\n",
              "      <td>1</td>\n",
              "    </tr>\n",
              "    <tr>\n",
              "      <th>2</th>\n",
              "      <td>Q15</td>\n",
              "      <td>Ethics and professional practices</td>\n",
              "      <td>8</td>\n",
              "      <td>4</td>\n",
              "      <td>30</td>\n",
              "      <td>-0.302083</td>\n",
              "      <td>0</td>\n",
              "      <td>1</td>\n",
              "    </tr>\n",
              "  </tbody>\n",
              "</table>\n",
              "</div>"
            ],
            "text/plain": [
              "  Question number                             Category  ...  Stat  pval\n",
              "0             Q13              Communication practices  ...     0     1\n",
              "1             Q14  Professional and business practices  ...     0     1\n",
              "2             Q15    Ethics and professional practices  ...     0     1\n",
              "\n",
              "[3 rows x 8 columns]"
            ]
          },
          "metadata": {},
          "execution_count": 165
        }
      ]
    },
    {
      "cell_type": "markdown",
      "metadata": {
        "id": "CupWAW_OAmJA"
      },
      "source": [
        "### Equine Group"
      ]
    },
    {
      "cell_type": "code",
      "metadata": {
        "id": "tv2QyiS3PAY-"
      },
      "source": [
        "# Filter dataframes to only companion animal respondants (may have responded to other species too)\n",
        "eq_pop1 = pop1[pop1['Q1'].str.contains('Equine', na=False, regex=False)].copy()\n",
        "eq_pop2 = pop2[pop2['Q1'].str.contains('Equine', na=False, regex=False)].copy()"
      ],
      "execution_count": 166,
      "outputs": []
    },
    {
      "cell_type": "code",
      "metadata": {
        "id": "GbO-i-4wPEUZ"
      },
      "source": [
        "# Input info about question group\n",
        "\n",
        "if nontechnical == False:\n",
        "    question_list = [28, 29, 30, 31, 32, 33, 34, 35, 36]\n",
        "    n_subq_list = [7, 24, 8, 8, 15, 9, 11, 3, 5]\n",
        "    question_strings = ['Handling and Husbandry Procedures',\n",
        "                        'Medical Procedures',\n",
        "                        'Surgical Procedures',\n",
        "                        'Anesthetic Procedures',\n",
        "                        'Preventive Medicine/Population Health Procedures',\n",
        "                        'Reproductive Procedures',\n",
        "                        'Clinical Pathology Procedures',\n",
        "                        'Diagnostic Necropsy Procedures',\n",
        "                        'Diagnostic Imaging Procedures']\n",
        "else:\n",
        "    question_list = [13,14,15]\n",
        "    n_subq_list = [11,6,8]\n",
        "    question_strings = ['Communication practices',\n",
        "                        'Professional and business practices',\n",
        "                        'Ethics and professional practices']\n",
        "\n",
        "assert(len(question_list) == len(n_subq_list))\n",
        "assert(len(n_subq_list) == len(question_strings))"
      ],
      "execution_count": 167,
      "outputs": []
    },
    {
      "cell_type": "code",
      "metadata": {
        "colab": {
          "base_uri": "https://localhost:8080/",
          "height": 283
        },
        "id": "PfeuG-2TPHzx",
        "outputId": "e8026724-7784-48d8-9b3d-c02d3e4836bb"
      },
      "source": [
        "group_table, pooled_q_stats, n_subquestions, pop1_responses, pop2_responses, subq_data  = analyze_group(question_list, n_subq_list, question_strings, eq_pop1, eq_pop2, alpha=ALPHA)\n",
        "pooled_stat, pooled_p, pooled_diff_mean = pooled_q_stats\n",
        "group_data.append([\"Equine\", n_subquestions, pop1_responses, pop2_responses, pooled_diff_mean, pooled_stat, pooled_p])\n",
        "output_tables.append(group_table)\n",
        "output_tables_sheet_names.append(\"Equine\")\n",
        "output_subq_data.append(subq_data)\n",
        "group_table"
      ],
      "execution_count": 168,
      "outputs": [
        {
          "output_type": "stream",
          "name": "stdout",
          "text": [
            "Group result (all questions): stat=0.000, p=1.00e+00, diff_mean (specialist-generalist)=-0.744\n"
          ]
        },
        {
          "output_type": "execute_result",
          "data": {
            "text/html": [
              "<div>\n",
              "<style scoped>\n",
              "    .dataframe tbody tr th:only-of-type {\n",
              "        vertical-align: middle;\n",
              "    }\n",
              "\n",
              "    .dataframe tbody tr th {\n",
              "        vertical-align: top;\n",
              "    }\n",
              "\n",
              "    .dataframe thead th {\n",
              "        text-align: right;\n",
              "    }\n",
              "</style>\n",
              "<table border=\"1\" class=\"dataframe\">\n",
              "  <thead>\n",
              "    <tr style=\"text-align: right;\">\n",
              "      <th></th>\n",
              "      <th>Question number</th>\n",
              "      <th>Category</th>\n",
              "      <th>Num subquestions</th>\n",
              "      <th>Num specialist respondents</th>\n",
              "      <th>Num generalist respondents</th>\n",
              "      <th>Diff Mean (specialist-generalist)</th>\n",
              "      <th>Stat</th>\n",
              "      <th>pval</th>\n",
              "    </tr>\n",
              "  </thead>\n",
              "  <tbody>\n",
              "    <tr>\n",
              "      <th>0</th>\n",
              "      <td>Q13</td>\n",
              "      <td>Communication practices</td>\n",
              "      <td>11</td>\n",
              "      <td>3</td>\n",
              "      <td>20</td>\n",
              "      <td>-0.781818</td>\n",
              "      <td>0</td>\n",
              "      <td>1</td>\n",
              "    </tr>\n",
              "    <tr>\n",
              "      <th>1</th>\n",
              "      <td>Q14</td>\n",
              "      <td>Professional and business practices</td>\n",
              "      <td>6</td>\n",
              "      <td>3</td>\n",
              "      <td>20</td>\n",
              "      <td>-1.047222</td>\n",
              "      <td>0</td>\n",
              "      <td>1</td>\n",
              "    </tr>\n",
              "    <tr>\n",
              "      <th>2</th>\n",
              "      <td>Q15</td>\n",
              "      <td>Ethics and professional practices</td>\n",
              "      <td>8</td>\n",
              "      <td>3</td>\n",
              "      <td>20</td>\n",
              "      <td>-0.464583</td>\n",
              "      <td>0</td>\n",
              "      <td>1</td>\n",
              "    </tr>\n",
              "  </tbody>\n",
              "</table>\n",
              "</div>"
            ],
            "text/plain": [
              "  Question number                             Category  ...  Stat  pval\n",
              "0             Q13              Communication practices  ...     0     1\n",
              "1             Q14  Professional and business practices  ...     0     1\n",
              "2             Q15    Ethics and professional practices  ...     0     1\n",
              "\n",
              "[3 rows x 8 columns]"
            ]
          },
          "metadata": {},
          "execution_count": 168
        }
      ]
    },
    {
      "cell_type": "markdown",
      "metadata": {
        "id": "hvTNlIpv7P8I"
      },
      "source": [
        "## Top-level comparison\n",
        "\n",
        "For each respondant, compute a composite score based on all questions they answered. Then compare pop1 to pop2. This represents a top-level comparison across both populations."
      ]
    },
    {
      "cell_type": "code",
      "metadata": {
        "colab": {
          "base_uri": "https://localhost:8080/"
        },
        "id": "C8dxvyGIHbuj",
        "outputId": "7b5956f0-9a27-47f3-91c6-374e611a8813"
      },
      "source": [
        "# Create question list\n",
        "if nontechnical == False:\n",
        "    question_list = [16,17,7,8,9,10,11,12]+[43, 44, 45, 46, 48, 49, 50]+[20, 18, 25, 24, 21, 19, 23, 22, 27]+[28, 29, 30, 31, 32, 33, 34, 35, 36]\n",
        "    n_subq_list = [25,10,25,8,4,12,13,3]+[20, 9, 11, 8, 6, 13, 3]+[8, 27, 16, 10, 20, 11, 12, 3, 5]+[7, 24, 8, 8, 15, 9, 11, 3, 5]\n",
        "else:\n",
        "    question_list = [13,14,15]\n",
        "    n_subq_list = [11,6,8]\n",
        "\n",
        "# Compute composite scores\n",
        "pop1_composite_scores,_ = get_composite_scores(pop1, question_list, n_subq_list, force_completion_rate)\n",
        "pop2_composite_scores,_ = get_composite_scores(pop2, question_list, n_subq_list, force_completion_rate)\n",
        "\n",
        "# Apply Kruskal test to pooled data\n",
        "pooled_stat, pooled_p = run_kruskal(pop1_composite_scores, pop2_composite_scores)\n",
        "pooled_diff_mean = np.mean(pop1_composite_scores) - np.mean(pop2_composite_scores)\n",
        "\n",
        "# Print\n",
        "top_level_output = '%s vs. %s: stat=%.3f, p=%.2e, diff_mean (%s-%s)=%.3f, Num %s responses=%i, Num of %s responses=%i ' % (pop1_str, pop2_str, pooled_stat, pooled_p, pop1_str, pop2_str, pooled_diff_mean, pop1_str, len(pop1_composite_scores), pop2_str, len(pop2_composite_scores))\n",
        "print(top_level_output)\n",
        "\n",
        "# Add row to group summary\n",
        "group_data.append([\"Top level (all species)\", \"Depends on respondent species area(s)\", len(pop1_composite_scores), len(pop2_composite_scores), pooled_diff_mean, pooled_stat, pooled_p])"
      ],
      "execution_count": 169,
      "outputs": [
        {
          "output_type": "stream",
          "name": "stdout",
          "text": [
            "specialist vs. generalist: stat=1.719, p=1.90e-01, diff_mean (specialist-generalist)=-0.225, Num specialist responses=15, Num of generalist responses=93 \n"
          ]
        }
      ]
    },
    {
      "cell_type": "markdown",
      "metadata": {
        "id": "O3-z6MgoQDDL"
      },
      "source": [
        "## Group Summary"
      ]
    },
    {
      "cell_type": "code",
      "metadata": {
        "id": "nO6eeGPCSBf5"
      },
      "source": [
        "group_summary_table = pd.DataFrame(group_data, columns=group_columns)"
      ],
      "execution_count": 170,
      "outputs": []
    },
    {
      "cell_type": "code",
      "metadata": {
        "id": "6vty9bGImuy4"
      },
      "source": [
        "# Add group summary to the beginning of output tables\n",
        "output_tables.insert(0, group_summary_table)\n",
        "output_tables_sheet_names.insert(0, \"Group summary\")"
      ],
      "execution_count": 171,
      "outputs": []
    },
    {
      "cell_type": "code",
      "metadata": {
        "colab": {
          "base_uri": "https://localhost:8080/",
          "height": 310
        },
        "id": "oWWtZ8D5SMZN",
        "outputId": "5546cb12-048f-4235-92cf-abfcc07c9a58"
      },
      "source": [
        "group_summary_table"
      ],
      "execution_count": 172,
      "outputs": [
        {
          "output_type": "execute_result",
          "data": {
            "text/html": [
              "<div>\n",
              "<style scoped>\n",
              "    .dataframe tbody tr th:only-of-type {\n",
              "        vertical-align: middle;\n",
              "    }\n",
              "\n",
              "    .dataframe tbody tr th {\n",
              "        vertical-align: top;\n",
              "    }\n",
              "\n",
              "    .dataframe thead th {\n",
              "        text-align: right;\n",
              "    }\n",
              "</style>\n",
              "<table border=\"1\" class=\"dataframe\">\n",
              "  <thead>\n",
              "    <tr style=\"text-align: right;\">\n",
              "      <th></th>\n",
              "      <th>Group</th>\n",
              "      <th>Num subquestions</th>\n",
              "      <th>Num of specialist respondents</th>\n",
              "      <th>Num of generalist respondents</th>\n",
              "      <th>Diff_mean (specialist-generalist)</th>\n",
              "      <th>stat</th>\n",
              "      <th>pval</th>\n",
              "    </tr>\n",
              "  </thead>\n",
              "  <tbody>\n",
              "    <tr>\n",
              "      <th>0</th>\n",
              "      <td>Companion Animal</td>\n",
              "      <td>25</td>\n",
              "      <td>10</td>\n",
              "      <td>73</td>\n",
              "      <td>-0.406037</td>\n",
              "      <td>4.557151</td>\n",
              "      <td>0.032782</td>\n",
              "    </tr>\n",
              "    <tr>\n",
              "      <th>1</th>\n",
              "      <td>Special Species</td>\n",
              "      <td>25</td>\n",
              "      <td>1</td>\n",
              "      <td>13</td>\n",
              "      <td>-1.480128</td>\n",
              "      <td>0.000000</td>\n",
              "      <td>1.000000</td>\n",
              "    </tr>\n",
              "    <tr>\n",
              "      <th>2</th>\n",
              "      <td>Food Animal</td>\n",
              "      <td>25</td>\n",
              "      <td>4</td>\n",
              "      <td>30</td>\n",
              "      <td>-0.321222</td>\n",
              "      <td>0.000000</td>\n",
              "      <td>1.000000</td>\n",
              "    </tr>\n",
              "    <tr>\n",
              "      <th>3</th>\n",
              "      <td>Equine</td>\n",
              "      <td>25</td>\n",
              "      <td>3</td>\n",
              "      <td>20</td>\n",
              "      <td>-0.744000</td>\n",
              "      <td>0.000000</td>\n",
              "      <td>1.000000</td>\n",
              "    </tr>\n",
              "    <tr>\n",
              "      <th>4</th>\n",
              "      <td>Top level (all species)</td>\n",
              "      <td>Depends on respondent species area(s)</td>\n",
              "      <td>15</td>\n",
              "      <td>93</td>\n",
              "      <td>-0.224961</td>\n",
              "      <td>1.719098</td>\n",
              "      <td>0.189809</td>\n",
              "    </tr>\n",
              "  </tbody>\n",
              "</table>\n",
              "</div>"
            ],
            "text/plain": [
              "                     Group  ...      pval\n",
              "0         Companion Animal  ...  0.032782\n",
              "1          Special Species  ...  1.000000\n",
              "2              Food Animal  ...  1.000000\n",
              "3                   Equine  ...  1.000000\n",
              "4  Top level (all species)  ...  0.189809\n",
              "\n",
              "[5 rows x 7 columns]"
            ]
          },
          "metadata": {},
          "execution_count": 172
        }
      ]
    },
    {
      "cell_type": "markdown",
      "metadata": {
        "id": "DUe__z6vkefc"
      },
      "source": [
        "## All Species Summary"
      ]
    },
    {
      "cell_type": "markdown",
      "metadata": {
        "id": "oc8oSfiFliKL"
      },
      "source": [
        "This output table only applies to the nontechnical analyses, for which the relevant questions appear in all species areas."
      ]
    },
    {
      "cell_type": "code",
      "metadata": {
        "colab": {
          "base_uri": "https://localhost:8080/"
        },
        "id": "p-9zlxRYkhl8",
        "outputId": "e83eff83-0e4b-4b45-8220-756d402af326"
      },
      "source": [
        "if nontechnical == True:\n",
        "\n",
        "    group_table, pooled_q_stats, n_subquestions, pop1_responses, pop2_responses, subq_data  = analyze_group(question_list, n_subq_list, question_strings, pop1, pop2)\n",
        "    output_tables.append(group_table)\n",
        "    output_tables_sheet_names.append(\"All Species\")\n",
        "    output_subq_data.append(subq_data)\n",
        "    group_table"
      ],
      "execution_count": 173,
      "outputs": [
        {
          "output_type": "stream",
          "name": "stdout",
          "text": [
            "Group result (all questions): stat=1.719, p=1.90e-01, diff_mean (specialist-generalist)=-0.225\n"
          ]
        }
      ]
    },
    {
      "cell_type": "markdown",
      "metadata": {
        "id": "cwvr1tBj7sU9"
      },
      "source": [
        "## Determine p-value significance\n",
        "\n",
        "Loop through tables to obtain all p values (the rightmost column), evaluate p values with a ranking approach, then add back a `sig` column to each table."
      ]
    },
    {
      "cell_type": "markdown",
      "metadata": {
        "id": "93OFm2O3vbdg"
      },
      "source": [
        "Step 1: Collect all p values in one table."
      ]
    },
    {
      "cell_type": "code",
      "metadata": {
        "id": "aSZGDAthd9Ct"
      },
      "source": [
        "\"\"\"\n",
        "This computation will retrieve p values from all tables and determine significance.\n",
        "\n",
        "Start by creating a table for all p values and their source. The columns\n",
        "of this table are:\n",
        "    type - Either \"procedure\" or \"group\"\n",
        "    i - For type=0, this is an index into species area (0-3)\n",
        "        For type=1, this is an index into `output_tables`\n",
        "    j - Only defined for type=0; index into `subq_tables` for given i\n",
        "    row_index - row index in table defined by (type, i, j)\n",
        "    p - p val at location (type, i, j, row_index)\n",
        "\n",
        "\n",
        "\"\"\"\n",
        "pvals_data = []\n",
        "pvals_columns = [\"type\", \"i\", \"j\", \"row_index\", \"pval\"]\n",
        "\n",
        "# Procedure tables\n",
        "for i in range(len(output_subq_data)): # loop through species areas\n",
        "    subq_data = output_subq_data[i]\n",
        "    subq_tables, _ = subq_data\n",
        "    \n",
        "    for j,table in enumerate(subq_tables):\n",
        "        table.reset_index(drop=True, inplace=True)\n",
        "        pvals = table['pval']\n",
        "        for row_index, p in enumerate(pvals):\n",
        "            pvals_data.append([0, i, j, row_index, p])\n",
        "\n",
        "# Group summary, species area (and all species) summary tables\n",
        "for i, table in enumerate(output_tables):\n",
        "    table.reset_index(drop=True, inplace=True)\n",
        "    pvals = table['pval']\n",
        "    for row_index, p in enumerate(pvals):\n",
        "        pvals_data.append([1, i, -1, row_index, p])\n",
        "    \n",
        "\n",
        "# Make table\n",
        "pval_table = pd.DataFrame(pvals_data, columns=pvals_columns)"
      ],
      "execution_count": 174,
      "outputs": []
    },
    {
      "cell_type": "markdown",
      "metadata": {
        "id": "oiS68QRRvfAP"
      },
      "source": [
        "Step 2: Do multiple test correction and add results to p value table"
      ]
    },
    {
      "cell_type": "code",
      "metadata": {
        "id": "4ZGOX6qutLon"
      },
      "source": [
        "reject, pvals_corrected = fdrcorrection(pval_table['pval'], alpha=ALPHA)"
      ],
      "execution_count": 175,
      "outputs": []
    },
    {
      "cell_type": "code",
      "metadata": {
        "colab": {
          "base_uri": "https://localhost:8080/"
        },
        "id": "xfO7GDoTwsyr",
        "outputId": "6a905212-5820-4d6b-a99e-be5205a737fa"
      },
      "source": [
        "np.sum(reject)"
      ],
      "execution_count": 176,
      "outputs": [
        {
          "output_type": "execute_result",
          "data": {
            "text/plain": [
              "0"
            ]
          },
          "metadata": {},
          "execution_count": 176
        }
      ]
    },
    {
      "cell_type": "code",
      "metadata": {
        "id": "kbCHvOX1wDTU"
      },
      "source": [
        "# convert reject value True to * and False to ''\n",
        "def convert_reject(b):\n",
        "    if b==True:\n",
        "        return \"*\"\n",
        "    else:\n",
        "        return ''\n",
        "\n",
        "sig = np.array([convert_reject(b) for b in reject])"
      ],
      "execution_count": 177,
      "outputs": []
    },
    {
      "cell_type": "code",
      "metadata": {
        "id": "wujdgF5vvJgP"
      },
      "source": [
        "pval_table['pval_corrected'] = pvals_corrected\n",
        "pval_table['sig'] = sig"
      ],
      "execution_count": 178,
      "outputs": []
    },
    {
      "cell_type": "code",
      "metadata": {
        "colab": {
          "base_uri": "https://localhost:8080/",
          "height": 424
        },
        "id": "d6Rwg6J1wjiV",
        "outputId": "fbd8ba98-4c13-49df-8829-addcb590efbe"
      },
      "source": [
        "pval_table"
      ],
      "execution_count": 179,
      "outputs": [
        {
          "output_type": "execute_result",
          "data": {
            "text/html": [
              "<div>\n",
              "<style scoped>\n",
              "    .dataframe tbody tr th:only-of-type {\n",
              "        vertical-align: middle;\n",
              "    }\n",
              "\n",
              "    .dataframe tbody tr th {\n",
              "        vertical-align: top;\n",
              "    }\n",
              "\n",
              "    .dataframe thead th {\n",
              "        text-align: right;\n",
              "    }\n",
              "</style>\n",
              "<table border=\"1\" class=\"dataframe\">\n",
              "  <thead>\n",
              "    <tr style=\"text-align: right;\">\n",
              "      <th></th>\n",
              "      <th>type</th>\n",
              "      <th>i</th>\n",
              "      <th>j</th>\n",
              "      <th>row_index</th>\n",
              "      <th>pval</th>\n",
              "      <th>pval_corrected</th>\n",
              "      <th>sig</th>\n",
              "    </tr>\n",
              "  </thead>\n",
              "  <tbody>\n",
              "    <tr>\n",
              "      <th>0</th>\n",
              "      <td>0</td>\n",
              "      <td>0</td>\n",
              "      <td>0</td>\n",
              "      <td>0</td>\n",
              "      <td>0.024393</td>\n",
              "      <td>1.0</td>\n",
              "      <td></td>\n",
              "    </tr>\n",
              "    <tr>\n",
              "      <th>1</th>\n",
              "      <td>0</td>\n",
              "      <td>0</td>\n",
              "      <td>0</td>\n",
              "      <td>1</td>\n",
              "      <td>0.009995</td>\n",
              "      <td>1.0</td>\n",
              "      <td></td>\n",
              "    </tr>\n",
              "    <tr>\n",
              "      <th>2</th>\n",
              "      <td>0</td>\n",
              "      <td>0</td>\n",
              "      <td>0</td>\n",
              "      <td>2</td>\n",
              "      <td>0.090884</td>\n",
              "      <td>1.0</td>\n",
              "      <td></td>\n",
              "    </tr>\n",
              "    <tr>\n",
              "      <th>3</th>\n",
              "      <td>0</td>\n",
              "      <td>0</td>\n",
              "      <td>0</td>\n",
              "      <td>3</td>\n",
              "      <td>0.119429</td>\n",
              "      <td>1.0</td>\n",
              "      <td></td>\n",
              "    </tr>\n",
              "    <tr>\n",
              "      <th>4</th>\n",
              "      <td>0</td>\n",
              "      <td>0</td>\n",
              "      <td>0</td>\n",
              "      <td>4</td>\n",
              "      <td>0.154432</td>\n",
              "      <td>1.0</td>\n",
              "      <td></td>\n",
              "    </tr>\n",
              "    <tr>\n",
              "      <th>...</th>\n",
              "      <td>...</td>\n",
              "      <td>...</td>\n",
              "      <td>...</td>\n",
              "      <td>...</td>\n",
              "      <td>...</td>\n",
              "      <td>...</td>\n",
              "      <td>...</td>\n",
              "    </tr>\n",
              "    <tr>\n",
              "      <th>140</th>\n",
              "      <td>1</td>\n",
              "      <td>4</td>\n",
              "      <td>-1</td>\n",
              "      <td>1</td>\n",
              "      <td>1.000000</td>\n",
              "      <td>1.0</td>\n",
              "      <td></td>\n",
              "    </tr>\n",
              "    <tr>\n",
              "      <th>141</th>\n",
              "      <td>1</td>\n",
              "      <td>4</td>\n",
              "      <td>-1</td>\n",
              "      <td>2</td>\n",
              "      <td>1.000000</td>\n",
              "      <td>1.0</td>\n",
              "      <td></td>\n",
              "    </tr>\n",
              "    <tr>\n",
              "      <th>142</th>\n",
              "      <td>1</td>\n",
              "      <td>5</td>\n",
              "      <td>-1</td>\n",
              "      <td>0</td>\n",
              "      <td>0.366211</td>\n",
              "      <td>1.0</td>\n",
              "      <td></td>\n",
              "    </tr>\n",
              "    <tr>\n",
              "      <th>143</th>\n",
              "      <td>1</td>\n",
              "      <td>5</td>\n",
              "      <td>-1</td>\n",
              "      <td>1</td>\n",
              "      <td>0.539192</td>\n",
              "      <td>1.0</td>\n",
              "      <td></td>\n",
              "    </tr>\n",
              "    <tr>\n",
              "      <th>144</th>\n",
              "      <td>1</td>\n",
              "      <td>5</td>\n",
              "      <td>-1</td>\n",
              "      <td>2</td>\n",
              "      <td>0.040503</td>\n",
              "      <td>1.0</td>\n",
              "      <td></td>\n",
              "    </tr>\n",
              "  </tbody>\n",
              "</table>\n",
              "<p>145 rows × 7 columns</p>\n",
              "</div>"
            ],
            "text/plain": [
              "     type  i  j  row_index      pval  pval_corrected sig\n",
              "0       0  0  0          0  0.024393             1.0    \n",
              "1       0  0  0          1  0.009995             1.0    \n",
              "2       0  0  0          2  0.090884             1.0    \n",
              "3       0  0  0          3  0.119429             1.0    \n",
              "4       0  0  0          4  0.154432             1.0    \n",
              "..    ... .. ..        ...       ...             ...  ..\n",
              "140     1  4 -1          1  1.000000             1.0    \n",
              "141     1  4 -1          2  1.000000             1.0    \n",
              "142     1  5 -1          0  0.366211             1.0    \n",
              "143     1  5 -1          1  0.539192             1.0    \n",
              "144     1  5 -1          2  0.040503             1.0    \n",
              "\n",
              "[145 rows x 7 columns]"
            ]
          },
          "metadata": {},
          "execution_count": 179
        }
      ]
    },
    {
      "cell_type": "markdown",
      "metadata": {
        "id": "DHYk2GnLviYN"
      },
      "source": [
        "Step 3: Populate all original tables with results"
      ]
    },
    {
      "cell_type": "code",
      "metadata": {
        "id": "35O2qYG1xx0d"
      },
      "source": [
        "# Procedure tables\n",
        "for i in range(len(output_subq_data)): # loop through species areas\n",
        "    subq_data = output_subq_data[i]\n",
        "    subq_tables, subq_tables_names = subq_data\n",
        "    new_subq_tables = []\n",
        "\n",
        "    for j,table in enumerate(subq_tables):\n",
        "        if 'pval_corrected' not in table:\n",
        "            pval_table_filtered = pval_table.loc[(pval_table['type'] == 0) & (pval_table['i'] == i) & (pval_table['j'] == j)].copy()\n",
        "            pval_table_filtered.drop(['type', 'i', 'j', 'pval'], axis=1, inplace=True)\n",
        "            table = table.join(pval_table_filtered.set_index('row_index'), rsuffix=\"from_join\")\n",
        "        new_subq_tables.append(table)\n",
        "    output_subq_data[i] = new_subq_tables, subq_tables_names\n",
        "\n",
        "# Group summary, species area (and all species) summary tables\n",
        "new_output_tables = []\n",
        "for i, table in enumerate(output_tables):\n",
        "    if 'pval_corrected' not in table:\n",
        "        pval_table_filtered = pval_table.loc[(pval_table['type'] == 1) & (pval_table['i'] == i)].copy()\n",
        "        pval_table_filtered.drop(['type', 'i', 'j', 'pval'], axis=1, inplace=True)\n",
        "        table = table.join(pval_table_filtered.set_index('row_index'), rsuffix=\"from_join\")\n",
        "    new_output_tables.append(table)\n",
        "output_tables = new_output_tables"
      ],
      "execution_count": 180,
      "outputs": []
    },
    {
      "cell_type": "markdown",
      "metadata": {
        "id": "diMo-zLnlEBb"
      },
      "source": [
        "# Generate tables"
      ]
    },
    {
      "cell_type": "markdown",
      "metadata": {
        "id": "ILmLfYGQlIko"
      },
      "source": [
        "We will generate the following types of tables using pooled data from these experiments:\n",
        "\n",
        "1.   `summary.xlsx`: Group summary table and a table for procedure sets (questions) within each group.\n",
        "2.   `companion_animal.xlsx`: Tables for all procedures within the companion animal group.\n",
        "3.   `special_species.xlsx`: Tables for all procedures within the special species group.\n",
        "4.   `food_animal.xlsx`: Tables for all procedures within the food animal group.\n",
        "5.   `equine.xlsx`:Tables for all procedures within the equine group.\n",
        "6. `summary_nontechnical_allspecies.xlsx`: Summary table for responses to procedures (subquestions) pooled across species areas. Applicable only to non-technical questions.\n",
        "\n"
      ]
    },
    {
      "cell_type": "markdown",
      "metadata": {
        "id": "qSmJ61cUnNFf"
      },
      "source": [
        "## Summary"
      ]
    },
    {
      "cell_type": "code",
      "metadata": {
        "id": "wSPZ3y-HnRtd"
      },
      "source": [
        "writer = pd.ExcelWriter('summary%s.xlsx'%(file_suffix,), engine='xlsxwriter')\n",
        "\n",
        "for i,table in enumerate(output_tables):\n",
        "    sheet_name = output_tables_sheet_names[i]\n",
        "    table.to_excel(writer, sheet_name=sheet_name, index=False)\n",
        "\n",
        "    # Auto-adjust columns widths\n",
        "    for column in table:\n",
        "        column_width = max(table[column].astype(str).map(len).max(), len(column))\n",
        "        col_idx = table.columns.get_loc(column)\n",
        "        writer.sheets[sheet_name].set_column(col_idx, col_idx, column_width)\n",
        "\n",
        "writer.save()"
      ],
      "execution_count": 181,
      "outputs": []
    },
    {
      "cell_type": "markdown",
      "metadata": {
        "id": "n9XnXUJGsV0Z"
      },
      "source": [
        "## All Species Summary"
      ]
    },
    {
      "cell_type": "markdown",
      "metadata": {
        "id": "7xd_EIZ-tTHG"
      },
      "source": [
        "This output table only applies to the nontechnical analyses, for which the relevant questions appear in all species areas."
      ]
    },
    {
      "cell_type": "code",
      "metadata": {
        "id": "EMoaSp9TqYuG"
      },
      "source": [
        "if nontechnical == True:\n",
        "\n",
        "    # Retrieve tables\n",
        "    allspecies_subq_tables, allspecies_subq_tables_names = output_subq_data[-1]\n",
        "\n",
        "    # Loop through tables\n",
        "    writer = pd.ExcelWriter('summary%s_allspecies.xlsx'%(file_suffix,), engine='xlsxwriter')\n",
        "\n",
        "    for i,table in enumerate(allspecies_subq_tables):\n",
        "        sheet_name = allspecies_subq_tables_names[i]\n",
        "        table.to_excel(writer, sheet_name=sheet_name, index=False)\n",
        "\n",
        "        # Auto-adjust columns widths\n",
        "        for column in table:\n",
        "            column_width = max(table[column].astype(str).map(len).max(), len(column))\n",
        "            col_idx = table.columns.get_loc(column)\n",
        "            writer.sheets[sheet_name].set_column(col_idx, col_idx, column_width)\n",
        "\n",
        "    writer.save()"
      ],
      "execution_count": 182,
      "outputs": []
    },
    {
      "cell_type": "markdown",
      "metadata": {
        "id": "UnxgmXT2sBdy"
      },
      "source": [
        "## All procedures"
      ]
    },
    {
      "cell_type": "code",
      "metadata": {
        "id": "4phlYJz8sGjg"
      },
      "source": [
        "for i, file in enumerate(['companion_animal%s.xlsx'%(file_suffix,), 'special_species%s.xlsx'%(file_suffix,), 'food_animal%s.xlsx'%(file_suffix,), 'equine%s.xlsx'%(file_suffix,)]):\n",
        "    subq_data = output_subq_data[i]\n",
        "    subq_tables, subq_tables_names = subq_data\n",
        "\n",
        "    # Loop through tables\n",
        "    writer = pd.ExcelWriter(file, engine='xlsxwriter')\n",
        "\n",
        "    for i,table in enumerate(subq_tables):\n",
        "        sheet_name = subq_tables_names[i]\n",
        "        table.to_excel(writer, sheet_name=sheet_name, index=False)\n",
        "\n",
        "        # Auto-adjust columns widths\n",
        "        for column in table:\n",
        "            column_width = max(table[column].astype(str).map(len).max(), len(column))\n",
        "            col_idx = table.columns.get_loc(column)\n",
        "            writer.sheets[sheet_name].set_column(col_idx, col_idx, column_width)\n",
        "\n",
        "    writer.save()"
      ],
      "execution_count": 183,
      "outputs": []
    },
    {
      "cell_type": "markdown",
      "metadata": {
        "id": "h6VIW2TO2WwR"
      },
      "source": [
        "# Next Steps\n"
      ]
    },
    {
      "cell_type": "code",
      "metadata": {
        "id": "CiQAW1Yi86vc"
      },
      "source": [
        "# Copy files to Drive\n",
        "#!cp *.xlsx drive/MyDrive/survey_test/"
      ],
      "execution_count": 184,
      "outputs": []
    },
    {
      "cell_type": "code",
      "metadata": {
        "id": "FviL_eHRTMf7"
      },
      "source": [
        "# Run downstream analysis\n",
        "! python make_tables.py --top 50"
      ],
      "execution_count": 231,
      "outputs": []
    }
  ]
}