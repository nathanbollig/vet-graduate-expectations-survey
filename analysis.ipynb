{
  "nbformat": 4,
  "nbformat_minor": 0,
  "metadata": {
    "colab": {
      "name": "analysis.ipynb",
      "provenance": [],
      "collapsed_sections": [
        "JBgWEEZT8D7s"
      ],
      "mount_file_id": "https://github.com/nathanbollig/vet-graduate-expectations-survey/blob/main/analysis.ipynb",
      "authorship_tag": "ABX9TyNbvzxT/YjImxCLBfBW68xn",
      "include_colab_link": true
    },
    "kernelspec": {
      "name": "python3",
      "display_name": "Python 3"
    },
    "language_info": {
      "name": "python"
    }
  },
  "cells": [
    {
      "cell_type": "markdown",
      "metadata": {
        "id": "view-in-github",
        "colab_type": "text"
      },
      "source": [
        "<a href=\"https://colab.research.google.com/github/nathanbollig/vet-graduate-expectations-survey/blob/main/analysis.ipynb\" target=\"_parent\"><img src=\"https://colab.research.google.com/assets/colab-badge.svg\" alt=\"Open In Colab\"/></a>"
      ]
    },
    {
      "cell_type": "markdown",
      "metadata": {
        "id": "_xA2L7zDBZ6z"
      },
      "source": [
        "# Veterinary graduate expectations survey\n",
        "\n",
        "Start by uploading the data into the working directory. Two files are required:\n",
        "\n",
        "1.   `SVM.xlsx`: SVM graduate expectations survey results\n",
        "2.   `WVMA.xlsx`: WVMA graduate expectations survey results"
      ]
    },
    {
      "cell_type": "markdown",
      "metadata": {
        "id": "AbR-3ffREDwN"
      },
      "source": [
        "## Set up"
      ]
    },
    {
      "cell_type": "code",
      "metadata": {
        "id": "2h3-qlKqoFUd",
        "colab": {
          "base_uri": "https://localhost:8080/"
        },
        "outputId": "3da6c8ef-e293-4e6e-f83e-1b025deb7bac"
      },
      "source": [
        "! pip install xlsxwriter"
      ],
      "execution_count": 322,
      "outputs": [
        {
          "output_type": "stream",
          "name": "stdout",
          "text": [
            "Requirement already satisfied: xlsxwriter in /usr/local/lib/python3.7/dist-packages (3.0.2)\n"
          ]
        }
      ]
    },
    {
      "cell_type": "code",
      "metadata": {
        "id": "ssV1VbT8A41w"
      },
      "source": [
        "import pandas as pd\n",
        "import numpy as np\n",
        "from scipy.stats import kruskal\n",
        "#from scipy.stats import normaltest\n",
        "#from scipy.stats import ttest_ind\n",
        "from statsmodels.stats.multitest import fdrcorrection\n"
      ],
      "execution_count": 323,
      "outputs": []
    },
    {
      "cell_type": "markdown",
      "metadata": {
        "id": "3BXww0G-FnLK"
      },
      "source": [
        "### Read in SVM data"
      ]
    },
    {
      "cell_type": "code",
      "metadata": {
        "id": "qlzso2T4CO7h"
      },
      "source": [
        "# Use top row as header and skip second header row\n",
        "svm = pd.read_excel('SVM.xlsx', header=0, skiprows=lambda x: x in [1])  \n",
        "\n",
        "# Read in questions from second header row and associate with column names\n",
        "question_svm = {}\n",
        "\n",
        "top_rows = pd.read_excel('SVM.xlsx', nrows=2) \n",
        "\n",
        "for col in list(top_rows.columns):\n",
        "    question_svm[col] = top_rows.iloc[0][col]"
      ],
      "execution_count": 324,
      "outputs": []
    },
    {
      "cell_type": "markdown",
      "metadata": {
        "id": "zJ4umVHfFpGY"
      },
      "source": [
        "### Read in WVMA data"
      ]
    },
    {
      "cell_type": "code",
      "metadata": {
        "id": "ynulEF-JE_L5"
      },
      "source": [
        "# Use top row as header and skip second header row\n",
        "wvma = pd.read_excel('WVMA.xlsx', header=0, skiprows=lambda x: x in [1])  \n",
        "\n",
        "# Read in questions from second header row and associate with column names\n",
        "question_wvma = {}\n",
        "\n",
        "top_rows_wvma = pd.read_excel('WVMA.xlsx', nrows=2) \n",
        "\n",
        "for col in list(top_rows_wvma.columns):\n",
        "    question_wvma[col] = top_rows_wvma.iloc[0][col]"
      ],
      "execution_count": 325,
      "outputs": []
    },
    {
      "cell_type": "markdown",
      "metadata": {
        "id": "bQQOy_oEWVoV"
      },
      "source": [
        "### Set Analysis Parameters"
      ]
    },
    {
      "cell_type": "code",
      "metadata": {
        "id": "cJlDmDl4WYEv"
      },
      "source": [
        "ALPHA = 0.05\n",
        "force_completion_rate = 0    # a respondent needs to have completed strictly more than this percentage of all subquestions to be included in a group-level comparison"
      ],
      "execution_count": 326,
      "outputs": []
    },
    {
      "cell_type": "code",
      "metadata": {
        "id": "94C9nJyPYLAu"
      },
      "source": [
        "\"\"\"\n",
        "The `analysis_mode` variable specifies which two main populations are being compared in this analysis. Possible values are:\n",
        "    0 - SVM vs. WVMA\n",
        "    1 - SVM specialists vs. WVMA specialists\n",
        "    2 - WVMA specialists vs. WVMA generalists\n",
        "\"\"\"\n",
        "\n",
        "analysis_mode = 0"
      ],
      "execution_count": 327,
      "outputs": []
    },
    {
      "cell_type": "code",
      "metadata": {
        "id": "bbV3w3q6Zwci"
      },
      "source": [
        "\"\"\"\n",
        "Technical or non-technical.\n",
        "\n",
        "The nontechnical questions are Q13, Q14, and Q16 for all species categories.\n",
        "\"\"\"\n",
        "nontechnical = False"
      ],
      "execution_count": 328,
      "outputs": []
    },
    {
      "cell_type": "markdown",
      "metadata": {
        "id": "Cz8WlE8haHbU"
      },
      "source": [
        "Run the following to set up the notebook for this analysis."
      ]
    },
    {
      "cell_type": "code",
      "metadata": {
        "id": "jK0ju0_GZHyu"
      },
      "source": [
        "# Preparation for SVM vs. WVMA\n",
        "if analysis_mode == 0:\n",
        "    pop1 = svm.copy()\n",
        "    pop2 = wvma.copy()\n",
        "    pop1_str = \"SVM\"\n",
        "    pop2_str = \"WVMA\"\n",
        "    file_suffix = \"\"\n",
        "\n",
        "# Preparation for SVM specialists vs. WVMA specialists\n",
        "if analysis_mode == 1:\n",
        "    pop1 = svm[svm['Q59'].notnull()].copy()\n",
        "    pop2 = wvma[wvma['Q49'].notnull()].copy()\n",
        "    pop1_str = \"SVM\"\n",
        "    pop2_str = \"WVMA\"\n",
        "    file_suffix = \"_s\"\n",
        "\n",
        "# Preparation for WVMA specialists vs. WVMA generalists\n",
        "if analysis_mode == 2:\n",
        "    pop1 = wvma[wvma['Q49'].notnull()].copy()\n",
        "    pop2 = wvma[wvma['Q49'].isnull()].copy()\n",
        "    pop1_str = \"specialist\"\n",
        "    pop2_str = \"generalist\"\n",
        "    file_suffix = \"_sg\"\n",
        "\n",
        "# Adjust file suffix for nontechnical analysis\n",
        "if nontechnical == True:\n",
        "    file_suffix = file_suffix + \"_nontechnical\""
      ],
      "execution_count": 329,
      "outputs": []
    },
    {
      "cell_type": "markdown",
      "metadata": {
        "id": "13Xr5vZRpGhD"
      },
      "source": [
        "### Counts of species area"
      ]
    },
    {
      "cell_type": "markdown",
      "metadata": {
        "id": "5Y0wToTmXGAA"
      },
      "source": [
        "Let's look at the counts of species area (`Q1`) in each population. First, note that this question allowed multiple responses, which appear as a common-delimited list. The below code counts how many times each species appears, taking into account the possible of multiple responses."
      ]
    },
    {
      "cell_type": "code",
      "metadata": {
        "colab": {
          "base_uri": "https://localhost:8080/"
        },
        "id": "SeM9chi4ieBu",
        "outputId": "12d78955-d98f-4d8c-8e98-2803afe49b2f"
      },
      "source": [
        "from collections import defaultdict\n",
        "\n",
        "pop1_counts = defaultdict(int) # start each count at zero by default\n",
        "\n",
        "for entry in list(pop1.Q1):\n",
        "    if isinstance(entry, str):\n",
        "        species_list = entry.split(',')\n",
        "        for species in species_list:\n",
        "            pop1_counts[species] += 1\n",
        "    elif np.isnan(entry) == True:\n",
        "        pop1_counts[\"empty\"] += 1\n",
        "\n",
        "print(\"*** %s Survey ***\" % (pop1_str,))\n",
        "for key, val in pop1_counts.items():\n",
        "    print(\"%s: %i\" % (key, val))"
      ],
      "execution_count": 330,
      "outputs": [
        {
          "output_type": "stream",
          "name": "stdout",
          "text": [
            "*** specialist Survey ***\n",
            "Food Animal (bovine): 6\n",
            "Companion Animal (canine and/or feline): 15\n",
            "Equine: 5\n",
            "Special Species (ex. exotic companion animals): 2\n",
            "empty: 1\n"
          ]
        }
      ]
    },
    {
      "cell_type": "code",
      "metadata": {
        "colab": {
          "base_uri": "https://localhost:8080/"
        },
        "id": "945gjw5Gntff",
        "outputId": "e9ed885f-9397-4947-e0c9-3947db8d9e28"
      },
      "source": [
        "pop2_counts = defaultdict(int) # start each count at zero by default\n",
        "\n",
        "for entry in list(pop2.Q1):\n",
        "    if isinstance(entry, str):\n",
        "        species_list = entry.split(',')\n",
        "        for species in species_list:\n",
        "            pop2_counts[species] += 1\n",
        "    elif np.isnan(entry) == True:\n",
        "        pop2_counts[\"empty\"] += 1\n",
        "\n",
        "print(\"*** %s Survey ***\" % (pop2_str,))\n",
        "for key, val in pop2_counts.items():\n",
        "    print(\"%s: %i\" % (key, val))"
      ],
      "execution_count": 331,
      "outputs": [
        {
          "output_type": "stream",
          "name": "stdout",
          "text": [
            "*** generalist Survey ***\n",
            "Companion Animal (canine and/or feline): 100\n",
            "Food Animal (bovine): 42\n",
            "Equine: 25\n",
            "Special Species (ex. exotic companion animals): 19\n",
            "empty: 28\n"
          ]
        }
      ]
    },
    {
      "cell_type": "markdown",
      "metadata": {
        "id": "TsZMPL4GN5SA"
      },
      "source": [
        "### Note about organization"
      ]
    },
    {
      "cell_type": "markdown",
      "metadata": {
        "id": "twcIZqWMNLxU"
      },
      "source": [
        "There are several levels of organization in our interpretation of this data.\n",
        "\n",
        " * `Group`: One of the 4 species groups (companion animal, special species, food animal, or equine)\n",
        "     * `Question`: A group of procedures in a category such as \"Medical Procedures\" or \"Surgical Procedures\"\n",
        "          * `Sub-question`: A particular procedure\n",
        "\n",
        "We can perform analysis at the sub-question level, or pool upwards to the question or group level. I will do all of this below.\n",
        "\n",
        "\n",
        "\n"
      ]
    },
    {
      "cell_type": "markdown",
      "metadata": {
        "id": "udPYeYwWBbqR"
      },
      "source": [
        "## Question analysis"
      ]
    },
    {
      "cell_type": "markdown",
      "metadata": {
        "id": "79O0ABQyu9UE"
      },
      "source": [
        "Let's encode the expectation response in the following way:\n",
        "\n",
        " * 0: No Expectation to Perform Procedure\n",
        "\n",
        " * 1: Perform with Assistance (assist with portions of procedure)\n",
        " \n",
        " * 2: Perform with Direct Supervision (present in room during procedure)\n",
        "\n",
        " * 3: Perform with Indirect Supervision (available in building or by phone if needed)\n",
        "\n",
        " * 4: Perform Independently"
      ]
    },
    {
      "cell_type": "code",
      "metadata": {
        "id": "it_mQuqavdMD"
      },
      "source": [
        "def encode_expectation(response_string):\n",
        "    if isinstance(response_string, int) == True:\n",
        "        return response_string\n",
        "    \n",
        "    # Encode nan values as -1\n",
        "    if isinstance(response_string, str) == False:\n",
        "        if np.isnan(response_string) == True:\n",
        "            return -1\n",
        "    \n",
        "    # Encode string\n",
        "    s = response_string.lower()\n",
        "    if s.find('no expectation') > -1:\n",
        "        return 0\n",
        "    elif s.find('with assistance') > -1:\n",
        "        return 1\n",
        "    elif s.find('indirect supervision') > -1:\n",
        "        return 3\n",
        "    elif s.find('direct supervision') > -1:\n",
        "        return 2\n",
        "    elif s.find('independently') > -1:\n",
        "        return 4\n",
        "    else:\n",
        "        print(response_string)\n",
        "        raise ValueError('Expected performance response was not formatted as expected.')"
      ],
      "execution_count": 332,
      "outputs": []
    },
    {
      "cell_type": "code",
      "metadata": {
        "id": "vVGtl2giphjY"
      },
      "source": [
        "\"\"\"\n",
        "Function for computing the composite average scores for all respondents. The \n",
        "average is over all subquestions in the indicated question.\n",
        "\n",
        "For a given respondent to be included in the output, their response rate for this group\n",
        "of subquestions must be above the value of `force_completion_rate`.\n",
        "\"\"\"\n",
        "def get_composite_scores(filtered_df, question_list, n_subq_list, force_completion_rate):\n",
        "    composite_scores = []\n",
        "    indices_used = []\n",
        "    for i in range(filtered_df.shape[0]):  # Loop over respondents\n",
        "        responses_in_group = []\n",
        "\n",
        "        # Loop over questions in the group\n",
        "        for q_index in range(len(question_list)): \n",
        "            question_number = question_list[q_index]\n",
        "            n_subquestions = n_subq_list[q_index]\n",
        "\n",
        "            for j in range(1, n_subquestions+1):  # Loop over subquestions in this question\n",
        "                qkey = \"Q\" + str(question_number) + \"_\" + str(j)\n",
        "                filtered_df[qkey] = filtered_df[qkey].apply(lambda x: encode_expectation(x))\n",
        "                response = filtered_df[qkey].iloc[[i]]\n",
        "                responses_in_group.append(response)\n",
        "        \n",
        "        responses_in_group = np.array(responses_in_group)\n",
        "\n",
        "        # verify inclusion of respondent in the group analysis\n",
        "        unique, counts = np.unique(responses_in_group, return_counts=True)\n",
        "        counter = dict(zip(unique, counts))\n",
        "        response_rate = 1 - counter.get(-1,0) / len(responses_in_group)\n",
        "        if (response_rate <= force_completion_rate):\n",
        "            continue\n",
        "        else:\n",
        "            indices_used.append(i)\n",
        "        \n",
        "        # remove -1 (empty) values and compute average score of responses\n",
        "        index = np.where(responses_in_group != -1)[0]\n",
        "        responses_in_group = responses_in_group[index]\n",
        "        \n",
        "        # add average of responses to list of composite scores\n",
        "        composite_response = np.mean(responses_in_group)\n",
        "        composite_scores.append(composite_response)\n",
        "\n",
        "    return composite_scores, indices_used"
      ],
      "execution_count": 333,
      "outputs": []
    },
    {
      "cell_type": "code",
      "metadata": {
        "id": "BhsBJD7iZY8M"
      },
      "source": [
        "def run_kruskal(pop1_data, pop2_data):\n",
        "    if len(pop1_data) >= 5 and len(pop2_data) >= 5:\n",
        "        stat, p = kruskal(pop1_data, pop2_data)\n",
        "    else:\n",
        "        stat = 0\n",
        "        p = 1\n",
        "    return stat, p"
      ],
      "execution_count": 334,
      "outputs": []
    },
    {
      "cell_type": "code",
      "metadata": {
        "id": "-3_bRSKkA5vO"
      },
      "source": [
        "def analyze_question(question_number, filtered_pop1_df, filtered_pop2_df, n_subquestions, alpha=0.05, verbose=True):\n",
        "    \"\"\"\n",
        "    Perform an analysis of a given question on a species-filtered dataframe.\n",
        "    \n",
        "    Inputs:\n",
        "        question_number: main question number to analyze\n",
        "        filtered_pop1_df: pop1 dataframe filtered to respondants with the desired species area\n",
        "        filtered_pop2_df: pop2 dataframe filtered to respondants with the desired species area\n",
        "        n_subquestions: number of subquestions in the main question\n",
        "        alpha: power level for the statistical test\n",
        "\n",
        "    Prints a summary of results.\n",
        "\n",
        "    Outputs:\n",
        "        table: summary table\n",
        "        (pooled_stat, pooled_p, pop1_med_iqr_string, pop2_med_iqr_string): tuple of statistics describing output of Kruskal test on the distributions of average responses over subquestions\n",
        "        pop1_data: list of composite pop1 data (average of subquestion reponses for all respondents meeting completion rate threshold)\n",
        "        pop2_data: list of composite pop2 data\n",
        "        sig_count: number of subquestions with significant difference detected (between pop1 and pop2 responses), according to Kruskal test applied at subquestion level\n",
        "\n",
        "    \"\"\"\n",
        "\n",
        "    pop1_counts = np.zeros((n_subquestions, 6), dtype=int) # Row for each question, column for empty (-1), 0, 1, 2, 3, and 4 responses\n",
        "    pop2_counts = np.zeros((n_subquestions, 6), dtype=int) # Row for each question, column for empty (-1), 0, 1, 2, 3, and 4 responses\n",
        "    rows = []\n",
        "\n",
        "    for i in range(1, n_subquestions+1):\n",
        "        qkey = \"Q\" + str(question_number) + \"_\" + str(i)\n",
        "        qstring = question_svm[qkey].split('-')[2] # could refer to questions_svm or questions_wvma\n",
        "\n",
        "        # Encoding\n",
        "        filtered_pop1_df[qkey] = filtered_pop1_df[qkey].apply(lambda x: encode_expectation(x))\n",
        "        filtered_pop2_df[qkey] = filtered_pop2_df[qkey].apply(lambda x: encode_expectation(x))\n",
        "\n",
        "        # pop1 tally\n",
        "        counts = filtered_pop1_df[qkey].value_counts(dropna=False)\n",
        "        for key in counts.keys():\n",
        "            pop1_counts[i-1][key+1] += counts[key] # question index is 1-based; keys range from -1 to 4\n",
        "        counts = pop1_counts[i-1][1:] # counts of 0, 1, 2, 3, and 4\n",
        "        pop1_num_responses = np.sum(counts)\n",
        "        pop1_mean = (0*counts[0] + 1*counts[1] + 2*counts[2] + 3*counts[3] + 4*counts[4]) / pop1_num_responses\n",
        "\n",
        "        # pop2 tally\n",
        "        counts = filtered_pop2_df[qkey].value_counts(dropna=False)\n",
        "        for key in counts.keys():\n",
        "            pop2_counts[i-1][key+1] += counts[key]\n",
        "        counts = pop2_counts[i-1][1:] # counts of 0, 1, 2, 3, and 4\n",
        "        pop2_num_responses = np.sum(counts)\n",
        "        pop2_mean = (0*counts[0] + 1*counts[1] + 2*counts[2] + 3*counts[3] + 4*counts[4]) / pop2_num_responses\n",
        "        \n",
        "        # Get data\n",
        "        pop1_data = list(filtered_pop1_df[qkey])\n",
        "        pop2_data = list(filtered_pop2_df[qkey])\n",
        "\n",
        "        # Remove empty values from data\n",
        "        pop1_data = [x for x in pop1_data if x != -1]\n",
        "        pop2_data = [x for x in pop2_data if x != -1]\n",
        "\n",
        "        assert(pop1_num_responses == len(pop1_data))\n",
        "        assert(pop2_num_responses == len(pop2_data))\n",
        "\n",
        "        # compare samples\n",
        "        stat,p = run_kruskal(pop1_data, pop2_data)\n",
        "\n",
        "        # Compute medians and IQR\n",
        "        pop1_q75, pop1_median, pop1_q25 = np.percentile(pop1_data, [75, 50, 25])\n",
        "        pop2_q75, pop2_median, pop2_q25 = np.percentile(pop2_data, [75, 50, 25])\n",
        "        pop1_med_iqr_string = \"%.1f (%.1f-%.1f)\" % (pop1_median, pop1_q25, pop1_q75)\n",
        "        pop2_med_iqr_string = \"%.1f (%.1f-%.1f)\" % (pop2_median, pop2_q25, pop2_q75)\n",
        "\n",
        "        # Cache row for table of results\n",
        "        # 12-23-21 NRB: replace pop1_mean with pop1_med_iqr_string and same for pop2_mean, remove difference from this list\n",
        "        row = [qstring] + list(pop1_counts[i-1]) + [pop1_med_iqr_string, pop1_num_responses] + list(pop2_counts[i-1]) + [pop2_med_iqr_string, pop2_num_responses, stat, p]\n",
        "        rows.append(row)\n",
        "\n",
        "    # Assemble table of results\n",
        "    table = pd.DataFrame(rows, columns=[\"Subquestion\", pop1_str+\": empty\", pop1_str+\": 0\", pop1_str+\": 1\", \n",
        "                                        pop1_str+\": 2\", pop1_str+\": 3\", pop1_str+\": 4\", pop1_str+\": median (IQR)\", pop1_str+\": num responses\", \n",
        "                                        pop2_str+\": empty\", pop2_str+\": 0\", pop2_str+\": 1\", pop2_str+\": 2\", pop2_str+\": 3\", pop2_str+\": 4\", pop2_str+\": median (IQR)\", pop2_str+\": num responses\", \n",
        "                                        \"stat\", \"pval\"])\n",
        "\n",
        "    # Compute composite scores\n",
        "    pop1_composite_scores,_ = get_composite_scores(filtered_pop1_df, [question_number], [n_subquestions], force_completion_rate)\n",
        "    pop2_composite_scores,_ = get_composite_scores(filtered_pop2_df, [question_number], [n_subquestions], force_completion_rate)\n",
        "\n",
        "    #from scipy.stats import normaltest\n",
        "    #_,p = normaltest(pop1_composite_scores)\n",
        "\n",
        "    # Apply Kruskal test to composite data\n",
        "    pooled_stat, pooled_p = run_kruskal(pop1_composite_scores, pop2_composite_scores)\n",
        "    \n",
        "    # Compute medians and IQR for composite data\n",
        "    pop1_q75, pop1_median, pop1_q25 = np.percentile(pop1_composite_scores, [75, 50, 25])\n",
        "    pop2_q75, pop2_median, pop2_q25 = np.percentile(pop2_composite_scores, [75, 50, 25])\n",
        "    pop1_med_iqr_string = \"%.1f (%.1f-%.1f)\" % (pop1_median, pop1_q25, pop1_q75)\n",
        "    pop2_med_iqr_string = \"%.1f (%.1f-%.1f)\" % (pop2_median, pop2_q25, pop2_q75)\n",
        "\n",
        "    # Print\n",
        "    if verbose == True:\n",
        "        print('Q%s composite scores: stat=%.3f, p=%.2e, %s median (IQR)=%s, %s median (IQR)=%s' % (question_number, pooled_stat, pooled_p, pop1_str, pop1_med_iqr_string, pop2_str, pop2_med_iqr_string))\n",
        "\n",
        "    return table, (pooled_stat, pooled_p, pop1_med_iqr_string, pop2_med_iqr_string), pop1_composite_scores, pop2_composite_scores\n"
      ],
      "execution_count": 335,
      "outputs": []
    },
    {
      "cell_type": "markdown",
      "metadata": {
        "id": "RWT_CepwVO7O"
      },
      "source": [
        "## Group Analysis"
      ]
    },
    {
      "cell_type": "code",
      "metadata": {
        "id": "No1h2UNOF0XC"
      },
      "source": [
        "# Code to analyze all questions within the group\n",
        "\n",
        "def analyze_group(question_list, n_subq_list, question_strings, filtered_pop1_df, filtered_pop2_df, alpha=0.05):\n",
        "    pop1_pooled = [] # now pooling over entire group\n",
        "    pop2_pooled = []\n",
        "    rows = []\n",
        "    subq_tables = []\n",
        "    subq_tables_names = []\n",
        "\n",
        "    for i in range(len(question_list)):\n",
        "        question_number = question_list[i]\n",
        "        n_subquestions = n_subq_list[i]\n",
        "        question_string = question_strings[i]\n",
        "\n",
        "        # Run analysis\n",
        "        table, subq_pooled_result, pop1_data, pop2_data = analyze_question(question_number, filtered_pop1_df, filtered_pop2_df, n_subquestions, verbose=False, alpha=alpha)\n",
        "        pooled_stat, pooled_p, pop1_med_iqr_string, pop2_med_iqr_string = subq_pooled_result\n",
        "        pop1_num_responses = len(pop1_data)\n",
        "        pop2_num_responses = len(pop2_data)\n",
        "\n",
        "        # Cache procedure tables\n",
        "        subq_tables.append(table)\n",
        "        subq_tables_names.append('Q'+str(question_number))\n",
        "\n",
        "        # Cache data for group summary\n",
        "        row = ['Q'+str(question_number), question_string, n_subquestions, pop1_med_iqr_string, pop1_num_responses, pop2_med_iqr_string, pop2_num_responses, pooled_stat, pooled_p]\n",
        "        rows.append(row)\n",
        "\n",
        "    # Assemble table of results\n",
        "    group_table = pd.DataFrame(rows, columns=[\"Question number\", \"Category\", \"Num subquestions\", \"%s Median (IQR)\"%(pop1_str,), \"Num %s respondents\"%(pop1_str,), \"%s Median (IQR)\"%(pop2_str,), \"Num %s respondents\"%(pop2_str,), \"Stat\", \"pval\"])                     \n",
        "\n",
        "    # Compute composite scores\n",
        "    pop1_composite_scores,_ = get_composite_scores(filtered_pop1_df, question_list, n_subq_list, force_completion_rate)\n",
        "    pop2_composite_scores,_ = get_composite_scores(filtered_pop2_df, question_list, n_subq_list, force_completion_rate)\n",
        "\n",
        "    # Apply Kruskal test to pooled data\n",
        "    pooled_stat, pooled_p = run_kruskal(pop1_composite_scores, pop2_composite_scores)\n",
        "\n",
        "    # Compute medians and IQR\n",
        "    pop1_q75, pop1_median, pop1_q25 = np.percentile(pop1_composite_scores, [75, 50, 25])\n",
        "    pop2_q75, pop2_median, pop2_q25 = np.percentile(pop2_composite_scores, [75, 50, 25])\n",
        "    pop1_med_iqr_string = \"%.1f (%.1f-%.1f)\" % (pop1_median, pop1_q25, pop1_q75)\n",
        "    pop2_med_iqr_string = \"%.1f (%.1f-%.1f)\" % (pop2_median, pop2_q25, pop2_q75)\n",
        "\n",
        "    # Print\n",
        "    print('Group result (all questions): stat=%.3f, p=%.2e, %s median (IQR)=%s, %s median (IQR)=%s' % (pooled_stat, pooled_p, pop1_str, pop1_med_iqr_string, pop2_str, pop2_med_iqr_string))\n",
        "\n",
        "    return group_table, (pooled_stat, pooled_p, pop1_med_iqr_string, pop2_med_iqr_string), np.sum(n_subq_list), len(pop1_composite_scores), len(pop2_composite_scores), (subq_tables, subq_tables_names)"
      ],
      "execution_count": 336,
      "outputs": []
    },
    {
      "cell_type": "code",
      "metadata": {
        "id": "TV8dbNjhQkpS"
      },
      "source": [
        "# cache data across all groups\n",
        "group_data = []\n",
        "group_columns = [\"Group\", \"Num subquestions\", \"%s Median (IQR)\"%(pop1_str,), \"Num of %s respondents\"%(pop1_str,), \"%s Median (IQR)\"%(pop2_str,), \"Num of %s respondents\"%(pop2_str,), \"stat\", \"pval\"]"
      ],
      "execution_count": 337,
      "outputs": []
    },
    {
      "cell_type": "code",
      "metadata": {
        "id": "oHHUSx04mA1C"
      },
      "source": [
        "# cache tables\n",
        "output_tables = []\n",
        "output_tables_sheet_names = []\n",
        "\n",
        "# cache subquestion table data\n",
        "output_subq_data = []"
      ],
      "execution_count": 338,
      "outputs": []
    },
    {
      "cell_type": "markdown",
      "metadata": {
        "id": "4CQnMEHdBQiB"
      },
      "source": [
        "### Companion Animal Group"
      ]
    },
    {
      "cell_type": "code",
      "metadata": {
        "id": "hzS9MMxxp3UZ"
      },
      "source": [
        "# Filter dataframe to only companion animal respondants (may have responded to other species too)\n",
        "ca_pop1 = pop1[pop1['Q1'].str.contains('Companion Animal (canine and/or feline)', na=False, regex=False)].copy()"
      ],
      "execution_count": 339,
      "outputs": []
    },
    {
      "cell_type": "code",
      "metadata": {
        "id": "mR1K7domxU40"
      },
      "source": [
        "# Filter dataframe to only companion animal respondants (may have responded to other species too)\n",
        "ca_pop2 = pop2[pop2['Q1'].str.contains('Companion Animal (canine and/or feline)', na=False, regex=False)].copy()"
      ],
      "execution_count": 340,
      "outputs": []
    },
    {
      "cell_type": "code",
      "metadata": {
        "id": "2PRI-LFAE9WW"
      },
      "source": [
        "# Input info about question group\n",
        "\n",
        "if nontechnical == False:\n",
        "    question_list = [16,17,7,8,9,10,11,12]\n",
        "    n_subq_list = [25,10,25,8,4,12,13,3]\n",
        "    question_strings = ['Medical Procedures',\n",
        "                        'Preventive Medicine/Population Health Procedures',\n",
        "                        'Surgical Procedures', \n",
        "                        'Anesthetic Procedures', \n",
        "                        'Reproductive Procedures',\n",
        "                        'Diagnostic Imaging Procedures',\n",
        "                        'Clinical Pathology Procedures',\n",
        "                        'Diagnostic Necropsy Procedures']\n",
        "else:\n",
        "    question_list = [13,14,15]\n",
        "    n_subq_list = [11,6,8]\n",
        "    question_strings = ['Communication practices',\n",
        "                        'Professional and business practices',\n",
        "                        'Ethics and professional practices']\n",
        "\n",
        "assert(len(question_list) == len(n_subq_list))\n",
        "assert(len(n_subq_list) == len(question_strings))"
      ],
      "execution_count": 341,
      "outputs": []
    },
    {
      "cell_type": "code",
      "metadata": {
        "colab": {
          "base_uri": "https://localhost:8080/",
          "height": 397
        },
        "id": "f0MxDBYnLTY4",
        "outputId": "fc7a9ef8-5755-48ec-a8ab-43840eb9a49c"
      },
      "source": [
        "group_table, pooled_q_stats, n_subquestions, pop1_responses, pop2_responses, subq_data  = analyze_group(question_list, n_subq_list, question_strings, ca_pop1, ca_pop2, alpha=ALPHA)\n",
        "pooled_stat, pooled_p, pop1_med_iqr_string, pop2_med_iqr_string = pooled_q_stats\n",
        "group_data.append([\"Companion Animal\", n_subquestions, pop1_responses, pop1_med_iqr_string, pop2_responses, pop2_med_iqr_string, pooled_stat, pooled_p])\n",
        "output_tables.append(group_table)\n",
        "output_tables_sheet_names.append(\"Companion Animal\")\n",
        "output_subq_data.append(subq_data)\n",
        "group_table"
      ],
      "execution_count": 342,
      "outputs": [
        {
          "output_type": "stream",
          "name": "stdout",
          "text": [
            "Group result (all questions): stat=9.638, p=1.91e-03, specialist median (IQR)=2.3 (1.9-2.5), generalist median (IQR)=2.7 (2.4-3.0)\n"
          ]
        },
        {
          "output_type": "execute_result",
          "data": {
            "text/html": [
              "\n",
              "  <div id=\"df-c2bbd0cf-2e45-4641-8b0d-a15cc6db4412\">\n",
              "    <div class=\"colab-df-container\">\n",
              "      <div>\n",
              "<style scoped>\n",
              "    .dataframe tbody tr th:only-of-type {\n",
              "        vertical-align: middle;\n",
              "    }\n",
              "\n",
              "    .dataframe tbody tr th {\n",
              "        vertical-align: top;\n",
              "    }\n",
              "\n",
              "    .dataframe thead th {\n",
              "        text-align: right;\n",
              "    }\n",
              "</style>\n",
              "<table border=\"1\" class=\"dataframe\">\n",
              "  <thead>\n",
              "    <tr style=\"text-align: right;\">\n",
              "      <th></th>\n",
              "      <th>Question number</th>\n",
              "      <th>Category</th>\n",
              "      <th>Num subquestions</th>\n",
              "      <th>specialist Median (IQR)</th>\n",
              "      <th>Num specialist respondents</th>\n",
              "      <th>generalist Median (IQR)</th>\n",
              "      <th>Num generalist respondents</th>\n",
              "      <th>Stat</th>\n",
              "      <th>pval</th>\n",
              "    </tr>\n",
              "  </thead>\n",
              "  <tbody>\n",
              "    <tr>\n",
              "      <th>0</th>\n",
              "      <td>Q16</td>\n",
              "      <td>Medical Procedures</td>\n",
              "      <td>25</td>\n",
              "      <td>3.1 (2.8-3.3)</td>\n",
              "      <td>14</td>\n",
              "      <td>3.4 (2.9-3.6)</td>\n",
              "      <td>86</td>\n",
              "      <td>4.031295</td>\n",
              "      <td>0.044664</td>\n",
              "    </tr>\n",
              "    <tr>\n",
              "      <th>1</th>\n",
              "      <td>Q17</td>\n",
              "      <td>Preventive Medicine/Population Health Procedures</td>\n",
              "      <td>10</td>\n",
              "      <td>1.8 (1.0-2.2)</td>\n",
              "      <td>13</td>\n",
              "      <td>2.9 (2.3-3.3)</td>\n",
              "      <td>80</td>\n",
              "      <td>12.753524</td>\n",
              "      <td>0.000355</td>\n",
              "    </tr>\n",
              "    <tr>\n",
              "      <th>2</th>\n",
              "      <td>Q7</td>\n",
              "      <td>Surgical Procedures</td>\n",
              "      <td>25</td>\n",
              "      <td>1.7 (1.4-2.0)</td>\n",
              "      <td>14</td>\n",
              "      <td>2.1 (1.7-2.5)</td>\n",
              "      <td>79</td>\n",
              "      <td>5.718931</td>\n",
              "      <td>0.016783</td>\n",
              "    </tr>\n",
              "    <tr>\n",
              "      <th>3</th>\n",
              "      <td>Q8</td>\n",
              "      <td>Anesthetic Procedures</td>\n",
              "      <td>8</td>\n",
              "      <td>2.8 (1.9-3.1)</td>\n",
              "      <td>12</td>\n",
              "      <td>3.6 (3.2-3.9)</td>\n",
              "      <td>78</td>\n",
              "      <td>8.490000</td>\n",
              "      <td>0.003571</td>\n",
              "    </tr>\n",
              "    <tr>\n",
              "      <th>4</th>\n",
              "      <td>Q9</td>\n",
              "      <td>Reproductive Procedures</td>\n",
              "      <td>4</td>\n",
              "      <td>0.9 (0.0-1.4)</td>\n",
              "      <td>12</td>\n",
              "      <td>1.2 (0.5-2.5)</td>\n",
              "      <td>77</td>\n",
              "      <td>1.561141</td>\n",
              "      <td>0.211498</td>\n",
              "    </tr>\n",
              "    <tr>\n",
              "      <th>5</th>\n",
              "      <td>Q10</td>\n",
              "      <td>Diagnostic Imaging Procedures</td>\n",
              "      <td>12</td>\n",
              "      <td>1.7 (1.1-2.4)</td>\n",
              "      <td>12</td>\n",
              "      <td>2.1 (1.6-2.5)</td>\n",
              "      <td>75</td>\n",
              "      <td>1.384898</td>\n",
              "      <td>0.239269</td>\n",
              "    </tr>\n",
              "    <tr>\n",
              "      <th>6</th>\n",
              "      <td>Q11</td>\n",
              "      <td>Clinical Pathology Procedures</td>\n",
              "      <td>13</td>\n",
              "      <td>2.8 (1.9-3.1)</td>\n",
              "      <td>12</td>\n",
              "      <td>3.1 (2.6-3.4)</td>\n",
              "      <td>75</td>\n",
              "      <td>3.744832</td>\n",
              "      <td>0.052971</td>\n",
              "    </tr>\n",
              "    <tr>\n",
              "      <th>7</th>\n",
              "      <td>Q12</td>\n",
              "      <td>Diagnostic Necropsy Procedures</td>\n",
              "      <td>3</td>\n",
              "      <td>1.5 (0.8-2.3)</td>\n",
              "      <td>12</td>\n",
              "      <td>3.0 (1.5-3.7)</td>\n",
              "      <td>75</td>\n",
              "      <td>7.113403</td>\n",
              "      <td>0.007651</td>\n",
              "    </tr>\n",
              "  </tbody>\n",
              "</table>\n",
              "</div>\n",
              "      <button class=\"colab-df-convert\" onclick=\"convertToInteractive('df-c2bbd0cf-2e45-4641-8b0d-a15cc6db4412')\"\n",
              "              title=\"Convert this dataframe to an interactive table.\"\n",
              "              style=\"display:none;\">\n",
              "        \n",
              "  <svg xmlns=\"http://www.w3.org/2000/svg\" height=\"24px\"viewBox=\"0 0 24 24\"\n",
              "       width=\"24px\">\n",
              "    <path d=\"M0 0h24v24H0V0z\" fill=\"none\"/>\n",
              "    <path d=\"M18.56 5.44l.94 2.06.94-2.06 2.06-.94-2.06-.94-.94-2.06-.94 2.06-2.06.94zm-11 1L8.5 8.5l.94-2.06 2.06-.94-2.06-.94L8.5 2.5l-.94 2.06-2.06.94zm10 10l.94 2.06.94-2.06 2.06-.94-2.06-.94-.94-2.06-.94 2.06-2.06.94z\"/><path d=\"M17.41 7.96l-1.37-1.37c-.4-.4-.92-.59-1.43-.59-.52 0-1.04.2-1.43.59L10.3 9.45l-7.72 7.72c-.78.78-.78 2.05 0 2.83L4 21.41c.39.39.9.59 1.41.59.51 0 1.02-.2 1.41-.59l7.78-7.78 2.81-2.81c.8-.78.8-2.07 0-2.86zM5.41 20L4 18.59l7.72-7.72 1.47 1.35L5.41 20z\"/>\n",
              "  </svg>\n",
              "      </button>\n",
              "      \n",
              "  <style>\n",
              "    .colab-df-container {\n",
              "      display:flex;\n",
              "      flex-wrap:wrap;\n",
              "      gap: 12px;\n",
              "    }\n",
              "\n",
              "    .colab-df-convert {\n",
              "      background-color: #E8F0FE;\n",
              "      border: none;\n",
              "      border-radius: 50%;\n",
              "      cursor: pointer;\n",
              "      display: none;\n",
              "      fill: #1967D2;\n",
              "      height: 32px;\n",
              "      padding: 0 0 0 0;\n",
              "      width: 32px;\n",
              "    }\n",
              "\n",
              "    .colab-df-convert:hover {\n",
              "      background-color: #E2EBFA;\n",
              "      box-shadow: 0px 1px 2px rgba(60, 64, 67, 0.3), 0px 1px 3px 1px rgba(60, 64, 67, 0.15);\n",
              "      fill: #174EA6;\n",
              "    }\n",
              "\n",
              "    [theme=dark] .colab-df-convert {\n",
              "      background-color: #3B4455;\n",
              "      fill: #D2E3FC;\n",
              "    }\n",
              "\n",
              "    [theme=dark] .colab-df-convert:hover {\n",
              "      background-color: #434B5C;\n",
              "      box-shadow: 0px 1px 3px 1px rgba(0, 0, 0, 0.15);\n",
              "      filter: drop-shadow(0px 1px 2px rgba(0, 0, 0, 0.3));\n",
              "      fill: #FFFFFF;\n",
              "    }\n",
              "  </style>\n",
              "\n",
              "      <script>\n",
              "        const buttonEl =\n",
              "          document.querySelector('#df-c2bbd0cf-2e45-4641-8b0d-a15cc6db4412 button.colab-df-convert');\n",
              "        buttonEl.style.display =\n",
              "          google.colab.kernel.accessAllowed ? 'block' : 'none';\n",
              "\n",
              "        async function convertToInteractive(key) {\n",
              "          const element = document.querySelector('#df-c2bbd0cf-2e45-4641-8b0d-a15cc6db4412');\n",
              "          const dataTable =\n",
              "            await google.colab.kernel.invokeFunction('convertToInteractive',\n",
              "                                                     [key], {});\n",
              "          if (!dataTable) return;\n",
              "\n",
              "          const docLinkHtml = 'Like what you see? Visit the ' +\n",
              "            '<a target=\"_blank\" href=https://colab.research.google.com/notebooks/data_table.ipynb>data table notebook</a>'\n",
              "            + ' to learn more about interactive tables.';\n",
              "          element.innerHTML = '';\n",
              "          dataTable['output_type'] = 'display_data';\n",
              "          await google.colab.output.renderOutput(dataTable, element);\n",
              "          const docLink = document.createElement('div');\n",
              "          docLink.innerHTML = docLinkHtml;\n",
              "          element.appendChild(docLink);\n",
              "        }\n",
              "      </script>\n",
              "    </div>\n",
              "  </div>\n",
              "  "
            ],
            "text/plain": [
              "  Question number  ...      pval\n",
              "0             Q16  ...  0.044664\n",
              "1             Q17  ...  0.000355\n",
              "2              Q7  ...  0.016783\n",
              "3              Q8  ...  0.003571\n",
              "4              Q9  ...  0.211498\n",
              "5             Q10  ...  0.239269\n",
              "6             Q11  ...  0.052971\n",
              "7             Q12  ...  0.007651\n",
              "\n",
              "[8 rows x 9 columns]"
            ]
          },
          "metadata": {},
          "execution_count": 342
        }
      ]
    },
    {
      "cell_type": "markdown",
      "metadata": {
        "id": "xmr4Abh_AW6b"
      },
      "source": [
        "### Special Species Group"
      ]
    },
    {
      "cell_type": "code",
      "metadata": {
        "id": "DCdfiCDJAqvY"
      },
      "source": [
        "# Filter dataframes to only companion animal respondants (may have responded to other species too)\n",
        "ss_pop1 = pop1[pop1['Q1'].str.contains('Special Species', na=False, regex=False)].copy()\n",
        "ss_pop2 = pop2[pop2['Q1'].str.contains('Special Species', na=False, regex=False)].copy()"
      ],
      "execution_count": 343,
      "outputs": []
    },
    {
      "cell_type": "code",
      "metadata": {
        "id": "274MDssxK4mQ"
      },
      "source": [
        "# Input info about question group\n",
        "\n",
        "if nontechnical == False:\n",
        "    question_list = [43, 44, 45, 46, 48, 49, 50]\n",
        "    n_subq_list = [20, 9, 11, 8, 6, 13, 3]\n",
        "    question_strings = ['Medical Procedures',\n",
        "                        'Preventive Medicine/Population Health Procedures',\n",
        "                        'Surgical Procedures', \n",
        "                        'Anesthetic Procedures', \n",
        "                        'Diagnostic Imaging Procedures',\n",
        "                        'Clinical Pathology Procedures',\n",
        "                        'Diagnostic Necropsy Procedures']\n",
        "else:\n",
        "    question_list = [13,14,15]\n",
        "    n_subq_list = [11,6,8]\n",
        "    question_strings = ['Communication practices',\n",
        "                        'Professional and business practices',\n",
        "                        'Ethics and professional practices']\n",
        "                        \n",
        "assert(len(question_list) == len(n_subq_list))\n",
        "assert(len(n_subq_list) == len(question_strings))"
      ],
      "execution_count": 344,
      "outputs": []
    },
    {
      "cell_type": "code",
      "metadata": {
        "colab": {
          "base_uri": "https://localhost:8080/",
          "height": 366
        },
        "id": "68Wni7ZWK6CF",
        "outputId": "5f6998cc-0821-4d5e-e43b-2b9e37517a5f"
      },
      "source": [
        "group_table, pooled_q_stats, n_subquestions, pop1_responses, pop2_responses, subq_data  = analyze_group(question_list, n_subq_list, question_strings, ss_pop1, ss_pop2, alpha=ALPHA)\n",
        "pooled_stat, pooled_p, pop1_med_iqr_string, pop2_med_iqr_string = pooled_q_stats\n",
        "group_data.append([\"Special Species\", n_subquestions, pop1_responses, pop1_med_iqr_string, pop2_responses, pop2_med_iqr_string, pooled_stat, pooled_p])\n",
        "output_tables.append(group_table)\n",
        "output_tables_sheet_names.append(\"Special Species\")\n",
        "output_subq_data.append(subq_data)\n",
        "group_table"
      ],
      "execution_count": 345,
      "outputs": [
        {
          "output_type": "stream",
          "name": "stdout",
          "text": [
            "Group result (all questions): stat=0.000, p=1.00e+00, specialist median (IQR)=1.4 (1.1-1.7), generalist median (IQR)=2.5 (2.1-3.0)\n"
          ]
        },
        {
          "output_type": "execute_result",
          "data": {
            "text/html": [
              "\n",
              "  <div id=\"df-08a5383e-ec0f-4b05-adc8-7d9d1cb805bd\">\n",
              "    <div class=\"colab-df-container\">\n",
              "      <div>\n",
              "<style scoped>\n",
              "    .dataframe tbody tr th:only-of-type {\n",
              "        vertical-align: middle;\n",
              "    }\n",
              "\n",
              "    .dataframe tbody tr th {\n",
              "        vertical-align: top;\n",
              "    }\n",
              "\n",
              "    .dataframe thead th {\n",
              "        text-align: right;\n",
              "    }\n",
              "</style>\n",
              "<table border=\"1\" class=\"dataframe\">\n",
              "  <thead>\n",
              "    <tr style=\"text-align: right;\">\n",
              "      <th></th>\n",
              "      <th>Question number</th>\n",
              "      <th>Category</th>\n",
              "      <th>Num subquestions</th>\n",
              "      <th>specialist Median (IQR)</th>\n",
              "      <th>Num specialist respondents</th>\n",
              "      <th>generalist Median (IQR)</th>\n",
              "      <th>Num generalist respondents</th>\n",
              "      <th>Stat</th>\n",
              "      <th>pval</th>\n",
              "    </tr>\n",
              "  </thead>\n",
              "  <tbody>\n",
              "    <tr>\n",
              "      <th>0</th>\n",
              "      <td>Q43</td>\n",
              "      <td>Medical Procedures</td>\n",
              "      <td>20</td>\n",
              "      <td>0.8 (0.7-0.8)</td>\n",
              "      <td>2</td>\n",
              "      <td>3.0 (2.6-3.6)</td>\n",
              "      <td>15</td>\n",
              "      <td>0</td>\n",
              "      <td>1</td>\n",
              "    </tr>\n",
              "    <tr>\n",
              "      <th>1</th>\n",
              "      <td>Q44</td>\n",
              "      <td>Preventive Medicine/Population Health Procedures</td>\n",
              "      <td>9</td>\n",
              "      <td>1.8 (1.4-2.1)</td>\n",
              "      <td>2</td>\n",
              "      <td>2.7 (2.2-3.1)</td>\n",
              "      <td>15</td>\n",
              "      <td>0</td>\n",
              "      <td>1</td>\n",
              "    </tr>\n",
              "    <tr>\n",
              "      <th>2</th>\n",
              "      <td>Q45</td>\n",
              "      <td>Surgical Procedures</td>\n",
              "      <td>11</td>\n",
              "      <td>1.0 (0.5-1.5)</td>\n",
              "      <td>2</td>\n",
              "      <td>1.9 (1.1-2.2)</td>\n",
              "      <td>15</td>\n",
              "      <td>0</td>\n",
              "      <td>1</td>\n",
              "    </tr>\n",
              "    <tr>\n",
              "      <th>3</th>\n",
              "      <td>Q46</td>\n",
              "      <td>Anesthetic Procedures</td>\n",
              "      <td>8</td>\n",
              "      <td>1.1 (0.6-1.7)</td>\n",
              "      <td>2</td>\n",
              "      <td>2.8 (2.3-3.3)</td>\n",
              "      <td>14</td>\n",
              "      <td>0</td>\n",
              "      <td>1</td>\n",
              "    </tr>\n",
              "    <tr>\n",
              "      <th>4</th>\n",
              "      <td>Q48</td>\n",
              "      <td>Diagnostic Imaging Procedures</td>\n",
              "      <td>6</td>\n",
              "      <td>1.7 (1.2-2.2)</td>\n",
              "      <td>2</td>\n",
              "      <td>1.3 (0.8-1.8)</td>\n",
              "      <td>14</td>\n",
              "      <td>0</td>\n",
              "      <td>1</td>\n",
              "    </tr>\n",
              "    <tr>\n",
              "      <th>5</th>\n",
              "      <td>Q49</td>\n",
              "      <td>Clinical Pathology Procedures</td>\n",
              "      <td>13</td>\n",
              "      <td>2.1 (1.7-2.5)</td>\n",
              "      <td>2</td>\n",
              "      <td>2.5 (2.3-2.8)</td>\n",
              "      <td>14</td>\n",
              "      <td>0</td>\n",
              "      <td>1</td>\n",
              "    </tr>\n",
              "    <tr>\n",
              "      <th>6</th>\n",
              "      <td>Q50</td>\n",
              "      <td>Diagnostic Necropsy Procedures</td>\n",
              "      <td>3</td>\n",
              "      <td>2.8 (2.8-2.9)</td>\n",
              "      <td>2</td>\n",
              "      <td>2.3 (1.2-3.3)</td>\n",
              "      <td>14</td>\n",
              "      <td>0</td>\n",
              "      <td>1</td>\n",
              "    </tr>\n",
              "  </tbody>\n",
              "</table>\n",
              "</div>\n",
              "      <button class=\"colab-df-convert\" onclick=\"convertToInteractive('df-08a5383e-ec0f-4b05-adc8-7d9d1cb805bd')\"\n",
              "              title=\"Convert this dataframe to an interactive table.\"\n",
              "              style=\"display:none;\">\n",
              "        \n",
              "  <svg xmlns=\"http://www.w3.org/2000/svg\" height=\"24px\"viewBox=\"0 0 24 24\"\n",
              "       width=\"24px\">\n",
              "    <path d=\"M0 0h24v24H0V0z\" fill=\"none\"/>\n",
              "    <path d=\"M18.56 5.44l.94 2.06.94-2.06 2.06-.94-2.06-.94-.94-2.06-.94 2.06-2.06.94zm-11 1L8.5 8.5l.94-2.06 2.06-.94-2.06-.94L8.5 2.5l-.94 2.06-2.06.94zm10 10l.94 2.06.94-2.06 2.06-.94-2.06-.94-.94-2.06-.94 2.06-2.06.94z\"/><path d=\"M17.41 7.96l-1.37-1.37c-.4-.4-.92-.59-1.43-.59-.52 0-1.04.2-1.43.59L10.3 9.45l-7.72 7.72c-.78.78-.78 2.05 0 2.83L4 21.41c.39.39.9.59 1.41.59.51 0 1.02-.2 1.41-.59l7.78-7.78 2.81-2.81c.8-.78.8-2.07 0-2.86zM5.41 20L4 18.59l7.72-7.72 1.47 1.35L5.41 20z\"/>\n",
              "  </svg>\n",
              "      </button>\n",
              "      \n",
              "  <style>\n",
              "    .colab-df-container {\n",
              "      display:flex;\n",
              "      flex-wrap:wrap;\n",
              "      gap: 12px;\n",
              "    }\n",
              "\n",
              "    .colab-df-convert {\n",
              "      background-color: #E8F0FE;\n",
              "      border: none;\n",
              "      border-radius: 50%;\n",
              "      cursor: pointer;\n",
              "      display: none;\n",
              "      fill: #1967D2;\n",
              "      height: 32px;\n",
              "      padding: 0 0 0 0;\n",
              "      width: 32px;\n",
              "    }\n",
              "\n",
              "    .colab-df-convert:hover {\n",
              "      background-color: #E2EBFA;\n",
              "      box-shadow: 0px 1px 2px rgba(60, 64, 67, 0.3), 0px 1px 3px 1px rgba(60, 64, 67, 0.15);\n",
              "      fill: #174EA6;\n",
              "    }\n",
              "\n",
              "    [theme=dark] .colab-df-convert {\n",
              "      background-color: #3B4455;\n",
              "      fill: #D2E3FC;\n",
              "    }\n",
              "\n",
              "    [theme=dark] .colab-df-convert:hover {\n",
              "      background-color: #434B5C;\n",
              "      box-shadow: 0px 1px 3px 1px rgba(0, 0, 0, 0.15);\n",
              "      filter: drop-shadow(0px 1px 2px rgba(0, 0, 0, 0.3));\n",
              "      fill: #FFFFFF;\n",
              "    }\n",
              "  </style>\n",
              "\n",
              "      <script>\n",
              "        const buttonEl =\n",
              "          document.querySelector('#df-08a5383e-ec0f-4b05-adc8-7d9d1cb805bd button.colab-df-convert');\n",
              "        buttonEl.style.display =\n",
              "          google.colab.kernel.accessAllowed ? 'block' : 'none';\n",
              "\n",
              "        async function convertToInteractive(key) {\n",
              "          const element = document.querySelector('#df-08a5383e-ec0f-4b05-adc8-7d9d1cb805bd');\n",
              "          const dataTable =\n",
              "            await google.colab.kernel.invokeFunction('convertToInteractive',\n",
              "                                                     [key], {});\n",
              "          if (!dataTable) return;\n",
              "\n",
              "          const docLinkHtml = 'Like what you see? Visit the ' +\n",
              "            '<a target=\"_blank\" href=https://colab.research.google.com/notebooks/data_table.ipynb>data table notebook</a>'\n",
              "            + ' to learn more about interactive tables.';\n",
              "          element.innerHTML = '';\n",
              "          dataTable['output_type'] = 'display_data';\n",
              "          await google.colab.output.renderOutput(dataTable, element);\n",
              "          const docLink = document.createElement('div');\n",
              "          docLink.innerHTML = docLinkHtml;\n",
              "          element.appendChild(docLink);\n",
              "        }\n",
              "      </script>\n",
              "    </div>\n",
              "  </div>\n",
              "  "
            ],
            "text/plain": [
              "  Question number                                          Category  ...  Stat pval\n",
              "0             Q43                                Medical Procedures  ...     0    1\n",
              "1             Q44  Preventive Medicine/Population Health Procedures  ...     0    1\n",
              "2             Q45                               Surgical Procedures  ...     0    1\n",
              "3             Q46                             Anesthetic Procedures  ...     0    1\n",
              "4             Q48                     Diagnostic Imaging Procedures  ...     0    1\n",
              "5             Q49                     Clinical Pathology Procedures  ...     0    1\n",
              "6             Q50                    Diagnostic Necropsy Procedures  ...     0    1\n",
              "\n",
              "[7 rows x 9 columns]"
            ]
          },
          "metadata": {},
          "execution_count": 345
        }
      ]
    },
    {
      "cell_type": "markdown",
      "metadata": {
        "id": "OZmv6D7BAkoT"
      },
      "source": [
        "### Food Animal Group"
      ]
    },
    {
      "cell_type": "code",
      "metadata": {
        "id": "l_iFQe9tMNHj"
      },
      "source": [
        "# Filter dataframes to only companion animal respondants (may have responded to other species too)\n",
        "fa_pop1 = pop1[pop1['Q1'].str.contains('Food Animal', na=False, regex=False)].copy()\n",
        "fa_pop2 = pop2[pop2['Q1'].str.contains('Food Animal', na=False, regex=False)].copy()"
      ],
      "execution_count": 346,
      "outputs": []
    },
    {
      "cell_type": "code",
      "metadata": {
        "id": "h84S1L2UMONF"
      },
      "source": [
        "# Input info about question group\n",
        "\n",
        "if nontechnical == False:\n",
        "    question_list = [20, 18, 25, 24, 21, 19, 23, 22, 27]\n",
        "    n_subq_list = [8, 27, 16, 10, 20, 11, 12, 3, 5]\n",
        "    question_strings = ['Handling and Husbandry Procedures',\n",
        "                        'Medical Procedures',\n",
        "                        'Surgical Procedures',\n",
        "                        'Anesthetic Procedures',\n",
        "                        'Preventive Medicine/Population Health Procedures',\n",
        "                        'Reproductive Procedures',\n",
        "                        'Clinical Pathology Procedures',\n",
        "                        'Diagnostic Necropsy Procedures',\n",
        "                        'Diagnostic Imaging Procedures']\n",
        "else:\n",
        "    question_list = [13,14,15]\n",
        "    n_subq_list = [11,6,8]\n",
        "    question_strings = ['Communication practices',\n",
        "                        'Professional and business practices',\n",
        "                        'Ethics and professional practices']\n",
        "\n",
        "assert(len(question_list) == len(n_subq_list))\n",
        "assert(len(n_subq_list) == len(question_strings))"
      ],
      "execution_count": 347,
      "outputs": []
    },
    {
      "cell_type": "code",
      "metadata": {
        "colab": {
          "base_uri": "https://localhost:8080/",
          "height": 429
        },
        "id": "LE1yuS5OMPGh",
        "outputId": "b43f97a2-3f2e-4b89-d1a7-9a03d41a4ca4"
      },
      "source": [
        "group_table, pooled_q_stats, n_subquestions, pop1_responses, pop2_responses, subq_data  = analyze_group(question_list, n_subq_list, question_strings, fa_pop1, fa_pop2, alpha=ALPHA)\n",
        "pooled_stat, pooled_p, pop1_med_iqr_string, pop2_med_iqr_string = pooled_q_stats\n",
        "group_data.append([\"Food Animal\", n_subquestions, pop1_responses, pop1_med_iqr_string, pop2_responses, pop2_med_iqr_string, pooled_stat, pooled_p])\n",
        "output_tables.append(group_table)\n",
        "output_tables_sheet_names.append(\"Food Animal\")\n",
        "output_subq_data.append(subq_data)\n",
        "group_table"
      ],
      "execution_count": 348,
      "outputs": [
        {
          "output_type": "stream",
          "name": "stdout",
          "text": [
            "Group result (all questions): stat=0.007, p=9.34e-01, specialist median (IQR)=3.3 (2.5-3.5), generalist median (IQR)=3.2 (3.0-3.4)\n"
          ]
        },
        {
          "output_type": "execute_result",
          "data": {
            "text/html": [
              "\n",
              "  <div id=\"df-29ad1073-019a-4b82-a988-4883d8fed99a\">\n",
              "    <div class=\"colab-df-container\">\n",
              "      <div>\n",
              "<style scoped>\n",
              "    .dataframe tbody tr th:only-of-type {\n",
              "        vertical-align: middle;\n",
              "    }\n",
              "\n",
              "    .dataframe tbody tr th {\n",
              "        vertical-align: top;\n",
              "    }\n",
              "\n",
              "    .dataframe thead th {\n",
              "        text-align: right;\n",
              "    }\n",
              "</style>\n",
              "<table border=\"1\" class=\"dataframe\">\n",
              "  <thead>\n",
              "    <tr style=\"text-align: right;\">\n",
              "      <th></th>\n",
              "      <th>Question number</th>\n",
              "      <th>Category</th>\n",
              "      <th>Num subquestions</th>\n",
              "      <th>specialist Median (IQR)</th>\n",
              "      <th>Num specialist respondents</th>\n",
              "      <th>generalist Median (IQR)</th>\n",
              "      <th>Num generalist respondents</th>\n",
              "      <th>Stat</th>\n",
              "      <th>pval</th>\n",
              "    </tr>\n",
              "  </thead>\n",
              "  <tbody>\n",
              "    <tr>\n",
              "      <th>0</th>\n",
              "      <td>Q20</td>\n",
              "      <td>Handling and Husbandry Procedures</td>\n",
              "      <td>8</td>\n",
              "      <td>3.8 (2.4-3.9)</td>\n",
              "      <td>6</td>\n",
              "      <td>3.5 (3.0-4.0)</td>\n",
              "      <td>31</td>\n",
              "      <td>0.052567</td>\n",
              "      <td>0.818655</td>\n",
              "    </tr>\n",
              "    <tr>\n",
              "      <th>1</th>\n",
              "      <td>Q18</td>\n",
              "      <td>Medical Procedures</td>\n",
              "      <td>27</td>\n",
              "      <td>3.5 (2.6-3.7)</td>\n",
              "      <td>6</td>\n",
              "      <td>3.5 (3.2-3.7)</td>\n",
              "      <td>31</td>\n",
              "      <td>0.463708</td>\n",
              "      <td>0.495896</td>\n",
              "    </tr>\n",
              "    <tr>\n",
              "      <th>2</th>\n",
              "      <td>Q25</td>\n",
              "      <td>Surgical Procedures</td>\n",
              "      <td>16</td>\n",
              "      <td>3.2 (2.0-3.7)</td>\n",
              "      <td>5</td>\n",
              "      <td>2.8 (2.3-3.2)</td>\n",
              "      <td>31</td>\n",
              "      <td>0.253836</td>\n",
              "      <td>0.614387</td>\n",
              "    </tr>\n",
              "    <tr>\n",
              "      <th>3</th>\n",
              "      <td>Q24</td>\n",
              "      <td>Anesthetic Procedures</td>\n",
              "      <td>10</td>\n",
              "      <td>3.8 (2.3-3.8)</td>\n",
              "      <td>5</td>\n",
              "      <td>3.6 (3.2-4.0)</td>\n",
              "      <td>31</td>\n",
              "      <td>0.154234</td>\n",
              "      <td>0.694522</td>\n",
              "    </tr>\n",
              "    <tr>\n",
              "      <th>4</th>\n",
              "      <td>Q21</td>\n",
              "      <td>Preventive Medicine/Population Health Procedures</td>\n",
              "      <td>20</td>\n",
              "      <td>2.6 (2.1-3.0)</td>\n",
              "      <td>5</td>\n",
              "      <td>3.0 (2.7-3.3)</td>\n",
              "      <td>31</td>\n",
              "      <td>1.528912</td>\n",
              "      <td>0.216276</td>\n",
              "    </tr>\n",
              "    <tr>\n",
              "      <th>5</th>\n",
              "      <td>Q19</td>\n",
              "      <td>Reproductive Procedures</td>\n",
              "      <td>11</td>\n",
              "      <td>2.9 (2.1-3.1)</td>\n",
              "      <td>4</td>\n",
              "      <td>3.0 (2.5-3.3)</td>\n",
              "      <td>31</td>\n",
              "      <td>0.000000</td>\n",
              "      <td>1.000000</td>\n",
              "    </tr>\n",
              "    <tr>\n",
              "      <th>6</th>\n",
              "      <td>Q23</td>\n",
              "      <td>Clinical Pathology Procedures</td>\n",
              "      <td>12</td>\n",
              "      <td>3.6 (3.1-3.7)</td>\n",
              "      <td>4</td>\n",
              "      <td>3.8 (3.3-4.0)</td>\n",
              "      <td>31</td>\n",
              "      <td>0.000000</td>\n",
              "      <td>1.000000</td>\n",
              "    </tr>\n",
              "    <tr>\n",
              "      <th>7</th>\n",
              "      <td>Q22</td>\n",
              "      <td>Diagnostic Necropsy Procedures</td>\n",
              "      <td>3</td>\n",
              "      <td>3.2 (2.5-3.8)</td>\n",
              "      <td>4</td>\n",
              "      <td>3.7 (3.0-4.0)</td>\n",
              "      <td>31</td>\n",
              "      <td>0.000000</td>\n",
              "      <td>1.000000</td>\n",
              "    </tr>\n",
              "    <tr>\n",
              "      <th>8</th>\n",
              "      <td>Q27</td>\n",
              "      <td>Diagnostic Imaging Procedures</td>\n",
              "      <td>5</td>\n",
              "      <td>1.2 (0.9-1.6)</td>\n",
              "      <td>4</td>\n",
              "      <td>2.6 (2.0-3.2)</td>\n",
              "      <td>31</td>\n",
              "      <td>0.000000</td>\n",
              "      <td>1.000000</td>\n",
              "    </tr>\n",
              "  </tbody>\n",
              "</table>\n",
              "</div>\n",
              "      <button class=\"colab-df-convert\" onclick=\"convertToInteractive('df-29ad1073-019a-4b82-a988-4883d8fed99a')\"\n",
              "              title=\"Convert this dataframe to an interactive table.\"\n",
              "              style=\"display:none;\">\n",
              "        \n",
              "  <svg xmlns=\"http://www.w3.org/2000/svg\" height=\"24px\"viewBox=\"0 0 24 24\"\n",
              "       width=\"24px\">\n",
              "    <path d=\"M0 0h24v24H0V0z\" fill=\"none\"/>\n",
              "    <path d=\"M18.56 5.44l.94 2.06.94-2.06 2.06-.94-2.06-.94-.94-2.06-.94 2.06-2.06.94zm-11 1L8.5 8.5l.94-2.06 2.06-.94-2.06-.94L8.5 2.5l-.94 2.06-2.06.94zm10 10l.94 2.06.94-2.06 2.06-.94-2.06-.94-.94-2.06-.94 2.06-2.06.94z\"/><path d=\"M17.41 7.96l-1.37-1.37c-.4-.4-.92-.59-1.43-.59-.52 0-1.04.2-1.43.59L10.3 9.45l-7.72 7.72c-.78.78-.78 2.05 0 2.83L4 21.41c.39.39.9.59 1.41.59.51 0 1.02-.2 1.41-.59l7.78-7.78 2.81-2.81c.8-.78.8-2.07 0-2.86zM5.41 20L4 18.59l7.72-7.72 1.47 1.35L5.41 20z\"/>\n",
              "  </svg>\n",
              "      </button>\n",
              "      \n",
              "  <style>\n",
              "    .colab-df-container {\n",
              "      display:flex;\n",
              "      flex-wrap:wrap;\n",
              "      gap: 12px;\n",
              "    }\n",
              "\n",
              "    .colab-df-convert {\n",
              "      background-color: #E8F0FE;\n",
              "      border: none;\n",
              "      border-radius: 50%;\n",
              "      cursor: pointer;\n",
              "      display: none;\n",
              "      fill: #1967D2;\n",
              "      height: 32px;\n",
              "      padding: 0 0 0 0;\n",
              "      width: 32px;\n",
              "    }\n",
              "\n",
              "    .colab-df-convert:hover {\n",
              "      background-color: #E2EBFA;\n",
              "      box-shadow: 0px 1px 2px rgba(60, 64, 67, 0.3), 0px 1px 3px 1px rgba(60, 64, 67, 0.15);\n",
              "      fill: #174EA6;\n",
              "    }\n",
              "\n",
              "    [theme=dark] .colab-df-convert {\n",
              "      background-color: #3B4455;\n",
              "      fill: #D2E3FC;\n",
              "    }\n",
              "\n",
              "    [theme=dark] .colab-df-convert:hover {\n",
              "      background-color: #434B5C;\n",
              "      box-shadow: 0px 1px 3px 1px rgba(0, 0, 0, 0.15);\n",
              "      filter: drop-shadow(0px 1px 2px rgba(0, 0, 0, 0.3));\n",
              "      fill: #FFFFFF;\n",
              "    }\n",
              "  </style>\n",
              "\n",
              "      <script>\n",
              "        const buttonEl =\n",
              "          document.querySelector('#df-29ad1073-019a-4b82-a988-4883d8fed99a button.colab-df-convert');\n",
              "        buttonEl.style.display =\n",
              "          google.colab.kernel.accessAllowed ? 'block' : 'none';\n",
              "\n",
              "        async function convertToInteractive(key) {\n",
              "          const element = document.querySelector('#df-29ad1073-019a-4b82-a988-4883d8fed99a');\n",
              "          const dataTable =\n",
              "            await google.colab.kernel.invokeFunction('convertToInteractive',\n",
              "                                                     [key], {});\n",
              "          if (!dataTable) return;\n",
              "\n",
              "          const docLinkHtml = 'Like what you see? Visit the ' +\n",
              "            '<a target=\"_blank\" href=https://colab.research.google.com/notebooks/data_table.ipynb>data table notebook</a>'\n",
              "            + ' to learn more about interactive tables.';\n",
              "          element.innerHTML = '';\n",
              "          dataTable['output_type'] = 'display_data';\n",
              "          await google.colab.output.renderOutput(dataTable, element);\n",
              "          const docLink = document.createElement('div');\n",
              "          docLink.innerHTML = docLinkHtml;\n",
              "          element.appendChild(docLink);\n",
              "        }\n",
              "      </script>\n",
              "    </div>\n",
              "  </div>\n",
              "  "
            ],
            "text/plain": [
              "  Question number  ...      pval\n",
              "0             Q20  ...  0.818655\n",
              "1             Q18  ...  0.495896\n",
              "2             Q25  ...  0.614387\n",
              "3             Q24  ...  0.694522\n",
              "4             Q21  ...  0.216276\n",
              "5             Q19  ...  1.000000\n",
              "6             Q23  ...  1.000000\n",
              "7             Q22  ...  1.000000\n",
              "8             Q27  ...  1.000000\n",
              "\n",
              "[9 rows x 9 columns]"
            ]
          },
          "metadata": {},
          "execution_count": 348
        }
      ]
    },
    {
      "cell_type": "markdown",
      "metadata": {
        "id": "CupWAW_OAmJA"
      },
      "source": [
        "### Equine Group"
      ]
    },
    {
      "cell_type": "code",
      "metadata": {
        "id": "tv2QyiS3PAY-"
      },
      "source": [
        "# Filter dataframes to only companion animal respondants (may have responded to other species too)\n",
        "eq_pop1 = pop1[pop1['Q1'].str.contains('Equine', na=False, regex=False)].copy()\n",
        "eq_pop2 = pop2[pop2['Q1'].str.contains('Equine', na=False, regex=False)].copy()"
      ],
      "execution_count": 349,
      "outputs": []
    },
    {
      "cell_type": "code",
      "metadata": {
        "id": "GbO-i-4wPEUZ"
      },
      "source": [
        "# Input info about question group\n",
        "\n",
        "if nontechnical == False:\n",
        "    question_list = [28, 29, 30, 31, 32, 33, 34, 35, 36]\n",
        "    n_subq_list = [7, 24, 8, 8, 15, 9, 11, 3, 5]\n",
        "    question_strings = ['Handling and Husbandry Procedures',\n",
        "                        'Medical Procedures',\n",
        "                        'Surgical Procedures',\n",
        "                        'Anesthetic Procedures',\n",
        "                        'Preventive Medicine/Population Health Procedures',\n",
        "                        'Reproductive Procedures',\n",
        "                        'Clinical Pathology Procedures',\n",
        "                        'Diagnostic Necropsy Procedures',\n",
        "                        'Diagnostic Imaging Procedures']\n",
        "else:\n",
        "    question_list = [13,14,15]\n",
        "    n_subq_list = [11,6,8]\n",
        "    question_strings = ['Communication practices',\n",
        "                        'Professional and business practices',\n",
        "                        'Ethics and professional practices']\n",
        "\n",
        "assert(len(question_list) == len(n_subq_list))\n",
        "assert(len(n_subq_list) == len(question_strings))"
      ],
      "execution_count": 350,
      "outputs": []
    },
    {
      "cell_type": "code",
      "metadata": {
        "colab": {
          "base_uri": "https://localhost:8080/",
          "height": 429
        },
        "id": "PfeuG-2TPHzx",
        "outputId": "a142aee7-75ee-4727-ed3b-02d0902e0f50"
      },
      "source": [
        "group_table, pooled_q_stats, n_subquestions, pop1_responses, pop2_responses, subq_data  = analyze_group(question_list, n_subq_list, question_strings, eq_pop1, eq_pop2, alpha=ALPHA)\n",
        "pooled_stat, pooled_p, pop1_med_iqr_string, pop2_med_iqr_string = pooled_q_stats\n",
        "group_data.append([\"Equine\", n_subquestions, pop1_responses, pop1_med_iqr_string, pop2_responses, pop2_med_iqr_string, pooled_stat, pooled_p])\n",
        "output_tables.append(group_table)\n",
        "output_tables_sheet_names.append(\"Equine\")\n",
        "output_subq_data.append(subq_data)\n",
        "group_table"
      ],
      "execution_count": 351,
      "outputs": [
        {
          "output_type": "stream",
          "name": "stdout",
          "text": [
            "Group result (all questions): stat=0.000, p=1.00e+00, specialist median (IQR)=2.2 (1.1-3.2), generalist median (IQR)=3.3 (3.1-3.5)\n"
          ]
        },
        {
          "output_type": "execute_result",
          "data": {
            "text/html": [
              "\n",
              "  <div id=\"df-eaa576c6-29b0-49a7-92fa-aa7602f5b73b\">\n",
              "    <div class=\"colab-df-container\">\n",
              "      <div>\n",
              "<style scoped>\n",
              "    .dataframe tbody tr th:only-of-type {\n",
              "        vertical-align: middle;\n",
              "    }\n",
              "\n",
              "    .dataframe tbody tr th {\n",
              "        vertical-align: top;\n",
              "    }\n",
              "\n",
              "    .dataframe thead th {\n",
              "        text-align: right;\n",
              "    }\n",
              "</style>\n",
              "<table border=\"1\" class=\"dataframe\">\n",
              "  <thead>\n",
              "    <tr style=\"text-align: right;\">\n",
              "      <th></th>\n",
              "      <th>Question number</th>\n",
              "      <th>Category</th>\n",
              "      <th>Num subquestions</th>\n",
              "      <th>specialist Median (IQR)</th>\n",
              "      <th>Num specialist respondents</th>\n",
              "      <th>generalist Median (IQR)</th>\n",
              "      <th>Num generalist respondents</th>\n",
              "      <th>Stat</th>\n",
              "      <th>pval</th>\n",
              "    </tr>\n",
              "  </thead>\n",
              "  <tbody>\n",
              "    <tr>\n",
              "      <th>0</th>\n",
              "      <td>Q28</td>\n",
              "      <td>Handling and Husbandry Procedures</td>\n",
              "      <td>7</td>\n",
              "      <td>3.2 (2.4-3.4)</td>\n",
              "      <td>4</td>\n",
              "      <td>3.7 (3.1-4.0)</td>\n",
              "      <td>21</td>\n",
              "      <td>0</td>\n",
              "      <td>1</td>\n",
              "    </tr>\n",
              "    <tr>\n",
              "      <th>1</th>\n",
              "      <td>Q29</td>\n",
              "      <td>Medical Procedures</td>\n",
              "      <td>24</td>\n",
              "      <td>2.5 (1.4-3.4)</td>\n",
              "      <td>4</td>\n",
              "      <td>3.5 (3.3-3.7)</td>\n",
              "      <td>21</td>\n",
              "      <td>0</td>\n",
              "      <td>1</td>\n",
              "    </tr>\n",
              "    <tr>\n",
              "      <th>2</th>\n",
              "      <td>Q30</td>\n",
              "      <td>Surgical Procedures</td>\n",
              "      <td>8</td>\n",
              "      <td>2.2 (0.9-3.3)</td>\n",
              "      <td>4</td>\n",
              "      <td>3.5 (2.8-3.8)</td>\n",
              "      <td>21</td>\n",
              "      <td>0</td>\n",
              "      <td>1</td>\n",
              "    </tr>\n",
              "    <tr>\n",
              "      <th>3</th>\n",
              "      <td>Q31</td>\n",
              "      <td>Anesthetic Procedures</td>\n",
              "      <td>8</td>\n",
              "      <td>2.1 (0.7-3.5)</td>\n",
              "      <td>4</td>\n",
              "      <td>3.5 (3.2-3.8)</td>\n",
              "      <td>21</td>\n",
              "      <td>0</td>\n",
              "      <td>1</td>\n",
              "    </tr>\n",
              "    <tr>\n",
              "      <th>4</th>\n",
              "      <td>Q32</td>\n",
              "      <td>Preventive Medicine/Population Health Procedures</td>\n",
              "      <td>15</td>\n",
              "      <td>1.7 (0.8-2.6)</td>\n",
              "      <td>4</td>\n",
              "      <td>3.3 (2.9-3.5)</td>\n",
              "      <td>20</td>\n",
              "      <td>0</td>\n",
              "      <td>1</td>\n",
              "    </tr>\n",
              "    <tr>\n",
              "      <th>5</th>\n",
              "      <td>Q33</td>\n",
              "      <td>Reproductive Procedures</td>\n",
              "      <td>9</td>\n",
              "      <td>1.2 (0.0-2.5)</td>\n",
              "      <td>4</td>\n",
              "      <td>2.7 (2.1-2.9)</td>\n",
              "      <td>20</td>\n",
              "      <td>0</td>\n",
              "      <td>1</td>\n",
              "    </tr>\n",
              "    <tr>\n",
              "      <th>6</th>\n",
              "      <td>Q34</td>\n",
              "      <td>Clinical Pathology Procedures</td>\n",
              "      <td>11</td>\n",
              "      <td>3.8 (2.7-3.9)</td>\n",
              "      <td>3</td>\n",
              "      <td>3.7 (3.1-4.0)</td>\n",
              "      <td>20</td>\n",
              "      <td>0</td>\n",
              "      <td>1</td>\n",
              "    </tr>\n",
              "    <tr>\n",
              "      <th>7</th>\n",
              "      <td>Q35</td>\n",
              "      <td>Diagnostic Necropsy Procedures</td>\n",
              "      <td>3</td>\n",
              "      <td>2.0 (1.3-2.2)</td>\n",
              "      <td>3</td>\n",
              "      <td>3.3 (1.6-3.8)</td>\n",
              "      <td>20</td>\n",
              "      <td>0</td>\n",
              "      <td>1</td>\n",
              "    </tr>\n",
              "    <tr>\n",
              "      <th>8</th>\n",
              "      <td>Q36</td>\n",
              "      <td>Diagnostic Imaging Procedures</td>\n",
              "      <td>5</td>\n",
              "      <td>3.0 (1.9-3.4)</td>\n",
              "      <td>3</td>\n",
              "      <td>2.7 (2.2-3.4)</td>\n",
              "      <td>20</td>\n",
              "      <td>0</td>\n",
              "      <td>1</td>\n",
              "    </tr>\n",
              "  </tbody>\n",
              "</table>\n",
              "</div>\n",
              "      <button class=\"colab-df-convert\" onclick=\"convertToInteractive('df-eaa576c6-29b0-49a7-92fa-aa7602f5b73b')\"\n",
              "              title=\"Convert this dataframe to an interactive table.\"\n",
              "              style=\"display:none;\">\n",
              "        \n",
              "  <svg xmlns=\"http://www.w3.org/2000/svg\" height=\"24px\"viewBox=\"0 0 24 24\"\n",
              "       width=\"24px\">\n",
              "    <path d=\"M0 0h24v24H0V0z\" fill=\"none\"/>\n",
              "    <path d=\"M18.56 5.44l.94 2.06.94-2.06 2.06-.94-2.06-.94-.94-2.06-.94 2.06-2.06.94zm-11 1L8.5 8.5l.94-2.06 2.06-.94-2.06-.94L8.5 2.5l-.94 2.06-2.06.94zm10 10l.94 2.06.94-2.06 2.06-.94-2.06-.94-.94-2.06-.94 2.06-2.06.94z\"/><path d=\"M17.41 7.96l-1.37-1.37c-.4-.4-.92-.59-1.43-.59-.52 0-1.04.2-1.43.59L10.3 9.45l-7.72 7.72c-.78.78-.78 2.05 0 2.83L4 21.41c.39.39.9.59 1.41.59.51 0 1.02-.2 1.41-.59l7.78-7.78 2.81-2.81c.8-.78.8-2.07 0-2.86zM5.41 20L4 18.59l7.72-7.72 1.47 1.35L5.41 20z\"/>\n",
              "  </svg>\n",
              "      </button>\n",
              "      \n",
              "  <style>\n",
              "    .colab-df-container {\n",
              "      display:flex;\n",
              "      flex-wrap:wrap;\n",
              "      gap: 12px;\n",
              "    }\n",
              "\n",
              "    .colab-df-convert {\n",
              "      background-color: #E8F0FE;\n",
              "      border: none;\n",
              "      border-radius: 50%;\n",
              "      cursor: pointer;\n",
              "      display: none;\n",
              "      fill: #1967D2;\n",
              "      height: 32px;\n",
              "      padding: 0 0 0 0;\n",
              "      width: 32px;\n",
              "    }\n",
              "\n",
              "    .colab-df-convert:hover {\n",
              "      background-color: #E2EBFA;\n",
              "      box-shadow: 0px 1px 2px rgba(60, 64, 67, 0.3), 0px 1px 3px 1px rgba(60, 64, 67, 0.15);\n",
              "      fill: #174EA6;\n",
              "    }\n",
              "\n",
              "    [theme=dark] .colab-df-convert {\n",
              "      background-color: #3B4455;\n",
              "      fill: #D2E3FC;\n",
              "    }\n",
              "\n",
              "    [theme=dark] .colab-df-convert:hover {\n",
              "      background-color: #434B5C;\n",
              "      box-shadow: 0px 1px 3px 1px rgba(0, 0, 0, 0.15);\n",
              "      filter: drop-shadow(0px 1px 2px rgba(0, 0, 0, 0.3));\n",
              "      fill: #FFFFFF;\n",
              "    }\n",
              "  </style>\n",
              "\n",
              "      <script>\n",
              "        const buttonEl =\n",
              "          document.querySelector('#df-eaa576c6-29b0-49a7-92fa-aa7602f5b73b button.colab-df-convert');\n",
              "        buttonEl.style.display =\n",
              "          google.colab.kernel.accessAllowed ? 'block' : 'none';\n",
              "\n",
              "        async function convertToInteractive(key) {\n",
              "          const element = document.querySelector('#df-eaa576c6-29b0-49a7-92fa-aa7602f5b73b');\n",
              "          const dataTable =\n",
              "            await google.colab.kernel.invokeFunction('convertToInteractive',\n",
              "                                                     [key], {});\n",
              "          if (!dataTable) return;\n",
              "\n",
              "          const docLinkHtml = 'Like what you see? Visit the ' +\n",
              "            '<a target=\"_blank\" href=https://colab.research.google.com/notebooks/data_table.ipynb>data table notebook</a>'\n",
              "            + ' to learn more about interactive tables.';\n",
              "          element.innerHTML = '';\n",
              "          dataTable['output_type'] = 'display_data';\n",
              "          await google.colab.output.renderOutput(dataTable, element);\n",
              "          const docLink = document.createElement('div');\n",
              "          docLink.innerHTML = docLinkHtml;\n",
              "          element.appendChild(docLink);\n",
              "        }\n",
              "      </script>\n",
              "    </div>\n",
              "  </div>\n",
              "  "
            ],
            "text/plain": [
              "  Question number                                          Category  ...  Stat pval\n",
              "0             Q28                 Handling and Husbandry Procedures  ...     0    1\n",
              "1             Q29                                Medical Procedures  ...     0    1\n",
              "2             Q30                               Surgical Procedures  ...     0    1\n",
              "3             Q31                             Anesthetic Procedures  ...     0    1\n",
              "4             Q32  Preventive Medicine/Population Health Procedures  ...     0    1\n",
              "5             Q33                           Reproductive Procedures  ...     0    1\n",
              "6             Q34                     Clinical Pathology Procedures  ...     0    1\n",
              "7             Q35                    Diagnostic Necropsy Procedures  ...     0    1\n",
              "8             Q36                     Diagnostic Imaging Procedures  ...     0    1\n",
              "\n",
              "[9 rows x 9 columns]"
            ]
          },
          "metadata": {},
          "execution_count": 351
        }
      ]
    },
    {
      "cell_type": "markdown",
      "metadata": {
        "id": "hvTNlIpv7P8I"
      },
      "source": [
        "## Top-level comparison\n",
        "\n",
        "For each respondant, compute a composite score based on all questions they answered. Then compare pop1 to pop2. This represents a top-level comparison across both populations."
      ]
    },
    {
      "cell_type": "code",
      "metadata": {
        "colab": {
          "base_uri": "https://localhost:8080/"
        },
        "id": "C8dxvyGIHbuj",
        "outputId": "77b91330-33cd-44b9-fc2c-d65dfbc568cd"
      },
      "source": [
        "# Create question list\n",
        "if nontechnical == False:\n",
        "    question_list = [16,17,7,8,9,10,11,12]+[43, 44, 45, 46, 48, 49, 50]+[20, 18, 25, 24, 21, 19, 23, 22, 27]+[28, 29, 30, 31, 32, 33, 34, 35, 36]\n",
        "    n_subq_list = [25,10,25,8,4,12,13,3]+[20, 9, 11, 8, 6, 13, 3]+[8, 27, 16, 10, 20, 11, 12, 3, 5]+[7, 24, 8, 8, 15, 9, 11, 3, 5]\n",
        "else:\n",
        "    question_list = [13,14,15]\n",
        "    n_subq_list = [11,6,8]\n",
        "\n",
        "# Compute composite scores\n",
        "pop1_composite_scores,_ = get_composite_scores(pop1, question_list, n_subq_list, force_completion_rate)\n",
        "pop2_composite_scores,_ = get_composite_scores(pop2, question_list, n_subq_list, force_completion_rate)\n",
        "\n",
        "# Apply Kruskal test to pooled data\n",
        "pooled_stat, pooled_p = run_kruskal(pop1_composite_scores, pop2_composite_scores)\n",
        "\n",
        "# Compute medians and IQR\n",
        "pop1_q75, pop1_median, pop1_q25 = np.percentile(pop1_composite_scores, [75, 50, 25])\n",
        "pop2_q75, pop2_median, pop2_q25 = np.percentile(pop2_composite_scores, [75, 50, 25])\n",
        "pop1_med_iqr_string = \"%.1f (%.1f-%.1f)\" % (pop1_median, pop1_q25, pop1_q75)\n",
        "pop2_med_iqr_string = \"%.1f (%.1f-%.1f)\" % (pop2_median, pop2_q25, pop2_q75)\n",
        "\n",
        "# Print\n",
        "top_level_output = '%s vs. %s: stat=%.3f, p=%.2e, %s Median (IQR)=%s, Num %s responses=%i, %s Median (IQR)=%s, Num of %s responses=%i ' % (pop1_str, pop2_str, pooled_stat, pooled_p, pop1_str, pop1_med_iqr_string, pop1_str, len(pop1_composite_scores), pop2_str, pop2_med_iqr_string, pop2_str, len(pop2_composite_scores))\n",
        "print(top_level_output)\n",
        "\n",
        "# Add row to group summary\n",
        "group_data.append([\"Top level (all species)\", \"Depends on respondent species area(s)\", pop1_responses, pop1_med_iqr_string, pop2_responses, pop2_med_iqr_string, pooled_stat, pooled_p])"
      ],
      "execution_count": 352,
      "outputs": [
        {
          "output_type": "stream",
          "name": "stdout",
          "text": [
            "specialist vs. generalist: stat=2.760, p=9.66e-02, specialist Median (IQR)=2.4 (2.2-3.1), Num specialist responses=20, generalist Median (IQR)=2.9 (2.4-3.2), Num of generalist responses=107 \n"
          ]
        }
      ]
    },
    {
      "cell_type": "markdown",
      "metadata": {
        "id": "O3-z6MgoQDDL"
      },
      "source": [
        "## Group Summary"
      ]
    },
    {
      "cell_type": "code",
      "metadata": {
        "id": "nO6eeGPCSBf5"
      },
      "source": [
        "group_summary_table = pd.DataFrame(group_data, columns=group_columns)"
      ],
      "execution_count": 353,
      "outputs": []
    },
    {
      "cell_type": "code",
      "metadata": {
        "id": "6vty9bGImuy4"
      },
      "source": [
        "# Add group summary to the beginning of output tables\n",
        "output_tables.insert(0, group_summary_table)\n",
        "output_tables_sheet_names.insert(0, \"Group summary\")"
      ],
      "execution_count": 354,
      "outputs": []
    },
    {
      "cell_type": "code",
      "metadata": {
        "colab": {
          "base_uri": "https://localhost:8080/",
          "height": 250
        },
        "id": "oWWtZ8D5SMZN",
        "outputId": "fa4cc257-798a-4ee5-f837-bced71c725f0"
      },
      "source": [
        "group_summary_table"
      ],
      "execution_count": 355,
      "outputs": [
        {
          "output_type": "execute_result",
          "data": {
            "text/html": [
              "\n",
              "  <div id=\"df-1abbc7af-b96f-43b6-9565-fa3344416074\">\n",
              "    <div class=\"colab-df-container\">\n",
              "      <div>\n",
              "<style scoped>\n",
              "    .dataframe tbody tr th:only-of-type {\n",
              "        vertical-align: middle;\n",
              "    }\n",
              "\n",
              "    .dataframe tbody tr th {\n",
              "        vertical-align: top;\n",
              "    }\n",
              "\n",
              "    .dataframe thead th {\n",
              "        text-align: right;\n",
              "    }\n",
              "</style>\n",
              "<table border=\"1\" class=\"dataframe\">\n",
              "  <thead>\n",
              "    <tr style=\"text-align: right;\">\n",
              "      <th></th>\n",
              "      <th>Group</th>\n",
              "      <th>Num subquestions</th>\n",
              "      <th>specialist Median (IQR)</th>\n",
              "      <th>Num of specialist respondents</th>\n",
              "      <th>generalist Median (IQR)</th>\n",
              "      <th>Num of generalist respondents</th>\n",
              "      <th>stat</th>\n",
              "      <th>pval</th>\n",
              "    </tr>\n",
              "  </thead>\n",
              "  <tbody>\n",
              "    <tr>\n",
              "      <th>0</th>\n",
              "      <td>Companion Animal</td>\n",
              "      <td>100</td>\n",
              "      <td>14</td>\n",
              "      <td>2.3 (1.9-2.5)</td>\n",
              "      <td>86</td>\n",
              "      <td>2.7 (2.4-3.0)</td>\n",
              "      <td>9.638375</td>\n",
              "      <td>0.001906</td>\n",
              "    </tr>\n",
              "    <tr>\n",
              "      <th>1</th>\n",
              "      <td>Special Species</td>\n",
              "      <td>70</td>\n",
              "      <td>2</td>\n",
              "      <td>1.4 (1.1-1.7)</td>\n",
              "      <td>15</td>\n",
              "      <td>2.5 (2.1-3.0)</td>\n",
              "      <td>0.000000</td>\n",
              "      <td>1.000000</td>\n",
              "    </tr>\n",
              "    <tr>\n",
              "      <th>2</th>\n",
              "      <td>Food Animal</td>\n",
              "      <td>112</td>\n",
              "      <td>6</td>\n",
              "      <td>3.3 (2.5-3.5)</td>\n",
              "      <td>31</td>\n",
              "      <td>3.2 (3.0-3.4)</td>\n",
              "      <td>0.006793</td>\n",
              "      <td>0.934314</td>\n",
              "    </tr>\n",
              "    <tr>\n",
              "      <th>3</th>\n",
              "      <td>Equine</td>\n",
              "      <td>90</td>\n",
              "      <td>4</td>\n",
              "      <td>2.2 (1.1-3.2)</td>\n",
              "      <td>21</td>\n",
              "      <td>3.3 (3.1-3.5)</td>\n",
              "      <td>0.000000</td>\n",
              "      <td>1.000000</td>\n",
              "    </tr>\n",
              "    <tr>\n",
              "      <th>4</th>\n",
              "      <td>Top level (all species)</td>\n",
              "      <td>Depends on respondent species area(s)</td>\n",
              "      <td>4</td>\n",
              "      <td>2.4 (2.2-3.1)</td>\n",
              "      <td>21</td>\n",
              "      <td>2.9 (2.4-3.2)</td>\n",
              "      <td>2.760006</td>\n",
              "      <td>0.096648</td>\n",
              "    </tr>\n",
              "  </tbody>\n",
              "</table>\n",
              "</div>\n",
              "      <button class=\"colab-df-convert\" onclick=\"convertToInteractive('df-1abbc7af-b96f-43b6-9565-fa3344416074')\"\n",
              "              title=\"Convert this dataframe to an interactive table.\"\n",
              "              style=\"display:none;\">\n",
              "        \n",
              "  <svg xmlns=\"http://www.w3.org/2000/svg\" height=\"24px\"viewBox=\"0 0 24 24\"\n",
              "       width=\"24px\">\n",
              "    <path d=\"M0 0h24v24H0V0z\" fill=\"none\"/>\n",
              "    <path d=\"M18.56 5.44l.94 2.06.94-2.06 2.06-.94-2.06-.94-.94-2.06-.94 2.06-2.06.94zm-11 1L8.5 8.5l.94-2.06 2.06-.94-2.06-.94L8.5 2.5l-.94 2.06-2.06.94zm10 10l.94 2.06.94-2.06 2.06-.94-2.06-.94-.94-2.06-.94 2.06-2.06.94z\"/><path d=\"M17.41 7.96l-1.37-1.37c-.4-.4-.92-.59-1.43-.59-.52 0-1.04.2-1.43.59L10.3 9.45l-7.72 7.72c-.78.78-.78 2.05 0 2.83L4 21.41c.39.39.9.59 1.41.59.51 0 1.02-.2 1.41-.59l7.78-7.78 2.81-2.81c.8-.78.8-2.07 0-2.86zM5.41 20L4 18.59l7.72-7.72 1.47 1.35L5.41 20z\"/>\n",
              "  </svg>\n",
              "      </button>\n",
              "      \n",
              "  <style>\n",
              "    .colab-df-container {\n",
              "      display:flex;\n",
              "      flex-wrap:wrap;\n",
              "      gap: 12px;\n",
              "    }\n",
              "\n",
              "    .colab-df-convert {\n",
              "      background-color: #E8F0FE;\n",
              "      border: none;\n",
              "      border-radius: 50%;\n",
              "      cursor: pointer;\n",
              "      display: none;\n",
              "      fill: #1967D2;\n",
              "      height: 32px;\n",
              "      padding: 0 0 0 0;\n",
              "      width: 32px;\n",
              "    }\n",
              "\n",
              "    .colab-df-convert:hover {\n",
              "      background-color: #E2EBFA;\n",
              "      box-shadow: 0px 1px 2px rgba(60, 64, 67, 0.3), 0px 1px 3px 1px rgba(60, 64, 67, 0.15);\n",
              "      fill: #174EA6;\n",
              "    }\n",
              "\n",
              "    [theme=dark] .colab-df-convert {\n",
              "      background-color: #3B4455;\n",
              "      fill: #D2E3FC;\n",
              "    }\n",
              "\n",
              "    [theme=dark] .colab-df-convert:hover {\n",
              "      background-color: #434B5C;\n",
              "      box-shadow: 0px 1px 3px 1px rgba(0, 0, 0, 0.15);\n",
              "      filter: drop-shadow(0px 1px 2px rgba(0, 0, 0, 0.3));\n",
              "      fill: #FFFFFF;\n",
              "    }\n",
              "  </style>\n",
              "\n",
              "      <script>\n",
              "        const buttonEl =\n",
              "          document.querySelector('#df-1abbc7af-b96f-43b6-9565-fa3344416074 button.colab-df-convert');\n",
              "        buttonEl.style.display =\n",
              "          google.colab.kernel.accessAllowed ? 'block' : 'none';\n",
              "\n",
              "        async function convertToInteractive(key) {\n",
              "          const element = document.querySelector('#df-1abbc7af-b96f-43b6-9565-fa3344416074');\n",
              "          const dataTable =\n",
              "            await google.colab.kernel.invokeFunction('convertToInteractive',\n",
              "                                                     [key], {});\n",
              "          if (!dataTable) return;\n",
              "\n",
              "          const docLinkHtml = 'Like what you see? Visit the ' +\n",
              "            '<a target=\"_blank\" href=https://colab.research.google.com/notebooks/data_table.ipynb>data table notebook</a>'\n",
              "            + ' to learn more about interactive tables.';\n",
              "          element.innerHTML = '';\n",
              "          dataTable['output_type'] = 'display_data';\n",
              "          await google.colab.output.renderOutput(dataTable, element);\n",
              "          const docLink = document.createElement('div');\n",
              "          docLink.innerHTML = docLinkHtml;\n",
              "          element.appendChild(docLink);\n",
              "        }\n",
              "      </script>\n",
              "    </div>\n",
              "  </div>\n",
              "  "
            ],
            "text/plain": [
              "                     Group  ...      pval\n",
              "0         Companion Animal  ...  0.001906\n",
              "1          Special Species  ...  1.000000\n",
              "2              Food Animal  ...  0.934314\n",
              "3                   Equine  ...  1.000000\n",
              "4  Top level (all species)  ...  0.096648\n",
              "\n",
              "[5 rows x 8 columns]"
            ]
          },
          "metadata": {},
          "execution_count": 355
        }
      ]
    },
    {
      "cell_type": "markdown",
      "metadata": {
        "id": "DUe__z6vkefc"
      },
      "source": [
        "## All Species Summary"
      ]
    },
    {
      "cell_type": "markdown",
      "metadata": {
        "id": "oc8oSfiFliKL"
      },
      "source": [
        "This output table only applies to the nontechnical analyses, for which the relevant questions appear in all species areas."
      ]
    },
    {
      "cell_type": "code",
      "metadata": {
        "id": "p-9zlxRYkhl8"
      },
      "source": [
        "if nontechnical == True:\n",
        "\n",
        "    group_table, pooled_q_stats, n_subquestions, pop1_responses, pop2_responses, subq_data  = analyze_group(question_list, n_subq_list, question_strings, pop1, pop2)\n",
        "    output_tables.append(group_table)\n",
        "    output_tables_sheet_names.append(\"All Species\")\n",
        "    output_subq_data.append(subq_data)\n",
        "    group_table"
      ],
      "execution_count": 356,
      "outputs": []
    },
    {
      "cell_type": "markdown",
      "metadata": {
        "id": "cwvr1tBj7sU9"
      },
      "source": [
        "## Determine p-value significance\n",
        "\n",
        "Loop through tables to obtain all p values (the rightmost column), evaluate p values with a ranking approach, then add back a `sig` column to each table."
      ]
    },
    {
      "cell_type": "markdown",
      "metadata": {
        "id": "93OFm2O3vbdg"
      },
      "source": [
        "Step 1: Collect all p values in one table."
      ]
    },
    {
      "cell_type": "code",
      "metadata": {
        "id": "aSZGDAthd9Ct"
      },
      "source": [
        "\"\"\"\n",
        "This computation will retrieve p values from all tables and determine significance.\n",
        "\n",
        "Start by creating a table for all p values and their source. The columns\n",
        "of this table are:\n",
        "    type - Either \"procedure\" or \"group\"\n",
        "    i - For type=0, this is an index into species area (0-3)\n",
        "        For type=1, this is an index into `output_tables`\n",
        "    j - Only defined for type=0; index into `subq_tables` for given i\n",
        "    row_index - row index in table defined by (type, i, j)\n",
        "    p - p val at location (type, i, j, row_index)\n",
        "\n",
        "\n",
        "\"\"\"\n",
        "pvals_data = []\n",
        "pvals_columns = [\"type\", \"i\", \"j\", \"row_index\", \"pval\"]\n",
        "\n",
        "# Procedure tables\n",
        "for i in range(len(output_subq_data)): # loop through species areas\n",
        "    subq_data = output_subq_data[i]\n",
        "    subq_tables, _ = subq_data\n",
        "    \n",
        "    for j,table in enumerate(subq_tables):\n",
        "        table.reset_index(drop=True, inplace=True)\n",
        "        pvals = table['pval']\n",
        "        for row_index, p in enumerate(pvals):\n",
        "            pvals_data.append([0, i, j, row_index, p])\n",
        "\n",
        "# Group summary, species area (and all species) summary tables\n",
        "for i, table in enumerate(output_tables):\n",
        "    table.reset_index(drop=True, inplace=True)\n",
        "    pvals = table['pval']\n",
        "    for row_index, p in enumerate(pvals):\n",
        "        pvals_data.append([1, i, -1, row_index, p])\n",
        "    \n",
        "\n",
        "# Make table\n",
        "pval_table = pd.DataFrame(pvals_data, columns=pvals_columns)"
      ],
      "execution_count": 357,
      "outputs": []
    },
    {
      "cell_type": "markdown",
      "metadata": {
        "id": "oiS68QRRvfAP"
      },
      "source": [
        "Step 2: Do multiple test correction and add results to p value table"
      ]
    },
    {
      "cell_type": "code",
      "metadata": {
        "id": "4ZGOX6qutLon"
      },
      "source": [
        "reject, pvals_corrected = fdrcorrection(pval_table['pval'], alpha=ALPHA)"
      ],
      "execution_count": 358,
      "outputs": []
    },
    {
      "cell_type": "code",
      "metadata": {
        "colab": {
          "base_uri": "https://localhost:8080/"
        },
        "id": "xfO7GDoTwsyr",
        "outputId": "14727479-fbf7-4b01-8acd-5e192112cb5b"
      },
      "source": [
        "np.sum(reject)"
      ],
      "execution_count": 359,
      "outputs": [
        {
          "output_type": "execute_result",
          "data": {
            "text/plain": [
              "5"
            ]
          },
          "metadata": {},
          "execution_count": 359
        }
      ]
    },
    {
      "cell_type": "code",
      "metadata": {
        "id": "kbCHvOX1wDTU"
      },
      "source": [
        "# convert reject value True to * and False to ''\n",
        "def convert_reject(b):\n",
        "    if b==True:\n",
        "        return \"*\"\n",
        "    else:\n",
        "        return ''\n",
        "\n",
        "sig = np.array([convert_reject(b) for b in reject])"
      ],
      "execution_count": 360,
      "outputs": []
    },
    {
      "cell_type": "code",
      "metadata": {
        "id": "wujdgF5vvJgP"
      },
      "source": [
        "pval_table['pval_corrected'] = pvals_corrected\n",
        "pval_table['sig'] = sig"
      ],
      "execution_count": 361,
      "outputs": []
    },
    {
      "cell_type": "code",
      "metadata": {
        "colab": {
          "base_uri": "https://localhost:8080/",
          "height": 424
        },
        "id": "d6Rwg6J1wjiV",
        "outputId": "89fe970b-c2f3-47bd-9df9-3989ea71482b"
      },
      "source": [
        "pval_table"
      ],
      "execution_count": 362,
      "outputs": [
        {
          "output_type": "execute_result",
          "data": {
            "text/html": [
              "\n",
              "  <div id=\"df-6d89e857-4f87-4ec7-8fa3-1f6168c92817\">\n",
              "    <div class=\"colab-df-container\">\n",
              "      <div>\n",
              "<style scoped>\n",
              "    .dataframe tbody tr th:only-of-type {\n",
              "        vertical-align: middle;\n",
              "    }\n",
              "\n",
              "    .dataframe tbody tr th {\n",
              "        vertical-align: top;\n",
              "    }\n",
              "\n",
              "    .dataframe thead th {\n",
              "        text-align: right;\n",
              "    }\n",
              "</style>\n",
              "<table border=\"1\" class=\"dataframe\">\n",
              "  <thead>\n",
              "    <tr style=\"text-align: right;\">\n",
              "      <th></th>\n",
              "      <th>type</th>\n",
              "      <th>i</th>\n",
              "      <th>j</th>\n",
              "      <th>row_index</th>\n",
              "      <th>pval</th>\n",
              "      <th>pval_corrected</th>\n",
              "      <th>sig</th>\n",
              "    </tr>\n",
              "  </thead>\n",
              "  <tbody>\n",
              "    <tr>\n",
              "      <th>0</th>\n",
              "      <td>0</td>\n",
              "      <td>0</td>\n",
              "      <td>0</td>\n",
              "      <td>0</td>\n",
              "      <td>0.251910</td>\n",
              "      <td>0.974371</td>\n",
              "      <td></td>\n",
              "    </tr>\n",
              "    <tr>\n",
              "      <th>1</th>\n",
              "      <td>0</td>\n",
              "      <td>0</td>\n",
              "      <td>0</td>\n",
              "      <td>1</td>\n",
              "      <td>0.208696</td>\n",
              "      <td>0.910271</td>\n",
              "      <td></td>\n",
              "    </tr>\n",
              "    <tr>\n",
              "      <th>2</th>\n",
              "      <td>0</td>\n",
              "      <td>0</td>\n",
              "      <td>0</td>\n",
              "      <td>2</td>\n",
              "      <td>0.049205</td>\n",
              "      <td>0.387964</td>\n",
              "      <td></td>\n",
              "    </tr>\n",
              "    <tr>\n",
              "      <th>3</th>\n",
              "      <td>0</td>\n",
              "      <td>0</td>\n",
              "      <td>0</td>\n",
              "      <td>3</td>\n",
              "      <td>0.004167</td>\n",
              "      <td>0.094916</td>\n",
              "      <td></td>\n",
              "    </tr>\n",
              "    <tr>\n",
              "      <th>4</th>\n",
              "      <td>0</td>\n",
              "      <td>0</td>\n",
              "      <td>0</td>\n",
              "      <td>4</td>\n",
              "      <td>0.087709</td>\n",
              "      <td>0.528831</td>\n",
              "      <td></td>\n",
              "    </tr>\n",
              "    <tr>\n",
              "      <th>...</th>\n",
              "      <td>...</td>\n",
              "      <td>...</td>\n",
              "      <td>...</td>\n",
              "      <td>...</td>\n",
              "      <td>...</td>\n",
              "      <td>...</td>\n",
              "      <td>...</td>\n",
              "    </tr>\n",
              "    <tr>\n",
              "      <th>405</th>\n",
              "      <td>1</td>\n",
              "      <td>4</td>\n",
              "      <td>-1</td>\n",
              "      <td>4</td>\n",
              "      <td>1.000000</td>\n",
              "      <td>1.000000</td>\n",
              "      <td></td>\n",
              "    </tr>\n",
              "    <tr>\n",
              "      <th>406</th>\n",
              "      <td>1</td>\n",
              "      <td>4</td>\n",
              "      <td>-1</td>\n",
              "      <td>5</td>\n",
              "      <td>1.000000</td>\n",
              "      <td>1.000000</td>\n",
              "      <td></td>\n",
              "    </tr>\n",
              "    <tr>\n",
              "      <th>407</th>\n",
              "      <td>1</td>\n",
              "      <td>4</td>\n",
              "      <td>-1</td>\n",
              "      <td>6</td>\n",
              "      <td>1.000000</td>\n",
              "      <td>1.000000</td>\n",
              "      <td></td>\n",
              "    </tr>\n",
              "    <tr>\n",
              "      <th>408</th>\n",
              "      <td>1</td>\n",
              "      <td>4</td>\n",
              "      <td>-1</td>\n",
              "      <td>7</td>\n",
              "      <td>1.000000</td>\n",
              "      <td>1.000000</td>\n",
              "      <td></td>\n",
              "    </tr>\n",
              "    <tr>\n",
              "      <th>409</th>\n",
              "      <td>1</td>\n",
              "      <td>4</td>\n",
              "      <td>-1</td>\n",
              "      <td>8</td>\n",
              "      <td>1.000000</td>\n",
              "      <td>1.000000</td>\n",
              "      <td></td>\n",
              "    </tr>\n",
              "  </tbody>\n",
              "</table>\n",
              "<p>410 rows × 7 columns</p>\n",
              "</div>\n",
              "      <button class=\"colab-df-convert\" onclick=\"convertToInteractive('df-6d89e857-4f87-4ec7-8fa3-1f6168c92817')\"\n",
              "              title=\"Convert this dataframe to an interactive table.\"\n",
              "              style=\"display:none;\">\n",
              "        \n",
              "  <svg xmlns=\"http://www.w3.org/2000/svg\" height=\"24px\"viewBox=\"0 0 24 24\"\n",
              "       width=\"24px\">\n",
              "    <path d=\"M0 0h24v24H0V0z\" fill=\"none\"/>\n",
              "    <path d=\"M18.56 5.44l.94 2.06.94-2.06 2.06-.94-2.06-.94-.94-2.06-.94 2.06-2.06.94zm-11 1L8.5 8.5l.94-2.06 2.06-.94-2.06-.94L8.5 2.5l-.94 2.06-2.06.94zm10 10l.94 2.06.94-2.06 2.06-.94-2.06-.94-.94-2.06-.94 2.06-2.06.94z\"/><path d=\"M17.41 7.96l-1.37-1.37c-.4-.4-.92-.59-1.43-.59-.52 0-1.04.2-1.43.59L10.3 9.45l-7.72 7.72c-.78.78-.78 2.05 0 2.83L4 21.41c.39.39.9.59 1.41.59.51 0 1.02-.2 1.41-.59l7.78-7.78 2.81-2.81c.8-.78.8-2.07 0-2.86zM5.41 20L4 18.59l7.72-7.72 1.47 1.35L5.41 20z\"/>\n",
              "  </svg>\n",
              "      </button>\n",
              "      \n",
              "  <style>\n",
              "    .colab-df-container {\n",
              "      display:flex;\n",
              "      flex-wrap:wrap;\n",
              "      gap: 12px;\n",
              "    }\n",
              "\n",
              "    .colab-df-convert {\n",
              "      background-color: #E8F0FE;\n",
              "      border: none;\n",
              "      border-radius: 50%;\n",
              "      cursor: pointer;\n",
              "      display: none;\n",
              "      fill: #1967D2;\n",
              "      height: 32px;\n",
              "      padding: 0 0 0 0;\n",
              "      width: 32px;\n",
              "    }\n",
              "\n",
              "    .colab-df-convert:hover {\n",
              "      background-color: #E2EBFA;\n",
              "      box-shadow: 0px 1px 2px rgba(60, 64, 67, 0.3), 0px 1px 3px 1px rgba(60, 64, 67, 0.15);\n",
              "      fill: #174EA6;\n",
              "    }\n",
              "\n",
              "    [theme=dark] .colab-df-convert {\n",
              "      background-color: #3B4455;\n",
              "      fill: #D2E3FC;\n",
              "    }\n",
              "\n",
              "    [theme=dark] .colab-df-convert:hover {\n",
              "      background-color: #434B5C;\n",
              "      box-shadow: 0px 1px 3px 1px rgba(0, 0, 0, 0.15);\n",
              "      filter: drop-shadow(0px 1px 2px rgba(0, 0, 0, 0.3));\n",
              "      fill: #FFFFFF;\n",
              "    }\n",
              "  </style>\n",
              "\n",
              "      <script>\n",
              "        const buttonEl =\n",
              "          document.querySelector('#df-6d89e857-4f87-4ec7-8fa3-1f6168c92817 button.colab-df-convert');\n",
              "        buttonEl.style.display =\n",
              "          google.colab.kernel.accessAllowed ? 'block' : 'none';\n",
              "\n",
              "        async function convertToInteractive(key) {\n",
              "          const element = document.querySelector('#df-6d89e857-4f87-4ec7-8fa3-1f6168c92817');\n",
              "          const dataTable =\n",
              "            await google.colab.kernel.invokeFunction('convertToInteractive',\n",
              "                                                     [key], {});\n",
              "          if (!dataTable) return;\n",
              "\n",
              "          const docLinkHtml = 'Like what you see? Visit the ' +\n",
              "            '<a target=\"_blank\" href=https://colab.research.google.com/notebooks/data_table.ipynb>data table notebook</a>'\n",
              "            + ' to learn more about interactive tables.';\n",
              "          element.innerHTML = '';\n",
              "          dataTable['output_type'] = 'display_data';\n",
              "          await google.colab.output.renderOutput(dataTable, element);\n",
              "          const docLink = document.createElement('div');\n",
              "          docLink.innerHTML = docLinkHtml;\n",
              "          element.appendChild(docLink);\n",
              "        }\n",
              "      </script>\n",
              "    </div>\n",
              "  </div>\n",
              "  "
            ],
            "text/plain": [
              "     type  i  j  row_index      pval  pval_corrected sig\n",
              "0       0  0  0          0  0.251910        0.974371    \n",
              "1       0  0  0          1  0.208696        0.910271    \n",
              "2       0  0  0          2  0.049205        0.387964    \n",
              "3       0  0  0          3  0.004167        0.094916    \n",
              "4       0  0  0          4  0.087709        0.528831    \n",
              "..    ... .. ..        ...       ...             ...  ..\n",
              "405     1  4 -1          4  1.000000        1.000000    \n",
              "406     1  4 -1          5  1.000000        1.000000    \n",
              "407     1  4 -1          6  1.000000        1.000000    \n",
              "408     1  4 -1          7  1.000000        1.000000    \n",
              "409     1  4 -1          8  1.000000        1.000000    \n",
              "\n",
              "[410 rows x 7 columns]"
            ]
          },
          "metadata": {},
          "execution_count": 362
        }
      ]
    },
    {
      "cell_type": "markdown",
      "metadata": {
        "id": "DHYk2GnLviYN"
      },
      "source": [
        "Step 3: Populate all original tables with results"
      ]
    },
    {
      "cell_type": "code",
      "metadata": {
        "id": "35O2qYG1xx0d"
      },
      "source": [
        "# Procedure tables\n",
        "for i in range(len(output_subq_data)): # loop through species areas\n",
        "    subq_data = output_subq_data[i]\n",
        "    subq_tables, subq_tables_names = subq_data\n",
        "    new_subq_tables = []\n",
        "\n",
        "    for j,table in enumerate(subq_tables):\n",
        "        if 'pval_corrected' not in table:\n",
        "            pval_table_filtered = pval_table.loc[(pval_table['type'] == 0) & (pval_table['i'] == i) & (pval_table['j'] == j)].copy()\n",
        "            pval_table_filtered.drop(['type', 'i', 'j', 'pval'], axis=1, inplace=True)\n",
        "            table = table.join(pval_table_filtered.set_index('row_index'), rsuffix=\"from_join\")\n",
        "        new_subq_tables.append(table)\n",
        "    output_subq_data[i] = new_subq_tables, subq_tables_names\n",
        "\n",
        "# Group summary, species area (and all species) summary tables\n",
        "new_output_tables = []\n",
        "for i, table in enumerate(output_tables):\n",
        "    if 'pval_corrected' not in table:\n",
        "        pval_table_filtered = pval_table.loc[(pval_table['type'] == 1) & (pval_table['i'] == i)].copy()\n",
        "        pval_table_filtered.drop(['type', 'i', 'j', 'pval'], axis=1, inplace=True)\n",
        "        table = table.join(pval_table_filtered.set_index('row_index'), rsuffix=\"from_join\")\n",
        "    new_output_tables.append(table)\n",
        "output_tables = new_output_tables"
      ],
      "execution_count": 363,
      "outputs": []
    },
    {
      "cell_type": "markdown",
      "metadata": {
        "id": "diMo-zLnlEBb"
      },
      "source": [
        "# Generate tables"
      ]
    },
    {
      "cell_type": "markdown",
      "metadata": {
        "id": "ILmLfYGQlIko"
      },
      "source": [
        "We will generate the following types of tables using pooled data from these experiments:\n",
        "\n",
        "1.   `summary.xlsx`: Group summary table and a table for procedure sets (questions) within each group.\n",
        "2.   `companion_animal.xlsx`: Tables for all procedures within the companion animal group.\n",
        "3.   `special_species.xlsx`: Tables for all procedures within the special species group.\n",
        "4.   `food_animal.xlsx`: Tables for all procedures within the food animal group.\n",
        "5.   `equine.xlsx`:Tables for all procedures within the equine group.\n",
        "6. `summary_nontechnical_allspecies.xlsx`: Summary table for responses to procedures (subquestions) pooled across species areas. Applicable only to non-technical questions.\n",
        "\n"
      ]
    },
    {
      "cell_type": "markdown",
      "metadata": {
        "id": "qSmJ61cUnNFf"
      },
      "source": [
        "## Summary"
      ]
    },
    {
      "cell_type": "code",
      "metadata": {
        "id": "wSPZ3y-HnRtd"
      },
      "source": [
        "writer = pd.ExcelWriter('summary%s.xlsx'%(file_suffix,), engine='xlsxwriter')\n",
        "\n",
        "for i,table in enumerate(output_tables):\n",
        "    sheet_name = output_tables_sheet_names[i]\n",
        "    table.to_excel(writer, sheet_name=sheet_name, index=False)\n",
        "\n",
        "    # Auto-adjust columns widths\n",
        "    for column in table:\n",
        "        column_width = max(table[column].astype(str).map(len).max(), len(column))\n",
        "        col_idx = table.columns.get_loc(column)\n",
        "        writer.sheets[sheet_name].set_column(col_idx, col_idx, column_width)\n",
        "\n",
        "writer.save()"
      ],
      "execution_count": 364,
      "outputs": []
    },
    {
      "cell_type": "markdown",
      "metadata": {
        "id": "n9XnXUJGsV0Z"
      },
      "source": [
        "## All Species Summary"
      ]
    },
    {
      "cell_type": "markdown",
      "metadata": {
        "id": "7xd_EIZ-tTHG"
      },
      "source": [
        "This output table only applies to the nontechnical analyses, for which the relevant questions appear in all species areas."
      ]
    },
    {
      "cell_type": "code",
      "metadata": {
        "id": "EMoaSp9TqYuG"
      },
      "source": [
        "if nontechnical == True:\n",
        "\n",
        "    # Retrieve tables\n",
        "    allspecies_subq_tables, allspecies_subq_tables_names = output_subq_data[-1]\n",
        "\n",
        "    # Loop through tables\n",
        "    writer = pd.ExcelWriter('summary%s_allspecies.xlsx'%(file_suffix,), engine='xlsxwriter')\n",
        "\n",
        "    for i,table in enumerate(allspecies_subq_tables):\n",
        "        sheet_name = allspecies_subq_tables_names[i]\n",
        "        table.to_excel(writer, sheet_name=sheet_name, index=False)\n",
        "\n",
        "        # Auto-adjust columns widths\n",
        "        for column in table:\n",
        "            column_width = max(table[column].astype(str).map(len).max(), len(column))\n",
        "            col_idx = table.columns.get_loc(column)\n",
        "            writer.sheets[sheet_name].set_column(col_idx, col_idx, column_width)\n",
        "\n",
        "    writer.save()"
      ],
      "execution_count": 365,
      "outputs": []
    },
    {
      "cell_type": "markdown",
      "metadata": {
        "id": "UnxgmXT2sBdy"
      },
      "source": [
        "## All procedures"
      ]
    },
    {
      "cell_type": "code",
      "metadata": {
        "id": "4phlYJz8sGjg"
      },
      "source": [
        "for i, file in enumerate(['companion_animal%s.xlsx'%(file_suffix,), 'special_species%s.xlsx'%(file_suffix,), 'food_animal%s.xlsx'%(file_suffix,), 'equine%s.xlsx'%(file_suffix,)]):\n",
        "    subq_data = output_subq_data[i]\n",
        "    subq_tables, subq_tables_names = subq_data\n",
        "\n",
        "    # Loop through tables\n",
        "    writer = pd.ExcelWriter(file, engine='xlsxwriter')\n",
        "\n",
        "    for i,table in enumerate(subq_tables):\n",
        "        sheet_name = subq_tables_names[i]\n",
        "        table.to_excel(writer, sheet_name=sheet_name, index=False)\n",
        "\n",
        "        # Auto-adjust columns widths\n",
        "        for column in table:\n",
        "            column_width = max(table[column].astype(str).map(len).max(), len(column))\n",
        "            col_idx = table.columns.get_loc(column)\n",
        "            writer.sheets[sheet_name].set_column(col_idx, col_idx, column_width)\n",
        "\n",
        "    writer.save()"
      ],
      "execution_count": 366,
      "outputs": []
    },
    {
      "cell_type": "markdown",
      "metadata": {
        "id": "h6VIW2TO2WwR"
      },
      "source": [
        "# Next Steps\n"
      ]
    },
    {
      "cell_type": "code",
      "metadata": {
        "id": "CiQAW1Yi86vc"
      },
      "source": [
        "# Copy files to Drive\n",
        "!cp *.xlsx drive/MyDrive/survey_test/"
      ],
      "execution_count": 367,
      "outputs": []
    },
    {
      "cell_type": "code",
      "metadata": {
        "id": "FviL_eHRTMf7"
      },
      "source": [
        "# Run downstream analysis\n",
        "#! python make_tables.py --top 50"
      ],
      "execution_count": 368,
      "outputs": []
    }
  ]
}