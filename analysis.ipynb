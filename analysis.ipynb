{
  "nbformat": 4,
  "nbformat_minor": 0,
  "metadata": {
    "colab": {
      "name": "analysis.ipynb",
      "provenance": [],
      "collapsed_sections": [
        "JBgWEEZT8D7s"
      ],
      "toc_visible": true,
      "mount_file_id": "1GQlqBF-hXkm67EiOUsZ-pEpG5qYeZlta",
      "authorship_tag": "ABX9TyO1Zbb/6Dwi0ZOOcfcwOpu9",
      "include_colab_link": true
    },
    "kernelspec": {
      "name": "python3",
      "display_name": "Python 3"
    },
    "language_info": {
      "name": "python"
    }
  },
  "cells": [
    {
      "cell_type": "markdown",
      "metadata": {
        "id": "view-in-github",
        "colab_type": "text"
      },
      "source": [
        "<a href=\"https://colab.research.google.com/github/nathanbollig/vet-graduate-expectations-survey/blob/main/analysis.ipynb\" target=\"_parent\"><img src=\"https://colab.research.google.com/assets/colab-badge.svg\" alt=\"Open In Colab\"/></a>"
      ]
    },
    {
      "cell_type": "markdown",
      "metadata": {
        "id": "_xA2L7zDBZ6z"
      },
      "source": [
        "# Veterinary graduate expectations survey\n",
        "\n",
        "Start by uploading the data into the working directory. Two files are required:\n",
        "\n",
        "1.   `SVM.xlsx`: SVM graduate expectations survey results\n",
        "2.   `WVMA.xlsx`: WVMA graduate expectations survey results"
      ]
    },
    {
      "cell_type": "markdown",
      "metadata": {
        "id": "AbR-3ffREDwN"
      },
      "source": [
        "## Set up"
      ]
    },
    {
      "cell_type": "code",
      "metadata": {
        "id": "2h3-qlKqoFUd",
        "colab": {
          "base_uri": "https://localhost:8080/"
        },
        "outputId": "a75a1d93-8f9e-4747-847e-5cc894808c4d"
      },
      "source": [
        "! pip install xlsxwriter"
      ],
      "execution_count": 59,
      "outputs": [
        {
          "output_type": "stream",
          "name": "stdout",
          "text": [
            "Requirement already satisfied: xlsxwriter in /usr/local/lib/python3.7/dist-packages (3.0.1)\n"
          ]
        }
      ]
    },
    {
      "cell_type": "code",
      "metadata": {
        "id": "ssV1VbT8A41w"
      },
      "source": [
        "import pandas as pd\n",
        "import numpy as np\n",
        "from scipy.stats import kruskal"
      ],
      "execution_count": 60,
      "outputs": []
    },
    {
      "cell_type": "markdown",
      "metadata": {
        "id": "3BXww0G-FnLK"
      },
      "source": [
        "### Read in SVM data"
      ]
    },
    {
      "cell_type": "code",
      "metadata": {
        "id": "qlzso2T4CO7h"
      },
      "source": [
        "# Use top row as header and skip second header row\n",
        "svm = pd.read_excel('SVM.xlsx', header=0, skiprows=lambda x: x in [1])  \n",
        "\n",
        "# Read in questions from second header row and associate with column names\n",
        "question_svm = {}\n",
        "\n",
        "top_rows = pd.read_excel('SVM.xlsx', nrows=2) \n",
        "\n",
        "for col in list(top_rows.columns):\n",
        "    question_svm[col] = top_rows.iloc[0][col]"
      ],
      "execution_count": 61,
      "outputs": []
    },
    {
      "cell_type": "markdown",
      "metadata": {
        "id": "zJ4umVHfFpGY"
      },
      "source": [
        "### Read in WVMA data"
      ]
    },
    {
      "cell_type": "code",
      "metadata": {
        "id": "ynulEF-JE_L5"
      },
      "source": [
        "# Use top row as header and skip second header row\n",
        "wvma = pd.read_excel('WVMA.xlsx', header=0, skiprows=lambda x: x in [1])  \n",
        "\n",
        "# Read in questions from second header row and associate with column names\n",
        "question_wvma = {}\n",
        "\n",
        "top_rows_wvma = pd.read_excel('WVMA.xlsx', nrows=2) \n",
        "\n",
        "for col in list(top_rows_wvma.columns):\n",
        "    question_wvma[col] = top_rows_wvma.iloc[0][col]"
      ],
      "execution_count": 62,
      "outputs": []
    },
    {
      "cell_type": "markdown",
      "metadata": {
        "id": "bQQOy_oEWVoV"
      },
      "source": [
        "### Set Analysis Parameters"
      ]
    },
    {
      "cell_type": "code",
      "metadata": {
        "id": "cJlDmDl4WYEv"
      },
      "source": [
        "ALPHA = 0.05"
      ],
      "execution_count": 63,
      "outputs": []
    },
    {
      "cell_type": "code",
      "metadata": {
        "id": "94C9nJyPYLAu"
      },
      "source": [
        "\"\"\"\n",
        "The `analysis_mode` variable specifies which two main populations are being compared in this analysis. Possible values are:\n",
        "    0 - SVM vs. WVMA\n",
        "    1 - SVM specialists vs. WVMA specialists\n",
        "    2 - WVMA specialists vs. WVMA generalists\n",
        "\"\"\"\n",
        "\n",
        "analysis_mode = 0"
      ],
      "execution_count": 64,
      "outputs": []
    },
    {
      "cell_type": "code",
      "metadata": {
        "id": "bbV3w3q6Zwci"
      },
      "source": [
        "\"\"\"\n",
        "Technical or non-technical.\n",
        "\n",
        "The nontechnical questions are Q13, Q14, and Q16 for all species categories.\n",
        "\"\"\"\n",
        "nontechnical = False"
      ],
      "execution_count": 65,
      "outputs": []
    },
    {
      "cell_type": "markdown",
      "metadata": {
        "id": "Cz8WlE8haHbU"
      },
      "source": [
        "Run the following to set up the notebook for this analysis."
      ]
    },
    {
      "cell_type": "code",
      "metadata": {
        "id": "jK0ju0_GZHyu"
      },
      "source": [
        "# Preparation for SVM vs. WVMA\n",
        "if analysis_mode == 0:\n",
        "    pop1 = svm.copy()\n",
        "    pop2 = wvma.copy()\n",
        "    pop1_str = \"SVM\"\n",
        "    pop2_str = \"WVMA\"\n",
        "    file_suffix = \"\"\n",
        "\n",
        "# Preparation for SVM specialists vs. WVMA specialists\n",
        "if analysis_mode == 1:\n",
        "    pop1 = svm[svm['Q59'].notnull()].copy()\n",
        "    pop2 = wvma[wvma['Q49'].notnull()].copy()\n",
        "    pop1_str = \"SVM\"\n",
        "    pop2_str = \"WVMA\"\n",
        "    file_suffix = \"_s\"\n",
        "\n",
        "# Preparation for WVMA specialists vs. WVMA generalists\n",
        "if analysis_mode == 2:\n",
        "    pop1 = wvma[wvma['Q49'].notnull()].copy()\n",
        "    pop2 = wvma[wvma['Q49'].isnull()].copy()\n",
        "    pop1_str = \"specialist\"\n",
        "    pop2_str = \"generalist\"\n",
        "    file_suffix = \"_sg\"\n",
        "\n",
        "# Adjust file suffix for nontechnical analysis\n",
        "if nontechnical == True:\n",
        "    file_suffix = file_suffix + \"_nontechnical\""
      ],
      "execution_count": 66,
      "outputs": []
    },
    {
      "cell_type": "markdown",
      "metadata": {
        "id": "13Xr5vZRpGhD"
      },
      "source": [
        "### Counts of species area"
      ]
    },
    {
      "cell_type": "markdown",
      "metadata": {
        "id": "5Y0wToTmXGAA"
      },
      "source": [
        "Let's look at the counts of species area (`Q1`) in each population. First, note that this question allowed multiple responses, which appear as a common-delimited list. The below code counts how many times each species appears, taking into account the possible of multiple responses."
      ]
    },
    {
      "cell_type": "code",
      "metadata": {
        "colab": {
          "base_uri": "https://localhost:8080/"
        },
        "id": "SeM9chi4ieBu",
        "outputId": "5ad8a33c-cd83-4cde-b79f-10b035cb0994"
      },
      "source": [
        "from collections import defaultdict\n",
        "\n",
        "pop1_counts = defaultdict(int) # start each count at zero by default\n",
        "\n",
        "for entry in list(pop1.Q1):\n",
        "    if isinstance(entry, str):\n",
        "        species_list = entry.split(',')\n",
        "        for species in species_list:\n",
        "            pop1_counts[species] += 1\n",
        "    elif np.isnan(entry) == True:\n",
        "        pop1_counts[\"empty\"] += 1\n",
        "\n",
        "print(\"*** %s Survey ***\" % (pop1_str,))\n",
        "for key, val in pop1_counts.items():\n",
        "    print(\"%s: %i\" % (key, val))"
      ],
      "execution_count": 67,
      "outputs": [
        {
          "output_type": "stream",
          "name": "stdout",
          "text": [
            "*** pop1 Survey ***\n",
            "Food Animal (bovine): 6\n",
            "Companion Animal (canine and/or feline): 15\n",
            "Equine: 5\n",
            "Special Species (ex. exotic companion animals): 2\n",
            "empty: 1\n"
          ]
        }
      ]
    },
    {
      "cell_type": "code",
      "metadata": {
        "colab": {
          "base_uri": "https://localhost:8080/"
        },
        "id": "945gjw5Gntff",
        "outputId": "5bb4a46c-b441-4da9-f63b-e75c7f14d1de"
      },
      "source": [
        "pop2_counts = defaultdict(int) # start each count at zero by default\n",
        "\n",
        "for entry in list(pop2.Q1):\n",
        "    if isinstance(entry, str):\n",
        "        species_list = entry.split(',')\n",
        "        for species in species_list:\n",
        "            pop2_counts[species] += 1\n",
        "    elif np.isnan(entry) == True:\n",
        "        pop2_counts[\"empty\"] += 1\n",
        "\n",
        "print(\"*** %s Survey ***\" % (pop2_str,))\n",
        "for key, val in pop2_counts.items():\n",
        "    print(\"%s: %i\" % (key, val))"
      ],
      "execution_count": 68,
      "outputs": [
        {
          "output_type": "stream",
          "name": "stdout",
          "text": [
            "*** pop2 Survey ***\n",
            "Companion Animal (canine and/or feline): 100\n",
            "Food Animal (bovine): 42\n",
            "Equine: 25\n",
            "Special Species (ex. exotic companion animals): 19\n",
            "empty: 28\n"
          ]
        }
      ]
    },
    {
      "cell_type": "markdown",
      "metadata": {
        "id": "TsZMPL4GN5SA"
      },
      "source": [
        "### Note about organization"
      ]
    },
    {
      "cell_type": "markdown",
      "metadata": {
        "id": "twcIZqWMNLxU"
      },
      "source": [
        "There are several levels of organization in our interpretation of this data.\n",
        "\n",
        " * `Group`: One of the 4 species groups (companion animal, special species, food animal, or equine)\n",
        "     * `Question`: A group of procedures in a category such as \"Medical Procedures\" or \"Surgical Procedures\"\n",
        "          * `Sub-question`: A particular procedure\n",
        "\n",
        "We can perform analysis at the sub-question level, or pool upwards to the question or group level. I will do all of this below.\n",
        "\n",
        "\n",
        "\n"
      ]
    },
    {
      "cell_type": "markdown",
      "metadata": {
        "id": "udPYeYwWBbqR"
      },
      "source": [
        "## Question analysis"
      ]
    },
    {
      "cell_type": "markdown",
      "metadata": {
        "id": "79O0ABQyu9UE"
      },
      "source": [
        "Let's encode the expectation response in the following way:\n",
        "\n",
        " * 0: No Expectation to Perform Procedure\n",
        "\n",
        " * 1: Perform with Assistance (assist with portions of procedure)\n",
        " \n",
        " * 2: Perform with Direct Supervision (present in room during procedure)\n",
        "\n",
        " * 3: Perform with Indirect Supervision (available in building or by phone if needed)\n",
        "\n",
        " * 4: Perform Independently"
      ]
    },
    {
      "cell_type": "code",
      "metadata": {
        "id": "it_mQuqavdMD"
      },
      "source": [
        "def encode_expectation(response_string):\n",
        "    if isinstance(response_string, int) == True:\n",
        "        return response_string\n",
        "    \n",
        "    # Encode nan values as -1\n",
        "    if isinstance(response_string, str) == False:\n",
        "        if np.isnan(response_string) == True:\n",
        "            return -1\n",
        "    \n",
        "    # Encode string\n",
        "    s = response_string.lower()\n",
        "    if s.find('no expectation') > -1:\n",
        "        return 0\n",
        "    elif s.find('with assistance') > -1:\n",
        "        return 1\n",
        "    elif s.find('indirect supervision') > -1:\n",
        "        return 3\n",
        "    elif s.find('direct supervision') > -1:\n",
        "        return 2\n",
        "    elif s.find('independently') > -1:\n",
        "        return 4\n",
        "    else:\n",
        "        print(response_string)\n",
        "        raise ValueError('Expected performance response was not formatted as expected.')"
      ],
      "execution_count": 69,
      "outputs": []
    },
    {
      "cell_type": "markdown",
      "metadata": {
        "id": "RTUKg7kMBi_v"
      },
      "source": [
        "We will refactor the above into reusable code."
      ]
    },
    {
      "cell_type": "code",
      "metadata": {
        "id": "-3_bRSKkA5vO"
      },
      "source": [
        "def analyze_question(question_number, filtered_pop1_df, filtered_pop2_df, n_subquestions, alpha=0.05, verbose=True):\n",
        "    \"\"\"\n",
        "    Perform an analysis of a given question on a species-filtered dataframe.\n",
        "    \n",
        "    Inputs:\n",
        "        question_number: main question number to analyze\n",
        "        filtered_pop1_df: pop1 dataframe filtered to respondants with the desired species area\n",
        "        filtered_pop2_df: pop2 dataframe filtered to respondants with the desired species area\n",
        "        n_subquestions: number of subquestions in the main question\n",
        "        alpha: power level for the statistical test\n",
        "\n",
        "    Prints a summary of results.\n",
        "\n",
        "    Outputs:\n",
        "        table: summary table\n",
        "        (pooled_stat, pooled_p, pooled_diff_mean): tuple of statistics describing output of Kruskal test on data pooled across subquestions\n",
        "        pop1_data: list of pooled pop1 data\n",
        "        pop2_data: list of pooled pop2 data\n",
        "        sig_count: number of subquestions with significant difference detected (between pop1 and pop2 responses), according to Kruskal test applied at subquestion level\n",
        "\n",
        "    \"\"\"\n",
        "\n",
        "    pop1_counts = np.zeros((n_subquestions, 6), dtype=int) # Row for each question, column for empty (-1), 0, 1, 2, 3, and 4 responses\n",
        "    pop2_counts = np.zeros((n_subquestions, 6), dtype=int) # Row for each question, column for empty (-1), 0, 1, 2, 3, and 4 responses\n",
        "    rows = []\n",
        "    pop1_pooled = []\n",
        "    pop2_pooled = []\n",
        "    sig_count = 0\n",
        "\n",
        "    for i in range(1, n_subquestions+1):\n",
        "        qkey = \"Q\" + str(question_number) + \"_\" + str(i)\n",
        "        qstring = question_svm[qkey].split('-')[2] # could refer to questions_svm or questions_wvma\n",
        "\n",
        "        # Encoding\n",
        "        filtered_pop1_df[qkey] = filtered_pop1_df[qkey].apply(lambda x: encode_expectation(x))\n",
        "        filtered_pop2_df[qkey] = filtered_pop2_df[qkey].apply(lambda x: encode_expectation(x))\n",
        "\n",
        "        # pop1 tally\n",
        "        counts = filtered_pop1_df[qkey].value_counts(dropna=False)\n",
        "        for key in counts.keys():\n",
        "            pop1_counts[i-1][key+1] += counts[key] # question index is 1-based; keys range from -1 to 4\n",
        "        counts = pop1_counts[i-1][1:] # counts of 0, 1, 2, 3, and 4\n",
        "        pop1_num_responses = np.sum(counts)\n",
        "        pop1_mean = (0*counts[0] + 1*counts[1] + 2*counts[2] + 3*counts[3] + 4*counts[4]) / pop1_num_responses\n",
        "\n",
        "        # pop2 tally\n",
        "        counts = filtered_pop2_df[qkey].value_counts(dropna=False)\n",
        "        for key in counts.keys():\n",
        "            pop2_counts[i-1][key+1] += counts[key]\n",
        "        counts = pop2_counts[i-1][1:] # counts of 0, 1, 2, 3, and 4\n",
        "        pop2_num_responses = np.sum(counts)\n",
        "        pop2_mean = (0*counts[0] + 1*counts[1] + 2*counts[2] + 3*counts[3] + 4*counts[4]) / pop2_num_responses\n",
        "        \n",
        "        # Get data\n",
        "        pop1_data = list(filtered_pop1_df[qkey])\n",
        "        pop2_data = list(filtered_pop2_df[qkey])\n",
        "\n",
        "        # Remove empty values from data\n",
        "        pop1_data = [x for x in pop1_data if x != -1]\n",
        "        pop2_data = [x for x in pop2_data if x != -1]\n",
        "\n",
        "        assert(pop1_num_responses == len(pop1_data))\n",
        "        assert(pop2_num_responses == len(pop2_data))\n",
        "\n",
        "        # compare samples\n",
        "        if len(pop1_data) >= 5 and len(pop2_data) >= 5:\n",
        "            stat, p = kruskal(pop1_data, pop2_data)\n",
        "        else:\n",
        "            stat = 0\n",
        "            p = 1\n",
        "\n",
        "        # Determine significance\n",
        "        if p > alpha:\n",
        "            sig = \"\"\n",
        "        else:\n",
        "            sig = \"*\"\n",
        "            sig_count += 1\n",
        "\n",
        "        # Cache for pooled data\n",
        "        pop1_pooled.extend(pop1_data)\n",
        "        pop2_pooled.extend(pop2_data)\n",
        "\n",
        "        # Cache for table of results\n",
        "        row = [qstring] + list(pop1_counts[i-1]) + [pop1_mean, pop1_num_responses] + list(pop2_counts[i-1]) + [pop2_mean, pop2_num_responses, pop1_mean-pop2_mean, stat, p, sig]\n",
        "        rows.append(row)\n",
        "\n",
        "    # Assemble table of results\n",
        "    table = pd.DataFrame(rows, columns=[\"Subquestion\", pop1_str+\": empty\", pop1_str+\": 0\", pop1_str+\": 1\", \n",
        "                                        pop1_str+\": 2\", pop1_str+\": 3\", pop1_str+\": 4\", pop1_str+\": avg\", pop1_str+\": num responses\", \n",
        "                                        pop2_str+\": empty\", pop2_str+\": 0\", pop2_str+\": 1\", pop2_str+\": 2\", pop2_str+\": 3\", pop2_str+\": 4\", pop2_str+\": avg\", pop2_str+\": num responses\", \n",
        "                                        \"Diff Mean (\"+pop1_str+\"-\"+pop2_str+\")\", \"stat\", \"pval\", \"sig\"])\n",
        "\n",
        "    # Apply Kruskal test to pooled data\n",
        "    pooled_stat, pooled_p = kruskal(pop1_pooled, pop2_pooled)\n",
        "    pooled_diff_mean = np.mean(pop1_pooled) - np.mean(pop2_pooled)\n",
        "\n",
        "    # Print\n",
        "    if verbose == True:\n",
        "        print('Pooled Q%s: stat=%.3f, p=%.2e, diff_mean (%s-%s)=%.3f, sig_subq=%s/%s' % (question_number, pooled_stat, pooled_p, pop1_str, pop2_str, pooled_diff_mean, sig_count, n_subquestions))\n",
        "\n",
        "    return table, (pooled_stat, pooled_p, pooled_diff_mean), pop1_pooled, pop2_pooled, sig_count\n"
      ],
      "execution_count": 70,
      "outputs": []
    },
    {
      "cell_type": "markdown",
      "metadata": {
        "id": "RWT_CepwVO7O"
      },
      "source": [
        "## Group Analysis"
      ]
    },
    {
      "cell_type": "code",
      "metadata": {
        "id": "No1h2UNOF0XC"
      },
      "source": [
        "# Code to analyze all questions within the group\n",
        "\n",
        "def analyze_group(question_list, n_subq_list, question_strings, filtered_pop1_df, filtered_pop2_df, alpha=0.05):\n",
        "    pop1_pooled = [] # now pooling over entire group\n",
        "    pop2_pooled = []\n",
        "    rows = []\n",
        "    sig_count = 0\n",
        "    subq_tables = []\n",
        "    subq_tables_names = []\n",
        "\n",
        "    for i in range(len(question_list)):\n",
        "        question_number = question_list[i]\n",
        "        n_subquestions = n_subq_list[i]\n",
        "        question_string = question_strings[i]\n",
        "\n",
        "        # Run analysis\n",
        "        table, subq_pooled_result, pop1_data, pop2_data, sig_subq = analyze_question(question_number, filtered_pop1_df, filtered_pop2_df, n_subquestions, verbose=False, alpha=alpha)\n",
        "        pooled_stat, pooled_p, pooled_diff_mean = subq_pooled_result\n",
        "        pop1_num_responses = len(pop1_data)\n",
        "        pop2_num_responses = len(pop2_data)\n",
        "\n",
        "        # Cache procedure tables\n",
        "        subq_tables.append(table)\n",
        "        subq_tables_names.append('Q'+str(question_number))\n",
        "\n",
        "        # Pool\n",
        "        pop1_pooled.extend(pop1_data)\n",
        "        pop2_pooled.extend(pop2_data)\n",
        "\n",
        "        # Determine significance\n",
        "        if pooled_p > alpha:\n",
        "            sig = \"\"\n",
        "        else:\n",
        "            sig = \"*\"\n",
        "            sig_count += 1\n",
        "\n",
        "        # Cache data for group summary\n",
        "        row = ['Q'+str(question_number), question_string, pooled_stat, pooled_p, sig, pooled_diff_mean, n_subquestions, \"%i/%i\" % (sig_subq,n_subquestions), pop1_num_responses, pop2_num_responses]\n",
        "        rows.append(row)\n",
        "\n",
        "    # Assemble table of results\n",
        "    group_table = pd.DataFrame(rows, columns=[\"Question number\", \"Category\", \"Pooled stat\", \"Pooled p\", \"Sig\", \"Pooled Diff Mean (%s-%s)\"%(pop1_str, pop2_str), \"Num subquestions\", \"Fraction of sig subquestions\", \"Pooled num %s responses\"%(pop1_str,), \"Pooled num %s responses\"%(pop2_str,)])                     \n",
        "\n",
        "    # Apply Kruskal test to pooled data\n",
        "    pooled_stat, pooled_p = kruskal(pop1_pooled, pop2_pooled)\n",
        "    pooled_diff_mean = np.mean(pop1_pooled) - np.mean(pop2_pooled)\n",
        "\n",
        "    # Print\n",
        "    print('Group result (all questions): stat=%.3f, p=%.2e, diff_mean (%s-%s)=%.3f, sig_subq=%s/%s' % (pooled_stat, pooled_p, pop1_str, pop2_str, pooled_diff_mean, sig_count, len(question_list)))\n",
        "\n",
        "    return group_table, (pooled_stat, pooled_p, pooled_diff_mean), sig_count, len(question_list), len(pop1_pooled), len(pop2_pooled), (subq_tables, subq_tables_names)"
      ],
      "execution_count": 71,
      "outputs": []
    },
    {
      "cell_type": "code",
      "metadata": {
        "id": "TV8dbNjhQkpS"
      },
      "source": [
        "# cache data across all groups\n",
        "group_data = []\n",
        "group_columns = [\"Group\", \"Pooled stat\", \"Pooled p\", \"Pooled diff_mean (%s-%s)\"%(pop1_str,pop2_str), \"Num questions\", \"Fraction of sig questions\", \"Pooled num %s reponses\"%(pop1_str,), \"Pooled num %s responses\"%(pop2_str,)]"
      ],
      "execution_count": 72,
      "outputs": []
    },
    {
      "cell_type": "code",
      "metadata": {
        "id": "oHHUSx04mA1C"
      },
      "source": [
        "# cache tables\n",
        "output_tables = []\n",
        "output_tables_sheet_names = []\n",
        "\n",
        "# cache subquestion table data\n",
        "output_subq_data = []"
      ],
      "execution_count": 73,
      "outputs": []
    },
    {
      "cell_type": "markdown",
      "metadata": {
        "id": "4CQnMEHdBQiB"
      },
      "source": [
        "### Companion Animal Group"
      ]
    },
    {
      "cell_type": "code",
      "metadata": {
        "id": "hzS9MMxxp3UZ"
      },
      "source": [
        "# Filter dataframe to only companion animal respondants (may have responded to other species too)\n",
        "ca_pop1 = pop1[pop1['Q1'].str.contains('Companion Animal (canine and/or feline)', na=False, regex=False)].copy()"
      ],
      "execution_count": 74,
      "outputs": []
    },
    {
      "cell_type": "code",
      "metadata": {
        "id": "mR1K7domxU40"
      },
      "source": [
        "# Filter dataframe to only companion animal respondants (may have responded to other species too)\n",
        "ca_pop2 = pop2[pop2['Q1'].str.contains('Companion Animal (canine and/or feline)', na=False, regex=False)].copy()"
      ],
      "execution_count": 75,
      "outputs": []
    },
    {
      "cell_type": "code",
      "metadata": {
        "id": "2PRI-LFAE9WW"
      },
      "source": [
        "# Input info about question group\n",
        "\n",
        "if nontechnical == False:\n",
        "    question_list = [16,17,7,8,9,10,11,12]\n",
        "    n_subq_list = [25,10,25,8,4,12,13,3]\n",
        "    question_strings = ['Medical Procedures',\n",
        "                        'Preventive Medicine/Population Health Procedures',\n",
        "                        'Surgical Procedures', \n",
        "                        'Anesthetic Procedures', \n",
        "                        'Reproductive Procedures',\n",
        "                        'Diagnostic Imaging Procedures',\n",
        "                        'Clinical Pathology Procedures',\n",
        "                        'Diagnostic Necropsy Procedures']\n",
        "else:\n",
        "    question_list = [13,14,15]\n",
        "    n_subq_list = [11,6,8]\n",
        "    question_strings = ['Communication practices',\n",
        "                        'Professional and business practices',\n",
        "                        'Ethics and professional practices']\n",
        "\n",
        "assert(len(question_list) == len(n_subq_list))\n",
        "assert(len(n_subq_list) == len(question_strings))"
      ],
      "execution_count": 76,
      "outputs": []
    },
    {
      "cell_type": "code",
      "metadata": {
        "colab": {
          "base_uri": "https://localhost:8080/",
          "height": 214
        },
        "id": "f0MxDBYnLTY4",
        "outputId": "9f890fb6-9f5b-4f1c-9156-ebac18589d56"
      },
      "source": [
        "group_table, pooled_q_stats, sig_count, n_questions, pop1_responses, pop2_responses, subq_data  = analyze_group(question_list, n_subq_list, question_strings, ca_pop1, ca_pop2, alpha=ALPHA)\n",
        "pooled_stat, pooled_p, pooled_diff_mean = pooled_q_stats\n",
        "group_data.append([\"Companion Animal\", pooled_stat, pooled_p, pooled_diff_mean, n_questions, \"%i/%i\" % (sig_count,n_questions), pop1_responses, pop2_responses])\n",
        "output_tables.append(group_table)\n",
        "output_tables_sheet_names.append(\"Companion Animal\")\n",
        "output_subq_data.append(subq_data)\n",
        "group_table"
      ],
      "execution_count": 77,
      "outputs": [
        {
          "output_type": "stream",
          "name": "stdout",
          "text": [
            "Group result (all questions): stat=24.292, p=8.28e-07, diff_mean (specialist-generalist)=-0.405, sig_subq=3/3\n"
          ]
        },
        {
          "output_type": "execute_result",
          "data": {
            "text/html": [
              "<div>\n",
              "<style scoped>\n",
              "    .dataframe tbody tr th:only-of-type {\n",
              "        vertical-align: middle;\n",
              "    }\n",
              "\n",
              "    .dataframe tbody tr th {\n",
              "        vertical-align: top;\n",
              "    }\n",
              "\n",
              "    .dataframe thead th {\n",
              "        text-align: right;\n",
              "    }\n",
              "</style>\n",
              "<table border=\"1\" class=\"dataframe\">\n",
              "  <thead>\n",
              "    <tr style=\"text-align: right;\">\n",
              "      <th></th>\n",
              "      <th>Question number</th>\n",
              "      <th>Category</th>\n",
              "      <th>Pooled stat</th>\n",
              "      <th>Pooled p</th>\n",
              "      <th>Sig</th>\n",
              "      <th>Pooled Diff Mean (specialist-generalist)</th>\n",
              "      <th>Num subquestions</th>\n",
              "      <th>Fraction of sig subquestions</th>\n",
              "      <th>Pooled num specialist responses</th>\n",
              "      <th>Pooled num generalist responses</th>\n",
              "    </tr>\n",
              "  </thead>\n",
              "  <tbody>\n",
              "    <tr>\n",
              "      <th>0</th>\n",
              "      <td>Q13</td>\n",
              "      <td>Communication practices</td>\n",
              "      <td>17.491567</td>\n",
              "      <td>0.000029</td>\n",
              "      <td>*</td>\n",
              "      <td>-0.453786</td>\n",
              "      <td>11</td>\n",
              "      <td>2/11</td>\n",
              "      <td>109</td>\n",
              "      <td>791</td>\n",
              "    </tr>\n",
              "    <tr>\n",
              "      <th>1</th>\n",
              "      <td>Q14</td>\n",
              "      <td>Professional and business practices</td>\n",
              "      <td>7.945675</td>\n",
              "      <td>0.004820</td>\n",
              "      <td>*</td>\n",
              "      <td>-0.542508</td>\n",
              "      <td>6</td>\n",
              "      <td>0/6</td>\n",
              "      <td>60</td>\n",
              "      <td>436</td>\n",
              "    </tr>\n",
              "    <tr>\n",
              "      <th>2</th>\n",
              "      <td>Q15</td>\n",
              "      <td>Ethics and professional practices</td>\n",
              "      <td>4.217986</td>\n",
              "      <td>0.039998</td>\n",
              "      <td>*</td>\n",
              "      <td>-0.237153</td>\n",
              "      <td>8</td>\n",
              "      <td>0/8</td>\n",
              "      <td>80</td>\n",
              "      <td>576</td>\n",
              "    </tr>\n",
              "  </tbody>\n",
              "</table>\n",
              "</div>"
            ],
            "text/plain": [
              "  Question number  ... Pooled num generalist responses\n",
              "0             Q13  ...                             791\n",
              "1             Q14  ...                             436\n",
              "2             Q15  ...                             576\n",
              "\n",
              "[3 rows x 10 columns]"
            ]
          },
          "metadata": {},
          "execution_count": 77
        }
      ]
    },
    {
      "cell_type": "markdown",
      "metadata": {
        "id": "xmr4Abh_AW6b"
      },
      "source": [
        "### Special Species Group"
      ]
    },
    {
      "cell_type": "code",
      "metadata": {
        "id": "DCdfiCDJAqvY"
      },
      "source": [
        "# Filter dataframes to only companion animal respondants (may have responded to other species too)\n",
        "ss_pop1 = pop1[pop1['Q1'].str.contains('Special Species', na=False, regex=False)].copy()\n",
        "ss_pop2 = pop2[pop2['Q1'].str.contains('Special Species', na=False, regex=False)].copy()"
      ],
      "execution_count": 78,
      "outputs": []
    },
    {
      "cell_type": "code",
      "metadata": {
        "id": "274MDssxK4mQ"
      },
      "source": [
        "# Input info about question group\n",
        "\n",
        "if nontechnical == False:\n",
        "    question_list = [43, 44, 45, 46, 48, 49, 50]\n",
        "    n_subq_list = [20, 9, 11, 8, 6, 13, 3]\n",
        "    question_strings = ['Medical Procedures',\n",
        "                        'Preventive Medicine/Population Health Procedures',\n",
        "                        'Surgical Procedures', \n",
        "                        'Anesthetic Procedures', \n",
        "                        'Diagnostic Imaging Procedures',\n",
        "                        'Clinical Pathology Procedures',\n",
        "                        'Diagnostic Necropsy Procedures']\n",
        "else:\n",
        "    question_list = [13,14,15]\n",
        "    n_subq_list = [11,6,8]\n",
        "    question_strings = ['Communication practices',\n",
        "                        'Professional and business practices',\n",
        "                        'Ethics and professional practices']\n",
        "                        \n",
        "assert(len(question_list) == len(n_subq_list))\n",
        "assert(len(n_subq_list) == len(question_strings))"
      ],
      "execution_count": 79,
      "outputs": []
    },
    {
      "cell_type": "code",
      "metadata": {
        "colab": {
          "base_uri": "https://localhost:8080/",
          "height": 214
        },
        "id": "68Wni7ZWK6CF",
        "outputId": "09d9bf9e-91ba-4877-b842-adc0c135e58e"
      },
      "source": [
        "group_table, pooled_q_stats, sig_count, n_questions, pop1_responses, pop2_responses, subq_data  = analyze_group(question_list, n_subq_list, question_strings, ss_pop1, ss_pop2, alpha=ALPHA)\n",
        "pooled_stat, pooled_p, pooled_diff_mean = pooled_q_stats\n",
        "group_data.append([\"Special Species\", pooled_stat, pooled_p, pooled_diff_mean, n_questions, \"%i/%i\" % (sig_count,n_questions), pop1_responses, pop2_responses])\n",
        "output_tables.append(group_table)\n",
        "output_tables_sheet_names.append(\"Special Species\")\n",
        "output_subq_data.append(subq_data)\n",
        "group_table"
      ],
      "execution_count": 80,
      "outputs": [
        {
          "output_type": "stream",
          "name": "stdout",
          "text": [
            "Group result (all questions): stat=21.350, p=3.83e-06, diff_mean (specialist-generalist)=-1.480, sig_subq=2/3\n"
          ]
        },
        {
          "output_type": "execute_result",
          "data": {
            "text/html": [
              "<div>\n",
              "<style scoped>\n",
              "    .dataframe tbody tr th:only-of-type {\n",
              "        vertical-align: middle;\n",
              "    }\n",
              "\n",
              "    .dataframe tbody tr th {\n",
              "        vertical-align: top;\n",
              "    }\n",
              "\n",
              "    .dataframe thead th {\n",
              "        text-align: right;\n",
              "    }\n",
              "</style>\n",
              "<table border=\"1\" class=\"dataframe\">\n",
              "  <thead>\n",
              "    <tr style=\"text-align: right;\">\n",
              "      <th></th>\n",
              "      <th>Question number</th>\n",
              "      <th>Category</th>\n",
              "      <th>Pooled stat</th>\n",
              "      <th>Pooled p</th>\n",
              "      <th>Sig</th>\n",
              "      <th>Pooled Diff Mean (specialist-generalist)</th>\n",
              "      <th>Num subquestions</th>\n",
              "      <th>Fraction of sig subquestions</th>\n",
              "      <th>Pooled num specialist responses</th>\n",
              "      <th>Pooled num generalist responses</th>\n",
              "    </tr>\n",
              "  </thead>\n",
              "  <tbody>\n",
              "    <tr>\n",
              "      <th>0</th>\n",
              "      <td>Q13</td>\n",
              "      <td>Communication practices</td>\n",
              "      <td>21.823513</td>\n",
              "      <td>0.000003</td>\n",
              "      <td>*</td>\n",
              "      <td>-2.146853</td>\n",
              "      <td>11</td>\n",
              "      <td>0/11</td>\n",
              "      <td>11</td>\n",
              "      <td>143</td>\n",
              "    </tr>\n",
              "    <tr>\n",
              "      <th>1</th>\n",
              "      <td>Q14</td>\n",
              "      <td>Professional and business practices</td>\n",
              "      <td>9.284847</td>\n",
              "      <td>0.002311</td>\n",
              "      <td>*</td>\n",
              "      <td>-1.844156</td>\n",
              "      <td>6</td>\n",
              "      <td>0/6</td>\n",
              "      <td>6</td>\n",
              "      <td>77</td>\n",
              "    </tr>\n",
              "    <tr>\n",
              "      <th>2</th>\n",
              "      <td>Q15</td>\n",
              "      <td>Ethics and professional practices</td>\n",
              "      <td>1.300410</td>\n",
              "      <td>0.254138</td>\n",
              "      <td></td>\n",
              "      <td>-0.278846</td>\n",
              "      <td>8</td>\n",
              "      <td>0/8</td>\n",
              "      <td>8</td>\n",
              "      <td>104</td>\n",
              "    </tr>\n",
              "  </tbody>\n",
              "</table>\n",
              "</div>"
            ],
            "text/plain": [
              "  Question number  ... Pooled num generalist responses\n",
              "0             Q13  ...                             143\n",
              "1             Q14  ...                              77\n",
              "2             Q15  ...                             104\n",
              "\n",
              "[3 rows x 10 columns]"
            ]
          },
          "metadata": {},
          "execution_count": 80
        }
      ]
    },
    {
      "cell_type": "markdown",
      "metadata": {
        "id": "OZmv6D7BAkoT"
      },
      "source": [
        "### Food Animal Group"
      ]
    },
    {
      "cell_type": "code",
      "metadata": {
        "id": "l_iFQe9tMNHj"
      },
      "source": [
        "# Filter dataframes to only companion animal respondants (may have responded to other species too)\n",
        "fa_pop1 = pop1[pop1['Q1'].str.contains('Food Animal', na=False, regex=False)].copy()\n",
        "fa_pop2 = pop2[pop2['Q1'].str.contains('Food Animal', na=False, regex=False)].copy()"
      ],
      "execution_count": 81,
      "outputs": []
    },
    {
      "cell_type": "code",
      "metadata": {
        "id": "h84S1L2UMONF"
      },
      "source": [
        "# Input info about question group\n",
        "\n",
        "if nontechnical == False:\n",
        "    question_list = [20, 18, 25, 24, 21, 19, 23, 22, 27]\n",
        "    n_subq_list = [8, 27, 16, 10, 20, 11, 12, 3, 5]\n",
        "    question_strings = ['Handling and Husbandry Procedures',\n",
        "                        'Medical Procedures',\n",
        "                        'Surgical Procedures',\n",
        "                        'Anesthetic Procedures',\n",
        "                        'Preventive Medicine/Population Health Procedures',\n",
        "                        'Reproductive Procedures',\n",
        "                        'Clinical Pathology Procedures',\n",
        "                        'Diagnostic Necropsy Procedures',\n",
        "                        'Diagnostic Imaging Procedures']\n",
        "else:\n",
        "    question_list = [13,14,15]\n",
        "    n_subq_list = [11,6,8]\n",
        "    question_strings = ['Communication practices',\n",
        "                        'Professional and business practices',\n",
        "                        'Ethics and professional practices']\n",
        "\n",
        "assert(len(question_list) == len(n_subq_list))\n",
        "assert(len(n_subq_list) == len(question_strings))"
      ],
      "execution_count": 82,
      "outputs": []
    },
    {
      "cell_type": "code",
      "metadata": {
        "colab": {
          "base_uri": "https://localhost:8080/",
          "height": 214
        },
        "id": "LE1yuS5OMPGh",
        "outputId": "64dc8762-dbd0-4f34-b86b-06669577dc30"
      },
      "source": [
        "group_table, pooled_q_stats, sig_count, n_questions, pop1_responses, pop2_responses, subq_data  = analyze_group(question_list, n_subq_list, question_strings, fa_pop1, fa_pop2, alpha=ALPHA)\n",
        "pooled_stat, pooled_p, pooled_diff_mean = pooled_q_stats\n",
        "group_data.append([\"Food Animal\", pooled_stat, pooled_p, pooled_diff_mean, n_questions, \"%i/%i\" % (sig_count,n_questions), pop1_responses, pop2_responses])\n",
        "output_tables.append(group_table)\n",
        "output_tables_sheet_names.append(\"Food Animal\")\n",
        "output_subq_data.append(subq_data)\n",
        "group_table"
      ],
      "execution_count": 83,
      "outputs": [
        {
          "output_type": "stream",
          "name": "stdout",
          "text": [
            "Group result (all questions): stat=1.412, p=2.35e-01, diff_mean (specialist-generalist)=-0.321, sig_subq=0/3\n"
          ]
        },
        {
          "output_type": "execute_result",
          "data": {
            "text/html": [
              "<div>\n",
              "<style scoped>\n",
              "    .dataframe tbody tr th:only-of-type {\n",
              "        vertical-align: middle;\n",
              "    }\n",
              "\n",
              "    .dataframe tbody tr th {\n",
              "        vertical-align: top;\n",
              "    }\n",
              "\n",
              "    .dataframe thead th {\n",
              "        text-align: right;\n",
              "    }\n",
              "</style>\n",
              "<table border=\"1\" class=\"dataframe\">\n",
              "  <thead>\n",
              "    <tr style=\"text-align: right;\">\n",
              "      <th></th>\n",
              "      <th>Question number</th>\n",
              "      <th>Category</th>\n",
              "      <th>Pooled stat</th>\n",
              "      <th>Pooled p</th>\n",
              "      <th>Sig</th>\n",
              "      <th>Pooled Diff Mean (specialist-generalist)</th>\n",
              "      <th>Num subquestions</th>\n",
              "      <th>Fraction of sig subquestions</th>\n",
              "      <th>Pooled num specialist responses</th>\n",
              "      <th>Pooled num generalist responses</th>\n",
              "    </tr>\n",
              "  </thead>\n",
              "  <tbody>\n",
              "    <tr>\n",
              "      <th>0</th>\n",
              "      <td>Q13</td>\n",
              "      <td>Communication practices</td>\n",
              "      <td>0.061488</td>\n",
              "      <td>0.804160</td>\n",
              "      <td></td>\n",
              "      <td>-0.326057</td>\n",
              "      <td>11</td>\n",
              "      <td>0/11</td>\n",
              "      <td>44</td>\n",
              "      <td>329</td>\n",
              "    </tr>\n",
              "    <tr>\n",
              "      <th>1</th>\n",
              "      <td>Q14</td>\n",
              "      <td>Professional and business practices</td>\n",
              "      <td>0.732074</td>\n",
              "      <td>0.392212</td>\n",
              "      <td></td>\n",
              "      <td>-0.336111</td>\n",
              "      <td>6</td>\n",
              "      <td>0/6</td>\n",
              "      <td>24</td>\n",
              "      <td>180</td>\n",
              "    </tr>\n",
              "    <tr>\n",
              "      <th>2</th>\n",
              "      <td>Q15</td>\n",
              "      <td>Ethics and professional practices</td>\n",
              "      <td>1.014992</td>\n",
              "      <td>0.313710</td>\n",
              "      <td></td>\n",
              "      <td>-0.302083</td>\n",
              "      <td>8</td>\n",
              "      <td>0/8</td>\n",
              "      <td>32</td>\n",
              "      <td>240</td>\n",
              "    </tr>\n",
              "  </tbody>\n",
              "</table>\n",
              "</div>"
            ],
            "text/plain": [
              "  Question number  ... Pooled num generalist responses\n",
              "0             Q13  ...                             329\n",
              "1             Q14  ...                             180\n",
              "2             Q15  ...                             240\n",
              "\n",
              "[3 rows x 10 columns]"
            ]
          },
          "metadata": {},
          "execution_count": 83
        }
      ]
    },
    {
      "cell_type": "markdown",
      "metadata": {
        "id": "CupWAW_OAmJA"
      },
      "source": [
        "### Equine Group"
      ]
    },
    {
      "cell_type": "code",
      "metadata": {
        "id": "tv2QyiS3PAY-"
      },
      "source": [
        "# Filter dataframes to only companion animal respondants (may have responded to other species too)\n",
        "eq_pop1 = pop1[pop1['Q1'].str.contains('Equine', na=False, regex=False)].copy()\n",
        "eq_pop2 = pop2[pop2['Q1'].str.contains('Equine', na=False, regex=False)].copy()"
      ],
      "execution_count": 84,
      "outputs": []
    },
    {
      "cell_type": "code",
      "metadata": {
        "id": "GbO-i-4wPEUZ"
      },
      "source": [
        "# Input info about question group\n",
        "\n",
        "if nontechnical == False:\n",
        "    question_list = [28, 29, 30, 31, 32, 33, 34, 35, 36]\n",
        "    n_subq_list = [7, 24, 8, 8, 15, 9, 11, 3, 5]\n",
        "    question_strings = ['Handling and Husbandry Procedures',\n",
        "                        'Medical Procedures',\n",
        "                        'Surgical Procedures',\n",
        "                        'Anesthetic Procedures',\n",
        "                        'Preventive Medicine/Population Health Procedures',\n",
        "                        'Reproductive Procedures',\n",
        "                        'Clinical Pathology Procedures',\n",
        "                        'Diagnostic Necropsy Procedures',\n",
        "                        'Diagnostic Imaging Procedures']\n",
        "else:\n",
        "    question_list = [13,14,15]\n",
        "    n_subq_list = [11,6,8]\n",
        "    question_strings = ['Communication practices',\n",
        "                        'Professional and business practices',\n",
        "                        'Ethics and professional practices']\n",
        "\n",
        "assert(len(question_list) == len(n_subq_list))\n",
        "assert(len(n_subq_list) == len(question_strings))"
      ],
      "execution_count": 85,
      "outputs": []
    },
    {
      "cell_type": "code",
      "metadata": {
        "colab": {
          "base_uri": "https://localhost:8080/",
          "height": 214
        },
        "id": "PfeuG-2TPHzx",
        "outputId": "96ccbc42-80fe-4fd3-abd0-33c1f7d1c779"
      },
      "source": [
        "group_table, pooled_q_stats, sig_count, n_questions, pop1_responses, pop2_responses, subq_data  = analyze_group(question_list, n_subq_list, question_strings, eq_pop1, eq_pop2, alpha=ALPHA)\n",
        "pooled_stat, pooled_p, pooled_diff_mean = pooled_q_stats\n",
        "group_data.append([\"Equine\", pooled_stat, pooled_p, pooled_diff_mean, n_questions, \"%i/%i\" % (sig_count,n_questions), pop1_responses, pop2_responses])\n",
        "output_tables.append(group_table)\n",
        "output_tables_sheet_names.append(\"Equine\")\n",
        "output_subq_data.append(subq_data)\n",
        "group_table"
      ],
      "execution_count": 86,
      "outputs": [
        {
          "output_type": "stream",
          "name": "stdout",
          "text": [
            "Group result (all questions): stat=13.455, p=2.44e-04, diff_mean (specialist-generalist)=-0.744, sig_subq=2/3\n"
          ]
        },
        {
          "output_type": "execute_result",
          "data": {
            "text/html": [
              "<div>\n",
              "<style scoped>\n",
              "    .dataframe tbody tr th:only-of-type {\n",
              "        vertical-align: middle;\n",
              "    }\n",
              "\n",
              "    .dataframe tbody tr th {\n",
              "        vertical-align: top;\n",
              "    }\n",
              "\n",
              "    .dataframe thead th {\n",
              "        text-align: right;\n",
              "    }\n",
              "</style>\n",
              "<table border=\"1\" class=\"dataframe\">\n",
              "  <thead>\n",
              "    <tr style=\"text-align: right;\">\n",
              "      <th></th>\n",
              "      <th>Question number</th>\n",
              "      <th>Category</th>\n",
              "      <th>Pooled stat</th>\n",
              "      <th>Pooled p</th>\n",
              "      <th>Sig</th>\n",
              "      <th>Pooled Diff Mean (specialist-generalist)</th>\n",
              "      <th>Num subquestions</th>\n",
              "      <th>Fraction of sig subquestions</th>\n",
              "      <th>Pooled num specialist responses</th>\n",
              "      <th>Pooled num generalist responses</th>\n",
              "    </tr>\n",
              "  </thead>\n",
              "  <tbody>\n",
              "    <tr>\n",
              "      <th>0</th>\n",
              "      <td>Q13</td>\n",
              "      <td>Communication practices</td>\n",
              "      <td>10.265039</td>\n",
              "      <td>0.001356</td>\n",
              "      <td>*</td>\n",
              "      <td>-0.781818</td>\n",
              "      <td>11</td>\n",
              "      <td>0/11</td>\n",
              "      <td>33</td>\n",
              "      <td>220</td>\n",
              "    </tr>\n",
              "    <tr>\n",
              "      <th>1</th>\n",
              "      <td>Q14</td>\n",
              "      <td>Professional and business practices</td>\n",
              "      <td>4.246328</td>\n",
              "      <td>0.039335</td>\n",
              "      <td>*</td>\n",
              "      <td>-1.047222</td>\n",
              "      <td>6</td>\n",
              "      <td>0/6</td>\n",
              "      <td>18</td>\n",
              "      <td>120</td>\n",
              "    </tr>\n",
              "    <tr>\n",
              "      <th>2</th>\n",
              "      <td>Q15</td>\n",
              "      <td>Ethics and professional practices</td>\n",
              "      <td>2.271741</td>\n",
              "      <td>0.131752</td>\n",
              "      <td></td>\n",
              "      <td>-0.464583</td>\n",
              "      <td>8</td>\n",
              "      <td>0/8</td>\n",
              "      <td>24</td>\n",
              "      <td>160</td>\n",
              "    </tr>\n",
              "  </tbody>\n",
              "</table>\n",
              "</div>"
            ],
            "text/plain": [
              "  Question number  ... Pooled num generalist responses\n",
              "0             Q13  ...                             220\n",
              "1             Q14  ...                             120\n",
              "2             Q15  ...                             160\n",
              "\n",
              "[3 rows x 10 columns]"
            ]
          },
          "metadata": {},
          "execution_count": 86
        }
      ]
    },
    {
      "cell_type": "markdown",
      "metadata": {
        "id": "O3-z6MgoQDDL"
      },
      "source": [
        "## Group Summary"
      ]
    },
    {
      "cell_type": "code",
      "metadata": {
        "id": "nO6eeGPCSBf5"
      },
      "source": [
        "group_summary_table = pd.DataFrame(group_data, columns=group_columns)"
      ],
      "execution_count": 87,
      "outputs": []
    },
    {
      "cell_type": "code",
      "metadata": {
        "id": "HVrnPD6hWi0o"
      },
      "source": [
        "pvals = list(group_summary_table['Pooled p'])\n",
        "\n",
        "sigs = []\n",
        "for p in pvals:\n",
        "  if p > ALPHA:\n",
        "      sig = \"\"\n",
        "  else:\n",
        "      sig = \"*\"\n",
        "  sigs.append(sig)\n",
        "\n",
        "group_summary_table.insert(loc=3, column='Sig', value=sigs)"
      ],
      "execution_count": 88,
      "outputs": []
    },
    {
      "cell_type": "code",
      "metadata": {
        "id": "6vty9bGImuy4"
      },
      "source": [
        "# Add group summary to the beginning of output tables\n",
        "output_tables.insert(0, group_summary_table)\n",
        "output_tables_sheet_names.insert(0, \"Group summary\")"
      ],
      "execution_count": 89,
      "outputs": []
    },
    {
      "cell_type": "code",
      "metadata": {
        "colab": {
          "base_uri": "https://localhost:8080/",
          "height": 210
        },
        "id": "oWWtZ8D5SMZN",
        "outputId": "a820747e-fcd6-4eea-f381-5458279c4ec0"
      },
      "source": [
        "group_summary_table"
      ],
      "execution_count": 90,
      "outputs": [
        {
          "output_type": "execute_result",
          "data": {
            "text/html": [
              "<div>\n",
              "<style scoped>\n",
              "    .dataframe tbody tr th:only-of-type {\n",
              "        vertical-align: middle;\n",
              "    }\n",
              "\n",
              "    .dataframe tbody tr th {\n",
              "        vertical-align: top;\n",
              "    }\n",
              "\n",
              "    .dataframe thead th {\n",
              "        text-align: right;\n",
              "    }\n",
              "</style>\n",
              "<table border=\"1\" class=\"dataframe\">\n",
              "  <thead>\n",
              "    <tr style=\"text-align: right;\">\n",
              "      <th></th>\n",
              "      <th>Group</th>\n",
              "      <th>Pooled stat</th>\n",
              "      <th>Pooled p</th>\n",
              "      <th>Sig</th>\n",
              "      <th>Pooled diff_mean (specialist-generalist)</th>\n",
              "      <th>Num questions</th>\n",
              "      <th>Fraction of sig questions</th>\n",
              "      <th>Pooled num specialist reponses</th>\n",
              "      <th>Pooled num generalist responses</th>\n",
              "    </tr>\n",
              "  </thead>\n",
              "  <tbody>\n",
              "    <tr>\n",
              "      <th>0</th>\n",
              "      <td>Companion Animal</td>\n",
              "      <td>24.291944</td>\n",
              "      <td>8.278459e-07</td>\n",
              "      <td>*</td>\n",
              "      <td>-0.404834</td>\n",
              "      <td>3</td>\n",
              "      <td>3/3</td>\n",
              "      <td>249</td>\n",
              "      <td>1803</td>\n",
              "    </tr>\n",
              "    <tr>\n",
              "      <th>1</th>\n",
              "      <td>Special Species</td>\n",
              "      <td>21.350275</td>\n",
              "      <td>3.825658e-06</td>\n",
              "      <td>*</td>\n",
              "      <td>-1.480000</td>\n",
              "      <td>3</td>\n",
              "      <td>2/3</td>\n",
              "      <td>25</td>\n",
              "      <td>324</td>\n",
              "    </tr>\n",
              "    <tr>\n",
              "      <th>2</th>\n",
              "      <td>Food Animal</td>\n",
              "      <td>1.412319</td>\n",
              "      <td>2.346718e-01</td>\n",
              "      <td></td>\n",
              "      <td>-0.320561</td>\n",
              "      <td>3</td>\n",
              "      <td>0/3</td>\n",
              "      <td>100</td>\n",
              "      <td>749</td>\n",
              "    </tr>\n",
              "    <tr>\n",
              "      <th>3</th>\n",
              "      <td>Equine</td>\n",
              "      <td>13.454947</td>\n",
              "      <td>2.443610e-04</td>\n",
              "      <td>*</td>\n",
              "      <td>-0.744000</td>\n",
              "      <td>3</td>\n",
              "      <td>2/3</td>\n",
              "      <td>75</td>\n",
              "      <td>500</td>\n",
              "    </tr>\n",
              "  </tbody>\n",
              "</table>\n",
              "</div>"
            ],
            "text/plain": [
              "              Group  ...  Pooled num generalist responses\n",
              "0  Companion Animal  ...                             1803\n",
              "1   Special Species  ...                              324\n",
              "2       Food Animal  ...                              749\n",
              "3            Equine  ...                              500\n",
              "\n",
              "[4 rows x 9 columns]"
            ]
          },
          "metadata": {},
          "execution_count": 90
        }
      ]
    },
    {
      "cell_type": "markdown",
      "metadata": {
        "id": "diMo-zLnlEBb"
      },
      "source": [
        "# Generate tables"
      ]
    },
    {
      "cell_type": "markdown",
      "metadata": {
        "id": "ILmLfYGQlIko"
      },
      "source": [
        "We will generate the following types of tables using pooled data from these experiments:\n",
        "\n",
        "1.   `summary.xlsx`: Group summary table and a table for procedure sets (questions) within each group.\n",
        "2.   `companion_animal.xlsx`: Tables for all procedures within the companion animal group.\n",
        "3.   `special_species.xlsx`: Tables for all procedures within the special species group.\n",
        "4.   `food_animal.xlsx`: Tables for all procedures within the food animal group.\n",
        "5.   `equine.xlsx`:Tables for all procedures within the equine group.\n",
        "6. `summary_nontechnical_allspecies.xlsx`: Summary table for responses to procedures (subquestions) pooled across species areas. Applicable only to non-technical questions.\n",
        "\n"
      ]
    },
    {
      "cell_type": "markdown",
      "metadata": {
        "id": "qSmJ61cUnNFf"
      },
      "source": [
        "## Summary"
      ]
    },
    {
      "cell_type": "code",
      "metadata": {
        "id": "wSPZ3y-HnRtd"
      },
      "source": [
        "writer = pd.ExcelWriter('summary%s.xlsx'%(file_suffix,), engine='xlsxwriter')\n",
        "\n",
        "for i,table in enumerate(output_tables):\n",
        "    sheet_name = output_tables_sheet_names[i]\n",
        "    table.to_excel(writer, sheet_name=sheet_name, index=False)\n",
        "\n",
        "    # Auto-adjust columns widths\n",
        "    for column in table:\n",
        "        column_width = max(table[column].astype(str).map(len).max(), len(column))\n",
        "        col_idx = table.columns.get_loc(column)\n",
        "        writer.sheets[sheet_name].set_column(col_idx, col_idx, column_width)\n",
        "\n",
        "writer.save()"
      ],
      "execution_count": 91,
      "outputs": []
    },
    {
      "cell_type": "markdown",
      "metadata": {
        "id": "n9XnXUJGsV0Z"
      },
      "source": [
        "## All Species Summary"
      ]
    },
    {
      "cell_type": "markdown",
      "metadata": {
        "id": "7xd_EIZ-tTHG"
      },
      "source": [
        "This output table only applies to the nontechnical analyses, for which the relevant questions appear in all species areas."
      ]
    },
    {
      "cell_type": "code",
      "metadata": {
        "colab": {
          "base_uri": "https://localhost:8080/"
        },
        "id": "EMoaSp9TqYuG",
        "outputId": "cd610e96-af9c-44f1-e335-0c61970497e8"
      },
      "source": [
        "if nontechnical == True:\n",
        "\n",
        "    group_table, pooled_q_stats, sig_count, n_questions, pop1_responses, pop2_responses, subq_data  = analyze_group(question_list, n_subq_list, question_strings, pop1, pop2)\n",
        "    subq_tables, subq_tables_names = subq_data\n",
        "\n",
        "    # Loop through tables\n",
        "    writer = pd.ExcelWriter('summary%s_allspecies.xlsx'%(file_suffix,), engine='xlsxwriter')\n",
        "\n",
        "    for i,table in enumerate(subq_tables):\n",
        "        sheet_name = subq_tables_names[i]\n",
        "        table.to_excel(writer, sheet_name=sheet_name, index=False)\n",
        "\n",
        "        # Auto-adjust columns widths\n",
        "        for column in table:\n",
        "            column_width = max(table[column].astype(str).map(len).max(), len(column))\n",
        "            col_idx = table.columns.get_loc(column)\n",
        "            writer.sheets[sheet_name].set_column(col_idx, col_idx, column_width)\n",
        "\n",
        "    writer.save()"
      ],
      "execution_count": 92,
      "outputs": [
        {
          "output_type": "stream",
          "name": "stdout",
          "text": [
            "Group result (all questions): stat=8.354, p=3.85e-03, diff_mean (specialist-generalist)=-0.224, sig_subq=1/3\n"
          ]
        }
      ]
    },
    {
      "cell_type": "markdown",
      "metadata": {
        "id": "UnxgmXT2sBdy"
      },
      "source": [
        "## All procedures"
      ]
    },
    {
      "cell_type": "code",
      "metadata": {
        "id": "4phlYJz8sGjg"
      },
      "source": [
        "for i, file in enumerate(['companion_animal%s.xlsx'%(file_suffix,), 'special_species%s.xlsx'%(file_suffix,), 'food_animal%s.xlsx'%(file_suffix,), 'equine%s.xlsx'%(file_suffix,)]):\n",
        "    subq_data = output_subq_data[i]\n",
        "    subq_tables, subq_tables_names = subq_data\n",
        "\n",
        "    # Loop through tables\n",
        "    writer = pd.ExcelWriter(file, engine='xlsxwriter')\n",
        "\n",
        "    for i,table in enumerate(subq_tables):\n",
        "        sheet_name = subq_tables_names[i]\n",
        "        table.to_excel(writer, sheet_name=sheet_name, index=False)\n",
        "\n",
        "        # Auto-adjust columns widths\n",
        "        for column in table:\n",
        "            column_width = max(table[column].astype(str).map(len).max(), len(column))\n",
        "            col_idx = table.columns.get_loc(column)\n",
        "            writer.sheets[sheet_name].set_column(col_idx, col_idx, column_width)\n",
        "\n",
        "    writer.save()"
      ],
      "execution_count": 93,
      "outputs": []
    }
  ]
}