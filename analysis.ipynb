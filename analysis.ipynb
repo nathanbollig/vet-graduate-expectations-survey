{
  "nbformat": 4,
  "nbformat_minor": 0,
  "metadata": {
    "colab": {
      "name": "analysis.ipynb",
      "provenance": [],
      "collapsed_sections": [
        "JBgWEEZT8D7s"
      ],
      "mount_file_id": "https://github.com/nathanbollig/vet-graduate-expectations-survey/blob/main/analysis.ipynb",
      "authorship_tag": "ABX9TyMq7oT10EhknzaesZT3sjR6",
      "include_colab_link": true
    },
    "kernelspec": {
      "name": "python3",
      "display_name": "Python 3"
    },
    "language_info": {
      "name": "python"
    }
  },
  "cells": [
    {
      "cell_type": "markdown",
      "metadata": {
        "id": "view-in-github",
        "colab_type": "text"
      },
      "source": [
        "<a href=\"https://colab.research.google.com/github/nathanbollig/vet-graduate-expectations-survey/blob/main/analysis.ipynb\" target=\"_parent\"><img src=\"https://colab.research.google.com/assets/colab-badge.svg\" alt=\"Open In Colab\"/></a>"
      ]
    },
    {
      "cell_type": "markdown",
      "metadata": {
        "id": "_xA2L7zDBZ6z"
      },
      "source": [
        "# Veterinary graduate expectations survey\n",
        "\n",
        "Start by uploading the data into the working directory. Two files are required:\n",
        "\n",
        "1.   `SVM.xlsx`: SVM graduate expectations survey results\n",
        "2.   `WVMA.xlsx`: WVMA graduate expectations survey results"
      ]
    },
    {
      "cell_type": "markdown",
      "metadata": {
        "id": "AbR-3ffREDwN"
      },
      "source": [
        "## Set up"
      ]
    },
    {
      "cell_type": "code",
      "metadata": {
        "id": "2h3-qlKqoFUd",
        "colab": {
          "base_uri": "https://localhost:8080/"
        },
        "outputId": "141bfaae-a7b3-41c9-f174-bb924227ed32"
      },
      "source": [
        "! pip install xlsxwriter"
      ],
      "execution_count": 72,
      "outputs": [
        {
          "output_type": "stream",
          "name": "stdout",
          "text": [
            "Requirement already satisfied: xlsxwriter in /usr/local/lib/python3.7/dist-packages (3.0.1)\n"
          ]
        }
      ]
    },
    {
      "cell_type": "code",
      "metadata": {
        "id": "ssV1VbT8A41w"
      },
      "source": [
        "import pandas as pd\n",
        "import numpy as np\n",
        "from scipy.stats import kruskal\n",
        "from scipy.stats import normaltest\n",
        "from scipy.stats import ttest_ind"
      ],
      "execution_count": 73,
      "outputs": []
    },
    {
      "cell_type": "markdown",
      "metadata": {
        "id": "3BXww0G-FnLK"
      },
      "source": [
        "### Read in SVM data"
      ]
    },
    {
      "cell_type": "code",
      "metadata": {
        "id": "qlzso2T4CO7h"
      },
      "source": [
        "# Use top row as header and skip second header row\n",
        "svm = pd.read_excel('SVM.xlsx', header=0, skiprows=lambda x: x in [1])  \n",
        "\n",
        "# Read in questions from second header row and associate with column names\n",
        "question_svm = {}\n",
        "\n",
        "top_rows = pd.read_excel('SVM.xlsx', nrows=2) \n",
        "\n",
        "for col in list(top_rows.columns):\n",
        "    question_svm[col] = top_rows.iloc[0][col]"
      ],
      "execution_count": 74,
      "outputs": []
    },
    {
      "cell_type": "markdown",
      "metadata": {
        "id": "zJ4umVHfFpGY"
      },
      "source": [
        "### Read in WVMA data"
      ]
    },
    {
      "cell_type": "code",
      "metadata": {
        "id": "ynulEF-JE_L5"
      },
      "source": [
        "# Use top row as header and skip second header row\n",
        "wvma = pd.read_excel('WVMA.xlsx', header=0, skiprows=lambda x: x in [1])  \n",
        "\n",
        "# Read in questions from second header row and associate with column names\n",
        "question_wvma = {}\n",
        "\n",
        "top_rows_wvma = pd.read_excel('WVMA.xlsx', nrows=2) \n",
        "\n",
        "for col in list(top_rows_wvma.columns):\n",
        "    question_wvma[col] = top_rows_wvma.iloc[0][col]"
      ],
      "execution_count": 75,
      "outputs": []
    },
    {
      "cell_type": "markdown",
      "metadata": {
        "id": "bQQOy_oEWVoV"
      },
      "source": [
        "### Set Analysis Parameters"
      ]
    },
    {
      "cell_type": "code",
      "metadata": {
        "id": "cJlDmDl4WYEv"
      },
      "source": [
        "ALPHA = 0.05\n",
        "force_completion_rate = 0    # a respondent needs to have completed strictly more than this percentage of all subquestions to be included in a group-level comparison"
      ],
      "execution_count": 76,
      "outputs": []
    },
    {
      "cell_type": "code",
      "metadata": {
        "id": "94C9nJyPYLAu"
      },
      "source": [
        "\"\"\"\n",
        "The `analysis_mode` variable specifies which two main populations are being compared in this analysis. Possible values are:\n",
        "    0 - SVM vs. WVMA\n",
        "    1 - SVM specialists vs. WVMA specialists\n",
        "    2 - WVMA specialists vs. WVMA generalists\n",
        "\"\"\"\n",
        "\n",
        "analysis_mode = 0"
      ],
      "execution_count": 77,
      "outputs": []
    },
    {
      "cell_type": "code",
      "metadata": {
        "id": "bbV3w3q6Zwci"
      },
      "source": [
        "\"\"\"\n",
        "Technical or non-technical.\n",
        "\n",
        "The nontechnical questions are Q13, Q14, and Q16 for all species categories.\n",
        "\"\"\"\n",
        "nontechnical = False"
      ],
      "execution_count": 78,
      "outputs": []
    },
    {
      "cell_type": "markdown",
      "metadata": {
        "id": "Cz8WlE8haHbU"
      },
      "source": [
        "Run the following to set up the notebook for this analysis."
      ]
    },
    {
      "cell_type": "code",
      "metadata": {
        "id": "jK0ju0_GZHyu"
      },
      "source": [
        "# Preparation for SVM vs. WVMA\n",
        "if analysis_mode == 0:\n",
        "    pop1 = svm.copy()\n",
        "    pop2 = wvma.copy()\n",
        "    pop1_str = \"SVM\"\n",
        "    pop2_str = \"WVMA\"\n",
        "    file_suffix = \"\"\n",
        "\n",
        "# Preparation for SVM specialists vs. WVMA specialists\n",
        "if analysis_mode == 1:\n",
        "    pop1 = svm[svm['Q59'].notnull()].copy()\n",
        "    pop2 = wvma[wvma['Q49'].notnull()].copy()\n",
        "    pop1_str = \"SVM\"\n",
        "    pop2_str = \"WVMA\"\n",
        "    file_suffix = \"_s\"\n",
        "\n",
        "# Preparation for WVMA specialists vs. WVMA generalists\n",
        "if analysis_mode == 2:\n",
        "    pop1 = wvma[wvma['Q49'].notnull()].copy()\n",
        "    pop2 = wvma[wvma['Q49'].isnull()].copy()\n",
        "    pop1_str = \"specialist\"\n",
        "    pop2_str = \"generalist\"\n",
        "    file_suffix = \"_sg\"\n",
        "\n",
        "# Adjust file suffix for nontechnical analysis\n",
        "if nontechnical == True:\n",
        "    file_suffix = file_suffix + \"_nontechnical\""
      ],
      "execution_count": 79,
      "outputs": []
    },
    {
      "cell_type": "markdown",
      "metadata": {
        "id": "13Xr5vZRpGhD"
      },
      "source": [
        "### Counts of species area"
      ]
    },
    {
      "cell_type": "markdown",
      "metadata": {
        "id": "5Y0wToTmXGAA"
      },
      "source": [
        "Let's look at the counts of species area (`Q1`) in each population. First, note that this question allowed multiple responses, which appear as a common-delimited list. The below code counts how many times each species appears, taking into account the possible of multiple responses."
      ]
    },
    {
      "cell_type": "code",
      "metadata": {
        "colab": {
          "base_uri": "https://localhost:8080/"
        },
        "id": "SeM9chi4ieBu",
        "outputId": "8841bd6a-29f1-4543-a9db-4ca3a2db8450"
      },
      "source": [
        "from collections import defaultdict\n",
        "\n",
        "pop1_counts = defaultdict(int) # start each count at zero by default\n",
        "\n",
        "for entry in list(pop1.Q1):\n",
        "    if isinstance(entry, str):\n",
        "        species_list = entry.split(',')\n",
        "        for species in species_list:\n",
        "            pop1_counts[species] += 1\n",
        "    elif np.isnan(entry) == True:\n",
        "        pop1_counts[\"empty\"] += 1\n",
        "\n",
        "print(\"*** %s Survey ***\" % (pop1_str,))\n",
        "for key, val in pop1_counts.items():\n",
        "    print(\"%s: %i\" % (key, val))"
      ],
      "execution_count": 80,
      "outputs": [
        {
          "output_type": "stream",
          "name": "stdout",
          "text": [
            "*** SVM Survey ***\n",
            "Companion Animal (canine and/or feline): 46\n",
            "Food Animal (bovine): 18\n",
            "Equine: 16\n",
            "Special Species: 19\n",
            "empty: 5\n"
          ]
        }
      ]
    },
    {
      "cell_type": "code",
      "metadata": {
        "colab": {
          "base_uri": "https://localhost:8080/"
        },
        "id": "945gjw5Gntff",
        "outputId": "4153ac21-c0ea-4c1d-fd0b-6bf377d1c03c"
      },
      "source": [
        "pop2_counts = defaultdict(int) # start each count at zero by default\n",
        "\n",
        "for entry in list(pop2.Q1):\n",
        "    if isinstance(entry, str):\n",
        "        species_list = entry.split(',')\n",
        "        for species in species_list:\n",
        "            pop2_counts[species] += 1\n",
        "    elif np.isnan(entry) == True:\n",
        "        pop2_counts[\"empty\"] += 1\n",
        "\n",
        "print(\"*** %s Survey ***\" % (pop2_str,))\n",
        "for key, val in pop2_counts.items():\n",
        "    print(\"%s: %i\" % (key, val))"
      ],
      "execution_count": 81,
      "outputs": [
        {
          "output_type": "stream",
          "name": "stdout",
          "text": [
            "*** WVMA Survey ***\n",
            "Companion Animal (canine and/or feline): 115\n",
            "Food Animal (bovine): 48\n",
            "Equine: 30\n",
            "Special Species (ex. exotic companion animals): 21\n",
            "empty: 29\n"
          ]
        }
      ]
    },
    {
      "cell_type": "markdown",
      "metadata": {
        "id": "TsZMPL4GN5SA"
      },
      "source": [
        "### Note about organization"
      ]
    },
    {
      "cell_type": "markdown",
      "metadata": {
        "id": "twcIZqWMNLxU"
      },
      "source": [
        "There are several levels of organization in our interpretation of this data.\n",
        "\n",
        " * `Group`: One of the 4 species groups (companion animal, special species, food animal, or equine)\n",
        "     * `Question`: A group of procedures in a category such as \"Medical Procedures\" or \"Surgical Procedures\"\n",
        "          * `Sub-question`: A particular procedure\n",
        "\n",
        "We can perform analysis at the sub-question level, or pool upwards to the question or group level. I will do all of this below.\n",
        "\n",
        "\n",
        "\n"
      ]
    },
    {
      "cell_type": "markdown",
      "metadata": {
        "id": "udPYeYwWBbqR"
      },
      "source": [
        "## Question analysis"
      ]
    },
    {
      "cell_type": "markdown",
      "metadata": {
        "id": "79O0ABQyu9UE"
      },
      "source": [
        "Let's encode the expectation response in the following way:\n",
        "\n",
        " * 0: No Expectation to Perform Procedure\n",
        "\n",
        " * 1: Perform with Assistance (assist with portions of procedure)\n",
        " \n",
        " * 2: Perform with Direct Supervision (present in room during procedure)\n",
        "\n",
        " * 3: Perform with Indirect Supervision (available in building or by phone if needed)\n",
        "\n",
        " * 4: Perform Independently"
      ]
    },
    {
      "cell_type": "code",
      "metadata": {
        "id": "it_mQuqavdMD"
      },
      "source": [
        "def encode_expectation(response_string):\n",
        "    if isinstance(response_string, int) == True:\n",
        "        return response_string\n",
        "    \n",
        "    # Encode nan values as -1\n",
        "    if isinstance(response_string, str) == False:\n",
        "        if np.isnan(response_string) == True:\n",
        "            return -1\n",
        "    \n",
        "    # Encode string\n",
        "    s = response_string.lower()\n",
        "    if s.find('no expectation') > -1:\n",
        "        return 0\n",
        "    elif s.find('with assistance') > -1:\n",
        "        return 1\n",
        "    elif s.find('indirect supervision') > -1:\n",
        "        return 3\n",
        "    elif s.find('direct supervision') > -1:\n",
        "        return 2\n",
        "    elif s.find('independently') > -1:\n",
        "        return 4\n",
        "    else:\n",
        "        print(response_string)\n",
        "        raise ValueError('Expected performance response was not formatted as expected.')"
      ],
      "execution_count": 82,
      "outputs": []
    },
    {
      "cell_type": "code",
      "metadata": {
        "id": "vVGtl2giphjY"
      },
      "source": [
        "\"\"\"\n",
        "Function for computing the composite average scores for all respondents. The \n",
        "average is over all subquestions in the indicated question.\n",
        "\n",
        "For a given respondent to be included in the output, their response rate for this group\n",
        "of subquestions must be above the value of `force_completion_rate`.\n",
        "\"\"\"\n",
        "def get_composite_scores(filtered_df, question_list, n_subq_list, force_completion_rate):\n",
        "    composite_scores = []\n",
        "    indices_used = []\n",
        "    for i in range(filtered_df.shape[0]):  # Loop over respondents\n",
        "        responses_in_group = []\n",
        "\n",
        "        # Loop over questions in the group\n",
        "        for q_index in range(len(question_list)): \n",
        "            question_number = question_list[q_index]\n",
        "            n_subquestions = n_subq_list[q_index]\n",
        "\n",
        "            for j in range(1, n_subquestions+1):  # Loop over subquestions in this question\n",
        "                qkey = \"Q\" + str(question_number) + \"_\" + str(j)\n",
        "                filtered_df[qkey] = filtered_df[qkey].apply(lambda x: encode_expectation(x))\n",
        "                response = filtered_df[qkey].iloc[[i]]\n",
        "                responses_in_group.append(response)\n",
        "        \n",
        "        responses_in_group = np.array(responses_in_group)\n",
        "\n",
        "        # verify inclusion of respondent in the group analysis\n",
        "        unique, counts = np.unique(responses_in_group, return_counts=True)\n",
        "        counter = dict(zip(unique, counts))\n",
        "        response_rate = 1 - counter.get(-1,0) / len(responses_in_group)\n",
        "        if (response_rate <= force_completion_rate):\n",
        "            continue\n",
        "        else:\n",
        "            indices_used.append(i)\n",
        "        \n",
        "        # remove -1 (empty) values and compute average score of responses\n",
        "        index = np.where(responses_in_group != -1)[0]\n",
        "        responses_in_group = responses_in_group[index]\n",
        "        \n",
        "        # add average of responses to list of composite scores\n",
        "        composite_response = np.mean(responses_in_group)\n",
        "        composite_scores.append(composite_response)\n",
        "\n",
        "    return composite_scores, indices_used"
      ],
      "execution_count": 83,
      "outputs": []
    },
    {
      "cell_type": "code",
      "metadata": {
        "id": "BhsBJD7iZY8M"
      },
      "source": [
        "def run_kruskal(pop1_data, pop2_data):\n",
        "    if len(pop1_data) >= 5 and len(pop2_data) >= 5:\n",
        "        stat, p = kruskal(pop1_data, pop2_data)\n",
        "    else:\n",
        "        stat = 0\n",
        "        p = 1\n",
        "    return stat, p"
      ],
      "execution_count": 84,
      "outputs": []
    },
    {
      "cell_type": "code",
      "metadata": {
        "id": "-3_bRSKkA5vO"
      },
      "source": [
        "def analyze_question(question_number, filtered_pop1_df, filtered_pop2_df, n_subquestions, alpha=0.05, verbose=True):\n",
        "    \"\"\"\n",
        "    Perform an analysis of a given question on a species-filtered dataframe.\n",
        "    \n",
        "    Inputs:\n",
        "        question_number: main question number to analyze\n",
        "        filtered_pop1_df: pop1 dataframe filtered to respondants with the desired species area\n",
        "        filtered_pop2_df: pop2 dataframe filtered to respondants with the desired species area\n",
        "        n_subquestions: number of subquestions in the main question\n",
        "        alpha: power level for the statistical test\n",
        "\n",
        "    Prints a summary of results.\n",
        "\n",
        "    Outputs:\n",
        "        table: summary table\n",
        "        (pooled_stat, pooled_p, pooled_diff_mean): tuple of statistics describing output of Kruskal test on the distributions of average responses over subquestions\n",
        "        pop1_data: list of composite pop1 data (average of subquestion reponses for all respondents meeting completion rate threshold)\n",
        "        pop2_data: list of composite pop2 data\n",
        "        sig_count: number of subquestions with significant difference detected (between pop1 and pop2 responses), according to Kruskal test applied at subquestion level\n",
        "\n",
        "    \"\"\"\n",
        "\n",
        "    pop1_counts = np.zeros((n_subquestions, 6), dtype=int) # Row for each question, column for empty (-1), 0, 1, 2, 3, and 4 responses\n",
        "    pop2_counts = np.zeros((n_subquestions, 6), dtype=int) # Row for each question, column for empty (-1), 0, 1, 2, 3, and 4 responses\n",
        "    rows = []\n",
        "    sig_count = 0\n",
        "\n",
        "    for i in range(1, n_subquestions+1):\n",
        "        qkey = \"Q\" + str(question_number) + \"_\" + str(i)\n",
        "        qstring = question_svm[qkey].split('-')[2] # could refer to questions_svm or questions_wvma\n",
        "\n",
        "        # Encoding\n",
        "        filtered_pop1_df[qkey] = filtered_pop1_df[qkey].apply(lambda x: encode_expectation(x))\n",
        "        filtered_pop2_df[qkey] = filtered_pop2_df[qkey].apply(lambda x: encode_expectation(x))\n",
        "\n",
        "        # pop1 tally\n",
        "        counts = filtered_pop1_df[qkey].value_counts(dropna=False)\n",
        "        for key in counts.keys():\n",
        "            pop1_counts[i-1][key+1] += counts[key] # question index is 1-based; keys range from -1 to 4\n",
        "        counts = pop1_counts[i-1][1:] # counts of 0, 1, 2, 3, and 4\n",
        "        pop1_num_responses = np.sum(counts)\n",
        "        pop1_mean = (0*counts[0] + 1*counts[1] + 2*counts[2] + 3*counts[3] + 4*counts[4]) / pop1_num_responses\n",
        "\n",
        "        # pop2 tally\n",
        "        counts = filtered_pop2_df[qkey].value_counts(dropna=False)\n",
        "        for key in counts.keys():\n",
        "            pop2_counts[i-1][key+1] += counts[key]\n",
        "        counts = pop2_counts[i-1][1:] # counts of 0, 1, 2, 3, and 4\n",
        "        pop2_num_responses = np.sum(counts)\n",
        "        pop2_mean = (0*counts[0] + 1*counts[1] + 2*counts[2] + 3*counts[3] + 4*counts[4]) / pop2_num_responses\n",
        "        \n",
        "        # Get data\n",
        "        pop1_data = list(filtered_pop1_df[qkey])\n",
        "        pop2_data = list(filtered_pop2_df[qkey])\n",
        "\n",
        "        # Remove empty values from data\n",
        "        pop1_data = [x for x in pop1_data if x != -1]\n",
        "        pop2_data = [x for x in pop2_data if x != -1]\n",
        "\n",
        "        assert(pop1_num_responses == len(pop1_data))\n",
        "        assert(pop2_num_responses == len(pop2_data))\n",
        "\n",
        "        # compare samples\n",
        "        stat,p = run_kruskal(pop1_data, pop2_data)\n",
        "\n",
        "        # Determine significance\n",
        "        if p > alpha:\n",
        "            sig = \"\"\n",
        "        else:\n",
        "            sig = \"*\"\n",
        "            sig_count += 1\n",
        "\n",
        "        # Cache row for table of results\n",
        "        row = [qstring] + list(pop1_counts[i-1]) + [pop1_mean, pop1_num_responses] + list(pop2_counts[i-1]) + [pop2_mean, pop2_num_responses, pop1_mean-pop2_mean, stat, p, sig]\n",
        "        rows.append(row)\n",
        "\n",
        "    # Assemble table of results\n",
        "    table = pd.DataFrame(rows, columns=[\"Subquestion\", pop1_str+\": empty\", pop1_str+\": 0\", pop1_str+\": 1\", \n",
        "                                        pop1_str+\": 2\", pop1_str+\": 3\", pop1_str+\": 4\", pop1_str+\": avg\", pop1_str+\": num responses\", \n",
        "                                        pop2_str+\": empty\", pop2_str+\": 0\", pop2_str+\": 1\", pop2_str+\": 2\", pop2_str+\": 3\", pop2_str+\": 4\", pop2_str+\": avg\", pop2_str+\": num responses\", \n",
        "                                        \"Diff Mean (\"+pop1_str+\"-\"+pop2_str+\")\", \"stat\", \"pval\", \"sig\"])\n",
        "\n",
        "    # Compute composite scores\n",
        "    pop1_composite_scores,_ = get_composite_scores(filtered_pop1_df, [question_number], [n_subquestions], force_completion_rate)\n",
        "    pop2_composite_scores,_ = get_composite_scores(filtered_pop2_df, [question_number], [n_subquestions], force_completion_rate)\n",
        "\n",
        "    #from scipy.stats import normaltest\n",
        "    #_,p = normaltest(pop1_composite_scores)\n",
        "\n",
        "    # Apply Kruskal test to composite data\n",
        "    pooled_stat, pooled_p = run_kruskal(pop1_composite_scores, pop2_composite_scores)\n",
        "    pooled_diff_mean = np.mean(pop1_composite_scores) - np.mean(pop2_composite_scores)\n",
        "\n",
        "    # Print\n",
        "    if verbose == True:\n",
        "        print('Q%s composite scores: stat=%.3f, p=%.2e, diff_mean (%s-%s)=%.3f, sig_subq=%s/%s' % (question_number, pooled_stat, pooled_p, pop1_str, pop2_str, pooled_diff_mean, sig_count, n_subquestions))\n",
        "\n",
        "    return table, (pooled_stat, pooled_p, pooled_diff_mean), pop1_composite_scores, pop2_composite_scores, sig_count\n"
      ],
      "execution_count": 85,
      "outputs": []
    },
    {
      "cell_type": "markdown",
      "metadata": {
        "id": "RWT_CepwVO7O"
      },
      "source": [
        "## Group Analysis"
      ]
    },
    {
      "cell_type": "code",
      "metadata": {
        "id": "No1h2UNOF0XC"
      },
      "source": [
        "# Code to analyze all questions within the group\n",
        "\n",
        "def analyze_group(question_list, n_subq_list, question_strings, filtered_pop1_df, filtered_pop2_df, alpha=0.05):\n",
        "    pop1_pooled = [] # now pooling over entire group\n",
        "    pop2_pooled = []\n",
        "    rows = []\n",
        "    sig_count = 0\n",
        "    subq_tables = []\n",
        "    subq_tables_names = []\n",
        "\n",
        "    for i in range(len(question_list)):\n",
        "        question_number = question_list[i]\n",
        "        n_subquestions = n_subq_list[i]\n",
        "        question_string = question_strings[i]\n",
        "\n",
        "        # Run analysis\n",
        "        table, subq_pooled_result, pop1_data, pop2_data, sig_subq = analyze_question(question_number, filtered_pop1_df, filtered_pop2_df, n_subquestions, verbose=False, alpha=alpha)\n",
        "        pooled_stat, pooled_p, pooled_diff_mean = subq_pooled_result\n",
        "        pop1_num_responses = len(pop1_data)\n",
        "        pop2_num_responses = len(pop2_data)\n",
        "\n",
        "        # Cache procedure tables\n",
        "        subq_tables.append(table)\n",
        "        subq_tables_names.append('Q'+str(question_number))\n",
        "\n",
        "        # Determine significance\n",
        "        if pooled_p > alpha:\n",
        "            sig = \"\"\n",
        "        else:\n",
        "            sig = \"*\"\n",
        "            sig_count += 1\n",
        "\n",
        "        # Cache data for group summary\n",
        "        row = ['Q'+str(question_number), question_string, pooled_stat, pooled_p, sig, pooled_diff_mean, n_subquestions, \"%i/%i\" % (sig_subq,n_subquestions), pop1_num_responses, pop2_num_responses]\n",
        "        rows.append(row)\n",
        "\n",
        "    # Assemble table of results\n",
        "    group_table = pd.DataFrame(rows, columns=[\"Question number\", \"Category\", \"Stat\", \"pval\", \"Sig\", \"Diff Mean (%s-%s)\"%(pop1_str, pop2_str), \"Num subquestions\", \"Fraction of sig subquestions\", \"Num %s respondents\"%(pop1_str,), \"Num %s respondents\"%(pop2_str,)])                     \n",
        "\n",
        "    # Compute composite scores\n",
        "    pop1_composite_scores,_ = get_composite_scores(filtered_pop1_df, question_list, n_subq_list, force_completion_rate)\n",
        "    pop2_composite_scores,_ = get_composite_scores(filtered_pop2_df, question_list, n_subq_list, force_completion_rate)\n",
        "\n",
        "    # Apply Kruskal test to pooled data\n",
        "    pooled_stat, pooled_p = run_kruskal(pop1_composite_scores, pop2_composite_scores)\n",
        "    pooled_diff_mean = np.mean(pop1_composite_scores) - np.mean(pop2_composite_scores)\n",
        "\n",
        "    # Print\n",
        "    print('Group result (all questions): stat=%.3f, p=%.2e, diff_mean (%s-%s)=%.3f, sig_subq=%s/%s' % (pooled_stat, pooled_p, pop1_str, pop2_str, pooled_diff_mean, sig_count, len(question_list)))\n",
        "\n",
        "    return group_table, (pooled_stat, pooled_p, pooled_diff_mean), sig_count, len(question_list), len(pop1_composite_scores), len(pop2_composite_scores), (subq_tables, subq_tables_names)"
      ],
      "execution_count": 86,
      "outputs": []
    },
    {
      "cell_type": "code",
      "metadata": {
        "id": "TV8dbNjhQkpS"
      },
      "source": [
        "# cache data across all groups\n",
        "group_data = []\n",
        "group_columns = [\"Group\", \"stat\", \"pval\", \"Diff_mean (%s-%s)\"%(pop1_str,pop2_str), \"Num questions\", \"Fraction of sig questions\", \"Num of %s respondents\"%(pop1_str,), \"Num of %s respondents\"%(pop2_str,)]"
      ],
      "execution_count": 87,
      "outputs": []
    },
    {
      "cell_type": "code",
      "metadata": {
        "id": "oHHUSx04mA1C"
      },
      "source": [
        "# cache tables\n",
        "output_tables = []\n",
        "output_tables_sheet_names = []\n",
        "\n",
        "# cache subquestion table data\n",
        "output_subq_data = []"
      ],
      "execution_count": 88,
      "outputs": []
    },
    {
      "cell_type": "markdown",
      "metadata": {
        "id": "4CQnMEHdBQiB"
      },
      "source": [
        "### Companion Animal Group"
      ]
    },
    {
      "cell_type": "code",
      "metadata": {
        "id": "hzS9MMxxp3UZ"
      },
      "source": [
        "# Filter dataframe to only companion animal respondants (may have responded to other species too)\n",
        "ca_pop1 = pop1[pop1['Q1'].str.contains('Companion Animal (canine and/or feline)', na=False, regex=False)].copy()"
      ],
      "execution_count": 89,
      "outputs": []
    },
    {
      "cell_type": "code",
      "metadata": {
        "id": "mR1K7domxU40"
      },
      "source": [
        "# Filter dataframe to only companion animal respondants (may have responded to other species too)\n",
        "ca_pop2 = pop2[pop2['Q1'].str.contains('Companion Animal (canine and/or feline)', na=False, regex=False)].copy()"
      ],
      "execution_count": 90,
      "outputs": []
    },
    {
      "cell_type": "code",
      "metadata": {
        "id": "2PRI-LFAE9WW"
      },
      "source": [
        "# Input info about question group\n",
        "\n",
        "if nontechnical == False:\n",
        "    question_list = [16,17,7,8,9,10,11,12]\n",
        "    n_subq_list = [25,10,25,8,4,12,13,3]\n",
        "    question_strings = ['Medical Procedures',\n",
        "                        'Preventive Medicine/Population Health Procedures',\n",
        "                        'Surgical Procedures', \n",
        "                        'Anesthetic Procedures', \n",
        "                        'Reproductive Procedures',\n",
        "                        'Diagnostic Imaging Procedures',\n",
        "                        'Clinical Pathology Procedures',\n",
        "                        'Diagnostic Necropsy Procedures']\n",
        "else:\n",
        "    question_list = [13,14,15]\n",
        "    n_subq_list = [11,6,8]\n",
        "    question_strings = ['Communication practices',\n",
        "                        'Professional and business practices',\n",
        "                        'Ethics and professional practices']\n",
        "\n",
        "assert(len(question_list) == len(n_subq_list))\n",
        "assert(len(n_subq_list) == len(question_strings))"
      ],
      "execution_count": 91,
      "outputs": []
    },
    {
      "cell_type": "code",
      "metadata": {
        "colab": {
          "base_uri": "https://localhost:8080/",
          "height": 353
        },
        "id": "f0MxDBYnLTY4",
        "outputId": "784fd578-6e2f-44ed-8983-fad4c287c5bf"
      },
      "source": [
        "group_table, pooled_q_stats, sig_count, n_questions, pop1_responses, pop2_responses, subq_data  = analyze_group(question_list, n_subq_list, question_strings, ca_pop1, ca_pop2, alpha=ALPHA)\n",
        "pooled_stat, pooled_p, pooled_diff_mean = pooled_q_stats\n",
        "group_data.append([\"Companion Animal\", pooled_stat, pooled_p, pooled_diff_mean, n_questions, \"%i/%i\" % (sig_count,n_questions), pop1_responses, pop2_responses])\n",
        "output_tables.append(group_table)\n",
        "output_tables_sheet_names.append(\"Companion Animal\")\n",
        "output_subq_data.append(subq_data)\n",
        "group_table"
      ],
      "execution_count": 92,
      "outputs": [
        {
          "output_type": "stream",
          "name": "stdout",
          "text": [
            "Group result (all questions): stat=9.018, p=2.67e-03, diff_mean (SVM-WVMA)=0.227, sig_subq=5/8\n"
          ]
        },
        {
          "output_type": "execute_result",
          "data": {
            "text/html": [
              "<div>\n",
              "<style scoped>\n",
              "    .dataframe tbody tr th:only-of-type {\n",
              "        vertical-align: middle;\n",
              "    }\n",
              "\n",
              "    .dataframe tbody tr th {\n",
              "        vertical-align: top;\n",
              "    }\n",
              "\n",
              "    .dataframe thead th {\n",
              "        text-align: right;\n",
              "    }\n",
              "</style>\n",
              "<table border=\"1\" class=\"dataframe\">\n",
              "  <thead>\n",
              "    <tr style=\"text-align: right;\">\n",
              "      <th></th>\n",
              "      <th>Question number</th>\n",
              "      <th>Category</th>\n",
              "      <th>Stat</th>\n",
              "      <th>pval</th>\n",
              "      <th>Sig</th>\n",
              "      <th>Diff Mean (SVM-WVMA)</th>\n",
              "      <th>Num subquestions</th>\n",
              "      <th>Fraction of sig subquestions</th>\n",
              "      <th>Num SVM respondents</th>\n",
              "      <th>Num WVMA respondents</th>\n",
              "    </tr>\n",
              "  </thead>\n",
              "  <tbody>\n",
              "    <tr>\n",
              "      <th>0</th>\n",
              "      <td>Q16</td>\n",
              "      <td>Medical Procedures</td>\n",
              "      <td>22.970642</td>\n",
              "      <td>0.000002</td>\n",
              "      <td>*</td>\n",
              "      <td>0.334390</td>\n",
              "      <td>25</td>\n",
              "      <td>15/25</td>\n",
              "      <td>40</td>\n",
              "      <td>100</td>\n",
              "    </tr>\n",
              "    <tr>\n",
              "      <th>1</th>\n",
              "      <td>Q17</td>\n",
              "      <td>Preventive Medicine/Population Health Procedures</td>\n",
              "      <td>5.229499</td>\n",
              "      <td>0.022207</td>\n",
              "      <td>*</td>\n",
              "      <td>0.260298</td>\n",
              "      <td>10</td>\n",
              "      <td>4/10</td>\n",
              "      <td>39</td>\n",
              "      <td>93</td>\n",
              "    </tr>\n",
              "    <tr>\n",
              "      <th>2</th>\n",
              "      <td>Q7</td>\n",
              "      <td>Surgical Procedures</td>\n",
              "      <td>1.580552</td>\n",
              "      <td>0.208681</td>\n",
              "      <td></td>\n",
              "      <td>0.142689</td>\n",
              "      <td>25</td>\n",
              "      <td>5/25</td>\n",
              "      <td>39</td>\n",
              "      <td>93</td>\n",
              "    </tr>\n",
              "    <tr>\n",
              "      <th>3</th>\n",
              "      <td>Q8</td>\n",
              "      <td>Anesthetic Procedures</td>\n",
              "      <td>10.379662</td>\n",
              "      <td>0.001274</td>\n",
              "      <td>*</td>\n",
              "      <td>0.252289</td>\n",
              "      <td>8</td>\n",
              "      <td>7/8</td>\n",
              "      <td>39</td>\n",
              "      <td>90</td>\n",
              "    </tr>\n",
              "    <tr>\n",
              "      <th>4</th>\n",
              "      <td>Q9</td>\n",
              "      <td>Reproductive Procedures</td>\n",
              "      <td>0.107430</td>\n",
              "      <td>0.743090</td>\n",
              "      <td></td>\n",
              "      <td>0.052651</td>\n",
              "      <td>4</td>\n",
              "      <td>0/4</td>\n",
              "      <td>39</td>\n",
              "      <td>89</td>\n",
              "    </tr>\n",
              "    <tr>\n",
              "      <th>5</th>\n",
              "      <td>Q10</td>\n",
              "      <td>Diagnostic Imaging Procedures</td>\n",
              "      <td>5.486665</td>\n",
              "      <td>0.019162</td>\n",
              "      <td>*</td>\n",
              "      <td>0.300766</td>\n",
              "      <td>12</td>\n",
              "      <td>3/12</td>\n",
              "      <td>39</td>\n",
              "      <td>87</td>\n",
              "    </tr>\n",
              "    <tr>\n",
              "      <th>6</th>\n",
              "      <td>Q11</td>\n",
              "      <td>Clinical Pathology Procedures</td>\n",
              "      <td>5.767303</td>\n",
              "      <td>0.016327</td>\n",
              "      <td>*</td>\n",
              "      <td>0.227149</td>\n",
              "      <td>13</td>\n",
              "      <td>5/13</td>\n",
              "      <td>39</td>\n",
              "      <td>87</td>\n",
              "    </tr>\n",
              "    <tr>\n",
              "      <th>7</th>\n",
              "      <td>Q12</td>\n",
              "      <td>Diagnostic Necropsy Procedures</td>\n",
              "      <td>0.644815</td>\n",
              "      <td>0.421973</td>\n",
              "      <td></td>\n",
              "      <td>0.231948</td>\n",
              "      <td>3</td>\n",
              "      <td>1/3</td>\n",
              "      <td>39</td>\n",
              "      <td>87</td>\n",
              "    </tr>\n",
              "  </tbody>\n",
              "</table>\n",
              "</div>"
            ],
            "text/plain": [
              "  Question number  ... Num WVMA respondents\n",
              "0             Q16  ...                  100\n",
              "1             Q17  ...                   93\n",
              "2              Q7  ...                   93\n",
              "3              Q8  ...                   90\n",
              "4              Q9  ...                   89\n",
              "5             Q10  ...                   87\n",
              "6             Q11  ...                   87\n",
              "7             Q12  ...                   87\n",
              "\n",
              "[8 rows x 10 columns]"
            ]
          },
          "metadata": {},
          "execution_count": 92
        }
      ]
    },
    {
      "cell_type": "markdown",
      "metadata": {
        "id": "xmr4Abh_AW6b"
      },
      "source": [
        "### Special Species Group"
      ]
    },
    {
      "cell_type": "code",
      "metadata": {
        "id": "DCdfiCDJAqvY"
      },
      "source": [
        "# Filter dataframes to only companion animal respondants (may have responded to other species too)\n",
        "ss_pop1 = pop1[pop1['Q1'].str.contains('Special Species', na=False, regex=False)].copy()\n",
        "ss_pop2 = pop2[pop2['Q1'].str.contains('Special Species', na=False, regex=False)].copy()"
      ],
      "execution_count": 93,
      "outputs": []
    },
    {
      "cell_type": "code",
      "metadata": {
        "id": "274MDssxK4mQ"
      },
      "source": [
        "# Input info about question group\n",
        "\n",
        "if nontechnical == False:\n",
        "    question_list = [43, 44, 45, 46, 48, 49, 50]\n",
        "    n_subq_list = [20, 9, 11, 8, 6, 13, 3]\n",
        "    question_strings = ['Medical Procedures',\n",
        "                        'Preventive Medicine/Population Health Procedures',\n",
        "                        'Surgical Procedures', \n",
        "                        'Anesthetic Procedures', \n",
        "                        'Diagnostic Imaging Procedures',\n",
        "                        'Clinical Pathology Procedures',\n",
        "                        'Diagnostic Necropsy Procedures']\n",
        "else:\n",
        "    question_list = [13,14,15]\n",
        "    n_subq_list = [11,6,8]\n",
        "    question_strings = ['Communication practices',\n",
        "                        'Professional and business practices',\n",
        "                        'Ethics and professional practices']\n",
        "                        \n",
        "assert(len(question_list) == len(n_subq_list))\n",
        "assert(len(n_subq_list) == len(question_strings))"
      ],
      "execution_count": 94,
      "outputs": []
    },
    {
      "cell_type": "code",
      "metadata": {
        "colab": {
          "base_uri": "https://localhost:8080/",
          "height": 322
        },
        "id": "68Wni7ZWK6CF",
        "outputId": "17bff401-3469-4936-f710-8175ab5c9f8b"
      },
      "source": [
        "group_table, pooled_q_stats, sig_count, n_questions, pop1_responses, pop2_responses, subq_data  = analyze_group(question_list, n_subq_list, question_strings, ss_pop1, ss_pop2, alpha=ALPHA)\n",
        "pooled_stat, pooled_p, pooled_diff_mean = pooled_q_stats\n",
        "group_data.append([\"Special Species\", pooled_stat, pooled_p, pooled_diff_mean, n_questions, \"%i/%i\" % (sig_count,n_questions), pop1_responses, pop2_responses])\n",
        "output_tables.append(group_table)\n",
        "output_tables_sheet_names.append(\"Special Species\")\n",
        "output_subq_data.append(subq_data)\n",
        "group_table"
      ],
      "execution_count": 95,
      "outputs": [
        {
          "output_type": "stream",
          "name": "stdout",
          "text": [
            "Group result (all questions): stat=7.289, p=6.94e-03, diff_mean (SVM-WVMA)=0.821, sig_subq=4/7\n"
          ]
        },
        {
          "output_type": "execute_result",
          "data": {
            "text/html": [
              "<div>\n",
              "<style scoped>\n",
              "    .dataframe tbody tr th:only-of-type {\n",
              "        vertical-align: middle;\n",
              "    }\n",
              "\n",
              "    .dataframe tbody tr th {\n",
              "        vertical-align: top;\n",
              "    }\n",
              "\n",
              "    .dataframe thead th {\n",
              "        text-align: right;\n",
              "    }\n",
              "</style>\n",
              "<table border=\"1\" class=\"dataframe\">\n",
              "  <thead>\n",
              "    <tr style=\"text-align: right;\">\n",
              "      <th></th>\n",
              "      <th>Question number</th>\n",
              "      <th>Category</th>\n",
              "      <th>Stat</th>\n",
              "      <th>pval</th>\n",
              "      <th>Sig</th>\n",
              "      <th>Diff Mean (SVM-WVMA)</th>\n",
              "      <th>Num subquestions</th>\n",
              "      <th>Fraction of sig subquestions</th>\n",
              "      <th>Num SVM respondents</th>\n",
              "      <th>Num WVMA respondents</th>\n",
              "    </tr>\n",
              "  </thead>\n",
              "  <tbody>\n",
              "    <tr>\n",
              "      <th>0</th>\n",
              "      <td>Q43</td>\n",
              "      <td>Medical Procedures</td>\n",
              "      <td>9.249899</td>\n",
              "      <td>0.002355</td>\n",
              "      <td>*</td>\n",
              "      <td>0.873922</td>\n",
              "      <td>20</td>\n",
              "      <td>8/20</td>\n",
              "      <td>13</td>\n",
              "      <td>17</td>\n",
              "    </tr>\n",
              "    <tr>\n",
              "      <th>1</th>\n",
              "      <td>Q44</td>\n",
              "      <td>Preventive Medicine/Population Health Procedures</td>\n",
              "      <td>1.678020</td>\n",
              "      <td>0.195188</td>\n",
              "      <td></td>\n",
              "      <td>0.223113</td>\n",
              "      <td>9</td>\n",
              "      <td>0/9</td>\n",
              "      <td>11</td>\n",
              "      <td>17</td>\n",
              "    </tr>\n",
              "    <tr>\n",
              "      <th>2</th>\n",
              "      <td>Q45</td>\n",
              "      <td>Surgical Procedures</td>\n",
              "      <td>3.461992</td>\n",
              "      <td>0.062795</td>\n",
              "      <td></td>\n",
              "      <td>0.725814</td>\n",
              "      <td>11</td>\n",
              "      <td>2/11</td>\n",
              "      <td>11</td>\n",
              "      <td>17</td>\n",
              "    </tr>\n",
              "    <tr>\n",
              "      <th>3</th>\n",
              "      <td>Q46</td>\n",
              "      <td>Anesthetic Procedures</td>\n",
              "      <td>3.911626</td>\n",
              "      <td>0.047953</td>\n",
              "      <td>*</td>\n",
              "      <td>0.666903</td>\n",
              "      <td>8</td>\n",
              "      <td>1/8</td>\n",
              "      <td>11</td>\n",
              "      <td>16</td>\n",
              "    </tr>\n",
              "    <tr>\n",
              "      <th>4</th>\n",
              "      <td>Q48</td>\n",
              "      <td>Diagnostic Imaging Procedures</td>\n",
              "      <td>4.017415</td>\n",
              "      <td>0.045033</td>\n",
              "      <td>*</td>\n",
              "      <td>0.967803</td>\n",
              "      <td>6</td>\n",
              "      <td>3/6</td>\n",
              "      <td>11</td>\n",
              "      <td>16</td>\n",
              "    </tr>\n",
              "    <tr>\n",
              "      <th>5</th>\n",
              "      <td>Q49</td>\n",
              "      <td>Clinical Pathology Procedures</td>\n",
              "      <td>6.248169</td>\n",
              "      <td>0.012432</td>\n",
              "      <td>*</td>\n",
              "      <td>0.803322</td>\n",
              "      <td>13</td>\n",
              "      <td>4/13</td>\n",
              "      <td>11</td>\n",
              "      <td>16</td>\n",
              "    </tr>\n",
              "    <tr>\n",
              "      <th>6</th>\n",
              "      <td>Q50</td>\n",
              "      <td>Diagnostic Necropsy Procedures</td>\n",
              "      <td>0.673221</td>\n",
              "      <td>0.411931</td>\n",
              "      <td></td>\n",
              "      <td>0.342803</td>\n",
              "      <td>3</td>\n",
              "      <td>0/3</td>\n",
              "      <td>11</td>\n",
              "      <td>16</td>\n",
              "    </tr>\n",
              "  </tbody>\n",
              "</table>\n",
              "</div>"
            ],
            "text/plain": [
              "  Question number  ... Num WVMA respondents\n",
              "0             Q43  ...                   17\n",
              "1             Q44  ...                   17\n",
              "2             Q45  ...                   17\n",
              "3             Q46  ...                   16\n",
              "4             Q48  ...                   16\n",
              "5             Q49  ...                   16\n",
              "6             Q50  ...                   16\n",
              "\n",
              "[7 rows x 10 columns]"
            ]
          },
          "metadata": {},
          "execution_count": 95
        }
      ]
    },
    {
      "cell_type": "markdown",
      "metadata": {
        "id": "OZmv6D7BAkoT"
      },
      "source": [
        "### Food Animal Group"
      ]
    },
    {
      "cell_type": "code",
      "metadata": {
        "id": "l_iFQe9tMNHj"
      },
      "source": [
        "# Filter dataframes to only companion animal respondants (may have responded to other species too)\n",
        "fa_pop1 = pop1[pop1['Q1'].str.contains('Food Animal', na=False, regex=False)].copy()\n",
        "fa_pop2 = pop2[pop2['Q1'].str.contains('Food Animal', na=False, regex=False)].copy()"
      ],
      "execution_count": 96,
      "outputs": []
    },
    {
      "cell_type": "code",
      "metadata": {
        "id": "h84S1L2UMONF"
      },
      "source": [
        "# Input info about question group\n",
        "\n",
        "if nontechnical == False:\n",
        "    question_list = [20, 18, 25, 24, 21, 19, 23, 22, 27]\n",
        "    n_subq_list = [8, 27, 16, 10, 20, 11, 12, 3, 5]\n",
        "    question_strings = ['Handling and Husbandry Procedures',\n",
        "                        'Medical Procedures',\n",
        "                        'Surgical Procedures',\n",
        "                        'Anesthetic Procedures',\n",
        "                        'Preventive Medicine/Population Health Procedures',\n",
        "                        'Reproductive Procedures',\n",
        "                        'Clinical Pathology Procedures',\n",
        "                        'Diagnostic Necropsy Procedures',\n",
        "                        'Diagnostic Imaging Procedures']\n",
        "else:\n",
        "    question_list = [13,14,15]\n",
        "    n_subq_list = [11,6,8]\n",
        "    question_strings = ['Communication practices',\n",
        "                        'Professional and business practices',\n",
        "                        'Ethics and professional practices']\n",
        "\n",
        "assert(len(question_list) == len(n_subq_list))\n",
        "assert(len(n_subq_list) == len(question_strings))"
      ],
      "execution_count": 97,
      "outputs": []
    },
    {
      "cell_type": "code",
      "metadata": {
        "colab": {
          "base_uri": "https://localhost:8080/",
          "height": 385
        },
        "id": "LE1yuS5OMPGh",
        "outputId": "cfca709c-a4c5-4175-d304-45133da3396e"
      },
      "source": [
        "group_table, pooled_q_stats, sig_count, n_questions, pop1_responses, pop2_responses, subq_data  = analyze_group(question_list, n_subq_list, question_strings, fa_pop1, fa_pop2, alpha=ALPHA)\n",
        "pooled_stat, pooled_p, pooled_diff_mean = pooled_q_stats\n",
        "group_data.append([\"Food Animal\", pooled_stat, pooled_p, pooled_diff_mean, n_questions, \"%i/%i\" % (sig_count,n_questions), pop1_responses, pop2_responses])\n",
        "output_tables.append(group_table)\n",
        "output_tables_sheet_names.append(\"Food Animal\")\n",
        "output_subq_data.append(subq_data)\n",
        "group_table"
      ],
      "execution_count": 98,
      "outputs": [
        {
          "output_type": "stream",
          "name": "stdout",
          "text": [
            "Group result (all questions): stat=0.065, p=7.99e-01, diff_mean (SVM-WVMA)=0.012, sig_subq=0/9\n"
          ]
        },
        {
          "output_type": "execute_result",
          "data": {
            "text/html": [
              "<div>\n",
              "<style scoped>\n",
              "    .dataframe tbody tr th:only-of-type {\n",
              "        vertical-align: middle;\n",
              "    }\n",
              "\n",
              "    .dataframe tbody tr th {\n",
              "        vertical-align: top;\n",
              "    }\n",
              "\n",
              "    .dataframe thead th {\n",
              "        text-align: right;\n",
              "    }\n",
              "</style>\n",
              "<table border=\"1\" class=\"dataframe\">\n",
              "  <thead>\n",
              "    <tr style=\"text-align: right;\">\n",
              "      <th></th>\n",
              "      <th>Question number</th>\n",
              "      <th>Category</th>\n",
              "      <th>Stat</th>\n",
              "      <th>pval</th>\n",
              "      <th>Sig</th>\n",
              "      <th>Diff Mean (SVM-WVMA)</th>\n",
              "      <th>Num subquestions</th>\n",
              "      <th>Fraction of sig subquestions</th>\n",
              "      <th>Num SVM respondents</th>\n",
              "      <th>Num WVMA respondents</th>\n",
              "    </tr>\n",
              "  </thead>\n",
              "  <tbody>\n",
              "    <tr>\n",
              "      <th>0</th>\n",
              "      <td>Q20</td>\n",
              "      <td>Handling and Husbandry Procedures</td>\n",
              "      <td>0.684004</td>\n",
              "      <td>0.408211</td>\n",
              "      <td></td>\n",
              "      <td>-0.247884</td>\n",
              "      <td>8</td>\n",
              "      <td>0/8</td>\n",
              "      <td>13</td>\n",
              "      <td>37</td>\n",
              "    </tr>\n",
              "    <tr>\n",
              "      <th>1</th>\n",
              "      <td>Q18</td>\n",
              "      <td>Medical Procedures</td>\n",
              "      <td>3.753191</td>\n",
              "      <td>0.052707</td>\n",
              "      <td></td>\n",
              "      <td>0.273543</td>\n",
              "      <td>27</td>\n",
              "      <td>5/27</td>\n",
              "      <td>13</td>\n",
              "      <td>37</td>\n",
              "    </tr>\n",
              "    <tr>\n",
              "      <th>2</th>\n",
              "      <td>Q25</td>\n",
              "      <td>Surgical Procedures</td>\n",
              "      <td>0.041589</td>\n",
              "      <td>0.838404</td>\n",
              "      <td></td>\n",
              "      <td>-0.008449</td>\n",
              "      <td>16</td>\n",
              "      <td>0/16</td>\n",
              "      <td>13</td>\n",
              "      <td>36</td>\n",
              "    </tr>\n",
              "    <tr>\n",
              "      <th>3</th>\n",
              "      <td>Q24</td>\n",
              "      <td>Anesthetic Procedures</td>\n",
              "      <td>0.036746</td>\n",
              "      <td>0.847983</td>\n",
              "      <td></td>\n",
              "      <td>0.165741</td>\n",
              "      <td>10</td>\n",
              "      <td>1/10</td>\n",
              "      <td>12</td>\n",
              "      <td>36</td>\n",
              "    </tr>\n",
              "    <tr>\n",
              "      <th>4</th>\n",
              "      <td>Q21</td>\n",
              "      <td>Preventive Medicine/Population Health Procedures</td>\n",
              "      <td>0.618589</td>\n",
              "      <td>0.431572</td>\n",
              "      <td></td>\n",
              "      <td>0.074488</td>\n",
              "      <td>20</td>\n",
              "      <td>1/20</td>\n",
              "      <td>12</td>\n",
              "      <td>36</td>\n",
              "    </tr>\n",
              "    <tr>\n",
              "      <th>5</th>\n",
              "      <td>Q19</td>\n",
              "      <td>Reproductive Procedures</td>\n",
              "      <td>0.555390</td>\n",
              "      <td>0.456124</td>\n",
              "      <td></td>\n",
              "      <td>-0.179870</td>\n",
              "      <td>11</td>\n",
              "      <td>0/11</td>\n",
              "      <td>12</td>\n",
              "      <td>35</td>\n",
              "    </tr>\n",
              "    <tr>\n",
              "      <th>6</th>\n",
              "      <td>Q23</td>\n",
              "      <td>Clinical Pathology Procedures</td>\n",
              "      <td>3.300788</td>\n",
              "      <td>0.069247</td>\n",
              "      <td></td>\n",
              "      <td>0.302381</td>\n",
              "      <td>12</td>\n",
              "      <td>4/12</td>\n",
              "      <td>12</td>\n",
              "      <td>35</td>\n",
              "    </tr>\n",
              "    <tr>\n",
              "      <th>7</th>\n",
              "      <td>Q22</td>\n",
              "      <td>Diagnostic Necropsy Procedures</td>\n",
              "      <td>0.192940</td>\n",
              "      <td>0.660481</td>\n",
              "      <td></td>\n",
              "      <td>-0.280952</td>\n",
              "      <td>3</td>\n",
              "      <td>0/3</td>\n",
              "      <td>12</td>\n",
              "      <td>35</td>\n",
              "    </tr>\n",
              "    <tr>\n",
              "      <th>8</th>\n",
              "      <td>Q27</td>\n",
              "      <td>Diagnostic Imaging Procedures</td>\n",
              "      <td>0.539646</td>\n",
              "      <td>0.462580</td>\n",
              "      <td></td>\n",
              "      <td>0.318095</td>\n",
              "      <td>5</td>\n",
              "      <td>0/5</td>\n",
              "      <td>12</td>\n",
              "      <td>35</td>\n",
              "    </tr>\n",
              "  </tbody>\n",
              "</table>\n",
              "</div>"
            ],
            "text/plain": [
              "  Question number  ... Num WVMA respondents\n",
              "0             Q20  ...                   37\n",
              "1             Q18  ...                   37\n",
              "2             Q25  ...                   36\n",
              "3             Q24  ...                   36\n",
              "4             Q21  ...                   36\n",
              "5             Q19  ...                   35\n",
              "6             Q23  ...                   35\n",
              "7             Q22  ...                   35\n",
              "8             Q27  ...                   35\n",
              "\n",
              "[9 rows x 10 columns]"
            ]
          },
          "metadata": {},
          "execution_count": 98
        }
      ]
    },
    {
      "cell_type": "markdown",
      "metadata": {
        "id": "CupWAW_OAmJA"
      },
      "source": [
        "### Equine Group"
      ]
    },
    {
      "cell_type": "code",
      "metadata": {
        "id": "tv2QyiS3PAY-"
      },
      "source": [
        "# Filter dataframes to only companion animal respondants (may have responded to other species too)\n",
        "eq_pop1 = pop1[pop1['Q1'].str.contains('Equine', na=False, regex=False)].copy()\n",
        "eq_pop2 = pop2[pop2['Q1'].str.contains('Equine', na=False, regex=False)].copy()"
      ],
      "execution_count": 99,
      "outputs": []
    },
    {
      "cell_type": "code",
      "metadata": {
        "id": "GbO-i-4wPEUZ"
      },
      "source": [
        "# Input info about question group\n",
        "\n",
        "if nontechnical == False:\n",
        "    question_list = [28, 29, 30, 31, 32, 33, 34, 35, 36]\n",
        "    n_subq_list = [7, 24, 8, 8, 15, 9, 11, 3, 5]\n",
        "    question_strings = ['Handling and Husbandry Procedures',\n",
        "                        'Medical Procedures',\n",
        "                        'Surgical Procedures',\n",
        "                        'Anesthetic Procedures',\n",
        "                        'Preventive Medicine/Population Health Procedures',\n",
        "                        'Reproductive Procedures',\n",
        "                        'Clinical Pathology Procedures',\n",
        "                        'Diagnostic Necropsy Procedures',\n",
        "                        'Diagnostic Imaging Procedures']\n",
        "else:\n",
        "    question_list = [13,14,15]\n",
        "    n_subq_list = [11,6,8]\n",
        "    question_strings = ['Communication practices',\n",
        "                        'Professional and business practices',\n",
        "                        'Ethics and professional practices']\n",
        "\n",
        "assert(len(question_list) == len(n_subq_list))\n",
        "assert(len(n_subq_list) == len(question_strings))"
      ],
      "execution_count": 100,
      "outputs": []
    },
    {
      "cell_type": "code",
      "metadata": {
        "colab": {
          "base_uri": "https://localhost:8080/",
          "height": 385
        },
        "id": "PfeuG-2TPHzx",
        "outputId": "b9c77614-f4a0-4bdd-b9c6-2aab3e55dfa1"
      },
      "source": [
        "group_table, pooled_q_stats, sig_count, n_questions, pop1_responses, pop2_responses, subq_data  = analyze_group(question_list, n_subq_list, question_strings, eq_pop1, eq_pop2, alpha=ALPHA)\n",
        "pooled_stat, pooled_p, pooled_diff_mean = pooled_q_stats\n",
        "group_data.append([\"Equine\", pooled_stat, pooled_p, pooled_diff_mean, n_questions, \"%i/%i\" % (sig_count,n_questions), pop1_responses, pop2_responses])\n",
        "output_tables.append(group_table)\n",
        "output_tables_sheet_names.append(\"Equine\")\n",
        "output_subq_data.append(subq_data)\n",
        "group_table"
      ],
      "execution_count": 101,
      "outputs": [
        {
          "output_type": "stream",
          "name": "stdout",
          "text": [
            "Group result (all questions): stat=0.050, p=8.23e-01, diff_mean (SVM-WVMA)=0.137, sig_subq=1/9\n"
          ]
        },
        {
          "output_type": "execute_result",
          "data": {
            "text/html": [
              "<div>\n",
              "<style scoped>\n",
              "    .dataframe tbody tr th:only-of-type {\n",
              "        vertical-align: middle;\n",
              "    }\n",
              "\n",
              "    .dataframe tbody tr th {\n",
              "        vertical-align: top;\n",
              "    }\n",
              "\n",
              "    .dataframe thead th {\n",
              "        text-align: right;\n",
              "    }\n",
              "</style>\n",
              "<table border=\"1\" class=\"dataframe\">\n",
              "  <thead>\n",
              "    <tr style=\"text-align: right;\">\n",
              "      <th></th>\n",
              "      <th>Question number</th>\n",
              "      <th>Category</th>\n",
              "      <th>Stat</th>\n",
              "      <th>pval</th>\n",
              "      <th>Sig</th>\n",
              "      <th>Diff Mean (SVM-WVMA)</th>\n",
              "      <th>Num subquestions</th>\n",
              "      <th>Fraction of sig subquestions</th>\n",
              "      <th>Num SVM respondents</th>\n",
              "      <th>Num WVMA respondents</th>\n",
              "    </tr>\n",
              "  </thead>\n",
              "  <tbody>\n",
              "    <tr>\n",
              "      <th>0</th>\n",
              "      <td>Q28</td>\n",
              "      <td>Handling and Husbandry Procedures</td>\n",
              "      <td>0.004883</td>\n",
              "      <td>0.944292</td>\n",
              "      <td></td>\n",
              "      <td>0.009351</td>\n",
              "      <td>7</td>\n",
              "      <td>0/7</td>\n",
              "      <td>11</td>\n",
              "      <td>25</td>\n",
              "    </tr>\n",
              "    <tr>\n",
              "      <th>1</th>\n",
              "      <td>Q29</td>\n",
              "      <td>Medical Procedures</td>\n",
              "      <td>1.012161</td>\n",
              "      <td>0.314386</td>\n",
              "      <td></td>\n",
              "      <td>0.281341</td>\n",
              "      <td>24</td>\n",
              "      <td>3/24</td>\n",
              "      <td>10</td>\n",
              "      <td>25</td>\n",
              "    </tr>\n",
              "    <tr>\n",
              "      <th>2</th>\n",
              "      <td>Q30</td>\n",
              "      <td>Surgical Procedures</td>\n",
              "      <td>0.260388</td>\n",
              "      <td>0.609854</td>\n",
              "      <td></td>\n",
              "      <td>0.108333</td>\n",
              "      <td>8</td>\n",
              "      <td>0/8</td>\n",
              "      <td>9</td>\n",
              "      <td>25</td>\n",
              "    </tr>\n",
              "    <tr>\n",
              "      <th>3</th>\n",
              "      <td>Q31</td>\n",
              "      <td>Anesthetic Procedures</td>\n",
              "      <td>2.467502</td>\n",
              "      <td>0.116223</td>\n",
              "      <td></td>\n",
              "      <td>0.466111</td>\n",
              "      <td>8</td>\n",
              "      <td>1/8</td>\n",
              "      <td>9</td>\n",
              "      <td>25</td>\n",
              "    </tr>\n",
              "    <tr>\n",
              "      <th>4</th>\n",
              "      <td>Q32</td>\n",
              "      <td>Preventive Medicine/Population Health Procedures</td>\n",
              "      <td>0.026214</td>\n",
              "      <td>0.871379</td>\n",
              "      <td></td>\n",
              "      <td>-0.180556</td>\n",
              "      <td>15</td>\n",
              "      <td>0/15</td>\n",
              "      <td>9</td>\n",
              "      <td>24</td>\n",
              "    </tr>\n",
              "    <tr>\n",
              "      <th>5</th>\n",
              "      <td>Q33</td>\n",
              "      <td>Reproductive Procedures</td>\n",
              "      <td>0.003692</td>\n",
              "      <td>0.951550</td>\n",
              "      <td></td>\n",
              "      <td>0.080247</td>\n",
              "      <td>9</td>\n",
              "      <td>0/9</td>\n",
              "      <td>9</td>\n",
              "      <td>24</td>\n",
              "    </tr>\n",
              "    <tr>\n",
              "      <th>6</th>\n",
              "      <td>Q34</td>\n",
              "      <td>Clinical Pathology Procedures</td>\n",
              "      <td>4.439558</td>\n",
              "      <td>0.035115</td>\n",
              "      <td>*</td>\n",
              "      <td>0.458410</td>\n",
              "      <td>11</td>\n",
              "      <td>1/11</td>\n",
              "      <td>9</td>\n",
              "      <td>23</td>\n",
              "    </tr>\n",
              "    <tr>\n",
              "      <th>7</th>\n",
              "      <td>Q35</td>\n",
              "      <td>Diagnostic Necropsy Procedures</td>\n",
              "      <td>0.064206</td>\n",
              "      <td>0.799967</td>\n",
              "      <td></td>\n",
              "      <td>-0.097424</td>\n",
              "      <td>3</td>\n",
              "      <td>0/3</td>\n",
              "      <td>9</td>\n",
              "      <td>23</td>\n",
              "    </tr>\n",
              "    <tr>\n",
              "      <th>8</th>\n",
              "      <td>Q36</td>\n",
              "      <td>Diagnostic Imaging Procedures</td>\n",
              "      <td>0.003973</td>\n",
              "      <td>0.949741</td>\n",
              "      <td></td>\n",
              "      <td>-0.050966</td>\n",
              "      <td>5</td>\n",
              "      <td>0/5</td>\n",
              "      <td>9</td>\n",
              "      <td>23</td>\n",
              "    </tr>\n",
              "  </tbody>\n",
              "</table>\n",
              "</div>"
            ],
            "text/plain": [
              "  Question number  ... Num WVMA respondents\n",
              "0             Q28  ...                   25\n",
              "1             Q29  ...                   25\n",
              "2             Q30  ...                   25\n",
              "3             Q31  ...                   25\n",
              "4             Q32  ...                   24\n",
              "5             Q33  ...                   24\n",
              "6             Q34  ...                   23\n",
              "7             Q35  ...                   23\n",
              "8             Q36  ...                   23\n",
              "\n",
              "[9 rows x 10 columns]"
            ]
          },
          "metadata": {},
          "execution_count": 101
        }
      ]
    },
    {
      "cell_type": "markdown",
      "metadata": {
        "id": "O3-z6MgoQDDL"
      },
      "source": [
        "## Group Summary"
      ]
    },
    {
      "cell_type": "code",
      "metadata": {
        "id": "nO6eeGPCSBf5"
      },
      "source": [
        "group_summary_table = pd.DataFrame(group_data, columns=group_columns)"
      ],
      "execution_count": 102,
      "outputs": []
    },
    {
      "cell_type": "code",
      "metadata": {
        "id": "HVrnPD6hWi0o"
      },
      "source": [
        "pvals = list(group_summary_table['pval'])\n",
        "\n",
        "sigs = []\n",
        "for p in pvals:\n",
        "  if p > ALPHA:\n",
        "      sig = \"\"\n",
        "  else:\n",
        "      sig = \"*\"\n",
        "  sigs.append(sig)\n",
        "\n",
        "group_summary_table.insert(loc=3, column='Sig', value=sigs)"
      ],
      "execution_count": 103,
      "outputs": []
    },
    {
      "cell_type": "code",
      "metadata": {
        "id": "6vty9bGImuy4"
      },
      "source": [
        "# Add group summary to the beginning of output tables\n",
        "output_tables.insert(0, group_summary_table)\n",
        "output_tables_sheet_names.insert(0, \"Group summary\")"
      ],
      "execution_count": 104,
      "outputs": []
    },
    {
      "cell_type": "code",
      "metadata": {
        "colab": {
          "base_uri": "https://localhost:8080/",
          "height": 175
        },
        "id": "oWWtZ8D5SMZN",
        "outputId": "3855e655-c95a-4391-ee98-cb4995944a05"
      },
      "source": [
        "group_summary_table"
      ],
      "execution_count": 105,
      "outputs": [
        {
          "output_type": "execute_result",
          "data": {
            "text/html": [
              "<div>\n",
              "<style scoped>\n",
              "    .dataframe tbody tr th:only-of-type {\n",
              "        vertical-align: middle;\n",
              "    }\n",
              "\n",
              "    .dataframe tbody tr th {\n",
              "        vertical-align: top;\n",
              "    }\n",
              "\n",
              "    .dataframe thead th {\n",
              "        text-align: right;\n",
              "    }\n",
              "</style>\n",
              "<table border=\"1\" class=\"dataframe\">\n",
              "  <thead>\n",
              "    <tr style=\"text-align: right;\">\n",
              "      <th></th>\n",
              "      <th>Group</th>\n",
              "      <th>stat</th>\n",
              "      <th>pval</th>\n",
              "      <th>Sig</th>\n",
              "      <th>Diff_mean (SVM-WVMA)</th>\n",
              "      <th>Num questions</th>\n",
              "      <th>Fraction of sig questions</th>\n",
              "      <th>Num of SVM respondents</th>\n",
              "      <th>Num of WVMA respondents</th>\n",
              "    </tr>\n",
              "  </thead>\n",
              "  <tbody>\n",
              "    <tr>\n",
              "      <th>0</th>\n",
              "      <td>Companion Animal</td>\n",
              "      <td>9.018245</td>\n",
              "      <td>0.002673</td>\n",
              "      <td>*</td>\n",
              "      <td>0.227131</td>\n",
              "      <td>8</td>\n",
              "      <td>5/8</td>\n",
              "      <td>40</td>\n",
              "      <td>100</td>\n",
              "    </tr>\n",
              "    <tr>\n",
              "      <th>1</th>\n",
              "      <td>Special Species</td>\n",
              "      <td>7.288587</td>\n",
              "      <td>0.006939</td>\n",
              "      <td>*</td>\n",
              "      <td>0.820592</td>\n",
              "      <td>7</td>\n",
              "      <td>4/7</td>\n",
              "      <td>13</td>\n",
              "      <td>17</td>\n",
              "    </tr>\n",
              "    <tr>\n",
              "      <th>2</th>\n",
              "      <td>Food Animal</td>\n",
              "      <td>0.064706</td>\n",
              "      <td>0.799207</td>\n",
              "      <td></td>\n",
              "      <td>0.011531</td>\n",
              "      <td>9</td>\n",
              "      <td>0/9</td>\n",
              "      <td>13</td>\n",
              "      <td>37</td>\n",
              "    </tr>\n",
              "    <tr>\n",
              "      <th>3</th>\n",
              "      <td>Equine</td>\n",
              "      <td>0.049834</td>\n",
              "      <td>0.823352</td>\n",
              "      <td></td>\n",
              "      <td>0.137071</td>\n",
              "      <td>9</td>\n",
              "      <td>1/9</td>\n",
              "      <td>11</td>\n",
              "      <td>25</td>\n",
              "    </tr>\n",
              "  </tbody>\n",
              "</table>\n",
              "</div>"
            ],
            "text/plain": [
              "              Group      stat  ...  Num of SVM respondents Num of WVMA respondents\n",
              "0  Companion Animal  9.018245  ...                      40                     100\n",
              "1   Special Species  7.288587  ...                      13                      17\n",
              "2       Food Animal  0.064706  ...                      13                      37\n",
              "3            Equine  0.049834  ...                      11                      25\n",
              "\n",
              "[4 rows x 9 columns]"
            ]
          },
          "metadata": {},
          "execution_count": 105
        }
      ]
    },
    {
      "cell_type": "markdown",
      "metadata": {
        "id": "hvTNlIpv7P8I"
      },
      "source": [
        "## Top-level comparison\n",
        "\n",
        "For each respondant, compute a composite score based on all questions they answered. Then compare pop1 to pop2. This represents a top-level comparison across both populations."
      ]
    },
    {
      "cell_type": "code",
      "metadata": {
        "id": "C8dxvyGIHbuj",
        "outputId": "5248f029-e83a-4d60-979c-b09de01d1770",
        "colab": {
          "base_uri": "https://localhost:8080/"
        }
      },
      "source": [
        "# Create question list\n",
        "if nontechnical == False:\n",
        "    question_list = [16,17,7,8,9,10,11,12]+[43, 44, 45, 46, 48, 49, 50]+[20, 18, 25, 24, 21, 19, 23, 22, 27]+[28, 29, 30, 31, 32, 33, 34, 35, 36]\n",
        "    n_subq_list = [25,10,25,8,4,12,13,3]+[20, 9, 11, 8, 6, 13, 3]+[8, 27, 16, 10, 20, 11, 12, 3, 5]+[7, 24, 8, 8, 15, 9, 11, 3, 5]\n",
        "else:\n",
        "    question_list = [13,14,15]\n",
        "    n_subq_list = [11,6,8]\n",
        "\n",
        "# Compute composite scores\n",
        "pop1_composite_scores,_ = get_composite_scores(pop1, question_list, n_subq_list, force_completion_rate)\n",
        "pop2_composite_scores,_ = get_composite_scores(pop2, question_list, n_subq_list, force_completion_rate)\n",
        "\n",
        "# Apply Kruskal test to pooled data\n",
        "pooled_stat, pooled_p = run_kruskal(pop1_composite_scores, pop2_composite_scores)\n",
        "pooled_diff_mean = np.mean(pop1_composite_scores) - np.mean(pop2_composite_scores)\n",
        "\n",
        "# Print\n",
        "top_level_output = '%s vs. %s: stat=%.3f, p=%.2e, diff_mean (%s-%s)=%.3f, Num %s responses=%i, Num of %s responses=%i ' % (pop1_str, pop2_str, pooled_stat, pooled_p, pop1_str, pop2_str, pooled_diff_mean, pop1_str, len(pop1_composite_scores), pop2_str, len(pop2_composite_scores))\n",
        "print(top_level_output)\n",
        "\n",
        "# Save result\n",
        "with open('toplevel%s.txt'%(file_suffix,), \"w\") as text_file:\n",
        "    text_file.write(top_level_output)\n"
      ],
      "execution_count": 107,
      "outputs": [
        {
          "output_type": "stream",
          "name": "stdout",
          "text": [
            "SVM vs. WVMA: stat=4.575, p=3.24e-02, diff_mean (SVM-WVMA)=0.162, Num SVM responses=49, Num of WVMA responses=127 \n"
          ]
        }
      ]
    },
    {
      "cell_type": "markdown",
      "metadata": {
        "id": "cwvr1tBj7sU9"
      },
      "source": [
        "## TODO: Determine p-value significance\n",
        "\n",
        "We will remove the `sig` and `Fraction of sig questions/subquestions` columns from the above dataframes. P values will be made the rightmost column of all primary data tables.\n",
        "\n",
        "Then, we will loop through tables to obtain all p values, evaluate p values with a ranking approach, then add back a `sig` column to each table."
      ]
    },
    {
      "cell_type": "markdown",
      "metadata": {
        "id": "diMo-zLnlEBb"
      },
      "source": [
        "# Generate tables"
      ]
    },
    {
      "cell_type": "markdown",
      "metadata": {
        "id": "ILmLfYGQlIko"
      },
      "source": [
        "We will generate the following types of tables using pooled data from these experiments:\n",
        "\n",
        "1.   `summary.xlsx`: Group summary table and a table for procedure sets (questions) within each group.\n",
        "2.   `companion_animal.xlsx`: Tables for all procedures within the companion animal group.\n",
        "3.   `special_species.xlsx`: Tables for all procedures within the special species group.\n",
        "4.   `food_animal.xlsx`: Tables for all procedures within the food animal group.\n",
        "5.   `equine.xlsx`:Tables for all procedures within the equine group.\n",
        "6. `summary_nontechnical_allspecies.xlsx`: Summary table for responses to procedures (subquestions) pooled across species areas. Applicable only to non-technical questions.\n",
        "\n"
      ]
    },
    {
      "cell_type": "markdown",
      "metadata": {
        "id": "qSmJ61cUnNFf"
      },
      "source": [
        "## Summary"
      ]
    },
    {
      "cell_type": "code",
      "metadata": {
        "id": "wSPZ3y-HnRtd"
      },
      "source": [
        "writer = pd.ExcelWriter('summary%s.xlsx'%(file_suffix,), engine='xlsxwriter')\n",
        "\n",
        "for i,table in enumerate(output_tables):\n",
        "    sheet_name = output_tables_sheet_names[i]\n",
        "    table.to_excel(writer, sheet_name=sheet_name, index=False)\n",
        "\n",
        "    # Auto-adjust columns widths\n",
        "    for column in table:\n",
        "        column_width = max(table[column].astype(str).map(len).max(), len(column))\n",
        "        col_idx = table.columns.get_loc(column)\n",
        "        writer.sheets[sheet_name].set_column(col_idx, col_idx, column_width)\n",
        "\n",
        "writer.save()"
      ],
      "execution_count": null,
      "outputs": []
    },
    {
      "cell_type": "markdown",
      "metadata": {
        "id": "n9XnXUJGsV0Z"
      },
      "source": [
        "## All Species Summary"
      ]
    },
    {
      "cell_type": "markdown",
      "metadata": {
        "id": "7xd_EIZ-tTHG"
      },
      "source": [
        "This output table only applies to the nontechnical analyses, for which the relevant questions appear in all species areas."
      ]
    },
    {
      "cell_type": "code",
      "metadata": {
        "id": "EMoaSp9TqYuG"
      },
      "source": [
        "if nontechnical == True:\n",
        "\n",
        "    group_table, pooled_q_stats, sig_count, n_questions, pop1_responses, pop2_responses, subq_data  = analyze_group(question_list, n_subq_list, question_strings, pop1, pop2)\n",
        "    subq_tables, subq_tables_names = subq_data\n",
        "\n",
        "    # Loop through tables\n",
        "    writer = pd.ExcelWriter('summary%s_allspecies.xlsx'%(file_suffix,), engine='xlsxwriter')\n",
        "\n",
        "    for i,table in enumerate(subq_tables):\n",
        "        sheet_name = subq_tables_names[i]\n",
        "        table.to_excel(writer, sheet_name=sheet_name, index=False)\n",
        "\n",
        "        # Auto-adjust columns widths\n",
        "        for column in table:\n",
        "            column_width = max(table[column].astype(str).map(len).max(), len(column))\n",
        "            col_idx = table.columns.get_loc(column)\n",
        "            writer.sheets[sheet_name].set_column(col_idx, col_idx, column_width)\n",
        "\n",
        "    writer.save()"
      ],
      "execution_count": null,
      "outputs": []
    },
    {
      "cell_type": "markdown",
      "metadata": {
        "id": "UnxgmXT2sBdy"
      },
      "source": [
        "## All procedures"
      ]
    },
    {
      "cell_type": "code",
      "metadata": {
        "id": "4phlYJz8sGjg"
      },
      "source": [
        "for i, file in enumerate(['companion_animal%s.xlsx'%(file_suffix,), 'special_species%s.xlsx'%(file_suffix,), 'food_animal%s.xlsx'%(file_suffix,), 'equine%s.xlsx'%(file_suffix,)]):\n",
        "    subq_data = output_subq_data[i]\n",
        "    subq_tables, subq_tables_names = subq_data\n",
        "\n",
        "    # Loop through tables\n",
        "    writer = pd.ExcelWriter(file, engine='xlsxwriter')\n",
        "\n",
        "    for i,table in enumerate(subq_tables):\n",
        "        sheet_name = subq_tables_names[i]\n",
        "        table.to_excel(writer, sheet_name=sheet_name, index=False)\n",
        "\n",
        "        # Auto-adjust columns widths\n",
        "        for column in table:\n",
        "            column_width = max(table[column].astype(str).map(len).max(), len(column))\n",
        "            col_idx = table.columns.get_loc(column)\n",
        "            writer.sheets[sheet_name].set_column(col_idx, col_idx, column_width)\n",
        "\n",
        "    writer.save()"
      ],
      "execution_count": null,
      "outputs": []
    },
    {
      "cell_type": "markdown",
      "metadata": {
        "id": "h6VIW2TO2WwR"
      },
      "source": [
        "# Next Steps\n",
        "\n",
        "1.   Implement multiple testing correction\n",
        "\n"
      ]
    },
    {
      "cell_type": "code",
      "metadata": {
        "id": "CiQAW1Yi86vc"
      },
      "source": [
        "!cp *.xlsx drive/MyDrive/survey_test/"
      ],
      "execution_count": null,
      "outputs": []
    }
  ]
}